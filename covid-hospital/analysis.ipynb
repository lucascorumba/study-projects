{
 "cells": [
  {
   "attachments": {},
   "cell_type": "markdown",
   "metadata": {},
   "source": [
    "# Uma Análise da Ocupação Hospitalar no Brasil Durante a Pandemia de COVID-19 em 2020"
   ]
  },
  {
   "attachments": {},
   "cell_type": "markdown",
   "metadata": {},
   "source": [
    "> Dados obtidos em 17/04/2023"
   ]
  },
  {
   "attachments": {},
   "cell_type": "markdown",
   "metadata": {},
   "source": [
    ">**Aviso**: Por causa da forma como um notebook é renderizado no GitHub, várias funcionalidades não podem ser utilizadas. Os links do sumário, por exemplo, não redirecionam para a posição correta. Para contornar o problema, [este link]() direciona para outro serviço, *onde o notebook é renderizado de maneira mais apropriada*, facilitando muito a leitura. *--o link real será disponibilizado quando a análise estiver completa--*"
   ]
  },
  {
   "attachments": {},
   "cell_type": "markdown",
   "metadata": {},
   "source": [
    "## - - - - *em progresso* - - - -\n",
    "\n",
    "Utilizando dados fornecidos pelo Ministério da Saúde, iremos analisar as **variações na _ocupação hospitalar_ nos estados brasileiros, com foco em _ocorrências de COVID-19 em 2020_.**\n",
    "Os conjuntos de dados para cada ano podem ser baixados no formato `.csv` através deste [link](https://dados.gov.br/dados/conjuntos-dados/registro-de-ocupacao-hospitalar-covid-19). O link anterior redireciona para uma página específica dentro do **[Portal Brasileiro de Dados Abertos](https://dados.gov.br/home)**\n",
    "\n",
    "No entanto, **não há documentação disponível**. As únicas informações disponibilizadas a respeito dos dados são:\n",
    ">\"O módulo Internações foi desenvolvido para registro da ocupação de leitos clínicos e de Unidade de Terapia Intensiva (UTI) SUS destinados para atendimento aos pacientes com casos suspeitos ou confirmados da COVID-19 (ocupação SRAG / COVID-19)\"\n",
    "\n",
    "e também:\n",
    "\n",
    ">\"A partir do ano de 2022 foram acrescentado novos campos utilizados para descrever a ocupação dos leitos. Registros com ano anterior a 2022 não contém esses campos preenchidos.\"\n",
    "\n",
    "Pela falta de informações sobre os dados obtidos, precisamos entender melhor o que cada item significa. Por este motivo a seção [Data Wrangling](#1) será bastante extensa. Sabendo disso, pode ser melhor separar a análise em etapas mais independentes.\n",
    "\n",
    "Sendo assim, o que seria a seção de *Introdução* estará junto com a etapa de [Visualização / Discussão](#11). Dessa forma, caso seja de interesse, fica mais fácil navegar pelo arquivo pulando alguma etapa. O **Sumário** destaca os pontos mais importantes. *Clique nos títulos e a página será direcionada para a seção escolhida*."
   ]
  },
  {
   "attachments": {},
   "cell_type": "markdown",
   "metadata": {},
   "source": [
    "## Sumário\n",
    "\n",
    "* [Data Wrangling](#1)\n",
    "  * [Visão Geral](#2)\n",
    "  * [Deduzindo Colunas](#3)\n",
    "  * [Consideração Sobre o Escopo da Análise](#4)\n",
    "  * [Identificando Anomalias](#5)\n",
    "    * [Busca por Dados Adicionais](#6)\n",
    "  * [Substituíndo Dados Anômalos](#7)\n",
    "  * [Imputando Dados](#8)\n",
    "  * [Otimizando o Armazenamento](#9)\n",
    "  * [Reduzindo o Arquivo](#10)\n",
    "  * [Criando Colunas Calculadas](#11)\n",
    "  * [Correções Necessárias](#12)\n",
    "* [Visualização / Discussão](#13)\n",
    "  * [Excel](#14)\n",
    "  * [Seaborn](#15)"
   ]
  },
  {
   "attachments": {},
   "cell_type": "markdown",
   "metadata": {},
   "source": [
    "# Data Wrangling<a id=\"1\"></a>"
   ]
  },
  {
   "attachments": {},
   "cell_type": "markdown",
   "metadata": {},
   "source": [
    "## Visão Geral<a id=\"2\"></a>"
   ]
  },
  {
   "cell_type": "code",
   "execution_count": 2,
   "metadata": {},
   "outputs": [],
   "source": [
    "import pandas as pd\n",
    "import numpy as np\n",
    "import matplotlib.pyplot as plt\n",
    "import seaborn as sns\n",
    "import utils"
   ]
  },
  {
   "cell_type": "code",
   "execution_count": 2,
   "metadata": {},
   "outputs": [
    {
     "name": "stderr",
     "output_type": "stream",
     "text": [
      "/tmp/ipykernel_162017/2661094983.py:1: DtypeWarning: Columns (3) have mixed types. Specify dtype option on import or set low_memory=False.\n",
      "  df = pd.read_csv('ocupacao-leito-2020.csv')\n"
     ]
    }
   ],
   "source": [
    "df = pd.read_csv('ocupacao-leito-2020.csv')"
   ]
  },
  {
   "attachments": {},
   "cell_type": "markdown",
   "metadata": {},
   "source": [
    "Já somos recebidos com um aviso indicando que há uma coluna com tipos de dados misturados, mas vamos além para investigar o restante e conhecer melhor nosso material de análise.\n",
    "\n",
    "Para isso será útil verificar uma amostra do conjunto de dados e listar todas as colunas junto com seus respectivos tipos de dados."
   ]
  },
  {
   "cell_type": "code",
   "execution_count": 3,
   "metadata": {},
   "outputs": [
    {
     "data": {
      "text/html": [
       "<div>\n",
       "<style scoped>\n",
       "    .dataframe tbody tr th:only-of-type {\n",
       "        vertical-align: middle;\n",
       "    }\n",
       "\n",
       "    .dataframe tbody tr th {\n",
       "        vertical-align: top;\n",
       "    }\n",
       "\n",
       "    .dataframe thead th {\n",
       "        text-align: right;\n",
       "    }\n",
       "</style>\n",
       "<table border=\"1\" class=\"dataframe\">\n",
       "  <thead>\n",
       "    <tr style=\"text-align: right;\">\n",
       "      <th></th>\n",
       "      <th>Unnamed: 0</th>\n",
       "      <th>_id</th>\n",
       "      <th>dataNotificacao</th>\n",
       "      <th>cnes</th>\n",
       "      <th>ocupacaoSuspeitoCli</th>\n",
       "      <th>ocupacaoSuspeitoUti</th>\n",
       "      <th>ocupacaoConfirmadoCli</th>\n",
       "      <th>ocupacaoConfirmadoUti</th>\n",
       "      <th>ocupacaoCovidUti</th>\n",
       "      <th>ocupacaoCovidCli</th>\n",
       "      <th>...</th>\n",
       "      <th>origem</th>\n",
       "      <th>_p_usuario</th>\n",
       "      <th>estadoNotificacao</th>\n",
       "      <th>municipioNotificacao</th>\n",
       "      <th>estado</th>\n",
       "      <th>municipio</th>\n",
       "      <th>excluido</th>\n",
       "      <th>validado</th>\n",
       "      <th>_created_at</th>\n",
       "      <th>_updated_at</th>\n",
       "    </tr>\n",
       "  </thead>\n",
       "  <tbody>\n",
       "    <tr>\n",
       "      <th>0</th>\n",
       "      <td>0</td>\n",
       "      <td>p5Ez41Zu6B</td>\n",
       "      <td>2020-04-14T03:00:00.000Z</td>\n",
       "      <td>2303167</td>\n",
       "      <td>0.0</td>\n",
       "      <td>0.0</td>\n",
       "      <td>0.0</td>\n",
       "      <td>0.0</td>\n",
       "      <td>NaN</td>\n",
       "      <td>NaN</td>\n",
       "      <td>...</td>\n",
       "      <td>aplicacao-web</td>\n",
       "      <td>_User$auVMjEVEVz</td>\n",
       "      <td>Santa Catarina</td>\n",
       "      <td>Itapema</td>\n",
       "      <td>Santa Catarina</td>\n",
       "      <td>Itapema</td>\n",
       "      <td>True</td>\n",
       "      <td>False</td>\n",
       "      <td>2020-04-15T13:44:30.085Z</td>\n",
       "      <td>2020-04-16T13:56:13.656Z</td>\n",
       "    </tr>\n",
       "    <tr>\n",
       "      <th>1</th>\n",
       "      <td>1</td>\n",
       "      <td>eUOMsSt7T7</td>\n",
       "      <td>2020-04-15T03:00:00.000Z</td>\n",
       "      <td>5935377\\t</td>\n",
       "      <td>1.0</td>\n",
       "      <td>0.0</td>\n",
       "      <td>0.0</td>\n",
       "      <td>0.0</td>\n",
       "      <td>NaN</td>\n",
       "      <td>NaN</td>\n",
       "      <td>...</td>\n",
       "      <td>parse-cloud</td>\n",
       "      <td>_User$WBa5nfe9P9</td>\n",
       "      <td>Rio de Janeiro</td>\n",
       "      <td>Rio de Janeiro</td>\n",
       "      <td>Rio de Janeiro</td>\n",
       "      <td>Rio de Janeiro</td>\n",
       "      <td>False</td>\n",
       "      <td>False</td>\n",
       "      <td>2020-04-15T13:50:47.256Z</td>\n",
       "      <td>2020-08-01T20:08:13.116Z</td>\n",
       "    </tr>\n",
       "    <tr>\n",
       "      <th>2</th>\n",
       "      <td>2</td>\n",
       "      <td>QaG4oIBrMa</td>\n",
       "      <td>2020-04-15T14:57:16.255Z</td>\n",
       "      <td>0012599</td>\n",
       "      <td>15.0</td>\n",
       "      <td>1.0</td>\n",
       "      <td>3.0</td>\n",
       "      <td>2.0</td>\n",
       "      <td>NaN</td>\n",
       "      <td>NaN</td>\n",
       "      <td>...</td>\n",
       "      <td>parse-cloud</td>\n",
       "      <td>_User$6oxZQHBPQ7</td>\n",
       "      <td>Rio de Janeiro</td>\n",
       "      <td>Niterói</td>\n",
       "      <td>Rio de Janeiro</td>\n",
       "      <td>Niterói</td>\n",
       "      <td>False</td>\n",
       "      <td>False</td>\n",
       "      <td>2020-04-15T15:20:57.033Z</td>\n",
       "      <td>2020-08-01T20:02:12.729Z</td>\n",
       "    </tr>\n",
       "    <tr>\n",
       "      <th>3</th>\n",
       "      <td>3</td>\n",
       "      <td>ifya31F3ZF</td>\n",
       "      <td>2020-03-24T03:00:00.000Z</td>\n",
       "      <td>2562871</td>\n",
       "      <td>9.0</td>\n",
       "      <td>0.0</td>\n",
       "      <td>1.0</td>\n",
       "      <td>0.0</td>\n",
       "      <td>NaN</td>\n",
       "      <td>NaN</td>\n",
       "      <td>...</td>\n",
       "      <td>parse-cloud</td>\n",
       "      <td>_User$fhufIbmR9C</td>\n",
       "      <td>Ceará</td>\n",
       "      <td>Várzea Alegre</td>\n",
       "      <td>Ceará</td>\n",
       "      <td>Várzea Alegre</td>\n",
       "      <td>False</td>\n",
       "      <td>False</td>\n",
       "      <td>2020-04-15T16:58:32.839Z</td>\n",
       "      <td>2020-08-01T21:40:37.624Z</td>\n",
       "    </tr>\n",
       "    <tr>\n",
       "      <th>4</th>\n",
       "      <td>4</td>\n",
       "      <td>dkurDhelx9</td>\n",
       "      <td>2020-04-01T03:00:00.000Z</td>\n",
       "      <td>2252228</td>\n",
       "      <td>26.0</td>\n",
       "      <td>0.0</td>\n",
       "      <td>1.0</td>\n",
       "      <td>0.0</td>\n",
       "      <td>NaN</td>\n",
       "      <td>NaN</td>\n",
       "      <td>...</td>\n",
       "      <td>parse-cloud</td>\n",
       "      <td>_User$tkAdHTNhC9</td>\n",
       "      <td>Rio Grande do Sul</td>\n",
       "      <td>Encantado</td>\n",
       "      <td>Rio Grande do Sul</td>\n",
       "      <td>Encantado</td>\n",
       "      <td>False</td>\n",
       "      <td>False</td>\n",
       "      <td>2020-04-15T17:02:53.877Z</td>\n",
       "      <td>2020-08-01T21:37:53.664Z</td>\n",
       "    </tr>\n",
       "  </tbody>\n",
       "</table>\n",
       "<p>5 rows × 26 columns</p>\n",
       "</div>"
      ],
      "text/plain": [
       "   Unnamed: 0         _id           dataNotificacao       cnes   \n",
       "0           0  p5Ez41Zu6B  2020-04-14T03:00:00.000Z    2303167  \\\n",
       "1           1  eUOMsSt7T7  2020-04-15T03:00:00.000Z  5935377\\t   \n",
       "2           2  QaG4oIBrMa  2020-04-15T14:57:16.255Z    0012599   \n",
       "3           3  ifya31F3ZF  2020-03-24T03:00:00.000Z    2562871   \n",
       "4           4  dkurDhelx9  2020-04-01T03:00:00.000Z    2252228   \n",
       "\n",
       "   ocupacaoSuspeitoCli  ocupacaoSuspeitoUti  ocupacaoConfirmadoCli   \n",
       "0                  0.0                  0.0                    0.0  \\\n",
       "1                  1.0                  0.0                    0.0   \n",
       "2                 15.0                  1.0                    3.0   \n",
       "3                  9.0                  0.0                    1.0   \n",
       "4                 26.0                  0.0                    1.0   \n",
       "\n",
       "   ocupacaoConfirmadoUti  ocupacaoCovidUti  ocupacaoCovidCli  ...   \n",
       "0                    0.0               NaN               NaN  ...  \\\n",
       "1                    0.0               NaN               NaN  ...   \n",
       "2                    2.0               NaN               NaN  ...   \n",
       "3                    0.0               NaN               NaN  ...   \n",
       "4                    0.0               NaN               NaN  ...   \n",
       "\n",
       "          origem        _p_usuario  estadoNotificacao  municipioNotificacao   \n",
       "0  aplicacao-web  _User$auVMjEVEVz     Santa Catarina               Itapema  \\\n",
       "1    parse-cloud  _User$WBa5nfe9P9     Rio de Janeiro        Rio de Janeiro   \n",
       "2    parse-cloud  _User$6oxZQHBPQ7     Rio de Janeiro               Niterói   \n",
       "3    parse-cloud  _User$fhufIbmR9C              Ceará         Várzea Alegre   \n",
       "4    parse-cloud  _User$tkAdHTNhC9  Rio Grande do Sul             Encantado   \n",
       "\n",
       "              estado       municipio excluido validado   \n",
       "0     Santa Catarina         Itapema     True    False  \\\n",
       "1     Rio de Janeiro  Rio de Janeiro    False    False   \n",
       "2     Rio de Janeiro         Niterói    False    False   \n",
       "3              Ceará   Várzea Alegre    False    False   \n",
       "4  Rio Grande do Sul       Encantado    False    False   \n",
       "\n",
       "                _created_at               _updated_at  \n",
       "0  2020-04-15T13:44:30.085Z  2020-04-16T13:56:13.656Z  \n",
       "1  2020-04-15T13:50:47.256Z  2020-08-01T20:08:13.116Z  \n",
       "2  2020-04-15T15:20:57.033Z  2020-08-01T20:02:12.729Z  \n",
       "3  2020-04-15T16:58:32.839Z  2020-08-01T21:40:37.624Z  \n",
       "4  2020-04-15T17:02:53.877Z  2020-08-01T21:37:53.664Z  \n",
       "\n",
       "[5 rows x 26 columns]"
      ]
     },
     "execution_count": 3,
     "metadata": {},
     "output_type": "execute_result"
    }
   ],
   "source": [
    "df.head()"
   ]
  },
  {
   "cell_type": "code",
   "execution_count": 4,
   "metadata": {},
   "outputs": [
    {
     "data": {
      "text/plain": [
       "Unnamed: 0                 int64\n",
       "_id                       object\n",
       "dataNotificacao           object\n",
       "cnes                      object\n",
       "ocupacaoSuspeitoCli      float64\n",
       "ocupacaoSuspeitoUti      float64\n",
       "ocupacaoConfirmadoCli    float64\n",
       "ocupacaoConfirmadoUti    float64\n",
       "ocupacaoCovidUti         float64\n",
       "ocupacaoCovidCli         float64\n",
       "ocupacaoHospitalarUti    float64\n",
       "ocupacaoHospitalarCli    float64\n",
       "saidaSuspeitaObitos      float64\n",
       "saidaSuspeitaAltas       float64\n",
       "saidaConfirmadaObitos    float64\n",
       "saidaConfirmadaAltas     float64\n",
       "origem                    object\n",
       "_p_usuario                object\n",
       "estadoNotificacao         object\n",
       "municipioNotificacao      object\n",
       "estado                    object\n",
       "municipio                 object\n",
       "excluido                    bool\n",
       "validado                    bool\n",
       "_created_at               object\n",
       "_updated_at               object\n",
       "dtype: object"
      ]
     },
     "execution_count": 4,
     "metadata": {},
     "output_type": "execute_result"
    }
   ],
   "source": [
    "df.dtypes"
   ]
  },
  {
   "attachments": {},
   "cell_type": "markdown",
   "metadata": {},
   "source": [
    "## Deduzindo Colunas<a id=\"3\"></a>"
   ]
  },
  {
   "attachments": {},
   "cell_type": "markdown",
   "metadata": {},
   "source": [
    "### `cnes` e valores privados *(`_...`)*"
   ]
  },
  {
   "attachments": {},
   "cell_type": "markdown",
   "metadata": {},
   "source": [
    "A coluna sobre a qual recebemos o aviso se trata de `cnes`, referente ao *Cadastro Nacional de Estabelecimentos de Saúde*. Pelo que é possível verificar, deveriamos ver apenas números, mas aparentemente existem erros de digitação inserindo caractéres em alguns registros.\n",
    "\n",
    "Além disso, é possível verificar alguns campos iniciados com \"**_**\", que geralmente indicam *variáveis privadas voltadas para uso interno de alguma aplicação*. **Possivelmente não acrescentarão muito para a análise**, mas é importante verificar se de fato podemos excluí-los sem perdas.\n",
    "\n",
    "Analisando os primeiros registros é possível notar que `_created_at` parece ser a data em que o registro foi criado. Muitos deles são feitos em sequência num *curto período de tempo*, adicionando registros `dataNotificacao` de datas passadas. \n",
    "\n",
    "`_updated_at` apresenta padrão semelhante (inserção em lotes), provavelmente gerando uma análise desconexa. Logo, `dataNotificacao` seria a infomação efetivamente útil para nossa análise. "
   ]
  },
  {
   "attachments": {},
   "cell_type": "markdown",
   "metadata": {},
   "source": [
    "`_p_usuario` proavelmente se refere ao 'id' do usuário que inseriu o registro, enquanto `_id` possivelmente se trata do identificador do registro em si. Podemos verificar se a quantidade de `_id` únicos é igual ao número total de registros."
   ]
  },
  {
   "cell_type": "code",
   "execution_count": 5,
   "metadata": {},
   "outputs": [
    {
     "data": {
      "text/plain": [
       "True"
      ]
     },
     "execution_count": 5,
     "metadata": {},
     "output_type": "execute_result"
    }
   ],
   "source": [
    "shape = df.shape\n",
    "shape[0] == len(df['_id'].unique())"
   ]
  },
  {
   "attachments": {},
   "cell_type": "markdown",
   "metadata": {},
   "source": [
    "`_id` é mesmo o que imaginamos. A propósito, podemos aproveitar e conferir com quantos registros estamos lidando:"
   ]
  },
  {
   "cell_type": "code",
   "execution_count": 6,
   "metadata": {},
   "outputs": [
    {
     "name": "stdout",
     "output_type": "stream",
     "text": [
      "Nosso DataFrame possui 554687 linhas e 26 colunas\n"
     ]
    }
   ],
   "source": [
    "print(f\"Nosso DataFrame possui {shape[0]} linhas e {shape[1]} colunas\")"
   ]
  },
  {
   "attachments": {},
   "cell_type": "markdown",
   "metadata": {},
   "source": [
    "Vamos começar a listar todas as colunas que não terão utilidade para a análise."
   ]
  },
  {
   "cell_type": "code",
   "execution_count": 7,
   "metadata": {},
   "outputs": [],
   "source": [
    "to_drop = ['_id', '_p_usuario', '_created_at', '_updated_at']"
   ]
  },
  {
   "attachments": {},
   "cell_type": "markdown",
   "metadata": {},
   "source": [
    "### Campos Novos - *Utilizados apenas a partir de 2022*"
   ]
  },
  {
   "attachments": {},
   "cell_type": "markdown",
   "metadata": {},
   "source": [
    "Agora podemos prosseguir para as demais colunas. \n",
    "\n",
    "Logo de início podemos notar que nas 5 primeiras linhas, todos os registros de `ocupacaoCovidUti` e `ocupacaoCovidCli` não estão preenchidos. Será que isso se mantém para todo o documento?"
   ]
  },
  {
   "cell_type": "code",
   "execution_count": 8,
   "metadata": {},
   "outputs": [
    {
     "data": {
      "text/plain": [
       "ocupacaoCovidUti\n",
       " 0.0     336\n",
       " 20.0     67\n",
       " 19.0     41\n",
       " 1.0      21\n",
       " 18.0     16\n",
       " 2.0       5\n",
       " 3.0       4\n",
       " 17.0      3\n",
       " 10.0      3\n",
       " 6.0       3\n",
       " 7.0       2\n",
       " 5.0       2\n",
       " 4.0       1\n",
       "-1.0       1\n",
       " 8.0       1\n",
       " 44.0      1\n",
       " 22.0      1\n",
       " 25.0      1\n",
       " 23.0      1\n",
       " 11.0      1\n",
       "Name: count, dtype: int64"
      ]
     },
     "execution_count": 8,
     "metadata": {},
     "output_type": "execute_result"
    }
   ],
   "source": [
    "df['ocupacaoCovidUti'].value_counts()"
   ]
  },
  {
   "attachments": {},
   "cell_type": "markdown",
   "metadata": {},
   "source": [
    "Dos mais de 550 mil registros no documento, na coluna `ocupacaoCovidUti` somente cerca de 500 possuem um valor válido (incluindo um valor negativo).\n",
    "\n",
    "Por padrão, o método `.head()` não mostra todas as colunas, então é possível que além de `ocupacaoCovidUti` e `ocupacaoCovidCli` outras colunas apresentem o mesmo padrão. \n",
    "\n",
    "Mesmo que este arquivo seja referente ao ano 2020, vimos que existe um campo específico para data de *atualização do registro*. Além disso, segundo a fonte, *registros a partir de 2022 possuem novos campos*. Dessa maneira, **é possível que dados atualizados depois de 2022 apresentem inconsistências**.\n",
    "\n",
    "Podemos começar a investigar essa hipótese verificando melhor as estatísticas descritivas."
   ]
  },
  {
   "cell_type": "code",
   "execution_count": 9,
   "metadata": {},
   "outputs": [
    {
     "data": {
      "text/html": [
       "<div>\n",
       "<style scoped>\n",
       "    .dataframe tbody tr th:only-of-type {\n",
       "        vertical-align: middle;\n",
       "    }\n",
       "\n",
       "    .dataframe tbody tr th {\n",
       "        vertical-align: top;\n",
       "    }\n",
       "\n",
       "    .dataframe thead th {\n",
       "        text-align: right;\n",
       "    }\n",
       "</style>\n",
       "<table border=\"1\" class=\"dataframe\">\n",
       "  <thead>\n",
       "    <tr style=\"text-align: right;\">\n",
       "      <th></th>\n",
       "      <th>Unnamed: 0</th>\n",
       "      <th>ocupacaoSuspeitoCli</th>\n",
       "      <th>ocupacaoSuspeitoUti</th>\n",
       "      <th>ocupacaoConfirmadoCli</th>\n",
       "      <th>ocupacaoConfirmadoUti</th>\n",
       "      <th>ocupacaoCovidUti</th>\n",
       "      <th>ocupacaoCovidCli</th>\n",
       "      <th>ocupacaoHospitalarUti</th>\n",
       "      <th>ocupacaoHospitalarCli</th>\n",
       "      <th>saidaSuspeitaObitos</th>\n",
       "      <th>saidaSuspeitaAltas</th>\n",
       "      <th>saidaConfirmadaObitos</th>\n",
       "      <th>saidaConfirmadaAltas</th>\n",
       "    </tr>\n",
       "  </thead>\n",
       "  <tbody>\n",
       "    <tr>\n",
       "      <th>count</th>\n",
       "      <td>5.546870e+05</td>\n",
       "      <td>5.542860e+05</td>\n",
       "      <td>554286.000000</td>\n",
       "      <td>554287.000000</td>\n",
       "      <td>554287.000000</td>\n",
       "      <td>511.000000</td>\n",
       "      <td>511.000000</td>\n",
       "      <td>511.000000</td>\n",
       "      <td>511.000000</td>\n",
       "      <td>554571.000000</td>\n",
       "      <td>5.545830e+05</td>\n",
       "      <td>554675.000000</td>\n",
       "      <td>5.546740e+05</td>\n",
       "    </tr>\n",
       "    <tr>\n",
       "      <th>mean</th>\n",
       "      <td>2.802098e+05</td>\n",
       "      <td>1.901152e+02</td>\n",
       "      <td>7.139670</td>\n",
       "      <td>6.081243</td>\n",
       "      <td>4.477320</td>\n",
       "      <td>5.301370</td>\n",
       "      <td>4.651663</td>\n",
       "      <td>7.043053</td>\n",
       "      <td>22.080235</td>\n",
       "      <td>0.224539</td>\n",
       "      <td>5.138644e+01</td>\n",
       "      <td>0.373017</td>\n",
       "      <td>3.395598e+01</td>\n",
       "    </tr>\n",
       "    <tr>\n",
       "      <th>std</th>\n",
       "      <td>1.677398e+05</td>\n",
       "      <td>6.208808e+04</td>\n",
       "      <td>16.098472</td>\n",
       "      <td>33.178988</td>\n",
       "      <td>11.254881</td>\n",
       "      <td>8.597718</td>\n",
       "      <td>5.848411</td>\n",
       "      <td>12.397110</td>\n",
       "      <td>51.228089</td>\n",
       "      <td>3.571056</td>\n",
       "      <td>3.766872e+04</td>\n",
       "      <td>3.744652</td>\n",
       "      <td>1.729309e+04</td>\n",
       "    </tr>\n",
       "    <tr>\n",
       "      <th>min</th>\n",
       "      <td>0.000000e+00</td>\n",
       "      <td>-5.700000e+01</td>\n",
       "      <td>-9.000000</td>\n",
       "      <td>-10.000000</td>\n",
       "      <td>-7.000000</td>\n",
       "      <td>-1.000000</td>\n",
       "      <td>0.000000</td>\n",
       "      <td>0.000000</td>\n",
       "      <td>0.000000</td>\n",
       "      <td>-10.000000</td>\n",
       "      <td>-1.200000e+01</td>\n",
       "      <td>-3.000000</td>\n",
       "      <td>-1.300000e+01</td>\n",
       "    </tr>\n",
       "    <tr>\n",
       "      <th>25%</th>\n",
       "      <td>1.387045e+05</td>\n",
       "      <td>0.000000e+00</td>\n",
       "      <td>0.000000</td>\n",
       "      <td>0.000000</td>\n",
       "      <td>0.000000</td>\n",
       "      <td>0.000000</td>\n",
       "      <td>0.000000</td>\n",
       "      <td>0.000000</td>\n",
       "      <td>0.000000</td>\n",
       "      <td>0.000000</td>\n",
       "      <td>0.000000e+00</td>\n",
       "      <td>0.000000</td>\n",
       "      <td>0.000000e+00</td>\n",
       "    </tr>\n",
       "    <tr>\n",
       "      <th>50%</th>\n",
       "      <td>2.773850e+05</td>\n",
       "      <td>4.000000e+00</td>\n",
       "      <td>0.000000</td>\n",
       "      <td>1.000000</td>\n",
       "      <td>0.000000</td>\n",
       "      <td>0.000000</td>\n",
       "      <td>1.000000</td>\n",
       "      <td>0.000000</td>\n",
       "      <td>8.000000</td>\n",
       "      <td>0.000000</td>\n",
       "      <td>0.000000e+00</td>\n",
       "      <td>0.000000</td>\n",
       "      <td>0.000000e+00</td>\n",
       "    </tr>\n",
       "    <tr>\n",
       "      <th>75%</th>\n",
       "      <td>4.160795e+05</td>\n",
       "      <td>2.700000e+01</td>\n",
       "      <td>8.000000</td>\n",
       "      <td>6.000000</td>\n",
       "      <td>5.000000</td>\n",
       "      <td>17.500000</td>\n",
       "      <td>10.000000</td>\n",
       "      <td>20.000000</td>\n",
       "      <td>11.000000</td>\n",
       "      <td>0.000000</td>\n",
       "      <td>0.000000e+00</td>\n",
       "      <td>0.000000</td>\n",
       "      <td>0.000000e+00</td>\n",
       "    </tr>\n",
       "    <tr>\n",
       "      <th>max</th>\n",
       "      <td>1.618772e+06</td>\n",
       "      <td>2.908202e+07</td>\n",
       "      <td>924.000000</td>\n",
       "      <td>22222.000000</td>\n",
       "      <td>334.000000</td>\n",
       "      <td>44.000000</td>\n",
       "      <td>60.000000</td>\n",
       "      <td>195.000000</td>\n",
       "      <td>314.000000</td>\n",
       "      <td>425.000000</td>\n",
       "      <td>2.805202e+07</td>\n",
       "      <td>322.000000</td>\n",
       "      <td>9.112020e+06</td>\n",
       "    </tr>\n",
       "  </tbody>\n",
       "</table>\n",
       "</div>"
      ],
      "text/plain": [
       "         Unnamed: 0  ocupacaoSuspeitoCli  ocupacaoSuspeitoUti   \n",
       "count  5.546870e+05         5.542860e+05        554286.000000  \\\n",
       "mean   2.802098e+05         1.901152e+02             7.139670   \n",
       "std    1.677398e+05         6.208808e+04            16.098472   \n",
       "min    0.000000e+00        -5.700000e+01            -9.000000   \n",
       "25%    1.387045e+05         0.000000e+00             0.000000   \n",
       "50%    2.773850e+05         4.000000e+00             0.000000   \n",
       "75%    4.160795e+05         2.700000e+01             8.000000   \n",
       "max    1.618772e+06         2.908202e+07           924.000000   \n",
       "\n",
       "       ocupacaoConfirmadoCli  ocupacaoConfirmadoUti  ocupacaoCovidUti   \n",
       "count          554287.000000          554287.000000        511.000000  \\\n",
       "mean                6.081243               4.477320          5.301370   \n",
       "std                33.178988              11.254881          8.597718   \n",
       "min               -10.000000              -7.000000         -1.000000   \n",
       "25%                 0.000000               0.000000          0.000000   \n",
       "50%                 1.000000               0.000000          0.000000   \n",
       "75%                 6.000000               5.000000         17.500000   \n",
       "max             22222.000000             334.000000         44.000000   \n",
       "\n",
       "       ocupacaoCovidCli  ocupacaoHospitalarUti  ocupacaoHospitalarCli   \n",
       "count        511.000000             511.000000             511.000000  \\\n",
       "mean           4.651663               7.043053              22.080235   \n",
       "std            5.848411              12.397110              51.228089   \n",
       "min            0.000000               0.000000               0.000000   \n",
       "25%            0.000000               0.000000               0.000000   \n",
       "50%            1.000000               0.000000               8.000000   \n",
       "75%           10.000000              20.000000              11.000000   \n",
       "max           60.000000             195.000000             314.000000   \n",
       "\n",
       "       saidaSuspeitaObitos  saidaSuspeitaAltas  saidaConfirmadaObitos   \n",
       "count        554571.000000        5.545830e+05          554675.000000  \\\n",
       "mean              0.224539        5.138644e+01               0.373017   \n",
       "std               3.571056        3.766872e+04               3.744652   \n",
       "min             -10.000000       -1.200000e+01              -3.000000   \n",
       "25%               0.000000        0.000000e+00               0.000000   \n",
       "50%               0.000000        0.000000e+00               0.000000   \n",
       "75%               0.000000        0.000000e+00               0.000000   \n",
       "max             425.000000        2.805202e+07             322.000000   \n",
       "\n",
       "       saidaConfirmadaAltas  \n",
       "count          5.546740e+05  \n",
       "mean           3.395598e+01  \n",
       "std            1.729309e+04  \n",
       "min           -1.300000e+01  \n",
       "25%            0.000000e+00  \n",
       "50%            0.000000e+00  \n",
       "75%            0.000000e+00  \n",
       "max            9.112020e+06  "
      ]
     },
     "execution_count": 9,
     "metadata": {},
     "output_type": "execute_result"
    }
   ],
   "source": [
    "df.describe()"
   ]
  },
  {
   "attachments": {},
   "cell_type": "markdown",
   "metadata": {},
   "source": [
    "Constatamos exatamente 511 registros nas colunas `ocupacaoCovidUti`, `ocupacaoCovidCli`, `ocupacaoHospitalarUti`, `ocupacaoHospitalarCli`, o que corrobora para nossa hipótese de registros atualizados depois de 2022.\n",
    "\n",
    "Para confirmar, podemos averiguar as datas de atualização dos registros de qualquer um dos 4 campos em questão."
   ]
  },
  {
   "cell_type": "code",
   "execution_count": 10,
   "metadata": {},
   "outputs": [
    {
     "data": {
      "text/plain": [
       "167280    2021-08-04T17:51:01.154Z\n",
       "313270    2021-08-04T17:51:06.834Z\n",
       "554199    2021-08-10T03:01:39.990Z\n",
       "554200    2021-08-10T03:01:40.313Z\n",
       "554201    2021-08-10T03:01:40.417Z\n",
       "                    ...           \n",
       "554682    2023-02-15T19:28:39.477Z\n",
       "554683    2023-03-08T12:03:10.135Z\n",
       "554684    2023-04-06T14:28:58.666Z\n",
       "554685    2023-04-12T12:57:54.509Z\n",
       "554686    2023-04-12T12:58:12.391Z\n",
       "Name: _updated_at, Length: 511, dtype: object"
      ]
     },
     "execution_count": 10,
     "metadata": {},
     "output_type": "execute_result"
    }
   ],
   "source": [
    "df.loc[df['ocupacaoCovidUti'].notnull(), '_updated_at'].sort_values()"
   ]
  },
  {
   "attachments": {},
   "cell_type": "markdown",
   "metadata": {},
   "source": [
    "Considerando os 511 registros contestados, a atualização mais antiga ocorreu em 04/08/**2021**, e a mais recente em 12/04/**2023**. *Não comprova nossa hipótese com certeza*, mas avaliando pelo período coberto pelos registros *(fim de 2021 até começo de 2023)*, pode-se dizer que há um certo *indício* de que registros com `_updated_at` mais recentes sejam problemáticos. \n",
    "\n",
    "Como não temos o conhecimento exato da informação que cada campo nos traz, a julgar pelo nome das colunas, parecem se tratar de *informações objetivamente diferentes*. Ainda, suas estatísticas não parecem diferir muito do resto do conjunto. Com essas considerações, *junto com o fato de representarem cerca de 0,09% dos dados*, acredito que seja melhor não incluí-las na análise."
   ]
  },
  {
   "attachments": {},
   "cell_type": "markdown",
   "metadata": {},
   "source": [
    "Em vez de adicionarmos à primeira lista de remoção `to_drop`, vamos armazená-las em uma outra lista. Faremos isso pois irão ser removidas em etapas diferentes para facilitar nossa próxima análise das estatísticas descritivas."
   ]
  },
  {
   "cell_type": "code",
   "execution_count": 11,
   "metadata": {},
   "outputs": [],
   "source": [
    "to_drop_numeric = ['ocupacaoCovidUti', 'ocupacaoCovidCli', 'ocupacaoHospitalarUti', 'ocupacaoHospitalarCli']"
   ]
  },
  {
   "attachments": {},
   "cell_type": "markdown",
   "metadata": {},
   "source": [
    "### `Unnamed: 0`"
   ]
  },
  {
   "attachments": {},
   "cell_type": "markdown",
   "metadata": {},
   "source": [
    "Aproveitando a criação de uma lista especial para dados numéricos, vamos checar a coluna `Unnamed: 0`.\n",
    "\n",
    "Sendo do tipo `int64`, aparentemente se trata de um **índice**, identificando cada coluna do DataFrame com um número único. Podemos confirmar fazendo a contagem de valores únicos na coluna e comparando com o total de linhas do DataFrame."
   ]
  },
  {
   "cell_type": "code",
   "execution_count": 12,
   "metadata": {},
   "outputs": [
    {
     "data": {
      "text/plain": [
       "True"
      ]
     },
     "execution_count": 12,
     "metadata": {},
     "output_type": "execute_result"
    }
   ],
   "source": [
    "len(df['Unnamed: 0'].unique()) == df.shape[0]"
   ]
  },
  {
   "attachments": {},
   "cell_type": "markdown",
   "metadata": {},
   "source": [
    "As quantidades bateram, o que comprova nossa hipótese. Aqui temos duas opções, incluir `Unnamed:  0` na lista para remoção ou usá-la como índice.\n",
    "\n",
    "Como carregamos o arquivo *sem indicar* uma coluna para servir de índice, Pandas criou uma *automaticamente* no momento do carregamento. Já que efetivamente estamos apenas com algo **duplicado**, podemos optar pela remoção."
   ]
  },
  {
   "cell_type": "code",
   "execution_count": 13,
   "metadata": {},
   "outputs": [],
   "source": [
    "to_drop_numeric.append('Unnamed: 0')"
   ]
  },
  {
   "attachments": {},
   "cell_type": "markdown",
   "metadata": {},
   "source": [
    "### `origem`, `excluido` e `validado`"
   ]
  },
  {
   "attachments": {},
   "cell_type": "markdown",
   "metadata": {},
   "source": [
    "O campo `origem` aparentemente indica a forma com que os dados foram coletados ou processados. Para ter mais certeza, podemos verificar quais os valores encontrados."
   ]
  },
  {
   "cell_type": "code",
   "execution_count": 14,
   "metadata": {},
   "outputs": [
    {
     "data": {
      "text/plain": [
       "array(['aplicacao-web', 'parse-cloud', 'RPA-SP', 'RPA-CE', 'RPA-RS',\n",
       "       'RPA-MS', 'RPA-GO', 'RPA-MT', 'RPA-RN', 'RPA-PR', 'RPA-MG',\n",
       "       'RPA-MG-BELO-HORIZONTE', 'RPA-PR-CURITIBA'], dtype=object)"
      ]
     },
     "execution_count": 14,
     "metadata": {},
     "output_type": "execute_result"
    }
   ],
   "source": [
    "df['origem'].unique()"
   ]
  },
  {
   "attachments": {},
   "cell_type": "markdown",
   "metadata": {},
   "source": [
    "\"RPA\" provavelmente se refere à \"Robotic Process Automation\", enquanto \"parse-cloud\" pode se referir a um serviço de nuvem que faz a análise sintática (parsing) dos dados. De toda maneira, não é algo que será levado em consideração na análise de ocupação hospitalar."
   ]
  },
  {
   "cell_type": "code",
   "execution_count": 15,
   "metadata": {},
   "outputs": [],
   "source": [
    "to_drop.append('origem')"
   ]
  },
  {
   "attachments": {},
   "cell_type": "markdown",
   "metadata": {},
   "source": [
    "Veremos agora o que `excluido` e `validado` podem nos mostrar."
   ]
  },
  {
   "cell_type": "code",
   "execution_count": 16,
   "metadata": {},
   "outputs": [
    {
     "data": {
      "text/plain": [
       "excluido\n",
       "False    554182\n",
       "True        505\n",
       "Name: count, dtype: int64"
      ]
     },
     "execution_count": 16,
     "metadata": {},
     "output_type": "execute_result"
    }
   ],
   "source": [
    "df['excluido'].value_counts()"
   ]
  },
  {
   "cell_type": "code",
   "execution_count": 17,
   "metadata": {},
   "outputs": [
    {
     "data": {
      "text/html": [
       "<div>\n",
       "<style scoped>\n",
       "    .dataframe tbody tr th:only-of-type {\n",
       "        vertical-align: middle;\n",
       "    }\n",
       "\n",
       "    .dataframe tbody tr th {\n",
       "        vertical-align: top;\n",
       "    }\n",
       "\n",
       "    .dataframe thead th {\n",
       "        text-align: right;\n",
       "    }\n",
       "</style>\n",
       "<table border=\"1\" class=\"dataframe\">\n",
       "  <thead>\n",
       "    <tr style=\"text-align: right;\">\n",
       "      <th></th>\n",
       "      <th>Unnamed: 0</th>\n",
       "      <th>_id</th>\n",
       "      <th>dataNotificacao</th>\n",
       "      <th>cnes</th>\n",
       "      <th>ocupacaoSuspeitoCli</th>\n",
       "      <th>ocupacaoSuspeitoUti</th>\n",
       "      <th>ocupacaoConfirmadoCli</th>\n",
       "      <th>ocupacaoConfirmadoUti</th>\n",
       "      <th>ocupacaoCovidUti</th>\n",
       "      <th>ocupacaoCovidCli</th>\n",
       "      <th>...</th>\n",
       "      <th>origem</th>\n",
       "      <th>_p_usuario</th>\n",
       "      <th>estadoNotificacao</th>\n",
       "      <th>municipioNotificacao</th>\n",
       "      <th>estado</th>\n",
       "      <th>municipio</th>\n",
       "      <th>excluido</th>\n",
       "      <th>validado</th>\n",
       "      <th>_created_at</th>\n",
       "      <th>_updated_at</th>\n",
       "    </tr>\n",
       "  </thead>\n",
       "  <tbody>\n",
       "    <tr>\n",
       "      <th>0</th>\n",
       "      <td>0</td>\n",
       "      <td>p5Ez41Zu6B</td>\n",
       "      <td>2020-04-14T03:00:00.000Z</td>\n",
       "      <td>2303167</td>\n",
       "      <td>0.0</td>\n",
       "      <td>0.0</td>\n",
       "      <td>0.0</td>\n",
       "      <td>0.0</td>\n",
       "      <td>NaN</td>\n",
       "      <td>NaN</td>\n",
       "      <td>...</td>\n",
       "      <td>aplicacao-web</td>\n",
       "      <td>_User$auVMjEVEVz</td>\n",
       "      <td>Santa Catarina</td>\n",
       "      <td>Itapema</td>\n",
       "      <td>Santa Catarina</td>\n",
       "      <td>Itapema</td>\n",
       "      <td>True</td>\n",
       "      <td>False</td>\n",
       "      <td>2020-04-15T13:44:30.085Z</td>\n",
       "      <td>2020-04-16T13:56:13.656Z</td>\n",
       "    </tr>\n",
       "    <tr>\n",
       "      <th>31</th>\n",
       "      <td>31</td>\n",
       "      <td>tv1uXbMbdc</td>\n",
       "      <td>2020-04-15T17:23:44.000Z</td>\n",
       "      <td>2240335</td>\n",
       "      <td>20.0</td>\n",
       "      <td>5.0</td>\n",
       "      <td>0.0</td>\n",
       "      <td>0.0</td>\n",
       "      <td>NaN</td>\n",
       "      <td>NaN</td>\n",
       "      <td>...</td>\n",
       "      <td>aplicacao-web</td>\n",
       "      <td>_User$Enseqp32PQ</td>\n",
       "      <td>Rio Grande do Sul</td>\n",
       "      <td>Farroupilha</td>\n",
       "      <td>Rio Grande do Sul</td>\n",
       "      <td>Farroupilha</td>\n",
       "      <td>True</td>\n",
       "      <td>False</td>\n",
       "      <td>2020-04-15T17:24:00.316Z</td>\n",
       "      <td>2020-04-15T17:35:07.999Z</td>\n",
       "    </tr>\n",
       "    <tr>\n",
       "      <th>62</th>\n",
       "      <td>62</td>\n",
       "      <td>fHqEA6b8Xt</td>\n",
       "      <td>2020-04-15T19:18:27.505Z</td>\n",
       "      <td>2375850</td>\n",
       "      <td>0.0</td>\n",
       "      <td>0.0</td>\n",
       "      <td>0.0</td>\n",
       "      <td>10.0</td>\n",
       "      <td>NaN</td>\n",
       "      <td>NaN</td>\n",
       "      <td>...</td>\n",
       "      <td>aplicacao-web</td>\n",
       "      <td>_User$Utr4cDP5eD</td>\n",
       "      <td>Mato Grosso do Sul</td>\n",
       "      <td>Paranaíba</td>\n",
       "      <td>Mato Grosso do Sul</td>\n",
       "      <td>Paranaíba</td>\n",
       "      <td>True</td>\n",
       "      <td>False</td>\n",
       "      <td>2020-04-15T19:29:13.561Z</td>\n",
       "      <td>2020-04-15T19:48:07.806Z</td>\n",
       "    </tr>\n",
       "    <tr>\n",
       "      <th>70</th>\n",
       "      <td>70</td>\n",
       "      <td>Zekk3kC7Gp</td>\n",
       "      <td>2020-04-01T03:00:00.000Z</td>\n",
       "      <td>2760819</td>\n",
       "      <td>1.0</td>\n",
       "      <td>0.0</td>\n",
       "      <td>0.0</td>\n",
       "      <td>0.0</td>\n",
       "      <td>NaN</td>\n",
       "      <td>NaN</td>\n",
       "      <td>...</td>\n",
       "      <td>aplicacao-web</td>\n",
       "      <td>_User$cIStY25tjj</td>\n",
       "      <td>Minas Gerais</td>\n",
       "      <td>Minduri</td>\n",
       "      <td>Minas Gerais</td>\n",
       "      <td>Minduri</td>\n",
       "      <td>True</td>\n",
       "      <td>False</td>\n",
       "      <td>2020-04-15T19:38:08.434Z</td>\n",
       "      <td>2020-04-15T19:49:49.157Z</td>\n",
       "    </tr>\n",
       "    <tr>\n",
       "      <th>72</th>\n",
       "      <td>72</td>\n",
       "      <td>6m0iH5blyQ</td>\n",
       "      <td>2020-04-02T03:00:00.000Z</td>\n",
       "      <td>2760819</td>\n",
       "      <td>1.0</td>\n",
       "      <td>0.0</td>\n",
       "      <td>0.0</td>\n",
       "      <td>0.0</td>\n",
       "      <td>NaN</td>\n",
       "      <td>NaN</td>\n",
       "      <td>...</td>\n",
       "      <td>aplicacao-web</td>\n",
       "      <td>_User$cIStY25tjj</td>\n",
       "      <td>Minas Gerais</td>\n",
       "      <td>Minduri</td>\n",
       "      <td>Minas Gerais</td>\n",
       "      <td>Minduri</td>\n",
       "      <td>True</td>\n",
       "      <td>False</td>\n",
       "      <td>2020-04-15T19:39:52.298Z</td>\n",
       "      <td>2020-04-15T19:50:00.013Z</td>\n",
       "    </tr>\n",
       "    <tr>\n",
       "      <th>...</th>\n",
       "      <td>...</td>\n",
       "      <td>...</td>\n",
       "      <td>...</td>\n",
       "      <td>...</td>\n",
       "      <td>...</td>\n",
       "      <td>...</td>\n",
       "      <td>...</td>\n",
       "      <td>...</td>\n",
       "      <td>...</td>\n",
       "      <td>...</td>\n",
       "      <td>...</td>\n",
       "      <td>...</td>\n",
       "      <td>...</td>\n",
       "      <td>...</td>\n",
       "      <td>...</td>\n",
       "      <td>...</td>\n",
       "      <td>...</td>\n",
       "      <td>...</td>\n",
       "      <td>...</td>\n",
       "      <td>...</td>\n",
       "      <td>...</td>\n",
       "    </tr>\n",
       "    <tr>\n",
       "      <th>19617</th>\n",
       "      <td>19621</td>\n",
       "      <td>JO81FFRtz8</td>\n",
       "      <td>2020-05-11T13:11:48.671Z</td>\n",
       "      <td>2436450</td>\n",
       "      <td>133.0</td>\n",
       "      <td>28.0</td>\n",
       "      <td>9.0</td>\n",
       "      <td>8.0</td>\n",
       "      <td>NaN</td>\n",
       "      <td>NaN</td>\n",
       "      <td>...</td>\n",
       "      <td>aplicacao-web</td>\n",
       "      <td>_User$1XfNU4qbhz</td>\n",
       "      <td>Santa Catarina</td>\n",
       "      <td>Joinville</td>\n",
       "      <td>Santa Catarina</td>\n",
       "      <td>Joinville</td>\n",
       "      <td>True</td>\n",
       "      <td>False</td>\n",
       "      <td>2020-05-11T13:20:38.299Z</td>\n",
       "      <td>2020-05-12T11:09:21.900Z</td>\n",
       "    </tr>\n",
       "    <tr>\n",
       "      <th>19618</th>\n",
       "      <td>19622</td>\n",
       "      <td>EACElG3PDS</td>\n",
       "      <td>2020-05-11T13:11:48.671Z</td>\n",
       "      <td>2436450</td>\n",
       "      <td>133.0</td>\n",
       "      <td>28.0</td>\n",
       "      <td>9.0</td>\n",
       "      <td>8.0</td>\n",
       "      <td>NaN</td>\n",
       "      <td>NaN</td>\n",
       "      <td>...</td>\n",
       "      <td>aplicacao-web</td>\n",
       "      <td>_User$1XfNU4qbhz</td>\n",
       "      <td>Santa Catarina</td>\n",
       "      <td>Joinville</td>\n",
       "      <td>Santa Catarina</td>\n",
       "      <td>Joinville</td>\n",
       "      <td>True</td>\n",
       "      <td>False</td>\n",
       "      <td>2020-05-11T13:21:46.909Z</td>\n",
       "      <td>2020-05-12T11:09:30.965Z</td>\n",
       "    </tr>\n",
       "    <tr>\n",
       "      <th>19619</th>\n",
       "      <td>19623</td>\n",
       "      <td>S63bzGI2iK</td>\n",
       "      <td>2020-05-11T13:11:48.671Z</td>\n",
       "      <td>2436450</td>\n",
       "      <td>133.0</td>\n",
       "      <td>28.0</td>\n",
       "      <td>9.0</td>\n",
       "      <td>8.0</td>\n",
       "      <td>NaN</td>\n",
       "      <td>NaN</td>\n",
       "      <td>...</td>\n",
       "      <td>aplicacao-web</td>\n",
       "      <td>_User$1XfNU4qbhz</td>\n",
       "      <td>Santa Catarina</td>\n",
       "      <td>Joinville</td>\n",
       "      <td>Santa Catarina</td>\n",
       "      <td>Joinville</td>\n",
       "      <td>True</td>\n",
       "      <td>False</td>\n",
       "      <td>2020-05-11T13:20:47.607Z</td>\n",
       "      <td>2020-05-12T11:10:07.500Z</td>\n",
       "    </tr>\n",
       "    <tr>\n",
       "      <th>19813</th>\n",
       "      <td>19821</td>\n",
       "      <td>OZzcvODn1G</td>\n",
       "      <td>2020-05-11T15:38:05.414Z</td>\n",
       "      <td>2436450</td>\n",
       "      <td>133.0</td>\n",
       "      <td>28.0</td>\n",
       "      <td>9.0</td>\n",
       "      <td>8.0</td>\n",
       "      <td>NaN</td>\n",
       "      <td>NaN</td>\n",
       "      <td>...</td>\n",
       "      <td>aplicacao-web</td>\n",
       "      <td>_User$1XfNU4qbhz</td>\n",
       "      <td>Santa Catarina</td>\n",
       "      <td>Joinville</td>\n",
       "      <td>Santa Catarina</td>\n",
       "      <td>Joinville</td>\n",
       "      <td>True</td>\n",
       "      <td>False</td>\n",
       "      <td>2020-05-11T15:40:22.575Z</td>\n",
       "      <td>2020-05-12T11:09:17.290Z</td>\n",
       "    </tr>\n",
       "    <tr>\n",
       "      <th>19814</th>\n",
       "      <td>19822</td>\n",
       "      <td>HWg3ESOZPe</td>\n",
       "      <td>2020-05-11T15:38:05.414Z</td>\n",
       "      <td>2436450</td>\n",
       "      <td>133.0</td>\n",
       "      <td>28.0</td>\n",
       "      <td>9.0</td>\n",
       "      <td>8.0</td>\n",
       "      <td>NaN</td>\n",
       "      <td>NaN</td>\n",
       "      <td>...</td>\n",
       "      <td>aplicacao-web</td>\n",
       "      <td>_User$1XfNU4qbhz</td>\n",
       "      <td>Santa Catarina</td>\n",
       "      <td>Joinville</td>\n",
       "      <td>Santa Catarina</td>\n",
       "      <td>Joinville</td>\n",
       "      <td>True</td>\n",
       "      <td>False</td>\n",
       "      <td>2020-05-11T15:39:45.164Z</td>\n",
       "      <td>2020-05-12T11:09:05.172Z</td>\n",
       "    </tr>\n",
       "  </tbody>\n",
       "</table>\n",
       "<p>505 rows × 26 columns</p>\n",
       "</div>"
      ],
      "text/plain": [
       "       Unnamed: 0         _id           dataNotificacao     cnes   \n",
       "0               0  p5Ez41Zu6B  2020-04-14T03:00:00.000Z  2303167  \\\n",
       "31             31  tv1uXbMbdc  2020-04-15T17:23:44.000Z  2240335   \n",
       "62             62  fHqEA6b8Xt  2020-04-15T19:18:27.505Z  2375850   \n",
       "70             70  Zekk3kC7Gp  2020-04-01T03:00:00.000Z  2760819   \n",
       "72             72  6m0iH5blyQ  2020-04-02T03:00:00.000Z  2760819   \n",
       "...           ...         ...                       ...      ...   \n",
       "19617       19621  JO81FFRtz8  2020-05-11T13:11:48.671Z  2436450   \n",
       "19618       19622  EACElG3PDS  2020-05-11T13:11:48.671Z  2436450   \n",
       "19619       19623  S63bzGI2iK  2020-05-11T13:11:48.671Z  2436450   \n",
       "19813       19821  OZzcvODn1G  2020-05-11T15:38:05.414Z  2436450   \n",
       "19814       19822  HWg3ESOZPe  2020-05-11T15:38:05.414Z  2436450   \n",
       "\n",
       "       ocupacaoSuspeitoCli  ocupacaoSuspeitoUti  ocupacaoConfirmadoCli   \n",
       "0                      0.0                  0.0                    0.0  \\\n",
       "31                    20.0                  5.0                    0.0   \n",
       "62                     0.0                  0.0                    0.0   \n",
       "70                     1.0                  0.0                    0.0   \n",
       "72                     1.0                  0.0                    0.0   \n",
       "...                    ...                  ...                    ...   \n",
       "19617                133.0                 28.0                    9.0   \n",
       "19618                133.0                 28.0                    9.0   \n",
       "19619                133.0                 28.0                    9.0   \n",
       "19813                133.0                 28.0                    9.0   \n",
       "19814                133.0                 28.0                    9.0   \n",
       "\n",
       "       ocupacaoConfirmadoUti  ocupacaoCovidUti  ocupacaoCovidCli  ...   \n",
       "0                        0.0               NaN               NaN  ...  \\\n",
       "31                       0.0               NaN               NaN  ...   \n",
       "62                      10.0               NaN               NaN  ...   \n",
       "70                       0.0               NaN               NaN  ...   \n",
       "72                       0.0               NaN               NaN  ...   \n",
       "...                      ...               ...               ...  ...   \n",
       "19617                    8.0               NaN               NaN  ...   \n",
       "19618                    8.0               NaN               NaN  ...   \n",
       "19619                    8.0               NaN               NaN  ...   \n",
       "19813                    8.0               NaN               NaN  ...   \n",
       "19814                    8.0               NaN               NaN  ...   \n",
       "\n",
       "              origem        _p_usuario   estadoNotificacao   \n",
       "0      aplicacao-web  _User$auVMjEVEVz      Santa Catarina  \\\n",
       "31     aplicacao-web  _User$Enseqp32PQ   Rio Grande do Sul   \n",
       "62     aplicacao-web  _User$Utr4cDP5eD  Mato Grosso do Sul   \n",
       "70     aplicacao-web  _User$cIStY25tjj        Minas Gerais   \n",
       "72     aplicacao-web  _User$cIStY25tjj        Minas Gerais   \n",
       "...              ...               ...                 ...   \n",
       "19617  aplicacao-web  _User$1XfNU4qbhz      Santa Catarina   \n",
       "19618  aplicacao-web  _User$1XfNU4qbhz      Santa Catarina   \n",
       "19619  aplicacao-web  _User$1XfNU4qbhz      Santa Catarina   \n",
       "19813  aplicacao-web  _User$1XfNU4qbhz      Santa Catarina   \n",
       "19814  aplicacao-web  _User$1XfNU4qbhz      Santa Catarina   \n",
       "\n",
       "       municipioNotificacao              estado    municipio excluido   \n",
       "0                   Itapema      Santa Catarina      Itapema     True  \\\n",
       "31              Farroupilha   Rio Grande do Sul  Farroupilha     True   \n",
       "62                Paranaíba  Mato Grosso do Sul    Paranaíba     True   \n",
       "70                  Minduri        Minas Gerais      Minduri     True   \n",
       "72                  Minduri        Minas Gerais      Minduri     True   \n",
       "...                     ...                 ...          ...      ...   \n",
       "19617             Joinville      Santa Catarina    Joinville     True   \n",
       "19618             Joinville      Santa Catarina    Joinville     True   \n",
       "19619             Joinville      Santa Catarina    Joinville     True   \n",
       "19813             Joinville      Santa Catarina    Joinville     True   \n",
       "19814             Joinville      Santa Catarina    Joinville     True   \n",
       "\n",
       "      validado               _created_at               _updated_at  \n",
       "0        False  2020-04-15T13:44:30.085Z  2020-04-16T13:56:13.656Z  \n",
       "31       False  2020-04-15T17:24:00.316Z  2020-04-15T17:35:07.999Z  \n",
       "62       False  2020-04-15T19:29:13.561Z  2020-04-15T19:48:07.806Z  \n",
       "70       False  2020-04-15T19:38:08.434Z  2020-04-15T19:49:49.157Z  \n",
       "72       False  2020-04-15T19:39:52.298Z  2020-04-15T19:50:00.013Z  \n",
       "...        ...                       ...                       ...  \n",
       "19617    False  2020-05-11T13:20:38.299Z  2020-05-12T11:09:21.900Z  \n",
       "19618    False  2020-05-11T13:21:46.909Z  2020-05-12T11:09:30.965Z  \n",
       "19619    False  2020-05-11T13:20:47.607Z  2020-05-12T11:10:07.500Z  \n",
       "19813    False  2020-05-11T15:40:22.575Z  2020-05-12T11:09:17.290Z  \n",
       "19814    False  2020-05-11T15:39:45.164Z  2020-05-12T11:09:05.172Z  \n",
       "\n",
       "[505 rows x 26 columns]"
      ]
     },
     "execution_count": 17,
     "metadata": {},
     "output_type": "execute_result"
    }
   ],
   "source": [
    "df.loc[df['excluido'] == True]\n"
   ]
  },
  {
   "attachments": {},
   "cell_type": "markdown",
   "metadata": {},
   "source": [
    "Apesar de não haver documentação disponível, o nome da coluna em si (`excluido`) já indica fortemente que os registros marcados como verdadeiros não são aptos para uso nessa análise. \n",
    "\n",
    "Encontramos **505 registros** marcados, e destes podemos notar algumas particularidades como: \n",
    "\n",
    "Registros `dataNotificacao` exatamente iguais *(com precisão de 0,001 segundos)* para a mesma `cnes` e feitos pelo mesmo `_p_usuario`, vários deles com dados idênticos em `ocupacaoSuspeitoCli`, `ocupacaoSuspeitoUti`, `ocupacaoConfirmadoCli`, `ocupacaoConfirmadoUti`."
   ]
  },
  {
   "cell_type": "code",
   "execution_count": 18,
   "metadata": {},
   "outputs": [
    {
     "data": {
      "text/html": [
       "<div>\n",
       "<style scoped>\n",
       "    .dataframe tbody tr th:only-of-type {\n",
       "        vertical-align: middle;\n",
       "    }\n",
       "\n",
       "    .dataframe tbody tr th {\n",
       "        vertical-align: top;\n",
       "    }\n",
       "\n",
       "    .dataframe thead th {\n",
       "        text-align: right;\n",
       "    }\n",
       "</style>\n",
       "<table border=\"1\" class=\"dataframe\">\n",
       "  <thead>\n",
       "    <tr style=\"text-align: right;\">\n",
       "      <th></th>\n",
       "      <th>Unnamed: 0</th>\n",
       "      <th>_id</th>\n",
       "      <th>dataNotificacao</th>\n",
       "      <th>cnes</th>\n",
       "      <th>ocupacaoSuspeitoCli</th>\n",
       "      <th>ocupacaoSuspeitoUti</th>\n",
       "      <th>ocupacaoConfirmadoCli</th>\n",
       "      <th>ocupacaoConfirmadoUti</th>\n",
       "      <th>ocupacaoCovidUti</th>\n",
       "      <th>ocupacaoCovidCli</th>\n",
       "      <th>...</th>\n",
       "      <th>origem</th>\n",
       "      <th>_p_usuario</th>\n",
       "      <th>estadoNotificacao</th>\n",
       "      <th>municipioNotificacao</th>\n",
       "      <th>estado</th>\n",
       "      <th>municipio</th>\n",
       "      <th>excluido</th>\n",
       "      <th>validado</th>\n",
       "      <th>_created_at</th>\n",
       "      <th>_updated_at</th>\n",
       "    </tr>\n",
       "  </thead>\n",
       "  <tbody>\n",
       "    <tr>\n",
       "      <th>70</th>\n",
       "      <td>70</td>\n",
       "      <td>Zekk3kC7Gp</td>\n",
       "      <td>2020-04-01T03:00:00.000Z</td>\n",
       "      <td>2760819</td>\n",
       "      <td>1.0</td>\n",
       "      <td>0.0</td>\n",
       "      <td>0.0</td>\n",
       "      <td>0.0</td>\n",
       "      <td>NaN</td>\n",
       "      <td>NaN</td>\n",
       "      <td>...</td>\n",
       "      <td>aplicacao-web</td>\n",
       "      <td>_User$cIStY25tjj</td>\n",
       "      <td>Minas Gerais</td>\n",
       "      <td>Minduri</td>\n",
       "      <td>Minas Gerais</td>\n",
       "      <td>Minduri</td>\n",
       "      <td>True</td>\n",
       "      <td>False</td>\n",
       "      <td>2020-04-15T19:38:08.434Z</td>\n",
       "      <td>2020-04-15T19:49:49.157Z</td>\n",
       "    </tr>\n",
       "    <tr>\n",
       "      <th>72</th>\n",
       "      <td>72</td>\n",
       "      <td>6m0iH5blyQ</td>\n",
       "      <td>2020-04-02T03:00:00.000Z</td>\n",
       "      <td>2760819</td>\n",
       "      <td>1.0</td>\n",
       "      <td>0.0</td>\n",
       "      <td>0.0</td>\n",
       "      <td>0.0</td>\n",
       "      <td>NaN</td>\n",
       "      <td>NaN</td>\n",
       "      <td>...</td>\n",
       "      <td>aplicacao-web</td>\n",
       "      <td>_User$cIStY25tjj</td>\n",
       "      <td>Minas Gerais</td>\n",
       "      <td>Minduri</td>\n",
       "      <td>Minas Gerais</td>\n",
       "      <td>Minduri</td>\n",
       "      <td>True</td>\n",
       "      <td>False</td>\n",
       "      <td>2020-04-15T19:39:52.298Z</td>\n",
       "      <td>2020-04-15T19:50:00.013Z</td>\n",
       "    </tr>\n",
       "    <tr>\n",
       "      <th>73</th>\n",
       "      <td>73</td>\n",
       "      <td>J6qrjnb2y4</td>\n",
       "      <td>2020-04-03T03:00:00.000Z</td>\n",
       "      <td>2760819</td>\n",
       "      <td>1.0</td>\n",
       "      <td>0.0</td>\n",
       "      <td>0.0</td>\n",
       "      <td>0.0</td>\n",
       "      <td>NaN</td>\n",
       "      <td>NaN</td>\n",
       "      <td>...</td>\n",
       "      <td>aplicacao-web</td>\n",
       "      <td>_User$cIStY25tjj</td>\n",
       "      <td>Minas Gerais</td>\n",
       "      <td>Minduri</td>\n",
       "      <td>Minas Gerais</td>\n",
       "      <td>Minduri</td>\n",
       "      <td>True</td>\n",
       "      <td>False</td>\n",
       "      <td>2020-04-15T19:41:13.629Z</td>\n",
       "      <td>2020-04-15T19:50:20.836Z</td>\n",
       "    </tr>\n",
       "    <tr>\n",
       "      <th>74</th>\n",
       "      <td>74</td>\n",
       "      <td>84u09qrCH4</td>\n",
       "      <td>2020-04-04T03:00:00.000Z</td>\n",
       "      <td>2760819</td>\n",
       "      <td>0.0</td>\n",
       "      <td>0.0</td>\n",
       "      <td>0.0</td>\n",
       "      <td>0.0</td>\n",
       "      <td>NaN</td>\n",
       "      <td>NaN</td>\n",
       "      <td>...</td>\n",
       "      <td>aplicacao-web</td>\n",
       "      <td>_User$cIStY25tjj</td>\n",
       "      <td>Minas Gerais</td>\n",
       "      <td>Minduri</td>\n",
       "      <td>Minas Gerais</td>\n",
       "      <td>Minduri</td>\n",
       "      <td>True</td>\n",
       "      <td>False</td>\n",
       "      <td>2020-04-15T19:41:51.378Z</td>\n",
       "      <td>2020-04-15T19:50:07.477Z</td>\n",
       "    </tr>\n",
       "    <tr>\n",
       "      <th>186</th>\n",
       "      <td>186</td>\n",
       "      <td>lMXoydTmd1</td>\n",
       "      <td>2020-04-14T03:00:00.000Z</td>\n",
       "      <td>2418967</td>\n",
       "      <td>25.0</td>\n",
       "      <td>0.0</td>\n",
       "      <td>2.0</td>\n",
       "      <td>0.0</td>\n",
       "      <td>NaN</td>\n",
       "      <td>NaN</td>\n",
       "      <td>...</td>\n",
       "      <td>aplicacao-web</td>\n",
       "      <td>_User$1aBS46RcA0</td>\n",
       "      <td>Santa Catarina</td>\n",
       "      <td>São João Batista</td>\n",
       "      <td>Santa Catarina</td>\n",
       "      <td>São João Batista</td>\n",
       "      <td>True</td>\n",
       "      <td>False</td>\n",
       "      <td>2020-04-15T20:24:50.502Z</td>\n",
       "      <td>2020-04-15T21:42:10.108Z</td>\n",
       "    </tr>\n",
       "    <tr>\n",
       "      <th>...</th>\n",
       "      <td>...</td>\n",
       "      <td>...</td>\n",
       "      <td>...</td>\n",
       "      <td>...</td>\n",
       "      <td>...</td>\n",
       "      <td>...</td>\n",
       "      <td>...</td>\n",
       "      <td>...</td>\n",
       "      <td>...</td>\n",
       "      <td>...</td>\n",
       "      <td>...</td>\n",
       "      <td>...</td>\n",
       "      <td>...</td>\n",
       "      <td>...</td>\n",
       "      <td>...</td>\n",
       "      <td>...</td>\n",
       "      <td>...</td>\n",
       "      <td>...</td>\n",
       "      <td>...</td>\n",
       "      <td>...</td>\n",
       "      <td>...</td>\n",
       "    </tr>\n",
       "    <tr>\n",
       "      <th>13772</th>\n",
       "      <td>13776</td>\n",
       "      <td>deIHZTOWsU</td>\n",
       "      <td>2020-04-02T03:00:00.000Z</td>\n",
       "      <td>0105724</td>\n",
       "      <td>0.0</td>\n",
       "      <td>0.0</td>\n",
       "      <td>0.0</td>\n",
       "      <td>0.0</td>\n",
       "      <td>NaN</td>\n",
       "      <td>NaN</td>\n",
       "      <td>...</td>\n",
       "      <td>aplicacao-web</td>\n",
       "      <td>_User$QtAd4NBwBc</td>\n",
       "      <td>Paraná</td>\n",
       "      <td>Corbélia</td>\n",
       "      <td>Paraná</td>\n",
       "      <td>Corbélia</td>\n",
       "      <td>True</td>\n",
       "      <td>False</td>\n",
       "      <td>2020-05-04T20:25:54.924Z</td>\n",
       "      <td>2020-05-04T20:26:32.391Z</td>\n",
       "    </tr>\n",
       "    <tr>\n",
       "      <th>18500</th>\n",
       "      <td>18504</td>\n",
       "      <td>8tidqNgXtv</td>\n",
       "      <td>2020-05-09T17:30:23.940Z</td>\n",
       "      <td>2436450</td>\n",
       "      <td>117.0</td>\n",
       "      <td>20.0</td>\n",
       "      <td>9.0</td>\n",
       "      <td>8.0</td>\n",
       "      <td>NaN</td>\n",
       "      <td>NaN</td>\n",
       "      <td>...</td>\n",
       "      <td>aplicacao-web</td>\n",
       "      <td>_User$1XfNU4qbhz</td>\n",
       "      <td>Santa Catarina</td>\n",
       "      <td>Joinville</td>\n",
       "      <td>Santa Catarina</td>\n",
       "      <td>Joinville</td>\n",
       "      <td>True</td>\n",
       "      <td>False</td>\n",
       "      <td>2020-05-09T18:34:15.464Z</td>\n",
       "      <td>2020-05-12T11:09:58.154Z</td>\n",
       "    </tr>\n",
       "    <tr>\n",
       "      <th>19618</th>\n",
       "      <td>19622</td>\n",
       "      <td>EACElG3PDS</td>\n",
       "      <td>2020-05-11T13:11:48.671Z</td>\n",
       "      <td>2436450</td>\n",
       "      <td>133.0</td>\n",
       "      <td>28.0</td>\n",
       "      <td>9.0</td>\n",
       "      <td>8.0</td>\n",
       "      <td>NaN</td>\n",
       "      <td>NaN</td>\n",
       "      <td>...</td>\n",
       "      <td>aplicacao-web</td>\n",
       "      <td>_User$1XfNU4qbhz</td>\n",
       "      <td>Santa Catarina</td>\n",
       "      <td>Joinville</td>\n",
       "      <td>Santa Catarina</td>\n",
       "      <td>Joinville</td>\n",
       "      <td>True</td>\n",
       "      <td>False</td>\n",
       "      <td>2020-05-11T13:21:46.909Z</td>\n",
       "      <td>2020-05-12T11:09:30.965Z</td>\n",
       "    </tr>\n",
       "    <tr>\n",
       "      <th>19619</th>\n",
       "      <td>19623</td>\n",
       "      <td>S63bzGI2iK</td>\n",
       "      <td>2020-05-11T13:11:48.671Z</td>\n",
       "      <td>2436450</td>\n",
       "      <td>133.0</td>\n",
       "      <td>28.0</td>\n",
       "      <td>9.0</td>\n",
       "      <td>8.0</td>\n",
       "      <td>NaN</td>\n",
       "      <td>NaN</td>\n",
       "      <td>...</td>\n",
       "      <td>aplicacao-web</td>\n",
       "      <td>_User$1XfNU4qbhz</td>\n",
       "      <td>Santa Catarina</td>\n",
       "      <td>Joinville</td>\n",
       "      <td>Santa Catarina</td>\n",
       "      <td>Joinville</td>\n",
       "      <td>True</td>\n",
       "      <td>False</td>\n",
       "      <td>2020-05-11T13:20:47.607Z</td>\n",
       "      <td>2020-05-12T11:10:07.500Z</td>\n",
       "    </tr>\n",
       "    <tr>\n",
       "      <th>19814</th>\n",
       "      <td>19822</td>\n",
       "      <td>HWg3ESOZPe</td>\n",
       "      <td>2020-05-11T15:38:05.414Z</td>\n",
       "      <td>2436450</td>\n",
       "      <td>133.0</td>\n",
       "      <td>28.0</td>\n",
       "      <td>9.0</td>\n",
       "      <td>8.0</td>\n",
       "      <td>NaN</td>\n",
       "      <td>NaN</td>\n",
       "      <td>...</td>\n",
       "      <td>aplicacao-web</td>\n",
       "      <td>_User$1XfNU4qbhz</td>\n",
       "      <td>Santa Catarina</td>\n",
       "      <td>Joinville</td>\n",
       "      <td>Santa Catarina</td>\n",
       "      <td>Joinville</td>\n",
       "      <td>True</td>\n",
       "      <td>False</td>\n",
       "      <td>2020-05-11T15:39:45.164Z</td>\n",
       "      <td>2020-05-12T11:09:05.172Z</td>\n",
       "    </tr>\n",
       "  </tbody>\n",
       "</table>\n",
       "<p>341 rows × 26 columns</p>\n",
       "</div>"
      ],
      "text/plain": [
       "       Unnamed: 0         _id           dataNotificacao     cnes   \n",
       "70             70  Zekk3kC7Gp  2020-04-01T03:00:00.000Z  2760819  \\\n",
       "72             72  6m0iH5blyQ  2020-04-02T03:00:00.000Z  2760819   \n",
       "73             73  J6qrjnb2y4  2020-04-03T03:00:00.000Z  2760819   \n",
       "74             74  84u09qrCH4  2020-04-04T03:00:00.000Z  2760819   \n",
       "186           186  lMXoydTmd1  2020-04-14T03:00:00.000Z  2418967   \n",
       "...           ...         ...                       ...      ...   \n",
       "13772       13776  deIHZTOWsU  2020-04-02T03:00:00.000Z  0105724   \n",
       "18500       18504  8tidqNgXtv  2020-05-09T17:30:23.940Z  2436450   \n",
       "19618       19622  EACElG3PDS  2020-05-11T13:11:48.671Z  2436450   \n",
       "19619       19623  S63bzGI2iK  2020-05-11T13:11:48.671Z  2436450   \n",
       "19814       19822  HWg3ESOZPe  2020-05-11T15:38:05.414Z  2436450   \n",
       "\n",
       "       ocupacaoSuspeitoCli  ocupacaoSuspeitoUti  ocupacaoConfirmadoCli   \n",
       "70                     1.0                  0.0                    0.0  \\\n",
       "72                     1.0                  0.0                    0.0   \n",
       "73                     1.0                  0.0                    0.0   \n",
       "74                     0.0                  0.0                    0.0   \n",
       "186                   25.0                  0.0                    2.0   \n",
       "...                    ...                  ...                    ...   \n",
       "13772                  0.0                  0.0                    0.0   \n",
       "18500                117.0                 20.0                    9.0   \n",
       "19618                133.0                 28.0                    9.0   \n",
       "19619                133.0                 28.0                    9.0   \n",
       "19814                133.0                 28.0                    9.0   \n",
       "\n",
       "       ocupacaoConfirmadoUti  ocupacaoCovidUti  ocupacaoCovidCli  ...   \n",
       "70                       0.0               NaN               NaN  ...  \\\n",
       "72                       0.0               NaN               NaN  ...   \n",
       "73                       0.0               NaN               NaN  ...   \n",
       "74                       0.0               NaN               NaN  ...   \n",
       "186                      0.0               NaN               NaN  ...   \n",
       "...                      ...               ...               ...  ...   \n",
       "13772                    0.0               NaN               NaN  ...   \n",
       "18500                    8.0               NaN               NaN  ...   \n",
       "19618                    8.0               NaN               NaN  ...   \n",
       "19619                    8.0               NaN               NaN  ...   \n",
       "19814                    8.0               NaN               NaN  ...   \n",
       "\n",
       "              origem        _p_usuario  estadoNotificacao   \n",
       "70     aplicacao-web  _User$cIStY25tjj       Minas Gerais  \\\n",
       "72     aplicacao-web  _User$cIStY25tjj       Minas Gerais   \n",
       "73     aplicacao-web  _User$cIStY25tjj       Minas Gerais   \n",
       "74     aplicacao-web  _User$cIStY25tjj       Minas Gerais   \n",
       "186    aplicacao-web  _User$1aBS46RcA0     Santa Catarina   \n",
       "...              ...               ...                ...   \n",
       "13772  aplicacao-web  _User$QtAd4NBwBc             Paraná   \n",
       "18500  aplicacao-web  _User$1XfNU4qbhz     Santa Catarina   \n",
       "19618  aplicacao-web  _User$1XfNU4qbhz     Santa Catarina   \n",
       "19619  aplicacao-web  _User$1XfNU4qbhz     Santa Catarina   \n",
       "19814  aplicacao-web  _User$1XfNU4qbhz     Santa Catarina   \n",
       "\n",
       "       municipioNotificacao          estado         municipio excluido   \n",
       "70                  Minduri    Minas Gerais           Minduri     True  \\\n",
       "72                  Minduri    Minas Gerais           Minduri     True   \n",
       "73                  Minduri    Minas Gerais           Minduri     True   \n",
       "74                  Minduri    Minas Gerais           Minduri     True   \n",
       "186        São João Batista  Santa Catarina  São João Batista     True   \n",
       "...                     ...             ...               ...      ...   \n",
       "13772              Corbélia          Paraná          Corbélia     True   \n",
       "18500             Joinville  Santa Catarina         Joinville     True   \n",
       "19618             Joinville  Santa Catarina         Joinville     True   \n",
       "19619             Joinville  Santa Catarina         Joinville     True   \n",
       "19814             Joinville  Santa Catarina         Joinville     True   \n",
       "\n",
       "      validado               _created_at               _updated_at  \n",
       "70       False  2020-04-15T19:38:08.434Z  2020-04-15T19:49:49.157Z  \n",
       "72       False  2020-04-15T19:39:52.298Z  2020-04-15T19:50:00.013Z  \n",
       "73       False  2020-04-15T19:41:13.629Z  2020-04-15T19:50:20.836Z  \n",
       "74       False  2020-04-15T19:41:51.378Z  2020-04-15T19:50:07.477Z  \n",
       "186      False  2020-04-15T20:24:50.502Z  2020-04-15T21:42:10.108Z  \n",
       "...        ...                       ...                       ...  \n",
       "13772    False  2020-05-04T20:25:54.924Z  2020-05-04T20:26:32.391Z  \n",
       "18500    False  2020-05-09T18:34:15.464Z  2020-05-12T11:09:58.154Z  \n",
       "19618    False  2020-05-11T13:21:46.909Z  2020-05-12T11:09:30.965Z  \n",
       "19619    False  2020-05-11T13:20:47.607Z  2020-05-12T11:10:07.500Z  \n",
       "19814    False  2020-05-11T15:39:45.164Z  2020-05-12T11:09:05.172Z  \n",
       "\n",
       "[341 rows x 26 columns]"
      ]
     },
     "execution_count": 18,
     "metadata": {},
     "output_type": "execute_result"
    }
   ],
   "source": [
    "df.loc[(df['excluido'] == True) & (df.duplicated(subset=['dataNotificacao']))]"
   ]
  },
  {
   "attachments": {},
   "cell_type": "markdown",
   "metadata": {},
   "source": [
    "Muitos registros de fato seguem o padrão que identificamos. Provavelmente são registros desatualizados ou com algum tipo de inconsistência.\n",
    "\n",
    "Além do nome sugestivo da coluna, obtivemos várias informações que nos permitem ser **assertivos na eliminação de todos os registros em que `excluido` = `True`**. Como após a exclusão a coluna não terá mais serventia, podemos também eliminá-la dos dados para análise."
   ]
  },
  {
   "cell_type": "code",
   "execution_count": 19,
   "metadata": {},
   "outputs": [],
   "source": [
    "df.drop(df.loc[df['excluido'] == True].index, inplace=True)"
   ]
  },
  {
   "cell_type": "code",
   "execution_count": 20,
   "metadata": {},
   "outputs": [],
   "source": [
    "to_drop.append('excluido')"
   ]
  },
  {
   "attachments": {},
   "cell_type": "markdown",
   "metadata": {},
   "source": [
    "Agora vejamos `validado`:"
   ]
  },
  {
   "cell_type": "code",
   "execution_count": 21,
   "metadata": {},
   "outputs": [
    {
     "data": {
      "text/plain": [
       "validado\n",
       "False    554182\n",
       "Name: count, dtype: int64"
      ]
     },
     "execution_count": 21,
     "metadata": {},
     "output_type": "execute_result"
    }
   ],
   "source": [
    "df['validado'].value_counts()"
   ]
  },
  {
   "attachments": {},
   "cell_type": "markdown",
   "metadata": {},
   "source": [
    "Todos os registros estão marcados como `False`, o que nos impossibilita buscar por padrões para inferir o que de fato a coluna significa.\n",
    "\n",
    "Em busca de mais informações, encontrei outro [local onde o mesmo conjunto de dados é disponibilizado](https://opendatasus.saude.gov.br/dataset/registro-de-ocupacao-hospitalar-covid-19), o *OpenDataSUS*. Verifiquei que tanto o [Portal Brasileiro de Dados Abertos](https://dados.gov.br/home) *(onde obtivemos os dados)* quanto o [OpenDataSUS](https://opendatasus.saude.gov.br/) **apontam para o mesmo [URL](https://s3.sa-east-1.amazonaws.com/ckan.saude.gov.br/LEITOS/2023-04-21/esus-vepi.LeitoOcupacao_2020.csv)** \n",
    "> *(o arquivo está armazenado em um bucket S3 da Amazon. Clicar no link 'URL' inicia o download)*. \n",
    "\n",
    "Ou seja, tanto um quanto outro nos fornecem o **mesmo arquivo**. Logo, qualquer informação encontrada em ambos endereços é igualmente válida para os dados obtidos.\n",
    "\n",
    "No OpenDataSUS temos algumas [informações adicionais](https://opendatasus.saude.gov.br/dataset/registro-de-ocupacao-hospitalar-covid-19/resource/a16c8d5f-dc6d-46c8-8e75-41765a18a289) sobre o conjunto de dados em si. Temos informações como data de criação, **status de atividade** e **data da última modificação** *(a última presente em ambos)*. \n",
    "\n",
    "* Estado: ativo\n",
    "* Dados atualizados pela última vez: 22/04/2023 *(dia em que foi feita a verificação)*\n",
    "\n",
    "Também podemos encontrar registros do [fluxo de atividade](https://opendatasus.saude.gov.br/dataset/activity/registro-de-ocupacao-hospitalar-covid-19). Aqui vemos que os dados são **atualizados diariamente**.\n",
    "\n",
    "Sabendo que se trata de um arquivo atualizado e mantido sob cuidado diário, podemos concluir que os dados em que estamos trabalhando são utilizáveis, ainda que o campo `validado` possa nos induzir a supor o contrário.\n",
    "\n",
    "Dessa maneira, como todos os registros do arquivo possuem o mesmo valor, nada é agregado à análise. Iremos apenas *descartar a coluna*."
   ]
  },
  {
   "cell_type": "code",
   "execution_count": 22,
   "metadata": {},
   "outputs": [],
   "source": [
    "to_drop.append('validado')"
   ]
  },
  {
   "attachments": {},
   "cell_type": "markdown",
   "metadata": {},
   "source": [
    "### `municipio` / `municipioNotificacao`, `estado` / `estadoNotificacao`"
   ]
  },
  {
   "attachments": {},
   "cell_type": "markdown",
   "metadata": {},
   "source": [
    "Ainda nos restam as colunas `municipio`, `estado`, `municipioNotificacao`, `estadoNotificacao`. Vamos apenas conferir se os \"pares\" (ex: `estado` / `estadoNotificacao`) contém o mesmo conteúdo."
   ]
  },
  {
   "cell_type": "code",
   "execution_count": 23,
   "metadata": {},
   "outputs": [
    {
     "data": {
      "text/plain": [
       "False"
      ]
     },
     "execution_count": 23,
     "metadata": {},
     "output_type": "execute_result"
    }
   ],
   "source": [
    "len(df['estado'].unique()) == len(df['estadoNotificacao'].unique())"
   ]
  },
  {
   "cell_type": "code",
   "execution_count": 24,
   "metadata": {},
   "outputs": [
    {
     "data": {
      "text/plain": [
       "True"
      ]
     },
     "execution_count": 24,
     "metadata": {},
     "output_type": "execute_result"
    }
   ],
   "source": [
    "len(df['estado']) == len(df['estadoNotificacao'])"
   ]
  },
  {
   "attachments": {},
   "cell_type": "markdown",
   "metadata": {},
   "source": [
    "Há algo de diferente aqui.\n",
    "\n",
    "Apesar de possuirem o mesmo número de registros, temos diferentes quantidade de valores únicos."
   ]
  },
  {
   "cell_type": "code",
   "execution_count": 25,
   "metadata": {},
   "outputs": [
    {
     "name": "stdout",
     "output_type": "stream",
     "text": [
      "['Rio de Janeiro' 'Ceará' 'Rio Grande do Sul' 'Santa Catarina'\n",
      " 'Minas Gerais' 'Pará' 'Piauí' 'Mato Grosso do Sul' 'Goiás' 'Rondônia'\n",
      " 'Acre' 'Amazonas' 'Pernambuco' 'Paraná' 'Maranhão' 'Bahia' 'São Paulo'\n",
      " 'Paraíba' 'Alagoas' 'Mato Grosso' 'Sergipe' 'Distrito Federal'\n",
      " 'Tocantins' 'Rio Grande do Norte' nan 'Amapá' 'Espírito Santo' 'Roraima'\n",
      " 'GOIAS']\n"
     ]
    }
   ],
   "source": [
    "print(df['estado'].unique())"
   ]
  },
  {
   "cell_type": "code",
   "execution_count": 26,
   "metadata": {},
   "outputs": [
    {
     "name": "stdout",
     "output_type": "stream",
     "text": [
      "['Rio de Janeiro' 'Ceará' 'Rio Grande do Sul' 'Santa Catarina'\n",
      " 'Minas Gerais' 'Pará' 'Piauí' 'Mato Grosso do Sul' 'Goiás' 'Rondônia'\n",
      " 'Acre' 'Amazonas' 'Pernambuco' 'Paraná' 'Maranhão' 'Bahia' 'São Paulo'\n",
      " 'Paraíba' 'Alagoas' 'Mato Grosso' 'Sergipe' 'Distrito Federal'\n",
      " 'Tocantins' 'Rio Grande do Norte' 'Amapá' 'Espírito Santo' 'Roraima'\n",
      " 'GOIAS']\n"
     ]
    }
   ],
   "source": [
    "print(df['estadoNotificacao'].unique())"
   ]
  },
  {
   "attachments": {},
   "cell_type": "markdown",
   "metadata": {},
   "source": [
    "Em ambos o estado de Goiás está registrado duas vezes. Como \"Goiás\" e \"GOIAS\". Isso será fácil de corrigir.\n",
    "\n",
    "Mas vemos algo além. `estado` possui alguns campos listados como `nan` *(\"Not a Number\" nesse contexto é referente a um campo nulo)*. Vamos verificar quais são esses registros."
   ]
  },
  {
   "cell_type": "code",
   "execution_count": 27,
   "metadata": {},
   "outputs": [
    {
     "data": {
      "text/html": [
       "<div>\n",
       "<style scoped>\n",
       "    .dataframe tbody tr th:only-of-type {\n",
       "        vertical-align: middle;\n",
       "    }\n",
       "\n",
       "    .dataframe tbody tr th {\n",
       "        vertical-align: top;\n",
       "    }\n",
       "\n",
       "    .dataframe thead th {\n",
       "        text-align: right;\n",
       "    }\n",
       "</style>\n",
       "<table border=\"1\" class=\"dataframe\">\n",
       "  <thead>\n",
       "    <tr style=\"text-align: right;\">\n",
       "      <th></th>\n",
       "      <th>Unnamed: 0</th>\n",
       "      <th>_id</th>\n",
       "      <th>dataNotificacao</th>\n",
       "      <th>cnes</th>\n",
       "      <th>ocupacaoSuspeitoCli</th>\n",
       "      <th>ocupacaoSuspeitoUti</th>\n",
       "      <th>ocupacaoConfirmadoCli</th>\n",
       "      <th>ocupacaoConfirmadoUti</th>\n",
       "      <th>ocupacaoCovidUti</th>\n",
       "      <th>ocupacaoCovidCli</th>\n",
       "      <th>...</th>\n",
       "      <th>origem</th>\n",
       "      <th>_p_usuario</th>\n",
       "      <th>estadoNotificacao</th>\n",
       "      <th>municipioNotificacao</th>\n",
       "      <th>estado</th>\n",
       "      <th>municipio</th>\n",
       "      <th>excluido</th>\n",
       "      <th>validado</th>\n",
       "      <th>_created_at</th>\n",
       "      <th>_updated_at</th>\n",
       "    </tr>\n",
       "  </thead>\n",
       "  <tbody>\n",
       "    <tr>\n",
       "      <th>4182</th>\n",
       "      <td>4184</td>\n",
       "      <td>bc66V3say8</td>\n",
       "      <td>2020-04-24T12:32:29.807Z</td>\n",
       "      <td>2246902</td>\n",
       "      <td>1.0</td>\n",
       "      <td>0.0</td>\n",
       "      <td>1.0</td>\n",
       "      <td>0.0</td>\n",
       "      <td>NaN</td>\n",
       "      <td>NaN</td>\n",
       "      <td>...</td>\n",
       "      <td>aplicacao-web</td>\n",
       "      <td>_User$Ow1jWbSgxK</td>\n",
       "      <td>Rio Grande do Sul</td>\n",
       "      <td>Não-Me-Toque</td>\n",
       "      <td>NaN</td>\n",
       "      <td>NaN</td>\n",
       "      <td>False</td>\n",
       "      <td>False</td>\n",
       "      <td>2020-04-24T12:33:53.952Z</td>\n",
       "      <td>2020-04-24T12:33:53.952Z</td>\n",
       "    </tr>\n",
       "  </tbody>\n",
       "</table>\n",
       "<p>1 rows × 26 columns</p>\n",
       "</div>"
      ],
      "text/plain": [
       "      Unnamed: 0         _id           dataNotificacao     cnes   \n",
       "4182        4184  bc66V3say8  2020-04-24T12:32:29.807Z  2246902  \\\n",
       "\n",
       "      ocupacaoSuspeitoCli  ocupacaoSuspeitoUti  ocupacaoConfirmadoCli   \n",
       "4182                  1.0                  0.0                    1.0  \\\n",
       "\n",
       "      ocupacaoConfirmadoUti  ocupacaoCovidUti  ocupacaoCovidCli  ...   \n",
       "4182                    0.0               NaN               NaN  ...  \\\n",
       "\n",
       "             origem        _p_usuario  estadoNotificacao   \n",
       "4182  aplicacao-web  _User$Ow1jWbSgxK  Rio Grande do Sul  \\\n",
       "\n",
       "      municipioNotificacao  estado  municipio excluido validado   \n",
       "4182          Não-Me-Toque     NaN        NaN    False    False  \\\n",
       "\n",
       "                   _created_at               _updated_at  \n",
       "4182  2020-04-24T12:33:53.952Z  2020-04-24T12:33:53.952Z  \n",
       "\n",
       "[1 rows x 26 columns]"
      ]
     },
     "execution_count": 27,
     "metadata": {},
     "output_type": "execute_result"
    }
   ],
   "source": [
    "df[df['estado'].isnull()]"
   ]
  },
  {
   "attachments": {},
   "cell_type": "markdown",
   "metadata": {},
   "source": [
    "Apena um registro tem campos faltantes em `estado` e `municipio`. Porém seus \"pares\" contam esses dados."
   ]
  },
  {
   "cell_type": "code",
   "execution_count": 28,
   "metadata": {},
   "outputs": [],
   "source": [
    "df.drop(4182, inplace=True)"
   ]
  },
  {
   "attachments": {},
   "cell_type": "markdown",
   "metadata": {},
   "source": [
    "Poderiamos dar esse caso em particular como resolvido, no entanto, será que todos os outros \"pares\" apresentam as mesmas informações?"
   ]
  },
  {
   "cell_type": "code",
   "execution_count": 29,
   "metadata": {},
   "outputs": [
    {
     "data": {
      "text/plain": [
       "False"
      ]
     },
     "execution_count": 29,
     "metadata": {},
     "output_type": "execute_result"
    }
   ],
   "source": [
    "len(df.loc[df['estado'] == df['estadoNotificacao']]) == df.shape[0]"
   ]
  },
  {
   "attachments": {},
   "cell_type": "markdown",
   "metadata": {},
   "source": [
    "Aperentemente não. Vejamos o motivo:"
   ]
  },
  {
   "cell_type": "code",
   "execution_count": 30,
   "metadata": {},
   "outputs": [
    {
     "data": {
      "text/html": [
       "<div>\n",
       "<style scoped>\n",
       "    .dataframe tbody tr th:only-of-type {\n",
       "        vertical-align: middle;\n",
       "    }\n",
       "\n",
       "    .dataframe tbody tr th {\n",
       "        vertical-align: top;\n",
       "    }\n",
       "\n",
       "    .dataframe thead th {\n",
       "        text-align: right;\n",
       "    }\n",
       "</style>\n",
       "<table border=\"1\" class=\"dataframe\">\n",
       "  <thead>\n",
       "    <tr style=\"text-align: right;\">\n",
       "      <th></th>\n",
       "      <th>cnes</th>\n",
       "      <th>municipio</th>\n",
       "      <th>estado</th>\n",
       "      <th>municipioNotificacao</th>\n",
       "      <th>estadoNotificacao</th>\n",
       "    </tr>\n",
       "  </thead>\n",
       "  <tbody>\n",
       "    <tr>\n",
       "      <th>931</th>\n",
       "      <td>2438313</td>\n",
       "      <td>Minaçu</td>\n",
       "      <td>Goiás</td>\n",
       "      <td>Itaobim</td>\n",
       "      <td>Minas Gerais</td>\n",
       "    </tr>\n",
       "    <tr>\n",
       "      <th>2962</th>\n",
       "      <td>703208645495691</td>\n",
       "      <td>Buritis</td>\n",
       "      <td>Rondônia</td>\n",
       "      <td>São Romão</td>\n",
       "      <td>Minas Gerais</td>\n",
       "    </tr>\n",
       "    <tr>\n",
       "      <th>33764</th>\n",
       "      <td>223505</td>\n",
       "      <td>Cassilândia</td>\n",
       "      <td>Mato Grosso do Sul</td>\n",
       "      <td>Ouro Preto do Oeste</td>\n",
       "      <td>Rondônia</td>\n",
       "    </tr>\n",
       "    <tr>\n",
       "      <th>121811</th>\n",
       "      <td>2786095.0</td>\n",
       "      <td>Dianópolis</td>\n",
       "      <td>Tocantins</td>\n",
       "      <td>Brasília</td>\n",
       "      <td>Distrito Federal</td>\n",
       "    </tr>\n",
       "    <tr>\n",
       "      <th>193605</th>\n",
       "      <td>4069803</td>\n",
       "      <td>Juína</td>\n",
       "      <td>Mato Grosso</td>\n",
       "      <td>Propriá</td>\n",
       "      <td>Sergipe</td>\n",
       "    </tr>\n",
       "    <tr>\n",
       "      <th>438983</th>\n",
       "      <td>2013029</td>\n",
       "      <td>Manaus</td>\n",
       "      <td>Amazonas</td>\n",
       "      <td>Tunápolis</td>\n",
       "      <td>Santa Catarina</td>\n",
       "    </tr>\n",
       "    <tr>\n",
       "      <th>478919</th>\n",
       "      <td>3004104</td>\n",
       "      <td>Manaus</td>\n",
       "      <td>Amazonas</td>\n",
       "      <td>Propriá</td>\n",
       "      <td>Sergipe</td>\n",
       "    </tr>\n",
       "    <tr>\n",
       "      <th>516046</th>\n",
       "      <td>2017555</td>\n",
       "      <td>Carauari</td>\n",
       "      <td>Amazonas</td>\n",
       "      <td>Codó</td>\n",
       "      <td>Maranhão</td>\n",
       "    </tr>\n",
       "  </tbody>\n",
       "</table>\n",
       "</div>"
      ],
      "text/plain": [
       "                   cnes    municipio              estado municipioNotificacao   \n",
       "931             2438313       Minaçu               Goiás              Itaobim  \\\n",
       "2962    703208645495691      Buritis            Rondônia            São Romão   \n",
       "33764            223505  Cassilândia  Mato Grosso do Sul  Ouro Preto do Oeste   \n",
       "121811        2786095.0   Dianópolis           Tocantins             Brasília   \n",
       "193605          4069803        Juína         Mato Grosso              Propriá   \n",
       "438983          2013029       Manaus            Amazonas            Tunápolis   \n",
       "478919          3004104       Manaus            Amazonas              Propriá   \n",
       "516046          2017555     Carauari            Amazonas                 Codó   \n",
       "\n",
       "       estadoNotificacao  \n",
       "931         Minas Gerais  \n",
       "2962        Minas Gerais  \n",
       "33764           Rondônia  \n",
       "121811  Distrito Federal  \n",
       "193605           Sergipe  \n",
       "438983    Santa Catarina  \n",
       "478919           Sergipe  \n",
       "516046          Maranhão  "
      ]
     },
     "execution_count": 30,
     "metadata": {},
     "output_type": "execute_result"
    }
   ],
   "source": [
    "df.loc[df['estado'] != df['estadoNotificacao'], ['cnes', 'municipio', 'estado' , 'municipioNotificacao', 'estadoNotificacao']]"
   ]
  },
  {
   "attachments": {},
   "cell_type": "markdown",
   "metadata": {},
   "source": [
    "Vemos algo sem coerência. Poderíamos discutir sobre o significado de cada coluna. Porém, dificilmente teríamos certeza do que se tratam *(ex: residente de um estado sendo notificado em outro durante uma viagem)*. \n",
    "\n",
    "Dessa forma, será melhor excluir os registros da análise. Também poderíamos argumentar que 8 registros são uma parcela muito pequena do arquivo."
   ]
  },
  {
   "cell_type": "code",
   "execution_count": 31,
   "metadata": {},
   "outputs": [
    {
     "name": "stdout",
     "output_type": "stream",
     "text": [
      "8 registros representam 0.0014% do arquivo\n"
     ]
    }
   ],
   "source": [
    "print(f\"8 registros representam {100 * (8 / df.shape[0]):.4f}% do arquivo\")"
   ]
  },
  {
   "cell_type": "code",
   "execution_count": 32,
   "metadata": {},
   "outputs": [
    {
     "data": {
      "text/plain": [
       "True"
      ]
     },
     "execution_count": 32,
     "metadata": {},
     "output_type": "execute_result"
    }
   ],
   "source": [
    "df.drop(df.loc[df['estado'] != df['estadoNotificacao']].index, inplace=True)\n",
    "\n",
    "len(df.loc[df['estado'] == df['estadoNotificacao']]) == df.shape[0]"
   ]
  },
  {
   "attachments": {},
   "cell_type": "markdown",
   "metadata": {},
   "source": [
    "Agora `estado` e `estadoNotificacao` são idênticas, podemos utilizar tanto uma quanto outra. Iremos executar um processo parecido para `municipio` e `municipioNotificacao`."
   ]
  },
  {
   "cell_type": "code",
   "execution_count": 33,
   "metadata": {},
   "outputs": [
    {
     "name": "stdout",
     "output_type": "stream",
     "text": [
      "Municípios únicos em 'municipio': 2260\n",
      "Municípios únicos em 'municipioNotificacao': 2259\n"
     ]
    }
   ],
   "source": [
    "print(f\"Municípios únicos em 'municipio': {len(df['municipio'].unique())}\\n\\\n",
    "Municípios únicos em 'municipioNotificacao': {len(df['municipioNotificacao'].unique())}\")"
   ]
  },
  {
   "cell_type": "code",
   "execution_count": 34,
   "metadata": {},
   "outputs": [
    {
     "data": {
      "text/plain": [
       "{'Campina Grande do Sul'}"
      ]
     },
     "execution_count": 34,
     "metadata": {},
     "output_type": "execute_result"
    }
   ],
   "source": [
    "# qual registro em 'municipio' não está contido em 'municipioNotificacao'\n",
    "set(df['municipio'].unique()) - set(df['municipioNotificacao'].unique())"
   ]
  },
  {
   "cell_type": "code",
   "execution_count": 35,
   "metadata": {},
   "outputs": [
    {
     "data": {
      "text/plain": [
       "41"
      ]
     },
     "execution_count": 35,
     "metadata": {},
     "output_type": "execute_result"
    }
   ],
   "source": [
    "# DataFrame temporário onde 'municipio' e 'municipioNotificacao' não coincidem\n",
    "df_notif_municipio = df.loc[df['municipio'] != df['municipioNotificacao']]\n",
    "# número de registros\n",
    "len(df_notif_municipio)"
   ]
  },
  {
   "attachments": {},
   "cell_type": "markdown",
   "metadata": {},
   "source": [
    "Vamos verificar se nos registros onde `municipio` é diferente de `municipioNotificacao` o `estado` também é diferente de `estadoNotificacao`."
   ]
  },
  {
   "cell_type": "code",
   "execution_count": 36,
   "metadata": {},
   "outputs": [
    {
     "data": {
      "text/html": [
       "<div>\n",
       "<style scoped>\n",
       "    .dataframe tbody tr th:only-of-type {\n",
       "        vertical-align: middle;\n",
       "    }\n",
       "\n",
       "    .dataframe tbody tr th {\n",
       "        vertical-align: top;\n",
       "    }\n",
       "\n",
       "    .dataframe thead th {\n",
       "        text-align: right;\n",
       "    }\n",
       "</style>\n",
       "<table border=\"1\" class=\"dataframe\">\n",
       "  <thead>\n",
       "    <tr style=\"text-align: right;\">\n",
       "      <th></th>\n",
       "      <th>Unnamed: 0</th>\n",
       "      <th>_id</th>\n",
       "      <th>dataNotificacao</th>\n",
       "      <th>cnes</th>\n",
       "      <th>ocupacaoSuspeitoCli</th>\n",
       "      <th>ocupacaoSuspeitoUti</th>\n",
       "      <th>ocupacaoConfirmadoCli</th>\n",
       "      <th>ocupacaoConfirmadoUti</th>\n",
       "      <th>ocupacaoCovidUti</th>\n",
       "      <th>ocupacaoCovidCli</th>\n",
       "      <th>...</th>\n",
       "      <th>origem</th>\n",
       "      <th>_p_usuario</th>\n",
       "      <th>estadoNotificacao</th>\n",
       "      <th>municipioNotificacao</th>\n",
       "      <th>estado</th>\n",
       "      <th>municipio</th>\n",
       "      <th>excluido</th>\n",
       "      <th>validado</th>\n",
       "      <th>_created_at</th>\n",
       "      <th>_updated_at</th>\n",
       "    </tr>\n",
       "  </thead>\n",
       "  <tbody>\n",
       "  </tbody>\n",
       "</table>\n",
       "<p>0 rows × 26 columns</p>\n",
       "</div>"
      ],
      "text/plain": [
       "Empty DataFrame\n",
       "Columns: [Unnamed: 0, _id, dataNotificacao, cnes, ocupacaoSuspeitoCli, ocupacaoSuspeitoUti, ocupacaoConfirmadoCli, ocupacaoConfirmadoUti, ocupacaoCovidUti, ocupacaoCovidCli, ocupacaoHospitalarUti, ocupacaoHospitalarCli, saidaSuspeitaObitos, saidaSuspeitaAltas, saidaConfirmadaObitos, saidaConfirmadaAltas, origem, _p_usuario, estadoNotificacao, municipioNotificacao, estado, municipio, excluido, validado, _created_at, _updated_at]\n",
       "Index: []\n",
       "\n",
       "[0 rows x 26 columns]"
      ]
     },
     "execution_count": 36,
     "metadata": {},
     "output_type": "execute_result"
    }
   ],
   "source": [
    "df_notif_municipio.loc[df_notif_municipio['estado'] != df_notif_municipio['estadoNotificacao']]"
   ]
  },
  {
   "attachments": {},
   "cell_type": "markdown",
   "metadata": {},
   "source": [
    "Aparentemente todos os registros onde `municipio` e `municipioNotificacao` são diferentes não apresentam a mesma discrepância em relação ao estado. Ou seja, ainda que os dois registros relativos a municípios sejam *diferentes*, ambos estão dentro do **mesmo estado**.\n",
    "\n",
    "Como nossa análise tem enfoque em *estados*, a inclusão de tais dados seria aceitável.\n",
    "\n",
    "De toda maneira, se de alguma forma conseguíssemos localizar a origem real do registro teríamos um forte indicativo de qual coluna faz mais sentido para nós. Uma maneira de resolver isso seria *descobrir a localização de cada `cnes`*.\n",
    "\n",
    "*Por enquanto, vamos deixar as coisas como estão*. Mais à frente iremos em busca de **outras fontes de dados** para conseguir mais **contexto** e utilizar melhor este arquivo. Como estaremos apenas aproveitando o trabalho, na pior hipótese podemos eleger uma das colunas para uso, e até mesmo excluir a coluna inutilizada para poupar armazenamento.\n",
    "\n",
    "**Iremos retornar a este problema em um momento mais oportuno.**\n",
    "\n",
    "No momento vamos *examinar* as informações que temos e *definir* algumas *prioridades*."
   ]
  },
  {
   "attachments": {},
   "cell_type": "markdown",
   "metadata": {},
   "source": [
    "## Consideração Sobre o Escopo da Análise<a id=\"4\"></a>"
   ]
  },
  {
   "attachments": {},
   "cell_type": "markdown",
   "metadata": {},
   "source": [
    "\n",
    "\n",
    "**Qual o escopo da análise?**\n",
    "\n",
    "A idéia principal é de analisar o nível de ocupação hospitalar **em nível nacional**, portanto, talvez não seja interessante aumentarmos a *\"resolução\"* para municípios. Incorremos em **obscurecer nuances pelo exagero de detalhes**. *Quase como deixar de admirar a floresta por focar demais em uma só árvore.*\n",
    "\n",
    "O que nos leva a considerar quais colunas são mais apropriadas e quais são menos compatíveis com o **objetivo da análise**.\n",
    "\n",
    "Pelo menos em um primeiro momento, as informações mais relevantes seriam `estado`, `dataNotificacao`, `ocupcacaoSuspeitoCli`, `ocupacaoSuspeitoUti`, `ocupacaoConfirmadoCli`, `ocupacaoConfirmadoUti`, `saidaSuspeitaAltas`, `saidaSuspeitaObitos`, `saidaConfirmadaAltas`, `saidaConfirmadaObitos`. \n",
    "\n",
    "Campos como `municipio` e `cnes` entregam detalhes fora do escopo desta análise. Porém, além de ainda termos pendências com estes dados, são bons para análises subsequentes. Então, são informações que devem ser **preservadas**.\n",
    "\n",
    "*Por exemplo, após verificarmos os estados mais e menos afetados, poderíamos usar estas informações para examiná-los com mais detalhes.*"
   ]
  },
  {
   "cell_type": "code",
   "execution_count": 37,
   "metadata": {},
   "outputs": [
    {
     "name": "stdout",
     "output_type": "stream",
     "text": [
      "No momento, o tamanho do nosso DataFrame é 111.9 Mb\n"
     ]
    }
   ],
   "source": [
    "print(f\"No momento, o tamanho do nosso DataFrame é {(df.memory_usage().sum() / 10**6):.1f} Mb\")"
   ]
  },
  {
   "attachments": {},
   "cell_type": "markdown",
   "metadata": {},
   "source": [
    "Temos algumas opções para separar os dados sobre municípios, incluindo bancos de dados relacionais para poupar armazenamento. \n",
    "\n",
    "No atual estado, o DataFrame tem aproximadamente 112 Mb. Não é um arquivo grande, mas de toda maneira, após a remoção das colunas marcadas o tamanho será consideravelmente reduzido. Quando fizermos isso, vamos considerar nossas opções.\n",
    "\n",
    "Por último vamos apenas adicionar `estadoNotificacao` em nossa lista para remoção. *Como ainda não vasculhamos os municípios, vamos deixá-los como estão por enquanto*."
   ]
  },
  {
   "cell_type": "code",
   "execution_count": 38,
   "metadata": {},
   "outputs": [
    {
     "name": "stdout",
     "output_type": "stream",
     "text": [
      "['_id', '_p_usuario', '_created_at', '_updated_at', 'origem', 'excluido', 'validado', 'estadoNotificacao']\n"
     ]
    }
   ],
   "source": [
    "to_drop.append('estadoNotificacao')\n",
    "print(to_drop)"
   ]
  },
  {
   "attachments": {},
   "cell_type": "markdown",
   "metadata": {},
   "source": [
    "Estas são algumas das colunas que vamos eliminar. Iremos fazer isso em breve, no momento temos utilidade para elas."
   ]
  },
  {
   "attachments": {},
   "cell_type": "markdown",
   "metadata": {},
   "source": [
    "## Identificando Anomalias<a id=\"5\"></a>"
   ]
  },
  {
   "attachments": {},
   "cell_type": "markdown",
   "metadata": {},
   "source": [
    "Ainda precisamos averiguar os dados das **colunas numéricas**, e caso seja necessário, teremos que decidir como lidar com **dados anormais**.\n",
    "\n",
    "Por isso havíamos separado as colunas para descarte em `to_drop` e `to_drop_numeric`. Colunas com variáveis categóricas *(`to_drop`)* trazem **contexto** para os registros, facilitando na decisão de **como lidar com valores faltantes**.\n",
    "\n",
    "Já as numéricas irão apenas se confundir com as colunas que iremos de fato utilizar. Por isso agora serão removidas. "
   ]
  },
  {
   "cell_type": "code",
   "execution_count": 39,
   "metadata": {},
   "outputs": [],
   "source": [
    "df.drop(columns=to_drop_numeric, inplace=True)"
   ]
  },
  {
   "attachments": {},
   "cell_type": "markdown",
   "metadata": {},
   "source": [
    "Vamos novamente calcular as estatísticas descritivas."
   ]
  },
  {
   "cell_type": "code",
   "execution_count": 40,
   "metadata": {},
   "outputs": [
    {
     "data": {
      "text/html": [
       "<div>\n",
       "<style scoped>\n",
       "    .dataframe tbody tr th:only-of-type {\n",
       "        vertical-align: middle;\n",
       "    }\n",
       "\n",
       "    .dataframe tbody tr th {\n",
       "        vertical-align: top;\n",
       "    }\n",
       "\n",
       "    .dataframe thead th {\n",
       "        text-align: right;\n",
       "    }\n",
       "</style>\n",
       "<table border=\"1\" class=\"dataframe\">\n",
       "  <thead>\n",
       "    <tr style=\"text-align: right;\">\n",
       "      <th></th>\n",
       "      <th>ocupacaoSuspeitoCli</th>\n",
       "      <th>ocupacaoSuspeitoUti</th>\n",
       "      <th>ocupacaoConfirmadoCli</th>\n",
       "      <th>ocupacaoConfirmadoUti</th>\n",
       "      <th>saidaSuspeitaObitos</th>\n",
       "      <th>saidaSuspeitaAltas</th>\n",
       "      <th>saidaConfirmadaObitos</th>\n",
       "      <th>saidaConfirmadaAltas</th>\n",
       "    </tr>\n",
       "  </thead>\n",
       "  <tbody>\n",
       "    <tr>\n",
       "      <th>count</th>\n",
       "      <td>5.537720e+05</td>\n",
       "      <td>553772.000000</td>\n",
       "      <td>553773.000000</td>\n",
       "      <td>553773.000000</td>\n",
       "      <td>554057.000000</td>\n",
       "      <td>5.540690e+05</td>\n",
       "      <td>554161.000000</td>\n",
       "      <td>5.541600e+05</td>\n",
       "    </tr>\n",
       "    <tr>\n",
       "      <th>mean</th>\n",
       "      <td>1.902687e+02</td>\n",
       "      <td>7.141221</td>\n",
       "      <td>6.084807</td>\n",
       "      <td>4.480354</td>\n",
       "      <td>0.224684</td>\n",
       "      <td>5.143359e+01</td>\n",
       "      <td>0.373303</td>\n",
       "      <td>3.398676e+01</td>\n",
       "    </tr>\n",
       "    <tr>\n",
       "      <th>std</th>\n",
       "      <td>6.211689e+04</td>\n",
       "      <td>16.092486</td>\n",
       "      <td>33.192898</td>\n",
       "      <td>11.258679</td>\n",
       "      <td>3.572660</td>\n",
       "      <td>3.768619e+04</td>\n",
       "      <td>3.746363</td>\n",
       "      <td>1.730111e+04</td>\n",
       "    </tr>\n",
       "    <tr>\n",
       "      <th>min</th>\n",
       "      <td>-5.700000e+01</td>\n",
       "      <td>-9.000000</td>\n",
       "      <td>-10.000000</td>\n",
       "      <td>-7.000000</td>\n",
       "      <td>-10.000000</td>\n",
       "      <td>-1.200000e+01</td>\n",
       "      <td>-3.000000</td>\n",
       "      <td>-1.300000e+01</td>\n",
       "    </tr>\n",
       "    <tr>\n",
       "      <th>25%</th>\n",
       "      <td>0.000000e+00</td>\n",
       "      <td>0.000000</td>\n",
       "      <td>0.000000</td>\n",
       "      <td>0.000000</td>\n",
       "      <td>0.000000</td>\n",
       "      <td>0.000000e+00</td>\n",
       "      <td>0.000000</td>\n",
       "      <td>0.000000e+00</td>\n",
       "    </tr>\n",
       "    <tr>\n",
       "      <th>50%</th>\n",
       "      <td>4.000000e+00</td>\n",
       "      <td>0.000000</td>\n",
       "      <td>1.000000</td>\n",
       "      <td>0.000000</td>\n",
       "      <td>0.000000</td>\n",
       "      <td>0.000000e+00</td>\n",
       "      <td>0.000000</td>\n",
       "      <td>0.000000e+00</td>\n",
       "    </tr>\n",
       "    <tr>\n",
       "      <th>75%</th>\n",
       "      <td>2.700000e+01</td>\n",
       "      <td>8.000000</td>\n",
       "      <td>6.000000</td>\n",
       "      <td>5.000000</td>\n",
       "      <td>0.000000</td>\n",
       "      <td>0.000000e+00</td>\n",
       "      <td>0.000000</td>\n",
       "      <td>0.000000e+00</td>\n",
       "    </tr>\n",
       "    <tr>\n",
       "      <th>max</th>\n",
       "      <td>2.908202e+07</td>\n",
       "      <td>924.000000</td>\n",
       "      <td>22222.000000</td>\n",
       "      <td>334.000000</td>\n",
       "      <td>425.000000</td>\n",
       "      <td>2.805202e+07</td>\n",
       "      <td>322.000000</td>\n",
       "      <td>9.112020e+06</td>\n",
       "    </tr>\n",
       "  </tbody>\n",
       "</table>\n",
       "</div>"
      ],
      "text/plain": [
       "       ocupacaoSuspeitoCli  ocupacaoSuspeitoUti  ocupacaoConfirmadoCli   \n",
       "count         5.537720e+05        553772.000000          553773.000000  \\\n",
       "mean          1.902687e+02             7.141221               6.084807   \n",
       "std           6.211689e+04            16.092486              33.192898   \n",
       "min          -5.700000e+01            -9.000000             -10.000000   \n",
       "25%           0.000000e+00             0.000000               0.000000   \n",
       "50%           4.000000e+00             0.000000               1.000000   \n",
       "75%           2.700000e+01             8.000000               6.000000   \n",
       "max           2.908202e+07           924.000000           22222.000000   \n",
       "\n",
       "       ocupacaoConfirmadoUti  saidaSuspeitaObitos  saidaSuspeitaAltas   \n",
       "count          553773.000000        554057.000000        5.540690e+05  \\\n",
       "mean                4.480354             0.224684        5.143359e+01   \n",
       "std                11.258679             3.572660        3.768619e+04   \n",
       "min                -7.000000           -10.000000       -1.200000e+01   \n",
       "25%                 0.000000             0.000000        0.000000e+00   \n",
       "50%                 0.000000             0.000000        0.000000e+00   \n",
       "75%                 5.000000             0.000000        0.000000e+00   \n",
       "max               334.000000           425.000000        2.805202e+07   \n",
       "\n",
       "       saidaConfirmadaObitos  saidaConfirmadaAltas  \n",
       "count          554161.000000          5.541600e+05  \n",
       "mean                0.373303          3.398676e+01  \n",
       "std                 3.746363          1.730111e+04  \n",
       "min                -3.000000         -1.300000e+01  \n",
       "25%                 0.000000          0.000000e+00  \n",
       "50%                 0.000000          0.000000e+00  \n",
       "75%                 0.000000          0.000000e+00  \n",
       "max               322.000000          9.112020e+06  "
      ]
     },
     "execution_count": 40,
     "metadata": {},
     "output_type": "execute_result"
    }
   ],
   "source": [
    "df.describe()"
   ]
  },
  {
   "attachments": {},
   "cell_type": "markdown",
   "metadata": {},
   "source": [
    "Em primeira vista podemos notar alguns pontos mais chamativos, como:\n",
    "* **Outliers**\n",
    "* **Valores mínimos negativos**\n",
    "* **Diferentes quantidades de registros**\n",
    "\n",
    "Algo que também pode nos causar problemas são **dados contínuos**. Podemos checar se existe alguma ocorrência realizando a somatória de alguma coluna *(ou todas)* e verificando se obtemos algum número fracionado. "
   ]
  },
  {
   "cell_type": "code",
   "execution_count": 41,
   "metadata": {},
   "outputs": [
    {
     "data": {
      "text/plain": [
       "105365479.64199996"
      ]
     },
     "execution_count": 41,
     "metadata": {},
     "output_type": "execute_result"
    }
   ],
   "source": [
    "df['ocupacaoSuspeitoCli'].sum()"
   ]
  },
  {
   "attachments": {},
   "cell_type": "markdown",
   "metadata": {},
   "source": [
    "Temos de fato valores contínuos em um ou mais registros.\n",
    "\n",
    "Assim sendo, **iremos percorrer todos os pontos citados.**"
   ]
  },
  {
   "attachments": {},
   "cell_type": "markdown",
   "metadata": {},
   "source": [
    "### Outliers"
   ]
  },
  {
   "attachments": {},
   "cell_type": "markdown",
   "metadata": {},
   "source": [
    "Como *29.082.020* parece um número exagerado de pacientes em um hospital, talvez seja um bom lugar para começar."
   ]
  },
  {
   "cell_type": "code",
   "execution_count": 42,
   "metadata": {},
   "outputs": [
    {
     "data": {
      "text/plain": [
       "29082020.0"
      ]
     },
     "execution_count": 42,
     "metadata": {},
     "output_type": "execute_result"
    }
   ],
   "source": [
    "df['ocupacaoSuspeitoCli'].max()"
   ]
  },
  {
   "attachments": {},
   "cell_type": "markdown",
   "metadata": {},
   "source": [
    "Aqui temos um valor absolutamente fora da realidade. Na verdade parece um erro de digitação onde uma data foi inserida *(provavelmente 29/08/2020)*. De toda maneira, *não podemos saber qual seria o valor real*, então iremos considerar como outlier que deve ser seguramente descartado.\n",
    "\n",
    "Vemos outro valor da mesma ordem em `saidaSuspeitaAltas`, então talvez seja prudente averiguar ocorrências semelhantes."
   ]
  },
  {
   "attachments": {},
   "cell_type": "markdown",
   "metadata": {},
   "source": [
    "#### Dados Adicionais<a id=\"6\"></a>"
   ]
  },
  {
   "attachments": {},
   "cell_type": "markdown",
   "metadata": {},
   "source": [
    "Temos nossa hipótese do motivo do erro, mas talvez precisemos de **mais contexto** em relação à capacidade real de hospitais brasileiros. Isso se soma à necessidade que encontramos lidando com `municipio` e `municipioNotificacao`.  \n",
    "\n",
    "Convenientemente, o [Portal Brasileiro de Dados Abertos](https://dados.gov.br/home) possui recursos que vão nos ajudar em **ambos casos**. Temos dados sobre [hospitais e leitos](https://dados.gov.br/dados/conjuntos-dados/hospitais-e-leitos) divididos por anos. E para nossa sorte esses dados possuem [documentação](https://s3.sa-east-1.amazonaws.com/ckan.saude.gov.br/Leitos_SUS/Dicion%C3%A1rio_Leito_hospitalar.pdf).\n",
    "\n",
    "Para referência, a partir de agora vamos chamar nosso primeiro DataFrame *(dados sobre ocupação de leitos)* de \"`ocupação`\", e o segundo *(dados sobre hospitais e leitos em si)* de \"`leitos`\"."
   ]
  },
  {
   "cell_type": "code",
   "execution_count": 43,
   "metadata": {},
   "outputs": [
    {
     "data": {
      "text/html": [
       "<div>\n",
       "<style scoped>\n",
       "    .dataframe tbody tr th:only-of-type {\n",
       "        vertical-align: middle;\n",
       "    }\n",
       "\n",
       "    .dataframe tbody tr th {\n",
       "        vertical-align: top;\n",
       "    }\n",
       "\n",
       "    .dataframe thead th {\n",
       "        text-align: right;\n",
       "    }\n",
       "</style>\n",
       "<table border=\"1\" class=\"dataframe\">\n",
       "  <thead>\n",
       "    <tr style=\"text-align: right;\">\n",
       "      <th></th>\n",
       "      <th>COMP</th>\n",
       "      <th>REGIAO</th>\n",
       "      <th>UF</th>\n",
       "      <th>MUNICIPIO</th>\n",
       "      <th>MOTIVO DESABILITACAO</th>\n",
       "      <th>CNES</th>\n",
       "      <th>NOME ESTABELECIMENTO</th>\n",
       "      <th>RAZAO SOCIAL</th>\n",
       "      <th>TP_GESTAO</th>\n",
       "      <th>CO_TIPO_UNIDADE</th>\n",
       "      <th>...</th>\n",
       "      <th>UTI ADULTO - EXIST</th>\n",
       "      <th>UTI ADULTO - SUS</th>\n",
       "      <th>UTI PEDIATRICO - EXIST</th>\n",
       "      <th>UTI PEDIATRICO - SUS</th>\n",
       "      <th>UTI NEONATAL - EXIST</th>\n",
       "      <th>UTI NEONATAL - SUS</th>\n",
       "      <th>UTI QUEIMADO - EXIST</th>\n",
       "      <th>UTI QUEIMADO - SUS</th>\n",
       "      <th>UTI CORONARIANA - EXIST</th>\n",
       "      <th>UTI CORONARIANA - SUS</th>\n",
       "    </tr>\n",
       "  </thead>\n",
       "  <tbody>\n",
       "    <tr>\n",
       "      <th>0</th>\n",
       "      <td>202001</td>\n",
       "      <td>NORDESTE</td>\n",
       "      <td>PE</td>\n",
       "      <td>CABO DE SANTO AGOSTINHO</td>\n",
       "      <td>NaN</td>\n",
       "      <td>27</td>\n",
       "      <td>CASA DE SAUDE SANTA HELENA</td>\n",
       "      <td>CASA DE SAUDE E MATERNIDADE SANTA HELENA LTDA</td>\n",
       "      <td>M</td>\n",
       "      <td>5</td>\n",
       "      <td>...</td>\n",
       "      <td>0</td>\n",
       "      <td>0</td>\n",
       "      <td>0</td>\n",
       "      <td>0</td>\n",
       "      <td>0</td>\n",
       "      <td>0</td>\n",
       "      <td>0</td>\n",
       "      <td>0</td>\n",
       "      <td>0</td>\n",
       "      <td>0</td>\n",
       "    </tr>\n",
       "    <tr>\n",
       "      <th>1</th>\n",
       "      <td>202002</td>\n",
       "      <td>NORDESTE</td>\n",
       "      <td>PE</td>\n",
       "      <td>CABO DE SANTO AGOSTINHO</td>\n",
       "      <td>NaN</td>\n",
       "      <td>27</td>\n",
       "      <td>CASA DE SAUDE SANTA HELENA</td>\n",
       "      <td>CASA DE SAUDE E MATERNIDADE SANTA HELENA LTDA</td>\n",
       "      <td>M</td>\n",
       "      <td>5</td>\n",
       "      <td>...</td>\n",
       "      <td>0</td>\n",
       "      <td>0</td>\n",
       "      <td>0</td>\n",
       "      <td>0</td>\n",
       "      <td>0</td>\n",
       "      <td>0</td>\n",
       "      <td>0</td>\n",
       "      <td>0</td>\n",
       "      <td>0</td>\n",
       "      <td>0</td>\n",
       "    </tr>\n",
       "    <tr>\n",
       "      <th>2</th>\n",
       "      <td>202003</td>\n",
       "      <td>NORDESTE</td>\n",
       "      <td>PE</td>\n",
       "      <td>CABO DE SANTO AGOSTINHO</td>\n",
       "      <td>NaN</td>\n",
       "      <td>27</td>\n",
       "      <td>CASA DE SAUDE SANTA HELENA</td>\n",
       "      <td>CASA DE SAUDE E MATERNIDADE SANTA HELENA LTDA</td>\n",
       "      <td>M</td>\n",
       "      <td>5</td>\n",
       "      <td>...</td>\n",
       "      <td>0</td>\n",
       "      <td>0</td>\n",
       "      <td>0</td>\n",
       "      <td>0</td>\n",
       "      <td>0</td>\n",
       "      <td>0</td>\n",
       "      <td>0</td>\n",
       "      <td>0</td>\n",
       "      <td>0</td>\n",
       "      <td>0</td>\n",
       "    </tr>\n",
       "    <tr>\n",
       "      <th>3</th>\n",
       "      <td>202004</td>\n",
       "      <td>NORDESTE</td>\n",
       "      <td>PE</td>\n",
       "      <td>CABO DE SANTO AGOSTINHO</td>\n",
       "      <td>NaN</td>\n",
       "      <td>27</td>\n",
       "      <td>CASA DE SAUDE SANTA HELENA</td>\n",
       "      <td>CASA DE SAUDE E MATERNIDADE SANTA HELENA LTDA</td>\n",
       "      <td>M</td>\n",
       "      <td>5</td>\n",
       "      <td>...</td>\n",
       "      <td>0</td>\n",
       "      <td>0</td>\n",
       "      <td>0</td>\n",
       "      <td>0</td>\n",
       "      <td>0</td>\n",
       "      <td>0</td>\n",
       "      <td>0</td>\n",
       "      <td>0</td>\n",
       "      <td>0</td>\n",
       "      <td>0</td>\n",
       "    </tr>\n",
       "    <tr>\n",
       "      <th>4</th>\n",
       "      <td>202005</td>\n",
       "      <td>NORDESTE</td>\n",
       "      <td>PE</td>\n",
       "      <td>CABO DE SANTO AGOSTINHO</td>\n",
       "      <td>NaN</td>\n",
       "      <td>27</td>\n",
       "      <td>CASA DE SAUDE SANTA HELENA</td>\n",
       "      <td>CASA DE SAUDE E MATERNIDADE SANTA HELENA LTDA</td>\n",
       "      <td>M</td>\n",
       "      <td>5</td>\n",
       "      <td>...</td>\n",
       "      <td>0</td>\n",
       "      <td>0</td>\n",
       "      <td>0</td>\n",
       "      <td>0</td>\n",
       "      <td>0</td>\n",
       "      <td>0</td>\n",
       "      <td>0</td>\n",
       "      <td>0</td>\n",
       "      <td>0</td>\n",
       "      <td>0</td>\n",
       "    </tr>\n",
       "  </tbody>\n",
       "</table>\n",
       "<p>5 rows × 34 columns</p>\n",
       "</div>"
      ],
      "text/plain": [
       "     COMP    REGIAO  UF                MUNICIPIO  MOTIVO DESABILITACAO  CNES   \n",
       "0  202001  NORDESTE  PE  CABO DE SANTO AGOSTINHO                   NaN    27  \\\n",
       "1  202002  NORDESTE  PE  CABO DE SANTO AGOSTINHO                   NaN    27   \n",
       "2  202003  NORDESTE  PE  CABO DE SANTO AGOSTINHO                   NaN    27   \n",
       "3  202004  NORDESTE  PE  CABO DE SANTO AGOSTINHO                   NaN    27   \n",
       "4  202005  NORDESTE  PE  CABO DE SANTO AGOSTINHO                   NaN    27   \n",
       "\n",
       "         NOME ESTABELECIMENTO                                   RAZAO SOCIAL   \n",
       "0  CASA DE SAUDE SANTA HELENA  CASA DE SAUDE E MATERNIDADE SANTA HELENA LTDA  \\\n",
       "1  CASA DE SAUDE SANTA HELENA  CASA DE SAUDE E MATERNIDADE SANTA HELENA LTDA   \n",
       "2  CASA DE SAUDE SANTA HELENA  CASA DE SAUDE E MATERNIDADE SANTA HELENA LTDA   \n",
       "3  CASA DE SAUDE SANTA HELENA  CASA DE SAUDE E MATERNIDADE SANTA HELENA LTDA   \n",
       "4  CASA DE SAUDE SANTA HELENA  CASA DE SAUDE E MATERNIDADE SANTA HELENA LTDA   \n",
       "\n",
       "  TP_GESTAO  CO_TIPO_UNIDADE  ... UTI ADULTO - EXIST  UTI ADULTO - SUS   \n",
       "0         M                5  ...                  0                 0  \\\n",
       "1         M                5  ...                  0                 0   \n",
       "2         M                5  ...                  0                 0   \n",
       "3         M                5  ...                  0                 0   \n",
       "4         M                5  ...                  0                 0   \n",
       "\n",
       "  UTI PEDIATRICO - EXIST UTI PEDIATRICO - SUS UTI NEONATAL - EXIST   \n",
       "0                      0                    0                    0  \\\n",
       "1                      0                    0                    0   \n",
       "2                      0                    0                    0   \n",
       "3                      0                    0                    0   \n",
       "4                      0                    0                    0   \n",
       "\n",
       "  UTI NEONATAL - SUS UTI QUEIMADO - EXIST  UTI QUEIMADO - SUS   \n",
       "0                  0                    0                   0  \\\n",
       "1                  0                    0                   0   \n",
       "2                  0                    0                   0   \n",
       "3                  0                    0                   0   \n",
       "4                  0                    0                   0   \n",
       "\n",
       "  UTI CORONARIANA - EXIST UTI CORONARIANA - SUS  \n",
       "0                       0                     0  \n",
       "1                       0                     0  \n",
       "2                       0                     0  \n",
       "3                       0                     0  \n",
       "4                       0                     0  \n",
       "\n",
       "[5 rows x 34 columns]"
      ]
     },
     "execution_count": 43,
     "metadata": {},
     "output_type": "execute_result"
    }
   ],
   "source": [
    "df_leitos = pd.read_csv('leitos-2020.csv')\n",
    "df_leitos.head()"
   ]
  },
  {
   "cell_type": "code",
   "execution_count": 44,
   "metadata": {},
   "outputs": [
    {
     "data": {
      "text/plain": [
       "Index(['COMP', 'REGIAO', 'UF', 'MUNICIPIO', 'MOTIVO DESABILITACAO', 'CNES',\n",
       "       'NOME ESTABELECIMENTO', 'RAZAO SOCIAL', 'TP_GESTAO', 'CO_TIPO_UNIDADE',\n",
       "       'DS_TIPO_UNIDADE', 'NATUREZA_JURIDICA', 'DESC_NATUREZA_JURIDICA',\n",
       "       'NO_LOGRADOURO', 'NU_ENDERECO', 'NO_COMPLEMENTO', 'NO_BAIRRO', 'CO_CEP',\n",
       "       'NU_TELEFONE', 'NO_EMAIL', 'LEITOS EXISTENTE', 'LEITOS SUS',\n",
       "       'UTI TOTAL - EXIST', 'UTI TOTAL - SUS', 'UTI ADULTO - EXIST',\n",
       "       'UTI ADULTO - SUS', 'UTI PEDIATRICO - EXIST', 'UTI PEDIATRICO - SUS',\n",
       "       'UTI NEONATAL - EXIST', 'UTI NEONATAL - SUS', 'UTI QUEIMADO - EXIST',\n",
       "       'UTI QUEIMADO - SUS', 'UTI CORONARIANA - EXIST',\n",
       "       'UTI CORONARIANA - SUS'],\n",
       "      dtype='object')"
      ]
     },
     "execution_count": 44,
     "metadata": {},
     "output_type": "execute_result"
    }
   ],
   "source": [
    "df_leitos.columns"
   ]
  },
  {
   "attachments": {},
   "cell_type": "markdown",
   "metadata": {},
   "source": [
    "Como temos uma documentação para nos guiar, será mais fácil encontrar o que queremos no momento.\n",
    "\n",
    "De acordo com os dados que possuímos sobre *ocupação de leitos*, acredito que devemos resgatar informações como `UF`, `MUNICIPIO`, `CNES`, `LEITOS EXISTENTES`, `LEITOS SUS`, `UTI TOTAL - EXIST`, `UTI TOTAL - SUS` (para checar se 'EXIST' inclui 'SUS') e `COMP` *(como cada registro se refere a uma combinação ano-mês, precisamos ter cuidado para não contabilizar o mesmo estabelecimento mais de uma vez)*. Vemos que existem subcategorias em UTI, mas os *totais* devem nos fornecer uma boa estimativa. \n",
    "\n",
    "Lembrando, o escopo da análise é ocupação hospitalar em nível *nacional*. Mas como temos pendências em relação à municípios, precisamos deste detalhamento por enquanto.\n",
    "\n",
    "Visto que `leitos` denomina estados por UF, é uma boa hora para fazer o mesmo com os dados de `ocupação`. Aproveitamos para 'corrigir' as ocorrências 'GOIAS' e 'Goiás'. O código feito para isso está em um arquivo auxiliar `utils.py`, na mesma pasta do projeto."
   ]
  },
  {
   "cell_type": "code",
   "execution_count": 45,
   "metadata": {},
   "outputs": [],
   "source": [
    "# Adiciona coluna 'uf' no DataFrame de acordo com a coluna 'estado'\n",
    "df['uf'] = df['estado'].apply(lambda x: utils.get_uf(x, utils.uf_dict))"
   ]
  },
  {
   "attachments": {},
   "cell_type": "markdown",
   "metadata": {},
   "source": [
    "Como agora temos `uf`, `estado` se torna redundante. Iremos removê-la mais tarde."
   ]
  },
  {
   "cell_type": "code",
   "execution_count": 46,
   "metadata": {},
   "outputs": [],
   "source": [
    "to_drop.append('estado')"
   ]
  },
  {
   "attachments": {},
   "cell_type": "markdown",
   "metadata": {},
   "source": [
    "Com a documentação de `leitos`, vemos que o campo `COMP` se refere ao ano e mês que o registro se refere."
   ]
  },
  {
   "cell_type": "code",
   "execution_count": 47,
   "metadata": {},
   "outputs": [
    {
     "data": {
      "text/plain": [
       "COMP\n",
       "202009    7080\n",
       "202008    7076\n",
       "202007    7065\n",
       "202010    7063\n",
       "202012    7051\n",
       "202011    7050\n",
       "202006    7004\n",
       "202005    6973\n",
       "202004    6891\n",
       "202003    6775\n",
       "202002    6696\n",
       "202001    6688\n",
       "Name: count, dtype: int64"
      ]
     },
     "execution_count": 47,
     "metadata": {},
     "output_type": "execute_result"
    }
   ],
   "source": [
    "df_leitos['COMP'].value_counts()"
   ]
  },
  {
   "attachments": {},
   "cell_type": "markdown",
   "metadata": {},
   "source": [
    "A notação que encontramos é **ano-mês**, no formato **YYYYMM**. Também podemos ver que nem todo mês conta com a mesma quantidade de registros, nos indicando que nem todos os estabelecimentos possuem registro dos 12 meses.\n",
    "\n",
    "É uma boa informação para observar a variação de capacidade com o passar do tempo. Podemos reformular a disposição dessa informação para facilitar a análise. No entanto, uma vez que adquirimos estes dados para uma **estimativa da capacidade hospitalar** do país, nossa prioridade será apurar dados nesse sentido. Podemos terminar o que começamos com `ocupação` e depois trabalhar com `leitos`, caso seja de nosso interesse. \n",
    "\n",
    "Por enquanto podemos fazer uma inspeção mais simples e verificar qual hospital brasileiro possui a maior capacidade, e com base nisso buscar outliers em `ocupação`.\n",
    "\n",
    "Utilizaremos este método para segregar outliers por dois motivos:\n",
    "* Temos a conveniência da informação em `leitos`\n",
    "* Pela impossibilidade de utilizar medidas de *dispersão*, uma vez que **os dados não apresentam uma distribuição normal**."
   ]
  },
  {
   "cell_type": "code",
   "execution_count": 48,
   "metadata": {},
   "outputs": [
    {
     "data": {
      "text/html": [
       "<div>\n",
       "<style scoped>\n",
       "    .dataframe tbody tr th:only-of-type {\n",
       "        vertical-align: middle;\n",
       "    }\n",
       "\n",
       "    .dataframe tbody tr th {\n",
       "        vertical-align: top;\n",
       "    }\n",
       "\n",
       "    .dataframe thead th {\n",
       "        text-align: right;\n",
       "    }\n",
       "</style>\n",
       "<table border=\"1\" class=\"dataframe\">\n",
       "  <thead>\n",
       "    <tr style=\"text-align: right;\">\n",
       "      <th></th>\n",
       "      <th>COMP</th>\n",
       "      <th>MOTIVO DESABILITACAO</th>\n",
       "      <th>CNES</th>\n",
       "      <th>CO_TIPO_UNIDADE</th>\n",
       "      <th>NATUREZA_JURIDICA</th>\n",
       "      <th>CO_CEP</th>\n",
       "      <th>LEITOS EXISTENTE</th>\n",
       "      <th>LEITOS SUS</th>\n",
       "      <th>UTI TOTAL - EXIST</th>\n",
       "      <th>UTI TOTAL - SUS</th>\n",
       "      <th>UTI ADULTO - EXIST</th>\n",
       "      <th>UTI ADULTO - SUS</th>\n",
       "      <th>UTI PEDIATRICO - EXIST</th>\n",
       "      <th>UTI PEDIATRICO - SUS</th>\n",
       "      <th>UTI NEONATAL - EXIST</th>\n",
       "      <th>UTI NEONATAL - SUS</th>\n",
       "      <th>UTI QUEIMADO - EXIST</th>\n",
       "      <th>UTI QUEIMADO - SUS</th>\n",
       "      <th>UTI CORONARIANA - EXIST</th>\n",
       "      <th>UTI CORONARIANA - SUS</th>\n",
       "    </tr>\n",
       "  </thead>\n",
       "  <tbody>\n",
       "    <tr>\n",
       "      <th>count</th>\n",
       "      <td>83412.000000</td>\n",
       "      <td>0.0</td>\n",
       "      <td>8.341200e+04</td>\n",
       "      <td>83412.000000</td>\n",
       "      <td>83412.000000</td>\n",
       "      <td>8.341200e+04</td>\n",
       "      <td>83412.000000</td>\n",
       "      <td>83412.000000</td>\n",
       "      <td>83412.000000</td>\n",
       "      <td>83412.000000</td>\n",
       "      <td>83412.000000</td>\n",
       "      <td>83412.000000</td>\n",
       "      <td>83412.000000</td>\n",
       "      <td>83412.000000</td>\n",
       "      <td>83412.000000</td>\n",
       "      <td>83412.000000</td>\n",
       "      <td>83412.000000</td>\n",
       "      <td>83412.000000</td>\n",
       "      <td>83412.000000</td>\n",
       "      <td>83412.000000</td>\n",
       "    </tr>\n",
       "    <tr>\n",
       "      <th>mean</th>\n",
       "      <td>202006.563001</td>\n",
       "      <td>NaN</td>\n",
       "      <td>3.245406e+06</td>\n",
       "      <td>6.440021</td>\n",
       "      <td>2137.678344</td>\n",
       "      <td>5.384539e+07</td>\n",
       "      <td>72.977473</td>\n",
       "      <td>49.520405</td>\n",
       "      <td>6.758116</td>\n",
       "      <td>3.333669</td>\n",
       "      <td>4.538040</td>\n",
       "      <td>2.183271</td>\n",
       "      <td>0.708315</td>\n",
       "      <td>0.382139</td>\n",
       "      <td>1.323658</td>\n",
       "      <td>0.702345</td>\n",
       "      <td>0.033556</td>\n",
       "      <td>0.022671</td>\n",
       "      <td>0.154546</td>\n",
       "      <td>0.043243</td>\n",
       "    </tr>\n",
       "    <tr>\n",
       "      <th>std</th>\n",
       "      <td>3.437454</td>\n",
       "      <td>NaN</td>\n",
       "      <td>2.132226e+06</td>\n",
       "      <td>3.413594</td>\n",
       "      <td>1121.203730</td>\n",
       "      <td>2.562547e+07</td>\n",
       "      <td>96.818627</td>\n",
       "      <td>82.707782</td>\n",
       "      <td>16.396366</td>\n",
       "      <td>11.249390</td>\n",
       "      <td>11.450796</td>\n",
       "      <td>7.526894</td>\n",
       "      <td>3.062761</td>\n",
       "      <td>2.100633</td>\n",
       "      <td>4.868504</td>\n",
       "      <td>3.385400</td>\n",
       "      <td>0.480115</td>\n",
       "      <td>0.337448</td>\n",
       "      <td>1.567275</td>\n",
       "      <td>0.665474</td>\n",
       "    </tr>\n",
       "    <tr>\n",
       "      <th>min</th>\n",
       "      <td>202001.000000</td>\n",
       "      <td>NaN</td>\n",
       "      <td>2.700000e+01</td>\n",
       "      <td>5.000000</td>\n",
       "      <td>1015.000000</td>\n",
       "      <td>1.150011e+06</td>\n",
       "      <td>1.000000</td>\n",
       "      <td>0.000000</td>\n",
       "      <td>0.000000</td>\n",
       "      <td>0.000000</td>\n",
       "      <td>0.000000</td>\n",
       "      <td>0.000000</td>\n",
       "      <td>0.000000</td>\n",
       "      <td>0.000000</td>\n",
       "      <td>0.000000</td>\n",
       "      <td>0.000000</td>\n",
       "      <td>0.000000</td>\n",
       "      <td>0.000000</td>\n",
       "      <td>0.000000</td>\n",
       "      <td>0.000000</td>\n",
       "    </tr>\n",
       "    <tr>\n",
       "      <th>25%</th>\n",
       "      <td>202004.000000</td>\n",
       "      <td>NaN</td>\n",
       "      <td>2.260050e+06</td>\n",
       "      <td>5.000000</td>\n",
       "      <td>1244.000000</td>\n",
       "      <td>3.554700e+07</td>\n",
       "      <td>20.000000</td>\n",
       "      <td>4.000000</td>\n",
       "      <td>0.000000</td>\n",
       "      <td>0.000000</td>\n",
       "      <td>0.000000</td>\n",
       "      <td>0.000000</td>\n",
       "      <td>0.000000</td>\n",
       "      <td>0.000000</td>\n",
       "      <td>0.000000</td>\n",
       "      <td>0.000000</td>\n",
       "      <td>0.000000</td>\n",
       "      <td>0.000000</td>\n",
       "      <td>0.000000</td>\n",
       "      <td>0.000000</td>\n",
       "    </tr>\n",
       "    <tr>\n",
       "      <th>50%</th>\n",
       "      <td>202007.000000</td>\n",
       "      <td>NaN</td>\n",
       "      <td>2.524848e+06</td>\n",
       "      <td>5.000000</td>\n",
       "      <td>2054.000000</td>\n",
       "      <td>5.870007e+07</td>\n",
       "      <td>41.000000</td>\n",
       "      <td>25.000000</td>\n",
       "      <td>0.000000</td>\n",
       "      <td>0.000000</td>\n",
       "      <td>0.000000</td>\n",
       "      <td>0.000000</td>\n",
       "      <td>0.000000</td>\n",
       "      <td>0.000000</td>\n",
       "      <td>0.000000</td>\n",
       "      <td>0.000000</td>\n",
       "      <td>0.000000</td>\n",
       "      <td>0.000000</td>\n",
       "      <td>0.000000</td>\n",
       "      <td>0.000000</td>\n",
       "    </tr>\n",
       "    <tr>\n",
       "      <th>75%</th>\n",
       "      <td>202010.000000</td>\n",
       "      <td>NaN</td>\n",
       "      <td>3.061388e+06</td>\n",
       "      <td>5.000000</td>\n",
       "      <td>3069.000000</td>\n",
       "      <td>7.502507e+07</td>\n",
       "      <td>88.000000</td>\n",
       "      <td>55.000000</td>\n",
       "      <td>8.000000</td>\n",
       "      <td>0.000000</td>\n",
       "      <td>5.000000</td>\n",
       "      <td>0.000000</td>\n",
       "      <td>0.000000</td>\n",
       "      <td>0.000000</td>\n",
       "      <td>0.000000</td>\n",
       "      <td>0.000000</td>\n",
       "      <td>0.000000</td>\n",
       "      <td>0.000000</td>\n",
       "      <td>0.000000</td>\n",
       "      <td>0.000000</td>\n",
       "    </tr>\n",
       "    <tr>\n",
       "      <th>max</th>\n",
       "      <td>202012.000000</td>\n",
       "      <td>NaN</td>\n",
       "      <td>9.997784e+06</td>\n",
       "      <td>21.000000</td>\n",
       "      <td>3999.000000</td>\n",
       "      <td>9.998000e+07</td>\n",
       "      <td>1843.000000</td>\n",
       "      <td>1730.000000</td>\n",
       "      <td>362.000000</td>\n",
       "      <td>325.000000</td>\n",
       "      <td>216.000000</td>\n",
       "      <td>186.000000</td>\n",
       "      <td>80.000000</td>\n",
       "      <td>51.000000</td>\n",
       "      <td>118.000000</td>\n",
       "      <td>104.000000</td>\n",
       "      <td>14.000000</td>\n",
       "      <td>7.000000</td>\n",
       "      <td>66.000000</td>\n",
       "      <td>20.000000</td>\n",
       "    </tr>\n",
       "  </tbody>\n",
       "</table>\n",
       "</div>"
      ],
      "text/plain": [
       "                COMP  MOTIVO DESABILITACAO          CNES  CO_TIPO_UNIDADE   \n",
       "count   83412.000000                   0.0  8.341200e+04     83412.000000  \\\n",
       "mean   202006.563001                   NaN  3.245406e+06         6.440021   \n",
       "std         3.437454                   NaN  2.132226e+06         3.413594   \n",
       "min    202001.000000                   NaN  2.700000e+01         5.000000   \n",
       "25%    202004.000000                   NaN  2.260050e+06         5.000000   \n",
       "50%    202007.000000                   NaN  2.524848e+06         5.000000   \n",
       "75%    202010.000000                   NaN  3.061388e+06         5.000000   \n",
       "max    202012.000000                   NaN  9.997784e+06        21.000000   \n",
       "\n",
       "       NATUREZA_JURIDICA        CO_CEP  LEITOS EXISTENTE    LEITOS SUS   \n",
       "count       83412.000000  8.341200e+04      83412.000000  83412.000000  \\\n",
       "mean         2137.678344  5.384539e+07         72.977473     49.520405   \n",
       "std          1121.203730  2.562547e+07         96.818627     82.707782   \n",
       "min          1015.000000  1.150011e+06          1.000000      0.000000   \n",
       "25%          1244.000000  3.554700e+07         20.000000      4.000000   \n",
       "50%          2054.000000  5.870007e+07         41.000000     25.000000   \n",
       "75%          3069.000000  7.502507e+07         88.000000     55.000000   \n",
       "max          3999.000000  9.998000e+07       1843.000000   1730.000000   \n",
       "\n",
       "       UTI TOTAL - EXIST  UTI TOTAL - SUS  UTI ADULTO - EXIST   \n",
       "count       83412.000000     83412.000000        83412.000000  \\\n",
       "mean            6.758116         3.333669            4.538040   \n",
       "std            16.396366        11.249390           11.450796   \n",
       "min             0.000000         0.000000            0.000000   \n",
       "25%             0.000000         0.000000            0.000000   \n",
       "50%             0.000000         0.000000            0.000000   \n",
       "75%             8.000000         0.000000            5.000000   \n",
       "max           362.000000       325.000000          216.000000   \n",
       "\n",
       "       UTI ADULTO - SUS  UTI PEDIATRICO - EXIST  UTI PEDIATRICO - SUS   \n",
       "count      83412.000000            83412.000000          83412.000000  \\\n",
       "mean           2.183271                0.708315              0.382139   \n",
       "std            7.526894                3.062761              2.100633   \n",
       "min            0.000000                0.000000              0.000000   \n",
       "25%            0.000000                0.000000              0.000000   \n",
       "50%            0.000000                0.000000              0.000000   \n",
       "75%            0.000000                0.000000              0.000000   \n",
       "max          186.000000               80.000000             51.000000   \n",
       "\n",
       "       UTI NEONATAL - EXIST  UTI NEONATAL - SUS  UTI QUEIMADO - EXIST   \n",
       "count          83412.000000        83412.000000          83412.000000  \\\n",
       "mean               1.323658            0.702345              0.033556   \n",
       "std                4.868504            3.385400              0.480115   \n",
       "min                0.000000            0.000000              0.000000   \n",
       "25%                0.000000            0.000000              0.000000   \n",
       "50%                0.000000            0.000000              0.000000   \n",
       "75%                0.000000            0.000000              0.000000   \n",
       "max              118.000000          104.000000             14.000000   \n",
       "\n",
       "       UTI QUEIMADO - SUS  UTI CORONARIANA - EXIST  UTI CORONARIANA - SUS  \n",
       "count        83412.000000             83412.000000           83412.000000  \n",
       "mean             0.022671                 0.154546               0.043243  \n",
       "std              0.337448                 1.567275               0.665474  \n",
       "min              0.000000                 0.000000               0.000000  \n",
       "25%              0.000000                 0.000000               0.000000  \n",
       "50%              0.000000                 0.000000               0.000000  \n",
       "75%              0.000000                 0.000000               0.000000  \n",
       "max              7.000000                66.000000              20.000000  "
      ]
     },
     "execution_count": 48,
     "metadata": {},
     "output_type": "execute_result"
    }
   ],
   "source": [
    "df_leitos.describe()"
   ]
  },
  {
   "cell_type": "code",
   "execution_count": 49,
   "metadata": {},
   "outputs": [
    {
     "data": {
      "text/html": [
       "<div>\n",
       "<style scoped>\n",
       "    .dataframe tbody tr th:only-of-type {\n",
       "        vertical-align: middle;\n",
       "    }\n",
       "\n",
       "    .dataframe tbody tr th {\n",
       "        vertical-align: top;\n",
       "    }\n",
       "\n",
       "    .dataframe thead th {\n",
       "        text-align: right;\n",
       "    }\n",
       "</style>\n",
       "<table border=\"1\" class=\"dataframe\">\n",
       "  <thead>\n",
       "    <tr style=\"text-align: right;\">\n",
       "      <th></th>\n",
       "      <th>LEITOS EXISTENTE</th>\n",
       "      <th>LEITOS SUS</th>\n",
       "      <th>UTI TOTAL - EXIST</th>\n",
       "      <th>UTI TOTAL - SUS</th>\n",
       "    </tr>\n",
       "  </thead>\n",
       "  <tbody>\n",
       "    <tr>\n",
       "      <th>0</th>\n",
       "      <td>64</td>\n",
       "      <td>0</td>\n",
       "      <td>0</td>\n",
       "      <td>0</td>\n",
       "    </tr>\n",
       "    <tr>\n",
       "      <th>1</th>\n",
       "      <td>64</td>\n",
       "      <td>0</td>\n",
       "      <td>0</td>\n",
       "      <td>0</td>\n",
       "    </tr>\n",
       "    <tr>\n",
       "      <th>2</th>\n",
       "      <td>64</td>\n",
       "      <td>0</td>\n",
       "      <td>0</td>\n",
       "      <td>0</td>\n",
       "    </tr>\n",
       "    <tr>\n",
       "      <th>3</th>\n",
       "      <td>64</td>\n",
       "      <td>0</td>\n",
       "      <td>0</td>\n",
       "      <td>0</td>\n",
       "    </tr>\n",
       "    <tr>\n",
       "      <th>4</th>\n",
       "      <td>64</td>\n",
       "      <td>0</td>\n",
       "      <td>0</td>\n",
       "      <td>0</td>\n",
       "    </tr>\n",
       "    <tr>\n",
       "      <th>...</th>\n",
       "      <td>...</td>\n",
       "      <td>...</td>\n",
       "      <td>...</td>\n",
       "      <td>...</td>\n",
       "    </tr>\n",
       "    <tr>\n",
       "      <th>83407</th>\n",
       "      <td>28</td>\n",
       "      <td>24</td>\n",
       "      <td>0</td>\n",
       "      <td>0</td>\n",
       "    </tr>\n",
       "    <tr>\n",
       "      <th>83408</th>\n",
       "      <td>28</td>\n",
       "      <td>24</td>\n",
       "      <td>0</td>\n",
       "      <td>0</td>\n",
       "    </tr>\n",
       "    <tr>\n",
       "      <th>83409</th>\n",
       "      <td>28</td>\n",
       "      <td>24</td>\n",
       "      <td>0</td>\n",
       "      <td>0</td>\n",
       "    </tr>\n",
       "    <tr>\n",
       "      <th>83410</th>\n",
       "      <td>28</td>\n",
       "      <td>24</td>\n",
       "      <td>0</td>\n",
       "      <td>0</td>\n",
       "    </tr>\n",
       "    <tr>\n",
       "      <th>83411</th>\n",
       "      <td>28</td>\n",
       "      <td>24</td>\n",
       "      <td>0</td>\n",
       "      <td>0</td>\n",
       "    </tr>\n",
       "  </tbody>\n",
       "</table>\n",
       "<p>83412 rows × 4 columns</p>\n",
       "</div>"
      ],
      "text/plain": [
       "       LEITOS EXISTENTE  LEITOS SUS  UTI TOTAL - EXIST  UTI TOTAL - SUS\n",
       "0                    64           0                  0                0\n",
       "1                    64           0                  0                0\n",
       "2                    64           0                  0                0\n",
       "3                    64           0                  0                0\n",
       "4                    64           0                  0                0\n",
       "...                 ...         ...                ...              ...\n",
       "83407                28          24                  0                0\n",
       "83408                28          24                  0                0\n",
       "83409                28          24                  0                0\n",
       "83410                28          24                  0                0\n",
       "83411                28          24                  0                0\n",
       "\n",
       "[83412 rows x 4 columns]"
      ]
     },
     "execution_count": 49,
     "metadata": {},
     "output_type": "execute_result"
    }
   ],
   "source": [
    "df_leitos[['LEITOS EXISTENTE', 'LEITOS SUS', 'UTI TOTAL - EXIST', 'UTI TOTAL - SUS']]"
   ]
  },
  {
   "attachments": {},
   "cell_type": "markdown",
   "metadata": {},
   "source": [
    "Aparentemente não há uma distorção comprometedora no conjunto de dados sobre `leitos`. Também segundo o que pode ser observado *'EXIST'* **inclui** leitos listados em *'SUS'*, então não precisamos calcular a ocupação máxima. `LEITOS EXISTENTE` e `UTI TOTAL - EXIST` possuem o que queremos."
   ]
  },
  {
   "cell_type": "code",
   "execution_count": 50,
   "metadata": {},
   "outputs": [
    {
     "name": "stdout",
     "output_type": "stream",
     "text": [
      "Máximo leitos: 1843\n",
      "Máximo leitos UTI: 362\n"
     ]
    }
   ],
   "source": [
    "print(f\"Máximo leitos: {df_leitos['LEITOS EXISTENTE'].max()}\\nMáximo leitos UTI: {df_leitos['UTI TOTAL - EXIST'].max()}\")"
   ]
  },
  {
   "attachments": {},
   "cell_type": "markdown",
   "metadata": {},
   "source": [
    "Como **não estamos mapeando cada hospital com sua respectiva capacidade**, nosso limite para consideração de outliers será a capacidade máxima do estabelecimento com mais leitos. Assim, uma eventual operação acima da capacidade em hospitais menores deverá ser contabilizada. \n",
    "\n",
    "Segundo os dados de `leitos`, temos as seguintes *capacidades máximas*:\n",
    "* Clínicos: 1843 leitos\n",
    "* UTI: 362 leitos\n",
    "\n",
    "Outro ponto para considerarmos este limite para outliers é o contexto. Por exemplo, diferente do *volume de vendas* em um e-commerce, a *ocupação de um hospital* apresenta valores **pouco flexíveis**, impedindo que picos muito acentuados sejam considerados aceitaveis."
   ]
  },
  {
   "cell_type": "code",
   "execution_count": 51,
   "metadata": {},
   "outputs": [
    {
     "data": {
      "text/plain": [
       "Index([    1094.0,     1095.0,     1096.0,     1100.0,     1102.0,     1110.0,\n",
       "           1117.0,     1212.0,     1278.0,     1506.0,     1629.0,     2324.0,\n",
       "           2953.0,    22224.0,    30894.0,   130147.0, 20062021.0, 21072020.0,\n",
       "       21082021.0, 29082020.0],\n",
       "      dtype='float64')"
      ]
     },
     "execution_count": 51,
     "metadata": {},
     "output_type": "execute_result"
    }
   ],
   "source": [
    "# 20 valores máximos encontrados para 'ocupacaoConfirmadoCli' + 'ocupacaoSuspeitoCli'\n",
    "temp = (df['ocupacaoConfirmadoCli'] + df['ocupacaoSuspeitoCli']).value_counts()\n",
    "temp.sort_index().index[-20:]"
   ]
  },
  {
   "cell_type": "code",
   "execution_count": 52,
   "metadata": {},
   "outputs": [
    {
     "data": {
      "text/plain": [
       "Index([418.0, 419.0, 420.0, 421.0, 424.0, 425.0, 426.0, 429.0, 432.0, 433.0,\n",
       "       434.0, 435.0, 437.0, 439.0, 440.0, 442.0, 452.0, 464.0, 685.0, 933.0],\n",
       "      dtype='float64')"
      ]
     },
     "execution_count": 52,
     "metadata": {},
     "output_type": "execute_result"
    }
   ],
   "source": [
    "# 20 valores máximos encontrados para 'ocupacaoConfirmadoUti' + 'ocupacaoSuspeitoUti'\n",
    "temp = (df['ocupacaoConfirmadoUti'] + df['ocupacaoSuspeitoUti']).value_counts()\n",
    "temp.sort_index().index[-20:]"
   ]
  },
  {
   "attachments": {},
   "cell_type": "markdown",
   "metadata": {},
   "source": [
    "Mais um detalhe. Nas listas acima temos os resultados da soma de casos suspeitos e confirmados em registros individuais. Se descontarmos os outliers, temos resultados que podem ser entendidos como as lotações máximas para leitos. \n",
    "\n",
    "A julgar pelos resultados anteriores, o **total de leitos ocupados** em determinada `cnes` se dá pela **soma** `ocupacaoSuspeitoCli` + `ocupacaoConfirmadoCli`. *E o mesmo para leitos de UTI*.\n",
    "\n",
    "Podemos também selecionar apenas as colunas que nos interessam no momento."
   ]
  },
  {
   "cell_type": "code",
   "execution_count": 53,
   "metadata": {},
   "outputs": [],
   "source": [
    "cols = ['cnes', 'ocupacaoSuspeitoCli', 'ocupacaoSuspeitoUti', 'ocupacaoConfirmadoCli', 'ocupacaoConfirmadoUti', \\\n",
    "        'saidaSuspeitaObitos', 'saidaSuspeitaAltas', 'saidaConfirmadaObitos', 'saidaConfirmadaAltas']"
   ]
  },
  {
   "attachments": {},
   "cell_type": "markdown",
   "metadata": {},
   "source": [
    "Primeiro os registros com outliers em *leitos clínicos*: "
   ]
  },
  {
   "cell_type": "code",
   "execution_count": 54,
   "metadata": {},
   "outputs": [
    {
     "data": {
      "text/html": [
       "<div>\n",
       "<style scoped>\n",
       "    .dataframe tbody tr th:only-of-type {\n",
       "        vertical-align: middle;\n",
       "    }\n",
       "\n",
       "    .dataframe tbody tr th {\n",
       "        vertical-align: top;\n",
       "    }\n",
       "\n",
       "    .dataframe thead th {\n",
       "        text-align: right;\n",
       "    }\n",
       "</style>\n",
       "<table border=\"1\" class=\"dataframe\">\n",
       "  <thead>\n",
       "    <tr style=\"text-align: right;\">\n",
       "      <th></th>\n",
       "      <th>cnes</th>\n",
       "      <th>ocupacaoSuspeitoCli</th>\n",
       "      <th>ocupacaoSuspeitoUti</th>\n",
       "      <th>ocupacaoConfirmadoCli</th>\n",
       "      <th>ocupacaoConfirmadoUti</th>\n",
       "      <th>saidaSuspeitaObitos</th>\n",
       "      <th>saidaSuspeitaAltas</th>\n",
       "      <th>saidaConfirmadaObitos</th>\n",
       "      <th>saidaConfirmadaAltas</th>\n",
       "    </tr>\n",
       "  </thead>\n",
       "  <tbody>\n",
       "    <tr>\n",
       "      <th>78255</th>\n",
       "      <td>13846.0</td>\n",
       "      <td>2240.0</td>\n",
       "      <td>157.0</td>\n",
       "      <td>84.0</td>\n",
       "      <td>52.0</td>\n",
       "      <td>1.0</td>\n",
       "      <td>1.0</td>\n",
       "      <td>2.0</td>\n",
       "      <td>9.0</td>\n",
       "    </tr>\n",
       "    <tr>\n",
       "      <th>81706</th>\n",
       "      <td>2168200.0</td>\n",
       "      <td>20062020.0</td>\n",
       "      <td>0.0</td>\n",
       "      <td>1.0</td>\n",
       "      <td>0.0</td>\n",
       "      <td>0.0</td>\n",
       "      <td>0.0</td>\n",
       "      <td>0.0</td>\n",
       "      <td>0.0</td>\n",
       "    </tr>\n",
       "    <tr>\n",
       "      <th>133204</th>\n",
       "      <td>2570300</td>\n",
       "      <td>2.0</td>\n",
       "      <td>0.0</td>\n",
       "      <td>22222.0</td>\n",
       "      <td>0.0</td>\n",
       "      <td>0.0</td>\n",
       "      <td>0.0</td>\n",
       "      <td>0.0</td>\n",
       "      <td>0.0</td>\n",
       "    </tr>\n",
       "    <tr>\n",
       "      <th>164127</th>\n",
       "      <td>2139030</td>\n",
       "      <td>21072020.0</td>\n",
       "      <td>0.0</td>\n",
       "      <td>0.0</td>\n",
       "      <td>0.0</td>\n",
       "      <td>0.0</td>\n",
       "      <td>0.0</td>\n",
       "      <td>0.0</td>\n",
       "      <td>0.0</td>\n",
       "    </tr>\n",
       "    <tr>\n",
       "      <th>215744</th>\n",
       "      <td>434</td>\n",
       "      <td>2944.0</td>\n",
       "      <td>3.0</td>\n",
       "      <td>9.0</td>\n",
       "      <td>1.0</td>\n",
       "      <td>1.0</td>\n",
       "      <td>5.0</td>\n",
       "      <td>0.0</td>\n",
       "      <td>1.0</td>\n",
       "    </tr>\n",
       "    <tr>\n",
       "      <th>227161</th>\n",
       "      <td>2587734</td>\n",
       "      <td>21082020.0</td>\n",
       "      <td>0.0</td>\n",
       "      <td>1.0</td>\n",
       "      <td>0.0</td>\n",
       "      <td>0.0</td>\n",
       "      <td>0.0</td>\n",
       "      <td>0.0</td>\n",
       "      <td>0.0</td>\n",
       "    </tr>\n",
       "    <tr>\n",
       "      <th>254558</th>\n",
       "      <td>2686945</td>\n",
       "      <td>29082020.0</td>\n",
       "      <td>41.0</td>\n",
       "      <td>0.0</td>\n",
       "      <td>0.0</td>\n",
       "      <td>0.0</td>\n",
       "      <td>0.0</td>\n",
       "      <td>0.0</td>\n",
       "      <td>0.0</td>\n",
       "    </tr>\n",
       "    <tr>\n",
       "      <th>548467</th>\n",
       "      <td>2576341</td>\n",
       "      <td>130144.0</td>\n",
       "      <td>52.0</td>\n",
       "      <td>3.0</td>\n",
       "      <td>8.0</td>\n",
       "      <td>0.0</td>\n",
       "      <td>0.0</td>\n",
       "      <td>0.0</td>\n",
       "      <td>0.0</td>\n",
       "    </tr>\n",
       "    <tr>\n",
       "      <th>550698</th>\n",
       "      <td>2006510</td>\n",
       "      <td>30864.0</td>\n",
       "      <td>64.0</td>\n",
       "      <td>30.0</td>\n",
       "      <td>21.0</td>\n",
       "      <td>2.0</td>\n",
       "      <td>2.0</td>\n",
       "      <td>0.0</td>\n",
       "      <td>6.0</td>\n",
       "    </tr>\n",
       "  </tbody>\n",
       "</table>\n",
       "</div>"
      ],
      "text/plain": [
       "             cnes  ocupacaoSuspeitoCli  ocupacaoSuspeitoUti   \n",
       "78255     13846.0               2240.0                157.0  \\\n",
       "81706   2168200.0           20062020.0                  0.0   \n",
       "133204    2570300                  2.0                  0.0   \n",
       "164127    2139030           21072020.0                  0.0   \n",
       "215744        434               2944.0                  3.0   \n",
       "227161    2587734           21082020.0                  0.0   \n",
       "254558    2686945           29082020.0                 41.0   \n",
       "548467    2576341             130144.0                 52.0   \n",
       "550698    2006510              30864.0                 64.0   \n",
       "\n",
       "        ocupacaoConfirmadoCli  ocupacaoConfirmadoUti  saidaSuspeitaObitos   \n",
       "78255                    84.0                   52.0                  1.0  \\\n",
       "81706                     1.0                    0.0                  0.0   \n",
       "133204                22222.0                    0.0                  0.0   \n",
       "164127                    0.0                    0.0                  0.0   \n",
       "215744                    9.0                    1.0                  1.0   \n",
       "227161                    1.0                    0.0                  0.0   \n",
       "254558                    0.0                    0.0                  0.0   \n",
       "548467                    3.0                    8.0                  0.0   \n",
       "550698                   30.0                   21.0                  2.0   \n",
       "\n",
       "        saidaSuspeitaAltas  saidaConfirmadaObitos  saidaConfirmadaAltas  \n",
       "78255                  1.0                    2.0                   9.0  \n",
       "81706                  0.0                    0.0                   0.0  \n",
       "133204                 0.0                    0.0                   0.0  \n",
       "164127                 0.0                    0.0                   0.0  \n",
       "215744                 5.0                    0.0                   1.0  \n",
       "227161                 0.0                    0.0                   0.0  \n",
       "254558                 0.0                    0.0                   0.0  \n",
       "548467                 0.0                    0.0                   0.0  \n",
       "550698                 2.0                    0.0                   6.0  "
      ]
     },
     "execution_count": 54,
     "metadata": {},
     "output_type": "execute_result"
    }
   ],
   "source": [
    "df.loc[(df['ocupacaoSuspeitoCli'] + df['ocupacaoConfirmadoCli']) > 1843, cols]"
   ]
  },
  {
   "cell_type": "code",
   "execution_count": 55,
   "metadata": {},
   "outputs": [
    {
     "data": {
      "text/html": [
       "<div>\n",
       "<style scoped>\n",
       "    .dataframe tbody tr th:only-of-type {\n",
       "        vertical-align: middle;\n",
       "    }\n",
       "\n",
       "    .dataframe tbody tr th {\n",
       "        vertical-align: top;\n",
       "    }\n",
       "\n",
       "    .dataframe thead th {\n",
       "        text-align: right;\n",
       "    }\n",
       "</style>\n",
       "<table border=\"1\" class=\"dataframe\">\n",
       "  <thead>\n",
       "    <tr style=\"text-align: right;\">\n",
       "      <th></th>\n",
       "      <th>COMP</th>\n",
       "      <th>LEITOS EXISTENTE</th>\n",
       "      <th>UTI TOTAL - EXIST</th>\n",
       "      <th>UF</th>\n",
       "      <th>MUNICIPIO</th>\n",
       "    </tr>\n",
       "  </thead>\n",
       "  <tbody>\n",
       "    <tr>\n",
       "      <th>1390</th>\n",
       "      <td>202001</td>\n",
       "      <td>1032</td>\n",
       "      <td>362</td>\n",
       "      <td>PR</td>\n",
       "      <td>CAMPO LARGO</td>\n",
       "    </tr>\n",
       "    <tr>\n",
       "      <th>1391</th>\n",
       "      <td>202002</td>\n",
       "      <td>1032</td>\n",
       "      <td>362</td>\n",
       "      <td>PR</td>\n",
       "      <td>CAMPO LARGO</td>\n",
       "    </tr>\n",
       "    <tr>\n",
       "      <th>1392</th>\n",
       "      <td>202003</td>\n",
       "      <td>1070</td>\n",
       "      <td>362</td>\n",
       "      <td>PR</td>\n",
       "      <td>CAMPO LARGO</td>\n",
       "    </tr>\n",
       "    <tr>\n",
       "      <th>1393</th>\n",
       "      <td>202004</td>\n",
       "      <td>1070</td>\n",
       "      <td>362</td>\n",
       "      <td>PR</td>\n",
       "      <td>CAMPO LARGO</td>\n",
       "    </tr>\n",
       "    <tr>\n",
       "      <th>1394</th>\n",
       "      <td>202005</td>\n",
       "      <td>1070</td>\n",
       "      <td>362</td>\n",
       "      <td>PR</td>\n",
       "      <td>CAMPO LARGO</td>\n",
       "    </tr>\n",
       "    <tr>\n",
       "      <th>1395</th>\n",
       "      <td>202006</td>\n",
       "      <td>1070</td>\n",
       "      <td>362</td>\n",
       "      <td>PR</td>\n",
       "      <td>CAMPO LARGO</td>\n",
       "    </tr>\n",
       "    <tr>\n",
       "      <th>1396</th>\n",
       "      <td>202007</td>\n",
       "      <td>1070</td>\n",
       "      <td>362</td>\n",
       "      <td>PR</td>\n",
       "      <td>CAMPO LARGO</td>\n",
       "    </tr>\n",
       "    <tr>\n",
       "      <th>1397</th>\n",
       "      <td>202008</td>\n",
       "      <td>1070</td>\n",
       "      <td>362</td>\n",
       "      <td>PR</td>\n",
       "      <td>CAMPO LARGO</td>\n",
       "    </tr>\n",
       "    <tr>\n",
       "      <th>1398</th>\n",
       "      <td>202009</td>\n",
       "      <td>1070</td>\n",
       "      <td>362</td>\n",
       "      <td>PR</td>\n",
       "      <td>CAMPO LARGO</td>\n",
       "    </tr>\n",
       "    <tr>\n",
       "      <th>1399</th>\n",
       "      <td>202010</td>\n",
       "      <td>1070</td>\n",
       "      <td>362</td>\n",
       "      <td>PR</td>\n",
       "      <td>CAMPO LARGO</td>\n",
       "    </tr>\n",
       "    <tr>\n",
       "      <th>1400</th>\n",
       "      <td>202011</td>\n",
       "      <td>1010</td>\n",
       "      <td>362</td>\n",
       "      <td>PR</td>\n",
       "      <td>CAMPO LARGO</td>\n",
       "    </tr>\n",
       "    <tr>\n",
       "      <th>1401</th>\n",
       "      <td>202012</td>\n",
       "      <td>1010</td>\n",
       "      <td>362</td>\n",
       "      <td>PR</td>\n",
       "      <td>CAMPO LARGO</td>\n",
       "    </tr>\n",
       "  </tbody>\n",
       "</table>\n",
       "</div>"
      ],
      "text/plain": [
       "        COMP  LEITOS EXISTENTE  UTI TOTAL - EXIST  UF    MUNICIPIO\n",
       "1390  202001              1032                362  PR  CAMPO LARGO\n",
       "1391  202002              1032                362  PR  CAMPO LARGO\n",
       "1392  202003              1070                362  PR  CAMPO LARGO\n",
       "1393  202004              1070                362  PR  CAMPO LARGO\n",
       "1394  202005              1070                362  PR  CAMPO LARGO\n",
       "1395  202006              1070                362  PR  CAMPO LARGO\n",
       "1396  202007              1070                362  PR  CAMPO LARGO\n",
       "1397  202008              1070                362  PR  CAMPO LARGO\n",
       "1398  202009              1070                362  PR  CAMPO LARGO\n",
       "1399  202010              1070                362  PR  CAMPO LARGO\n",
       "1400  202011              1010                362  PR  CAMPO LARGO\n",
       "1401  202012              1010                362  PR  CAMPO LARGO"
      ]
     },
     "execution_count": 55,
     "metadata": {},
     "output_type": "execute_result"
    }
   ],
   "source": [
    "# Verificando a capacidade e localização de um dos registros retornados\n",
    "df_leitos.loc[df_leitos['CNES'] == 13846, ['COMP', 'LEITOS EXISTENTE', 'UTI TOTAL - EXIST', 'UF', 'MUNICIPIO']]\n"
   ]
  },
  {
   "attachments": {},
   "cell_type": "markdown",
   "metadata": {},
   "source": [
    "Para leitos clínicos encontramos apenas 9 registros.\n",
    "\n",
    "Agora para UTIs:"
   ]
  },
  {
   "cell_type": "code",
   "execution_count": 56,
   "metadata": {},
   "outputs": [
    {
     "data": {
      "text/html": [
       "<div>\n",
       "<style scoped>\n",
       "    .dataframe tbody tr th:only-of-type {\n",
       "        vertical-align: middle;\n",
       "    }\n",
       "\n",
       "    .dataframe tbody tr th {\n",
       "        vertical-align: top;\n",
       "    }\n",
       "\n",
       "    .dataframe thead th {\n",
       "        text-align: right;\n",
       "    }\n",
       "</style>\n",
       "<table border=\"1\" class=\"dataframe\">\n",
       "  <thead>\n",
       "    <tr style=\"text-align: right;\">\n",
       "      <th></th>\n",
       "      <th>cnes</th>\n",
       "      <th>ocupacaoSuspeitoCli</th>\n",
       "      <th>ocupacaoSuspeitoUti</th>\n",
       "      <th>ocupacaoConfirmadoCli</th>\n",
       "      <th>ocupacaoConfirmadoUti</th>\n",
       "      <th>saidaSuspeitaObitos</th>\n",
       "      <th>saidaSuspeitaAltas</th>\n",
       "      <th>saidaConfirmadaObitos</th>\n",
       "      <th>saidaConfirmadaAltas</th>\n",
       "    </tr>\n",
       "  </thead>\n",
       "  <tbody>\n",
       "    <tr>\n",
       "      <th>44105</th>\n",
       "      <td>5718368</td>\n",
       "      <td>175.0</td>\n",
       "      <td>234.0</td>\n",
       "      <td>105.0</td>\n",
       "      <td>176.0</td>\n",
       "      <td>2.0</td>\n",
       "      <td>15.0</td>\n",
       "      <td>3.0</td>\n",
       "      <td>9.0</td>\n",
       "    </tr>\n",
       "    <tr>\n",
       "      <th>44107</th>\n",
       "      <td>5718368</td>\n",
       "      <td>175.0</td>\n",
       "      <td>234.0</td>\n",
       "      <td>105.0</td>\n",
       "      <td>176.0</td>\n",
       "      <td>5.0</td>\n",
       "      <td>24.0</td>\n",
       "      <td>0.0</td>\n",
       "      <td>0.0</td>\n",
       "    </tr>\n",
       "    <tr>\n",
       "      <th>47910</th>\n",
       "      <td>5718368</td>\n",
       "      <td>109.0</td>\n",
       "      <td>192.0</td>\n",
       "      <td>109.0</td>\n",
       "      <td>192.0</td>\n",
       "      <td>2.0</td>\n",
       "      <td>8.0</td>\n",
       "      <td>1.0</td>\n",
       "      <td>2.0</td>\n",
       "    </tr>\n",
       "    <tr>\n",
       "      <th>49023</th>\n",
       "      <td>5718368</td>\n",
       "      <td>102.0</td>\n",
       "      <td>192.0</td>\n",
       "      <td>102.0</td>\n",
       "      <td>192.0</td>\n",
       "      <td>2.0</td>\n",
       "      <td>7.0</td>\n",
       "      <td>2.0</td>\n",
       "      <td>10.0</td>\n",
       "    </tr>\n",
       "    <tr>\n",
       "      <th>57500</th>\n",
       "      <td>5718368</td>\n",
       "      <td>175.0</td>\n",
       "      <td>234.0</td>\n",
       "      <td>123.0</td>\n",
       "      <td>177.0</td>\n",
       "      <td>4.0</td>\n",
       "      <td>9.0</td>\n",
       "      <td>3.0</td>\n",
       "      <td>10.0</td>\n",
       "    </tr>\n",
       "    <tr>\n",
       "      <th>...</th>\n",
       "      <td>...</td>\n",
       "      <td>...</td>\n",
       "      <td>...</td>\n",
       "      <td>...</td>\n",
       "      <td>...</td>\n",
       "      <td>...</td>\n",
       "      <td>...</td>\n",
       "      <td>...</td>\n",
       "      <td>...</td>\n",
       "    </tr>\n",
       "    <tr>\n",
       "      <th>517022</th>\n",
       "      <td>2337800</td>\n",
       "      <td>21.0</td>\n",
       "      <td>666.0</td>\n",
       "      <td>4.0</td>\n",
       "      <td>19.0</td>\n",
       "      <td>0.0</td>\n",
       "      <td>0.0</td>\n",
       "      <td>0.0</td>\n",
       "      <td>1.0</td>\n",
       "    </tr>\n",
       "    <tr>\n",
       "      <th>521438</th>\n",
       "      <td>7257406</td>\n",
       "      <td>77.0</td>\n",
       "      <td>193.0</td>\n",
       "      <td>27.0</td>\n",
       "      <td>189.0</td>\n",
       "      <td>1.0</td>\n",
       "      <td>4.0</td>\n",
       "      <td>3.0</td>\n",
       "      <td>8.0</td>\n",
       "    </tr>\n",
       "    <tr>\n",
       "      <th>521472</th>\n",
       "      <td>7257406</td>\n",
       "      <td>73.0</td>\n",
       "      <td>196.0</td>\n",
       "      <td>24.0</td>\n",
       "      <td>191.0</td>\n",
       "      <td>1.0</td>\n",
       "      <td>3.0</td>\n",
       "      <td>7.0</td>\n",
       "      <td>3.0</td>\n",
       "    </tr>\n",
       "    <tr>\n",
       "      <th>524296</th>\n",
       "      <td>7257406</td>\n",
       "      <td>72.0</td>\n",
       "      <td>202.0</td>\n",
       "      <td>22.0</td>\n",
       "      <td>198.0</td>\n",
       "      <td>0.0</td>\n",
       "      <td>1.0</td>\n",
       "      <td>5.0</td>\n",
       "      <td>4.0</td>\n",
       "    </tr>\n",
       "    <tr>\n",
       "      <th>535855</th>\n",
       "      <td>7257406</td>\n",
       "      <td>64.0</td>\n",
       "      <td>191.0</td>\n",
       "      <td>26.0</td>\n",
       "      <td>190.0</td>\n",
       "      <td>2.0</td>\n",
       "      <td>1.0</td>\n",
       "      <td>0.0</td>\n",
       "      <td>2.0</td>\n",
       "    </tr>\n",
       "  </tbody>\n",
       "</table>\n",
       "<p>90 rows × 9 columns</p>\n",
       "</div>"
      ],
      "text/plain": [
       "           cnes  ocupacaoSuspeitoCli  ocupacaoSuspeitoUti   \n",
       "44105   5718368                175.0                234.0  \\\n",
       "44107   5718368                175.0                234.0   \n",
       "47910   5718368                109.0                192.0   \n",
       "49023   5718368                102.0                192.0   \n",
       "57500   5718368                175.0                234.0   \n",
       "...         ...                  ...                  ...   \n",
       "517022  2337800                 21.0                666.0   \n",
       "521438  7257406                 77.0                193.0   \n",
       "521472  7257406                 73.0                196.0   \n",
       "524296  7257406                 72.0                202.0   \n",
       "535855  7257406                 64.0                191.0   \n",
       "\n",
       "        ocupacaoConfirmadoCli  ocupacaoConfirmadoUti  saidaSuspeitaObitos   \n",
       "44105                   105.0                  176.0                  2.0  \\\n",
       "44107                   105.0                  176.0                  5.0   \n",
       "47910                   109.0                  192.0                  2.0   \n",
       "49023                   102.0                  192.0                  2.0   \n",
       "57500                   123.0                  177.0                  4.0   \n",
       "...                       ...                    ...                  ...   \n",
       "517022                    4.0                   19.0                  0.0   \n",
       "521438                   27.0                  189.0                  1.0   \n",
       "521472                   24.0                  191.0                  1.0   \n",
       "524296                   22.0                  198.0                  0.0   \n",
       "535855                   26.0                  190.0                  2.0   \n",
       "\n",
       "        saidaSuspeitaAltas  saidaConfirmadaObitos  saidaConfirmadaAltas  \n",
       "44105                 15.0                    3.0                   9.0  \n",
       "44107                 24.0                    0.0                   0.0  \n",
       "47910                  8.0                    1.0                   2.0  \n",
       "49023                  7.0                    2.0                  10.0  \n",
       "57500                  9.0                    3.0                  10.0  \n",
       "...                    ...                    ...                   ...  \n",
       "517022                 0.0                    0.0                   1.0  \n",
       "521438                 4.0                    3.0                   8.0  \n",
       "521472                 3.0                    7.0                   3.0  \n",
       "524296                 1.0                    5.0                   4.0  \n",
       "535855                 1.0                    0.0                   2.0  \n",
       "\n",
       "[90 rows x 9 columns]"
      ]
     },
     "execution_count": 56,
     "metadata": {},
     "output_type": "execute_result"
    }
   ],
   "source": [
    "df.loc[(df['ocupacaoSuspeitoUti'] + df['ocupacaoConfirmadoUti']) > 380, cols]"
   ]
  },
  {
   "attachments": {},
   "cell_type": "markdown",
   "metadata": {},
   "source": [
    "Para UTIs encontramos 90 registros.\n",
    "\n",
    "Da mesma maneira, podemos considerar valores incorretos os que somam mais **altas** ou **obitos** do que a capacidade total."
   ]
  },
  {
   "cell_type": "code",
   "execution_count": 57,
   "metadata": {},
   "outputs": [
    {
     "data": {
      "text/html": [
       "<div>\n",
       "<style scoped>\n",
       "    .dataframe tbody tr th:only-of-type {\n",
       "        vertical-align: middle;\n",
       "    }\n",
       "\n",
       "    .dataframe tbody tr th {\n",
       "        vertical-align: top;\n",
       "    }\n",
       "\n",
       "    .dataframe thead th {\n",
       "        text-align: right;\n",
       "    }\n",
       "</style>\n",
       "<table border=\"1\" class=\"dataframe\">\n",
       "  <thead>\n",
       "    <tr style=\"text-align: right;\">\n",
       "      <th></th>\n",
       "      <th>cnes</th>\n",
       "      <th>ocupacaoSuspeitoCli</th>\n",
       "      <th>ocupacaoSuspeitoUti</th>\n",
       "      <th>ocupacaoConfirmadoCli</th>\n",
       "      <th>ocupacaoConfirmadoUti</th>\n",
       "      <th>saidaSuspeitaObitos</th>\n",
       "      <th>saidaSuspeitaAltas</th>\n",
       "      <th>saidaConfirmadaObitos</th>\n",
       "      <th>saidaConfirmadaAltas</th>\n",
       "    </tr>\n",
       "  </thead>\n",
       "  <tbody>\n",
       "    <tr>\n",
       "      <th>44202</th>\n",
       "      <td>706500323934799</td>\n",
       "      <td>0.0</td>\n",
       "      <td>0.0</td>\n",
       "      <td>1.0</td>\n",
       "      <td>0.0</td>\n",
       "      <td>0.0</td>\n",
       "      <td>28052020.0</td>\n",
       "      <td>0.0</td>\n",
       "      <td>1.0</td>\n",
       "    </tr>\n",
       "    <tr>\n",
       "      <th>190603</th>\n",
       "      <td>2534789</td>\n",
       "      <td>9.0</td>\n",
       "      <td>0.0</td>\n",
       "      <td>9.0</td>\n",
       "      <td>0.0</td>\n",
       "      <td>0.0</td>\n",
       "      <td>0.0</td>\n",
       "      <td>12.0</td>\n",
       "      <td>17800.0</td>\n",
       "    </tr>\n",
       "    <tr>\n",
       "      <th>277740</th>\n",
       "      <td>2442728</td>\n",
       "      <td>12.0</td>\n",
       "      <td>0.0</td>\n",
       "      <td>3.0</td>\n",
       "      <td>0.0</td>\n",
       "      <td>3.0</td>\n",
       "      <td>3020.0</td>\n",
       "      <td>1.0</td>\n",
       "      <td>3.0</td>\n",
       "    </tr>\n",
       "    <tr>\n",
       "      <th>554213</th>\n",
       "      <td>2401665</td>\n",
       "      <td>30.0</td>\n",
       "      <td>0.0</td>\n",
       "      <td>8.0</td>\n",
       "      <td>0.0</td>\n",
       "      <td>0.0</td>\n",
       "      <td>0.0</td>\n",
       "      <td>0.0</td>\n",
       "      <td>9112020.0</td>\n",
       "    </tr>\n",
       "    <tr>\n",
       "      <th>554214</th>\n",
       "      <td>2401665</td>\n",
       "      <td>30.0</td>\n",
       "      <td>0.0</td>\n",
       "      <td>8.0</td>\n",
       "      <td>0.0</td>\n",
       "      <td>0.0</td>\n",
       "      <td>0.0</td>\n",
       "      <td>0.0</td>\n",
       "      <td>9102020.0</td>\n",
       "    </tr>\n",
       "  </tbody>\n",
       "</table>\n",
       "</div>"
      ],
      "text/plain": [
       "                   cnes  ocupacaoSuspeitoCli  ocupacaoSuspeitoUti   \n",
       "44202   706500323934799                  0.0                  0.0  \\\n",
       "190603          2534789                  9.0                  0.0   \n",
       "277740          2442728                 12.0                  0.0   \n",
       "554213          2401665                 30.0                  0.0   \n",
       "554214          2401665                 30.0                  0.0   \n",
       "\n",
       "        ocupacaoConfirmadoCli  ocupacaoConfirmadoUti  saidaSuspeitaObitos   \n",
       "44202                     1.0                    0.0                  0.0  \\\n",
       "190603                    9.0                    0.0                  0.0   \n",
       "277740                    3.0                    0.0                  3.0   \n",
       "554213                    8.0                    0.0                  0.0   \n",
       "554214                    8.0                    0.0                  0.0   \n",
       "\n",
       "        saidaSuspeitaAltas  saidaConfirmadaObitos  saidaConfirmadaAltas  \n",
       "44202           28052020.0                    0.0                   1.0  \n",
       "190603                 0.0                   12.0               17800.0  \n",
       "277740              3020.0                    1.0                   3.0  \n",
       "554213                 0.0                    0.0             9112020.0  \n",
       "554214                 0.0                    0.0             9102020.0  "
      ]
     },
     "execution_count": 57,
     "metadata": {},
     "output_type": "execute_result"
    }
   ],
   "source": [
    "df.loc[(df['saidaSuspeitaObitos'] + df['saidaSuspeitaAltas']\\\n",
    "        + df['saidaConfirmadaObitos'] + df['saidaConfirmadaAltas']) > 1843 + 380, cols]"
   ]
  },
  {
   "attachments": {},
   "cell_type": "markdown",
   "metadata": {},
   "source": [
    "Apenas 5 nesta pesquisa. \n",
    "\n",
    "Estes são todos os registros que possuem pelo menos um campo contendo outliers. Porém, como resolver a situação?\n",
    "Basicamente Podemos:\n",
    "\n",
    "* **Remover** os registros\n",
    "* **Imputar** *(substituir)* outliers para preservar o restante do registro\n",
    "\n",
    "Seja qual for a maneira com que vamos lidar com isso, devemos utilizar o **mesmo método** para **todos os registros** corrompidos que encontramos. \n",
    "\n",
    "> *Apenas reiterando: até segunda ordem, todas as modificações serão feitas apenas no DataFrame `ocupação`.*\n",
    "\n",
    "\n",
    "Vimos que em relação à *saídas* e *leitos clínicos* temos poucos registros. Porém, temos mais presença de outliers associados à ocupação de *UTI*s.\n",
    "\n",
    "Uma vez que devemos lidar com todos os casos da mesma maneira para evitar viés na análise, *imputar* os dados pode ser uma opção melhor para o caso. O motivo principal não seria simplesmente a quantidade de registros, mas também evitar a perda de outras informações que eles carregam.\n",
    "\n",
    "Quando calculamos as estatísticas descritivas de `ocupação`, mesmo com os outliers às alterando um pouco, podemos notar que em todos os campos os valores dentro do **IQR** *(Inter Quartile Range)* são bem baixos. Mas focando em ocupação de leitos clínicos, notamos que limiares superiores mais \"volumosos\" giram em torno de **15** e **20**. *`ocupacaoConfirmadoCli` e `ocupacaoSuspeitoCli` respectivamente.*"
   ]
  },
  {
   "cell_type": "code",
   "execution_count": 58,
   "metadata": {},
   "outputs": [
    {
     "data": {
      "text/plain": [
       "ocupacaoConfirmadoCli    169.0\n",
       "ocupacaoSuspeitoCli      175.0\n",
       "dtype: float64"
      ]
     },
     "execution_count": 58,
     "metadata": {},
     "output_type": "execute_result"
    }
   ],
   "source": [
    "# valores máximos sobre leitos clínicos atrelados aos outliers de UTI\n",
    "df.loc[(df['ocupacaoSuspeitoUti'] + df['ocupacaoConfirmadoUti']) > 380, ['ocupacaoConfirmadoCli', 'ocupacaoSuspeitoCli']].max()"
   ]
  },
  {
   "attachments": {},
   "cell_type": "markdown",
   "metadata": {},
   "source": [
    "Sabemos que não estamos lidando com uma distribuição normal, porém maiores valores encontrados juntos com outliers em ocupação de UTIs estão na ordem de **centenas**.\n",
    "\n",
    "Estão **dentro do limite** que estipulamos para ocupação de *leitos clínicos*, ao mesmo tempo que se mostram bastante superiores aos limites do IQR.\n",
    "\n",
    "Sendo assim, **iremos imputar os outliers** para **preservar a informação que os acompanha**."
   ]
  },
  {
   "attachments": {},
   "cell_type": "markdown",
   "metadata": {},
   "source": [
    "Para **preservar os dados em boas condições atrelados aos outliers**, podemos **substituir apenas os outliers por valores nulos**, e em seguida fazer a *imputação*. \n",
    "\n",
    "Faremos isso *após analisar outras anomalias*, como **valores negativos** e os que **originalmente são ausentes**.\n",
    "\n",
    "Aplicaremos este procedimento principalmente para *não misturarmos dados que de fato estão ausentes com os que adicionaremos* artificialmente. **Uma vez que esta etapa for cumprida aplicaremos a substituição de outliers por valores nulos**.  "
   ]
  },
  {
   "attachments": {},
   "cell_type": "markdown",
   "metadata": {},
   "source": [
    "#### Breve Retorno ao Problema `municipio`/`municipioNotificacao`"
   ]
  },
  {
   "attachments": {},
   "cell_type": "markdown",
   "metadata": {},
   "source": [
    "Esta etapa não tem relação com a seção **Outliers**. Mas como havíamos mencionado, os dados de `leito` podem nos ajudar a entender qual das duas colunas tem mais valor para nós. *Seremos breves aqui*.\n",
    "\n",
    "Um teste rápido seria, no subconjunto de `ocupação` onde os campos não coincidem, obter o número de alguma `cnes`, observar as localidades registradas em `municipio`/`municipioNotificacao`, e comparar com a localização fornecida para esta mesma `cnes` no conjunto `leito`. Com base nisso decidiremos qual é o campo de `ocupação` mais apropriado para utilização."
   ]
  },
  {
   "cell_type": "code",
   "execution_count": 59,
   "metadata": {},
   "outputs": [
    {
     "data": {
      "text/html": [
       "<div>\n",
       "<style scoped>\n",
       "    .dataframe tbody tr th:only-of-type {\n",
       "        vertical-align: middle;\n",
       "    }\n",
       "\n",
       "    .dataframe tbody tr th {\n",
       "        vertical-align: top;\n",
       "    }\n",
       "\n",
       "    .dataframe thead th {\n",
       "        text-align: right;\n",
       "    }\n",
       "</style>\n",
       "<table border=\"1\" class=\"dataframe\">\n",
       "  <thead>\n",
       "    <tr style=\"text-align: right;\">\n",
       "      <th></th>\n",
       "      <th>cnes</th>\n",
       "      <th>municipioNotificacao</th>\n",
       "      <th>municipio</th>\n",
       "    </tr>\n",
       "  </thead>\n",
       "  <tbody>\n",
       "    <tr>\n",
       "      <th>1623</th>\n",
       "      <td>6500552</td>\n",
       "      <td>Capanema</td>\n",
       "      <td>Belém</td>\n",
       "    </tr>\n",
       "    <tr>\n",
       "      <th>1892</th>\n",
       "      <td>2375850</td>\n",
       "      <td>Inocência</td>\n",
       "      <td>Paranaíba</td>\n",
       "    </tr>\n",
       "  </tbody>\n",
       "</table>\n",
       "</div>"
      ],
      "text/plain": [
       "         cnes municipioNotificacao  municipio\n",
       "1623  6500552             Capanema      Belém\n",
       "1892  2375850            Inocência  Paranaíba"
      ]
     },
     "execution_count": 59,
     "metadata": {},
     "output_type": "execute_result"
    }
   ],
   "source": [
    "# 2 primeiros registros onde 'municipio' é diferente de 'municipioNotificacao'\n",
    "df_notif_municipio.iloc[0:2, [3, 19, 21]]"
   ]
  },
  {
   "cell_type": "code",
   "execution_count": 60,
   "metadata": {},
   "outputs": [
    {
     "data": {
      "text/html": [
       "<div>\n",
       "<style scoped>\n",
       "    .dataframe tbody tr th:only-of-type {\n",
       "        vertical-align: middle;\n",
       "    }\n",
       "\n",
       "    .dataframe tbody tr th {\n",
       "        vertical-align: top;\n",
       "    }\n",
       "\n",
       "    .dataframe thead th {\n",
       "        text-align: right;\n",
       "    }\n",
       "</style>\n",
       "<table border=\"1\" class=\"dataframe\">\n",
       "  <thead>\n",
       "    <tr style=\"text-align: right;\">\n",
       "      <th></th>\n",
       "      <th>UF</th>\n",
       "      <th>MUNICIPIO</th>\n",
       "    </tr>\n",
       "  </thead>\n",
       "  <tbody>\n",
       "    <tr>\n",
       "      <th>73269</th>\n",
       "      <td>PA</td>\n",
       "      <td>CAPANEMA</td>\n",
       "    </tr>\n",
       "  </tbody>\n",
       "</table>\n",
       "</div>"
      ],
      "text/plain": [
       "       UF MUNICIPIO\n",
       "73269  PA  CAPANEMA"
      ]
     },
     "execution_count": 60,
     "metadata": {},
     "output_type": "execute_result"
    }
   ],
   "source": [
    "# veremos se retorna 'Capanema' ou 'Belém'\n",
    "df_leitos.loc[df_leitos['CNES'] == 6500552, ['UF', 'MUNICIPIO']].head(1)"
   ]
  },
  {
   "cell_type": "code",
   "execution_count": 61,
   "metadata": {},
   "outputs": [
    {
     "data": {
      "text/html": [
       "<div>\n",
       "<style scoped>\n",
       "    .dataframe tbody tr th:only-of-type {\n",
       "        vertical-align: middle;\n",
       "    }\n",
       "\n",
       "    .dataframe tbody tr th {\n",
       "        vertical-align: top;\n",
       "    }\n",
       "\n",
       "    .dataframe thead th {\n",
       "        text-align: right;\n",
       "    }\n",
       "</style>\n",
       "<table border=\"1\" class=\"dataframe\">\n",
       "  <thead>\n",
       "    <tr style=\"text-align: right;\">\n",
       "      <th></th>\n",
       "      <th>UF</th>\n",
       "      <th>MUNICIPIO</th>\n",
       "    </tr>\n",
       "  </thead>\n",
       "  <tbody>\n",
       "    <tr>\n",
       "      <th>30007</th>\n",
       "      <td>MS</td>\n",
       "      <td>PARANAIBA</td>\n",
       "    </tr>\n",
       "  </tbody>\n",
       "</table>\n",
       "</div>"
      ],
      "text/plain": [
       "       UF  MUNICIPIO\n",
       "30007  MS  PARANAIBA"
      ]
     },
     "execution_count": 61,
     "metadata": {},
     "output_type": "execute_result"
    }
   ],
   "source": [
    "# outro teste - deverá retornar 'Inocência' ou 'Paranaíba' --- pelo teste anterior, provavelmente 'Paranaíba'\n",
    "df_leitos.loc[df_leitos['CNES'] == 2375850, ['UF', 'MUNICIPIO']].head(1)"
   ]
  },
  {
   "attachments": {},
   "cell_type": "markdown",
   "metadata": {},
   "source": [
    "Segundo o que vimos, a coluna de `ocupação` que melhor representa as notificações é a `municipio`. A outra será marcada para remoção."
   ]
  },
  {
   "cell_type": "code",
   "execution_count": 62,
   "metadata": {},
   "outputs": [],
   "source": [
    "to_drop.append('municipioNotificacao')"
   ]
  },
  {
   "attachments": {},
   "cell_type": "markdown",
   "metadata": {},
   "source": [
    "Depois do pequeno desvio, voltamos para as anomalias."
   ]
  },
  {
   "attachments": {},
   "cell_type": "markdown",
   "metadata": {},
   "source": [
    "### Valores Mínimos Negativos"
   ]
  },
  {
   "attachments": {},
   "cell_type": "markdown",
   "metadata": {},
   "source": [
    "\n",
    "Dados negativos para ocupação hospitalar não parecem estar corretos, uma vez que temos colunas dedicadas para registrar tanto o número de entradas como de altas. Então nos resta presumir que sejam resultado de algum **erro** de digitação onde:\n",
    "* O valor correto não apresentaria o sinal negativo\n",
    "* Ou o esperado seria uma correção de qualquer valor negativo para 0\n",
    "\n",
    "De toda forma, para manter uniformidade no processo, vamos utilizar o mesmo método aplicado em outliers. Ainda assim podemos verificar rapidamente o tamanho do problema."
   ]
  },
  {
   "cell_type": "code",
   "execution_count": 63,
   "metadata": {},
   "outputs": [
    {
     "name": "stdout",
     "output_type": "stream",
     "text": [
      "ocupacaoSuspeitoCli: 56 valores negativos\n",
      "ocupacaoSuspeitoUti: 24 valores negativos\n",
      "ocupacaoConfirmadoCli: 23 valores negativos\n",
      "ocupacaoConfirmadoUti: 59 valores negativos\n",
      "saidaSuspeitaObitos: 16 valores negativos\n",
      "saidaSuspeitaAltas: 97 valores negativos\n",
      "saidaConfirmadaObitos: 8 valores negativos\n",
      "saidaConfirmadaAltas: 73 valores negativos\n",
      "\n",
      "Total de registros com ao menos 1 campo negativo: 320\n"
     ]
    }
   ],
   "source": [
    "cols.remove('cnes')\n",
    "\n",
    "for col in cols:\n",
    "    print(f\"{col}: {len(df.loc[df[col] < 0])} valores negativos\")\n",
    "\n",
    "negative_vals = df[cols].lt(0).any(axis=1)\n",
    "\n",
    "print(f\"\\nTotal de registros com ao menos 1 campo negativo: {negative_vals.value_counts()[1]}\")"
   ]
  },
  {
   "attachments": {},
   "cell_type": "markdown",
   "metadata": {},
   "source": [
    "Temos mais registros problemáticos aqui do que com outliers. Vamos também verificar alguns desses registros:"
   ]
  },
  {
   "cell_type": "code",
   "execution_count": 64,
   "metadata": {},
   "outputs": [
    {
     "data": {
      "text/html": [
       "<div>\n",
       "<style scoped>\n",
       "    .dataframe tbody tr th:only-of-type {\n",
       "        vertical-align: middle;\n",
       "    }\n",
       "\n",
       "    .dataframe tbody tr th {\n",
       "        vertical-align: top;\n",
       "    }\n",
       "\n",
       "    .dataframe thead th {\n",
       "        text-align: right;\n",
       "    }\n",
       "</style>\n",
       "<table border=\"1\" class=\"dataframe\">\n",
       "  <thead>\n",
       "    <tr style=\"text-align: right;\">\n",
       "      <th></th>\n",
       "      <th>_id</th>\n",
       "      <th>dataNotificacao</th>\n",
       "      <th>cnes</th>\n",
       "      <th>ocupacaoSuspeitoCli</th>\n",
       "      <th>ocupacaoSuspeitoUti</th>\n",
       "      <th>ocupacaoConfirmadoCli</th>\n",
       "      <th>ocupacaoConfirmadoUti</th>\n",
       "      <th>saidaSuspeitaObitos</th>\n",
       "      <th>saidaSuspeitaAltas</th>\n",
       "      <th>saidaConfirmadaObitos</th>\n",
       "      <th>...</th>\n",
       "      <th>_p_usuario</th>\n",
       "      <th>estadoNotificacao</th>\n",
       "      <th>municipioNotificacao</th>\n",
       "      <th>estado</th>\n",
       "      <th>municipio</th>\n",
       "      <th>excluido</th>\n",
       "      <th>validado</th>\n",
       "      <th>_created_at</th>\n",
       "      <th>_updated_at</th>\n",
       "      <th>uf</th>\n",
       "    </tr>\n",
       "  </thead>\n",
       "  <tbody>\n",
       "    <tr>\n",
       "      <th>152</th>\n",
       "      <td>cnpHc2BhCG</td>\n",
       "      <td>2020-04-15T03:00:00.000Z</td>\n",
       "      <td>2147823</td>\n",
       "      <td>1.0</td>\n",
       "      <td>0.0</td>\n",
       "      <td>-1.0</td>\n",
       "      <td>0.0</td>\n",
       "      <td>0.0</td>\n",
       "      <td>0.0</td>\n",
       "      <td>0.0</td>\n",
       "      <td>...</td>\n",
       "      <td>_User$2MauaO7JTG</td>\n",
       "      <td>Minas Gerais</td>\n",
       "      <td>São Roque de Minas</td>\n",
       "      <td>Minas Gerais</td>\n",
       "      <td>São Roque de Minas</td>\n",
       "      <td>False</td>\n",
       "      <td>False</td>\n",
       "      <td>2020-04-15T20:11:15.456Z</td>\n",
       "      <td>2020-08-01T20:08:29.120Z</td>\n",
       "      <td>MG</td>\n",
       "    </tr>\n",
       "    <tr>\n",
       "      <th>1010</th>\n",
       "      <td>lzoJqW4TRz</td>\n",
       "      <td>2020-04-07T03:00:00.000Z</td>\n",
       "      <td>704301548015495</td>\n",
       "      <td>3.0</td>\n",
       "      <td>0.0</td>\n",
       "      <td>0.0</td>\n",
       "      <td>-3.0</td>\n",
       "      <td>0.0</td>\n",
       "      <td>0.0</td>\n",
       "      <td>0.0</td>\n",
       "      <td>...</td>\n",
       "      <td>_User$XDgX2DBdzn</td>\n",
       "      <td>Minas Gerais</td>\n",
       "      <td>Alpinópolis</td>\n",
       "      <td>Minas Gerais</td>\n",
       "      <td>Alpinópolis</td>\n",
       "      <td>False</td>\n",
       "      <td>False</td>\n",
       "      <td>2020-04-16T20:01:20.563Z</td>\n",
       "      <td>2020-08-01T21:00:02.252Z</td>\n",
       "      <td>MG</td>\n",
       "    </tr>\n",
       "    <tr>\n",
       "      <th>2833</th>\n",
       "      <td>a39kCSnGzn</td>\n",
       "      <td>2020-04-21T12:39:06.905Z</td>\n",
       "      <td>0017868</td>\n",
       "      <td>50.0</td>\n",
       "      <td>22.0</td>\n",
       "      <td>2.0</td>\n",
       "      <td>0.0</td>\n",
       "      <td>0.0</td>\n",
       "      <td>-3.0</td>\n",
       "      <td>0.0</td>\n",
       "      <td>...</td>\n",
       "      <td>_User$AJW1vkZj01</td>\n",
       "      <td>Paraná</td>\n",
       "      <td>Pato Branco</td>\n",
       "      <td>Paraná</td>\n",
       "      <td>Pato Branco</td>\n",
       "      <td>False</td>\n",
       "      <td>False</td>\n",
       "      <td>2020-04-21T12:46:56.695Z</td>\n",
       "      <td>2020-08-01T19:14:07.008Z</td>\n",
       "      <td>PR</td>\n",
       "    </tr>\n",
       "    <tr>\n",
       "      <th>4016</th>\n",
       "      <td>EdilftbPan</td>\n",
       "      <td>2020-04-06T03:00:00.000Z</td>\n",
       "      <td>2704271</td>\n",
       "      <td>1.0</td>\n",
       "      <td>0.0</td>\n",
       "      <td>1.0</td>\n",
       "      <td>-2.0</td>\n",
       "      <td>0.0</td>\n",
       "      <td>1.0</td>\n",
       "      <td>0.0</td>\n",
       "      <td>...</td>\n",
       "      <td>_User$CBEx6ClGS4</td>\n",
       "      <td>Paraná</td>\n",
       "      <td>Laranjeiras do Sul</td>\n",
       "      <td>Paraná</td>\n",
       "      <td>Laranjeiras do Sul</td>\n",
       "      <td>False</td>\n",
       "      <td>False</td>\n",
       "      <td>2020-04-23T18:57:19.136Z</td>\n",
       "      <td>2020-08-01T21:05:12.349Z</td>\n",
       "      <td>PR</td>\n",
       "    </tr>\n",
       "    <tr>\n",
       "      <th>4589</th>\n",
       "      <td>bx6BZ1zv3v</td>\n",
       "      <td>2020-04-24T18:16:23.795Z</td>\n",
       "      <td>2733145</td>\n",
       "      <td>0.0</td>\n",
       "      <td>0.0</td>\n",
       "      <td>1.0</td>\n",
       "      <td>0.0</td>\n",
       "      <td>0.0</td>\n",
       "      <td>0.0</td>\n",
       "      <td>0.0</td>\n",
       "      <td>...</td>\n",
       "      <td>_User$hi34CHgGZA</td>\n",
       "      <td>Paraná</td>\n",
       "      <td>Indianópolis</td>\n",
       "      <td>Paraná</td>\n",
       "      <td>Indianópolis</td>\n",
       "      <td>False</td>\n",
       "      <td>False</td>\n",
       "      <td>2020-04-24T18:18:44.855Z</td>\n",
       "      <td>2020-08-01T18:45:35.882Z</td>\n",
       "      <td>PR</td>\n",
       "    </tr>\n",
       "    <tr>\n",
       "      <th>...</th>\n",
       "      <td>...</td>\n",
       "      <td>...</td>\n",
       "      <td>...</td>\n",
       "      <td>...</td>\n",
       "      <td>...</td>\n",
       "      <td>...</td>\n",
       "      <td>...</td>\n",
       "      <td>...</td>\n",
       "      <td>...</td>\n",
       "      <td>...</td>\n",
       "      <td>...</td>\n",
       "      <td>...</td>\n",
       "      <td>...</td>\n",
       "      <td>...</td>\n",
       "      <td>...</td>\n",
       "      <td>...</td>\n",
       "      <td>...</td>\n",
       "      <td>...</td>\n",
       "      <td>...</td>\n",
       "      <td>...</td>\n",
       "      <td>...</td>\n",
       "    </tr>\n",
       "    <tr>\n",
       "      <th>534198</th>\n",
       "      <td>AeHgofdm0H</td>\n",
       "      <td>2020-12-27T03:00:12.081Z</td>\n",
       "      <td>709804049686393</td>\n",
       "      <td>26.0</td>\n",
       "      <td>4.0</td>\n",
       "      <td>3.0</td>\n",
       "      <td>0.0</td>\n",
       "      <td>0.0</td>\n",
       "      <td>-2.0</td>\n",
       "      <td>0.0</td>\n",
       "      <td>...</td>\n",
       "      <td>_User$0GAcCpwcOI</td>\n",
       "      <td>Santa Catarina</td>\n",
       "      <td>Florianópolis</td>\n",
       "      <td>Santa Catarina</td>\n",
       "      <td>Florianópolis</td>\n",
       "      <td>False</td>\n",
       "      <td>False</td>\n",
       "      <td>2020-12-27T23:29:47.238Z</td>\n",
       "      <td>2020-12-27T23:29:47.238Z</td>\n",
       "      <td>SC</td>\n",
       "    </tr>\n",
       "    <tr>\n",
       "      <th>536408</th>\n",
       "      <td>syHxc1mXiW</td>\n",
       "      <td>2020-12-22T03:00:00.000Z</td>\n",
       "      <td>2742020</td>\n",
       "      <td>14.0</td>\n",
       "      <td>0.0</td>\n",
       "      <td>1.0</td>\n",
       "      <td>0.0</td>\n",
       "      <td>0.0</td>\n",
       "      <td>-1.0</td>\n",
       "      <td>0.0</td>\n",
       "      <td>...</td>\n",
       "      <td>_User$HlU6nnuCJb</td>\n",
       "      <td>Paraná</td>\n",
       "      <td>Candói</td>\n",
       "      <td>Paraná</td>\n",
       "      <td>Candói</td>\n",
       "      <td>False</td>\n",
       "      <td>False</td>\n",
       "      <td>2020-12-28T15:05:31.320Z</td>\n",
       "      <td>2020-12-28T15:05:48.026Z</td>\n",
       "      <td>PR</td>\n",
       "    </tr>\n",
       "    <tr>\n",
       "      <th>546703</th>\n",
       "      <td>LB0CgTpwGL</td>\n",
       "      <td>2020-12-19T03:00:00.000Z</td>\n",
       "      <td>2468271</td>\n",
       "      <td>7.0</td>\n",
       "      <td>0.0</td>\n",
       "      <td>0.0</td>\n",
       "      <td>0.0</td>\n",
       "      <td>0.0</td>\n",
       "      <td>-1.0</td>\n",
       "      <td>0.0</td>\n",
       "      <td>...</td>\n",
       "      <td>_User$s2PrPBfqeg</td>\n",
       "      <td>Tocantins</td>\n",
       "      <td>Pedro Afonso</td>\n",
       "      <td>Tocantins</td>\n",
       "      <td>Pedro Afonso</td>\n",
       "      <td>False</td>\n",
       "      <td>False</td>\n",
       "      <td>2021-01-05T16:43:43.068Z</td>\n",
       "      <td>2021-01-05T16:43:43.068Z</td>\n",
       "      <td>TO</td>\n",
       "    </tr>\n",
       "    <tr>\n",
       "      <th>548565</th>\n",
       "      <td>6ZioGPE1QA</td>\n",
       "      <td>2020-01-21T03:00:00.000Z</td>\n",
       "      <td>2755149</td>\n",
       "      <td>39.0</td>\n",
       "      <td>0.0</td>\n",
       "      <td>6.0</td>\n",
       "      <td>0.0</td>\n",
       "      <td>0.0</td>\n",
       "      <td>0.0</td>\n",
       "      <td>0.0</td>\n",
       "      <td>...</td>\n",
       "      <td>_User$Mo9ivLgHJn</td>\n",
       "      <td>Tocantins</td>\n",
       "      <td>Paraíso do Tocantins</td>\n",
       "      <td>Tocantins</td>\n",
       "      <td>Paraíso do Tocantins</td>\n",
       "      <td>False</td>\n",
       "      <td>False</td>\n",
       "      <td>2021-01-23T20:06:27.098Z</td>\n",
       "      <td>2021-01-23T20:06:27.098Z</td>\n",
       "      <td>TO</td>\n",
       "    </tr>\n",
       "    <tr>\n",
       "      <th>549267</th>\n",
       "      <td>OL38Add7RY</td>\n",
       "      <td>2020-12-16T03:00:00.000Z</td>\n",
       "      <td>9077413</td>\n",
       "      <td>63.0</td>\n",
       "      <td>10.0</td>\n",
       "      <td>-1.0</td>\n",
       "      <td>4.0</td>\n",
       "      <td>0.0</td>\n",
       "      <td>0.0</td>\n",
       "      <td>0.0</td>\n",
       "      <td>...</td>\n",
       "      <td>_User$zY3Nmxh6an</td>\n",
       "      <td>Maranhão</td>\n",
       "      <td>Santa Inês</td>\n",
       "      <td>Maranhão</td>\n",
       "      <td>Santa Inês</td>\n",
       "      <td>False</td>\n",
       "      <td>False</td>\n",
       "      <td>2021-02-09T17:38:14.208Z</td>\n",
       "      <td>2021-02-09T17:38:14.208Z</td>\n",
       "      <td>MA</td>\n",
       "    </tr>\n",
       "  </tbody>\n",
       "</table>\n",
       "<p>320 rows × 22 columns</p>\n",
       "</div>"
      ],
      "text/plain": [
       "               _id           dataNotificacao             cnes   \n",
       "152     cnpHc2BhCG  2020-04-15T03:00:00.000Z          2147823  \\\n",
       "1010    lzoJqW4TRz  2020-04-07T03:00:00.000Z  704301548015495   \n",
       "2833    a39kCSnGzn  2020-04-21T12:39:06.905Z          0017868   \n",
       "4016    EdilftbPan  2020-04-06T03:00:00.000Z          2704271   \n",
       "4589    bx6BZ1zv3v  2020-04-24T18:16:23.795Z          2733145   \n",
       "...            ...                       ...              ...   \n",
       "534198  AeHgofdm0H  2020-12-27T03:00:12.081Z  709804049686393   \n",
       "536408  syHxc1mXiW  2020-12-22T03:00:00.000Z          2742020   \n",
       "546703  LB0CgTpwGL  2020-12-19T03:00:00.000Z          2468271   \n",
       "548565  6ZioGPE1QA  2020-01-21T03:00:00.000Z          2755149   \n",
       "549267  OL38Add7RY  2020-12-16T03:00:00.000Z          9077413   \n",
       "\n",
       "        ocupacaoSuspeitoCli  ocupacaoSuspeitoUti  ocupacaoConfirmadoCli   \n",
       "152                     1.0                  0.0                   -1.0  \\\n",
       "1010                    3.0                  0.0                    0.0   \n",
       "2833                   50.0                 22.0                    2.0   \n",
       "4016                    1.0                  0.0                    1.0   \n",
       "4589                    0.0                  0.0                    1.0   \n",
       "...                     ...                  ...                    ...   \n",
       "534198                 26.0                  4.0                    3.0   \n",
       "536408                 14.0                  0.0                    1.0   \n",
       "546703                  7.0                  0.0                    0.0   \n",
       "548565                 39.0                  0.0                    6.0   \n",
       "549267                 63.0                 10.0                   -1.0   \n",
       "\n",
       "        ocupacaoConfirmadoUti  saidaSuspeitaObitos  saidaSuspeitaAltas   \n",
       "152                       0.0                  0.0                 0.0  \\\n",
       "1010                     -3.0                  0.0                 0.0   \n",
       "2833                      0.0                  0.0                -3.0   \n",
       "4016                     -2.0                  0.0                 1.0   \n",
       "4589                      0.0                  0.0                 0.0   \n",
       "...                       ...                  ...                 ...   \n",
       "534198                    0.0                  0.0                -2.0   \n",
       "536408                    0.0                  0.0                -1.0   \n",
       "546703                    0.0                  0.0                -1.0   \n",
       "548565                    0.0                  0.0                 0.0   \n",
       "549267                    4.0                  0.0                 0.0   \n",
       "\n",
       "        saidaConfirmadaObitos  ...        _p_usuario estadoNotificacao   \n",
       "152                       0.0  ...  _User$2MauaO7JTG      Minas Gerais  \\\n",
       "1010                      0.0  ...  _User$XDgX2DBdzn      Minas Gerais   \n",
       "2833                      0.0  ...  _User$AJW1vkZj01            Paraná   \n",
       "4016                      0.0  ...  _User$CBEx6ClGS4            Paraná   \n",
       "4589                      0.0  ...  _User$hi34CHgGZA            Paraná   \n",
       "...                       ...  ...               ...               ...   \n",
       "534198                    0.0  ...  _User$0GAcCpwcOI    Santa Catarina   \n",
       "536408                    0.0  ...  _User$HlU6nnuCJb            Paraná   \n",
       "546703                    0.0  ...  _User$s2PrPBfqeg         Tocantins   \n",
       "548565                    0.0  ...  _User$Mo9ivLgHJn         Tocantins   \n",
       "549267                    0.0  ...  _User$zY3Nmxh6an          Maranhão   \n",
       "\n",
       "        municipioNotificacao          estado             municipio excluido   \n",
       "152       São Roque de Minas    Minas Gerais    São Roque de Minas    False  \\\n",
       "1010             Alpinópolis    Minas Gerais           Alpinópolis    False   \n",
       "2833             Pato Branco          Paraná           Pato Branco    False   \n",
       "4016      Laranjeiras do Sul          Paraná    Laranjeiras do Sul    False   \n",
       "4589            Indianópolis          Paraná          Indianópolis    False   \n",
       "...                      ...             ...                   ...      ...   \n",
       "534198         Florianópolis  Santa Catarina         Florianópolis    False   \n",
       "536408                Candói          Paraná                Candói    False   \n",
       "546703          Pedro Afonso       Tocantins          Pedro Afonso    False   \n",
       "548565  Paraíso do Tocantins       Tocantins  Paraíso do Tocantins    False   \n",
       "549267            Santa Inês        Maranhão            Santa Inês    False   \n",
       "\n",
       "       validado               _created_at               _updated_at  uf  \n",
       "152       False  2020-04-15T20:11:15.456Z  2020-08-01T20:08:29.120Z  MG  \n",
       "1010      False  2020-04-16T20:01:20.563Z  2020-08-01T21:00:02.252Z  MG  \n",
       "2833      False  2020-04-21T12:46:56.695Z  2020-08-01T19:14:07.008Z  PR  \n",
       "4016      False  2020-04-23T18:57:19.136Z  2020-08-01T21:05:12.349Z  PR  \n",
       "4589      False  2020-04-24T18:18:44.855Z  2020-08-01T18:45:35.882Z  PR  \n",
       "...         ...                       ...                       ...  ..  \n",
       "534198    False  2020-12-27T23:29:47.238Z  2020-12-27T23:29:47.238Z  SC  \n",
       "536408    False  2020-12-28T15:05:31.320Z  2020-12-28T15:05:48.026Z  PR  \n",
       "546703    False  2021-01-05T16:43:43.068Z  2021-01-05T16:43:43.068Z  TO  \n",
       "548565    False  2021-01-23T20:06:27.098Z  2021-01-23T20:06:27.098Z  TO  \n",
       "549267    False  2021-02-09T17:38:14.208Z  2021-02-09T17:38:14.208Z  MA  \n",
       "\n",
       "[320 rows x 22 columns]"
      ]
     },
     "execution_count": 64,
     "metadata": {},
     "output_type": "execute_result"
    }
   ],
   "source": [
    "df.loc[negative_vals]"
   ]
  },
  {
   "cell_type": "code",
   "execution_count": 65,
   "metadata": {},
   "outputs": [
    {
     "data": {
      "text/html": [
       "<div>\n",
       "<style scoped>\n",
       "    .dataframe tbody tr th:only-of-type {\n",
       "        vertical-align: middle;\n",
       "    }\n",
       "\n",
       "    .dataframe tbody tr th {\n",
       "        vertical-align: top;\n",
       "    }\n",
       "\n",
       "    .dataframe thead th {\n",
       "        text-align: right;\n",
       "    }\n",
       "</style>\n",
       "<table border=\"1\" class=\"dataframe\">\n",
       "  <thead>\n",
       "    <tr style=\"text-align: right;\">\n",
       "      <th></th>\n",
       "      <th>ocupacaoSuspeitoCli</th>\n",
       "      <th>ocupacaoSuspeitoUti</th>\n",
       "      <th>ocupacaoConfirmadoCli</th>\n",
       "      <th>ocupacaoConfirmadoUti</th>\n",
       "      <th>saidaSuspeitaObitos</th>\n",
       "      <th>saidaSuspeitaAltas</th>\n",
       "      <th>saidaConfirmadaObitos</th>\n",
       "      <th>saidaConfirmadaAltas</th>\n",
       "    </tr>\n",
       "  </thead>\n",
       "  <tbody>\n",
       "    <tr>\n",
       "      <th>count</th>\n",
       "      <td>320.000000</td>\n",
       "      <td>320.000000</td>\n",
       "      <td>320.000000</td>\n",
       "      <td>320.000000</td>\n",
       "      <td>320.00000</td>\n",
       "      <td>320.00000</td>\n",
       "      <td>320.000000</td>\n",
       "      <td>320.000000</td>\n",
       "    </tr>\n",
       "    <tr>\n",
       "      <th>mean</th>\n",
       "      <td>17.612500</td>\n",
       "      <td>3.803125</td>\n",
       "      <td>2.484375</td>\n",
       "      <td>1.178125</td>\n",
       "      <td>-0.10000</td>\n",
       "      <td>-0.50000</td>\n",
       "      <td>0.134375</td>\n",
       "      <td>-0.300000</td>\n",
       "    </tr>\n",
       "    <tr>\n",
       "      <th>std</th>\n",
       "      <td>33.386215</td>\n",
       "      <td>8.100969</td>\n",
       "      <td>4.825456</td>\n",
       "      <td>4.084855</td>\n",
       "      <td>0.97749</td>\n",
       "      <td>1.43839</td>\n",
       "      <td>1.197204</td>\n",
       "      <td>1.794453</td>\n",
       "    </tr>\n",
       "    <tr>\n",
       "      <th>min</th>\n",
       "      <td>-57.000000</td>\n",
       "      <td>-9.000000</td>\n",
       "      <td>-10.000000</td>\n",
       "      <td>-7.000000</td>\n",
       "      <td>-10.00000</td>\n",
       "      <td>-12.00000</td>\n",
       "      <td>-3.000000</td>\n",
       "      <td>-13.000000</td>\n",
       "    </tr>\n",
       "    <tr>\n",
       "      <th>25%</th>\n",
       "      <td>0.000000</td>\n",
       "      <td>0.000000</td>\n",
       "      <td>0.000000</td>\n",
       "      <td>0.000000</td>\n",
       "      <td>0.00000</td>\n",
       "      <td>-1.00000</td>\n",
       "      <td>0.000000</td>\n",
       "      <td>0.000000</td>\n",
       "    </tr>\n",
       "    <tr>\n",
       "      <th>50%</th>\n",
       "      <td>6.000000</td>\n",
       "      <td>0.000000</td>\n",
       "      <td>1.000000</td>\n",
       "      <td>0.000000</td>\n",
       "      <td>0.00000</td>\n",
       "      <td>0.00000</td>\n",
       "      <td>0.000000</td>\n",
       "      <td>0.000000</td>\n",
       "    </tr>\n",
       "    <tr>\n",
       "      <th>75%</th>\n",
       "      <td>22.000000</td>\n",
       "      <td>5.000000</td>\n",
       "      <td>3.000000</td>\n",
       "      <td>0.000000</td>\n",
       "      <td>0.00000</td>\n",
       "      <td>0.00000</td>\n",
       "      <td>0.000000</td>\n",
       "      <td>0.000000</td>\n",
       "    </tr>\n",
       "    <tr>\n",
       "      <th>max</th>\n",
       "      <td>317.000000</td>\n",
       "      <td>50.000000</td>\n",
       "      <td>30.000000</td>\n",
       "      <td>34.000000</td>\n",
       "      <td>3.00000</td>\n",
       "      <td>4.00000</td>\n",
       "      <td>19.000000</td>\n",
       "      <td>13.000000</td>\n",
       "    </tr>\n",
       "  </tbody>\n",
       "</table>\n",
       "</div>"
      ],
      "text/plain": [
       "       ocupacaoSuspeitoCli  ocupacaoSuspeitoUti  ocupacaoConfirmadoCli   \n",
       "count           320.000000           320.000000             320.000000  \\\n",
       "mean             17.612500             3.803125               2.484375   \n",
       "std              33.386215             8.100969               4.825456   \n",
       "min             -57.000000            -9.000000             -10.000000   \n",
       "25%               0.000000             0.000000               0.000000   \n",
       "50%               6.000000             0.000000               1.000000   \n",
       "75%              22.000000             5.000000               3.000000   \n",
       "max             317.000000            50.000000              30.000000   \n",
       "\n",
       "       ocupacaoConfirmadoUti  saidaSuspeitaObitos  saidaSuspeitaAltas   \n",
       "count             320.000000            320.00000           320.00000  \\\n",
       "mean                1.178125             -0.10000            -0.50000   \n",
       "std                 4.084855              0.97749             1.43839   \n",
       "min                -7.000000            -10.00000           -12.00000   \n",
       "25%                 0.000000              0.00000            -1.00000   \n",
       "50%                 0.000000              0.00000             0.00000   \n",
       "75%                 0.000000              0.00000             0.00000   \n",
       "max                34.000000              3.00000             4.00000   \n",
       "\n",
       "       saidaConfirmadaObitos  saidaConfirmadaAltas  \n",
       "count             320.000000            320.000000  \n",
       "mean                0.134375             -0.300000  \n",
       "std                 1.197204              1.794453  \n",
       "min                -3.000000            -13.000000  \n",
       "25%                 0.000000              0.000000  \n",
       "50%                 0.000000              0.000000  \n",
       "75%                 0.000000              0.000000  \n",
       "max                19.000000             13.000000  "
      ]
     },
     "execution_count": 65,
     "metadata": {},
     "output_type": "execute_result"
    }
   ],
   "source": [
    "df[cols][negative_vals].describe()"
   ]
  },
  {
   "attachments": {},
   "cell_type": "markdown",
   "metadata": {},
   "source": [
    "Nossa segunda hipótese pode ser descartada, uma vez que vemos valores negativos registrados em conjunto com valores = 0 em várias ocasiões.\n",
    "\n",
    "A primeira hipótese não parece tão inadequada, no entanto, temos motivos para utilizar o método de imputação.\n",
    "\n",
    "Como já discutimos, seria mais *padronizado* manter o *mesmo método* utilizado para outliers. Mas, complementar a isso, temos o fato de que as estatísticas descritivas do subgrupo selecionado apresentam **valores bem próximos aos do conjunto completo**. Isso pode nos indicar que *não haverá grandes distorções* quando aplicarmos a imputação de valores."
   ]
  },
  {
   "attachments": {},
   "cell_type": "markdown",
   "metadata": {},
   "source": [
    "### Dados contínuos"
   ]
  },
  {
   "attachments": {},
   "cell_type": "markdown",
   "metadata": {},
   "source": [
    "Variáveis *contínuas* *(ou números 'quebrados')* não fazem sentido o contexto que estamos trabalhando. Não há maneira de um leito estar ocupado por **4 pacientes e meio**. Um paciente ocupa ou não uma vaga no leito, sem meio termo.\n",
    "\n",
    "Por este motivo, apenas variáveis *discretas* *(números inteiros)* são aceitáveis como dados sobre ocupação.\n",
    "\n",
    "Seguiremos com o método de imputação. Para isso iremos substituir qualquer valor incompatível com a análise por *NaN*. Após isso feito, podemos aproveitar e ajustar o tipo das colunas afetadas de *float64* para *int64*.\n",
    "\n",
    "Mais uma vez, faremos este procedimento uma vez que analisarmos os dados ausentes originais."
   ]
  },
  {
   "attachments": {},
   "cell_type": "markdown",
   "metadata": {},
   "source": [
    "### Valores Ausentes"
   ]
  },
  {
   "attachments": {},
   "cell_type": "markdown",
   "metadata": {},
   "source": [
    "Vejamos agora a **diferença em quantidade de registros** (causada por **valores ausentes** *já presentes*). \n",
    "\n",
    "Primeiro vamos verificar com que frequência e em quais situações isto ocorre. "
   ]
  },
  {
   "cell_type": "code",
   "execution_count": 66,
   "metadata": {},
   "outputs": [
    {
     "data": {
      "text/plain": [
       "ocupacaoSuspeitoCli\n",
       "False    553772\n",
       "True        401\n",
       "Name: count, dtype: int64"
      ]
     },
     "execution_count": 66,
     "metadata": {},
     "output_type": "execute_result"
    }
   ],
   "source": [
    "df['ocupacaoSuspeitoCli'].isna().value_counts()"
   ]
  },
  {
   "cell_type": "code",
   "execution_count": 67,
   "metadata": {},
   "outputs": [
    {
     "name": "stdout",
     "output_type": "stream",
     "text": [
      "ocupacaoSuspeitoCli: 401 valores ausentes\n",
      "ocupacaoSuspeitoUti: 401 valores ausentes\n",
      "ocupacaoConfirmadoCli: 400 valores ausentes\n",
      "ocupacaoConfirmadoUti: 400 valores ausentes\n",
      "saidaSuspeitaObitos: 116 valores ausentes\n",
      "saidaSuspeitaAltas: 104 valores ausentes\n",
      "saidaConfirmadaObitos: 12 valores ausentes\n",
      "saidaConfirmadaAltas: 13 valores ausentes\n"
     ]
    }
   ],
   "source": [
    "for col in cols:\n",
    "    print(f\"{col}: {df[col].isna().value_counts()[1]} valores ausentes\")"
   ]
  },
  {
   "cell_type": "code",
   "execution_count": 68,
   "metadata": {},
   "outputs": [
    {
     "data": {
      "text/html": [
       "<div>\n",
       "<style scoped>\n",
       "    .dataframe tbody tr th:only-of-type {\n",
       "        vertical-align: middle;\n",
       "    }\n",
       "\n",
       "    .dataframe tbody tr th {\n",
       "        vertical-align: top;\n",
       "    }\n",
       "\n",
       "    .dataframe thead th {\n",
       "        text-align: right;\n",
       "    }\n",
       "</style>\n",
       "<table border=\"1\" class=\"dataframe\">\n",
       "  <thead>\n",
       "    <tr style=\"text-align: right;\">\n",
       "      <th></th>\n",
       "      <th>_id</th>\n",
       "      <th>dataNotificacao</th>\n",
       "      <th>cnes</th>\n",
       "      <th>ocupacaoSuspeitoCli</th>\n",
       "      <th>ocupacaoSuspeitoUti</th>\n",
       "      <th>ocupacaoConfirmadoCli</th>\n",
       "      <th>ocupacaoConfirmadoUti</th>\n",
       "      <th>saidaSuspeitaObitos</th>\n",
       "      <th>saidaSuspeitaAltas</th>\n",
       "      <th>saidaConfirmadaObitos</th>\n",
       "      <th>...</th>\n",
       "      <th>_p_usuario</th>\n",
       "      <th>estadoNotificacao</th>\n",
       "      <th>municipioNotificacao</th>\n",
       "      <th>estado</th>\n",
       "      <th>municipio</th>\n",
       "      <th>excluido</th>\n",
       "      <th>validado</th>\n",
       "      <th>_created_at</th>\n",
       "      <th>_updated_at</th>\n",
       "      <th>uf</th>\n",
       "    </tr>\n",
       "  </thead>\n",
       "  <tbody>\n",
       "    <tr>\n",
       "      <th>225086</th>\n",
       "      <td>d1blzunFYI</td>\n",
       "      <td>2020-08-19T03:00:00.000Z</td>\n",
       "      <td>9161449</td>\n",
       "      <td>NaN</td>\n",
       "      <td>NaN</td>\n",
       "      <td>30.0</td>\n",
       "      <td>22.0</td>\n",
       "      <td>0.0</td>\n",
       "      <td>1.0</td>\n",
       "      <td>3.0</td>\n",
       "      <td>...</td>\n",
       "      <td>_User$PNmsshy0Z0</td>\n",
       "      <td>Maranhão</td>\n",
       "      <td>São Luís</td>\n",
       "      <td>Maranhão</td>\n",
       "      <td>São Luís</td>\n",
       "      <td>False</td>\n",
       "      <td>False</td>\n",
       "      <td>2020-08-20T22:46:47.524Z</td>\n",
       "      <td>2020-08-20T22:46:47.524Z</td>\n",
       "      <td>MA</td>\n",
       "    </tr>\n",
       "    <tr>\n",
       "      <th>228389</th>\n",
       "      <td>IhrZ1JOhV8</td>\n",
       "      <td>2020-08-20T03:00:00.000Z</td>\n",
       "      <td>9161449</td>\n",
       "      <td>NaN</td>\n",
       "      <td>NaN</td>\n",
       "      <td>40.0</td>\n",
       "      <td>23.0</td>\n",
       "      <td>1.0</td>\n",
       "      <td>1.0</td>\n",
       "      <td>1.0</td>\n",
       "      <td>...</td>\n",
       "      <td>_User$PNmsshy0Z0</td>\n",
       "      <td>Maranhão</td>\n",
       "      <td>São Luís</td>\n",
       "      <td>Maranhão</td>\n",
       "      <td>São Luís</td>\n",
       "      <td>False</td>\n",
       "      <td>False</td>\n",
       "      <td>2020-08-21T19:28:45.418Z</td>\n",
       "      <td>2020-08-21T19:28:45.418Z</td>\n",
       "      <td>MA</td>\n",
       "    </tr>\n",
       "    <tr>\n",
       "      <th>554199</th>\n",
       "      <td>zOxCnmQLxK</td>\n",
       "      <td>2020-04-29T18:14:09.410Z</td>\n",
       "      <td>86673</td>\n",
       "      <td>NaN</td>\n",
       "      <td>NaN</td>\n",
       "      <td>NaN</td>\n",
       "      <td>NaN</td>\n",
       "      <td>NaN</td>\n",
       "      <td>0.0</td>\n",
       "      <td>1.0</td>\n",
       "      <td>...</td>\n",
       "      <td>_User$HzwsO90KQW</td>\n",
       "      <td>Ceará</td>\n",
       "      <td>Fortaleza</td>\n",
       "      <td>Ceará</td>\n",
       "      <td>Fortaleza</td>\n",
       "      <td>False</td>\n",
       "      <td>False</td>\n",
       "      <td>2021-08-10T03:01:39.990Z</td>\n",
       "      <td>2021-08-10T03:01:39.990Z</td>\n",
       "      <td>CE</td>\n",
       "    </tr>\n",
       "    <tr>\n",
       "      <th>554200</th>\n",
       "      <td>BvSDS2XLqp</td>\n",
       "      <td>2020-07-07T10:09:37.833Z</td>\n",
       "      <td>107239</td>\n",
       "      <td>NaN</td>\n",
       "      <td>NaN</td>\n",
       "      <td>NaN</td>\n",
       "      <td>NaN</td>\n",
       "      <td>NaN</td>\n",
       "      <td>0.0</td>\n",
       "      <td>1.0</td>\n",
       "      <td>...</td>\n",
       "      <td>_User$HzwsO90KQW</td>\n",
       "      <td>Ceará</td>\n",
       "      <td>Cascavel</td>\n",
       "      <td>Ceará</td>\n",
       "      <td>Cascavel</td>\n",
       "      <td>False</td>\n",
       "      <td>False</td>\n",
       "      <td>2021-08-10T03:01:40.313Z</td>\n",
       "      <td>2021-08-10T03:01:40.313Z</td>\n",
       "      <td>CE</td>\n",
       "    </tr>\n",
       "    <tr>\n",
       "      <th>554201</th>\n",
       "      <td>IF15Y9SJuY</td>\n",
       "      <td>2020-08-13T09:53:20.703Z</td>\n",
       "      <td>133094</td>\n",
       "      <td>NaN</td>\n",
       "      <td>NaN</td>\n",
       "      <td>NaN</td>\n",
       "      <td>NaN</td>\n",
       "      <td>NaN</td>\n",
       "      <td>0.0</td>\n",
       "      <td>0.0</td>\n",
       "      <td>...</td>\n",
       "      <td>_User$HzwsO90KQW</td>\n",
       "      <td>Ceará</td>\n",
       "      <td>Juazeiro do Norte</td>\n",
       "      <td>Ceará</td>\n",
       "      <td>Juazeiro do Norte</td>\n",
       "      <td>False</td>\n",
       "      <td>False</td>\n",
       "      <td>2021-08-10T03:01:40.417Z</td>\n",
       "      <td>2021-08-10T03:01:40.417Z</td>\n",
       "      <td>CE</td>\n",
       "    </tr>\n",
       "    <tr>\n",
       "      <th>...</th>\n",
       "      <td>...</td>\n",
       "      <td>...</td>\n",
       "      <td>...</td>\n",
       "      <td>...</td>\n",
       "      <td>...</td>\n",
       "      <td>...</td>\n",
       "      <td>...</td>\n",
       "      <td>...</td>\n",
       "      <td>...</td>\n",
       "      <td>...</td>\n",
       "      <td>...</td>\n",
       "      <td>...</td>\n",
       "      <td>...</td>\n",
       "      <td>...</td>\n",
       "      <td>...</td>\n",
       "      <td>...</td>\n",
       "      <td>...</td>\n",
       "      <td>...</td>\n",
       "      <td>...</td>\n",
       "      <td>...</td>\n",
       "      <td>...</td>\n",
       "    </tr>\n",
       "    <tr>\n",
       "      <th>554682</th>\n",
       "      <td>A0ZNmQ4RpB</td>\n",
       "      <td>2020-12-04T03:00:00.000Z</td>\n",
       "      <td>2218798</td>\n",
       "      <td>NaN</td>\n",
       "      <td>NaN</td>\n",
       "      <td>NaN</td>\n",
       "      <td>NaN</td>\n",
       "      <td>0.0</td>\n",
       "      <td>0.0</td>\n",
       "      <td>0.0</td>\n",
       "      <td>...</td>\n",
       "      <td>_User$991WHtuARH</td>\n",
       "      <td>Minas Gerais</td>\n",
       "      <td>Juiz de Fora</td>\n",
       "      <td>Minas Gerais</td>\n",
       "      <td>Juiz de Fora</td>\n",
       "      <td>False</td>\n",
       "      <td>False</td>\n",
       "      <td>2023-02-15T19:28:39.477Z</td>\n",
       "      <td>2023-02-15T19:28:39.477Z</td>\n",
       "      <td>MG</td>\n",
       "    </tr>\n",
       "    <tr>\n",
       "      <th>554683</th>\n",
       "      <td>8h7PVYTbOs</td>\n",
       "      <td>2020-03-08T03:00:00.000Z</td>\n",
       "      <td>9887725</td>\n",
       "      <td>NaN</td>\n",
       "      <td>NaN</td>\n",
       "      <td>NaN</td>\n",
       "      <td>NaN</td>\n",
       "      <td>0.0</td>\n",
       "      <td>0.0</td>\n",
       "      <td>0.0</td>\n",
       "      <td>...</td>\n",
       "      <td>_User$i3dkQgse7y</td>\n",
       "      <td>Rio de Janeiro</td>\n",
       "      <td>Belford Roxo</td>\n",
       "      <td>Rio de Janeiro</td>\n",
       "      <td>Belford Roxo</td>\n",
       "      <td>False</td>\n",
       "      <td>False</td>\n",
       "      <td>2023-03-08T12:03:10.135Z</td>\n",
       "      <td>2023-03-08T12:03:10.135Z</td>\n",
       "      <td>RJ</td>\n",
       "    </tr>\n",
       "    <tr>\n",
       "      <th>554684</th>\n",
       "      <td>0wykjq5hlB</td>\n",
       "      <td>2020-03-30T03:00:00.000Z</td>\n",
       "      <td>6249604</td>\n",
       "      <td>NaN</td>\n",
       "      <td>NaN</td>\n",
       "      <td>NaN</td>\n",
       "      <td>NaN</td>\n",
       "      <td>0.0</td>\n",
       "      <td>0.0</td>\n",
       "      <td>0.0</td>\n",
       "      <td>...</td>\n",
       "      <td>_User$xadpF4Syg5</td>\n",
       "      <td>Santa Catarina</td>\n",
       "      <td>Ipumirim</td>\n",
       "      <td>Santa Catarina</td>\n",
       "      <td>Ipumirim</td>\n",
       "      <td>False</td>\n",
       "      <td>False</td>\n",
       "      <td>2023-04-06T14:28:58.666Z</td>\n",
       "      <td>2023-04-06T14:28:58.666Z</td>\n",
       "      <td>SC</td>\n",
       "    </tr>\n",
       "    <tr>\n",
       "      <th>554685</th>\n",
       "      <td>EkbSG9doPD</td>\n",
       "      <td>2020-04-06T03:00:00.000Z</td>\n",
       "      <td>2526662</td>\n",
       "      <td>NaN</td>\n",
       "      <td>NaN</td>\n",
       "      <td>NaN</td>\n",
       "      <td>NaN</td>\n",
       "      <td>0.0</td>\n",
       "      <td>0.0</td>\n",
       "      <td>0.0</td>\n",
       "      <td>...</td>\n",
       "      <td>_User$x4fJhKt6sz</td>\n",
       "      <td>Ceará</td>\n",
       "      <td>Quixeré</td>\n",
       "      <td>Ceará</td>\n",
       "      <td>Quixeré</td>\n",
       "      <td>False</td>\n",
       "      <td>False</td>\n",
       "      <td>2023-04-12T12:57:54.509Z</td>\n",
       "      <td>2023-04-12T12:57:54.509Z</td>\n",
       "      <td>CE</td>\n",
       "    </tr>\n",
       "    <tr>\n",
       "      <th>554686</th>\n",
       "      <td>nWI0DuHwQL</td>\n",
       "      <td>2020-04-06T03:00:00.000Z</td>\n",
       "      <td>2526662</td>\n",
       "      <td>NaN</td>\n",
       "      <td>NaN</td>\n",
       "      <td>NaN</td>\n",
       "      <td>NaN</td>\n",
       "      <td>0.0</td>\n",
       "      <td>0.0</td>\n",
       "      <td>0.0</td>\n",
       "      <td>...</td>\n",
       "      <td>_User$x4fJhKt6sz</td>\n",
       "      <td>Ceará</td>\n",
       "      <td>Quixeré</td>\n",
       "      <td>Ceará</td>\n",
       "      <td>Quixeré</td>\n",
       "      <td>False</td>\n",
       "      <td>False</td>\n",
       "      <td>2023-04-12T12:58:12.391Z</td>\n",
       "      <td>2023-04-12T12:58:12.391Z</td>\n",
       "      <td>CE</td>\n",
       "    </tr>\n",
       "  </tbody>\n",
       "</table>\n",
       "<p>401 rows × 22 columns</p>\n",
       "</div>"
      ],
      "text/plain": [
       "               _id           dataNotificacao     cnes  ocupacaoSuspeitoCli   \n",
       "225086  d1blzunFYI  2020-08-19T03:00:00.000Z  9161449                  NaN  \\\n",
       "228389  IhrZ1JOhV8  2020-08-20T03:00:00.000Z  9161449                  NaN   \n",
       "554199  zOxCnmQLxK  2020-04-29T18:14:09.410Z    86673                  NaN   \n",
       "554200  BvSDS2XLqp  2020-07-07T10:09:37.833Z   107239                  NaN   \n",
       "554201  IF15Y9SJuY  2020-08-13T09:53:20.703Z   133094                  NaN   \n",
       "...            ...                       ...      ...                  ...   \n",
       "554682  A0ZNmQ4RpB  2020-12-04T03:00:00.000Z  2218798                  NaN   \n",
       "554683  8h7PVYTbOs  2020-03-08T03:00:00.000Z  9887725                  NaN   \n",
       "554684  0wykjq5hlB  2020-03-30T03:00:00.000Z  6249604                  NaN   \n",
       "554685  EkbSG9doPD  2020-04-06T03:00:00.000Z  2526662                  NaN   \n",
       "554686  nWI0DuHwQL  2020-04-06T03:00:00.000Z  2526662                  NaN   \n",
       "\n",
       "        ocupacaoSuspeitoUti  ocupacaoConfirmadoCli  ocupacaoConfirmadoUti   \n",
       "225086                  NaN                   30.0                   22.0  \\\n",
       "228389                  NaN                   40.0                   23.0   \n",
       "554199                  NaN                    NaN                    NaN   \n",
       "554200                  NaN                    NaN                    NaN   \n",
       "554201                  NaN                    NaN                    NaN   \n",
       "...                     ...                    ...                    ...   \n",
       "554682                  NaN                    NaN                    NaN   \n",
       "554683                  NaN                    NaN                    NaN   \n",
       "554684                  NaN                    NaN                    NaN   \n",
       "554685                  NaN                    NaN                    NaN   \n",
       "554686                  NaN                    NaN                    NaN   \n",
       "\n",
       "        saidaSuspeitaObitos  saidaSuspeitaAltas  saidaConfirmadaObitos  ...   \n",
       "225086                  0.0                 1.0                    3.0  ...  \\\n",
       "228389                  1.0                 1.0                    1.0  ...   \n",
       "554199                  NaN                 0.0                    1.0  ...   \n",
       "554200                  NaN                 0.0                    1.0  ...   \n",
       "554201                  NaN                 0.0                    0.0  ...   \n",
       "...                     ...                 ...                    ...  ...   \n",
       "554682                  0.0                 0.0                    0.0  ...   \n",
       "554683                  0.0                 0.0                    0.0  ...   \n",
       "554684                  0.0                 0.0                    0.0  ...   \n",
       "554685                  0.0                 0.0                    0.0  ...   \n",
       "554686                  0.0                 0.0                    0.0  ...   \n",
       "\n",
       "              _p_usuario estadoNotificacao municipioNotificacao   \n",
       "225086  _User$PNmsshy0Z0          Maranhão             São Luís  \\\n",
       "228389  _User$PNmsshy0Z0          Maranhão             São Luís   \n",
       "554199  _User$HzwsO90KQW             Ceará            Fortaleza   \n",
       "554200  _User$HzwsO90KQW             Ceará             Cascavel   \n",
       "554201  _User$HzwsO90KQW             Ceará    Juazeiro do Norte   \n",
       "...                  ...               ...                  ...   \n",
       "554682  _User$991WHtuARH      Minas Gerais         Juiz de Fora   \n",
       "554683  _User$i3dkQgse7y    Rio de Janeiro         Belford Roxo   \n",
       "554684  _User$xadpF4Syg5    Santa Catarina             Ipumirim   \n",
       "554685  _User$x4fJhKt6sz             Ceará              Quixeré   \n",
       "554686  _User$x4fJhKt6sz             Ceará              Quixeré   \n",
       "\n",
       "                estado          municipio excluido validado   \n",
       "225086        Maranhão           São Luís    False    False  \\\n",
       "228389        Maranhão           São Luís    False    False   \n",
       "554199           Ceará          Fortaleza    False    False   \n",
       "554200           Ceará           Cascavel    False    False   \n",
       "554201           Ceará  Juazeiro do Norte    False    False   \n",
       "...                ...                ...      ...      ...   \n",
       "554682    Minas Gerais       Juiz de Fora    False    False   \n",
       "554683  Rio de Janeiro       Belford Roxo    False    False   \n",
       "554684  Santa Catarina           Ipumirim    False    False   \n",
       "554685           Ceará            Quixeré    False    False   \n",
       "554686           Ceará            Quixeré    False    False   \n",
       "\n",
       "                     _created_at               _updated_at  uf  \n",
       "225086  2020-08-20T22:46:47.524Z  2020-08-20T22:46:47.524Z  MA  \n",
       "228389  2020-08-21T19:28:45.418Z  2020-08-21T19:28:45.418Z  MA  \n",
       "554199  2021-08-10T03:01:39.990Z  2021-08-10T03:01:39.990Z  CE  \n",
       "554200  2021-08-10T03:01:40.313Z  2021-08-10T03:01:40.313Z  CE  \n",
       "554201  2021-08-10T03:01:40.417Z  2021-08-10T03:01:40.417Z  CE  \n",
       "...                          ...                       ...  ..  \n",
       "554682  2023-02-15T19:28:39.477Z  2023-02-15T19:28:39.477Z  MG  \n",
       "554683  2023-03-08T12:03:10.135Z  2023-03-08T12:03:10.135Z  RJ  \n",
       "554684  2023-04-06T14:28:58.666Z  2023-04-06T14:28:58.666Z  SC  \n",
       "554685  2023-04-12T12:57:54.509Z  2023-04-12T12:57:54.509Z  CE  \n",
       "554686  2023-04-12T12:58:12.391Z  2023-04-12T12:58:12.391Z  CE  \n",
       "\n",
       "[401 rows x 22 columns]"
      ]
     },
     "execution_count": 68,
     "metadata": {},
     "output_type": "execute_result"
    }
   ],
   "source": [
    "df.loc[df['ocupacaoSuspeitoCli'].isna() == True]"
   ]
  },
  {
   "attachments": {},
   "cell_type": "markdown",
   "metadata": {},
   "source": [
    "Aqui buscamos a **melhor maneira de lidar com valores ausentes**. Foi exatamente por isso que **ainda não substituímos outliers e medidas negativas por valores nulos**. Do contrário, qualquer especulação estaria *seriamente comprometida*.\n",
    "\n",
    "Voltando às ausências, existem formas de abordar o problema. Em primeiro lugar, apenas podemos agir de acordo com certas *premissas* em relação a causa das ausências. Discutiremos isso em breve quando abordarmos as *categorias* de dados faltantes.\n",
    "\n",
    "O que deve nos guiar nesse tipo de situação é a distribuição dos dados e a aleatoriedade das ausências. Dependendo dos dados que possuímos, **há o risco de introduzirmos algum viés na análise** caso o procedimento adotado seja inadequado. Por isso, a prioridade agora é tentar **entender o motivo da ausência dos dados**."
   ]
  },
  {
   "cell_type": "code",
   "execution_count": 69,
   "metadata": {},
   "outputs": [
    {
     "data": {
      "text/plain": [
       "estado\n",
       "Ceará                  204\n",
       "Paraná                  65\n",
       "Rio de Janeiro          37\n",
       "Pará                    33\n",
       "Santa Catarina          23\n",
       "Maranhão                 9\n",
       "Pernambuco               5\n",
       "Minas Gerais             5\n",
       "Bahia                    4\n",
       "São Paulo                3\n",
       "Rio Grande do Norte      3\n",
       "Amazonas                 3\n",
       "Mato Grosso              2\n",
       "Rio Grande do Sul        2\n",
       "Tocantins                2\n",
       "Distrito Federal         1\n",
       "Name: count, dtype: int64"
      ]
     },
     "execution_count": 69,
     "metadata": {},
     "output_type": "execute_result"
    }
   ],
   "source": [
    "# Contagem de valores faltantes por estado\n",
    "df.loc[df['ocupacaoSuspeitoCli'].isna() == True, 'estado'].value_counts()"
   ]
  },
  {
   "cell_type": "code",
   "execution_count": 70,
   "metadata": {},
   "outputs": [
    {
     "data": {
      "text/plain": [
       "3173"
      ]
     },
     "execution_count": 70,
     "metadata": {},
     "output_type": "execute_result"
    }
   ],
   "source": [
    "# Quantidade total de '_p_usuario' no arquivo\n",
    "len(df['_p_usuario'].unique())"
   ]
  },
  {
   "cell_type": "code",
   "execution_count": 71,
   "metadata": {},
   "outputs": [
    {
     "data": {
      "text/plain": [
       "56"
      ]
     },
     "execution_count": 71,
     "metadata": {},
     "output_type": "execute_result"
    }
   ],
   "source": [
    "# Quantos '_p_usuario' fizeram registros com valores ausentes na coluna 'ocupacaoSuspeitoCli'\n",
    "len(df.loc[df['ocupacaoSuspeitoCli'].isna() == True]['_p_usuario'].unique())"
   ]
  },
  {
   "cell_type": "code",
   "execution_count": 72,
   "metadata": {},
   "outputs": [
    {
     "name": "stdout",
     "output_type": "stream",
     "text": [
      "Das 554173 linhas, 569 delas tem pelo menos 1 valor ausente\n"
     ]
    }
   ],
   "source": [
    "shape = df.shape[0]\n",
    "print(f\"Das {shape} linhas, {shape - df.dropna().shape[0]} delas tem pelo menos 1 valor ausente\")"
   ]
  },
  {
   "attachments": {},
   "cell_type": "markdown",
   "metadata": {},
   "source": [
    "Explorando essa parcela dos dados, é possível fazer algumas observações sobre os dados faltantes:\n",
    "* **A grande maioria deles é referente ao estado do Ceará**\n",
    "* 56 dos 3.173 `_p_usuario`*(ou 1,76%)* são autores dos registros incompletos\n",
    "    * Ao passo que 569 dos 554.173 registros estão incompletos *(ou 0,1%)* \n",
    "\n",
    "Com base nisso, podemos dizer que os dados ausentes **não aparecem completamente ao acaso**, existe alguma relação com outras variáveis. Podemos dizer que há maior probabilidade de encontrarmos um registro incompleto *dependendo do estado e do autor*."
   ]
  },
  {
   "attachments": {},
   "cell_type": "markdown",
   "metadata": {},
   "source": [
    "Mas como podemos descrever a situação?\n",
    "\n",
    "Dados ausentes são classificados em 3 tipos:\n",
    "* *MCAR* - Missing Completely At Random *(Ausente completamente por acaso)*\n",
    "* *MAR* - Missing At Random *(Ausente por acaso)*\n",
    "* *MNAR* - Missing Not At Random *(Ausente não por acaso)*\n",
    "\n",
    "Estas denominações podem ser um pouco contraintuitivas, mas em resumo:\n",
    "* *MCAR* - valores ausentes não possuem relação alguma com nada no conjunto de dados. Um processo puramente aleatório\n",
    "* *MAR* - valores ausentes possuem algum tipo de relação com alguma outra variável \n",
    "* *MNAR* - A probabilidade de um dado ser ausente depende do próprio dado ausente\n",
    "\n",
    "Verificamos que os dados faltantes **apresentam um padrão perceptível**, então podemos **eliminar a possibilidade de estarmos trabalhando com *MCAR***.\n"
   ]
  },
  {
   "cell_type": "code",
   "execution_count": 73,
   "metadata": {},
   "outputs": [
    {
     "data": {
      "text/html": [
       "<div>\n",
       "<style scoped>\n",
       "    .dataframe tbody tr th:only-of-type {\n",
       "        vertical-align: middle;\n",
       "    }\n",
       "\n",
       "    .dataframe tbody tr th {\n",
       "        vertical-align: top;\n",
       "    }\n",
       "\n",
       "    .dataframe thead th {\n",
       "        text-align: right;\n",
       "    }\n",
       "</style>\n",
       "<table border=\"1\" class=\"dataframe\">\n",
       "  <thead>\n",
       "    <tr style=\"text-align: right;\">\n",
       "      <th></th>\n",
       "      <th>ocupacaoSuspeitoCli</th>\n",
       "      <th>ocupacaoSuspeitoUti</th>\n",
       "      <th>ocupacaoConfirmadoCli</th>\n",
       "      <th>ocupacaoConfirmadoUti</th>\n",
       "      <th>saidaSuspeitaObitos</th>\n",
       "      <th>saidaSuspeitaAltas</th>\n",
       "      <th>saidaConfirmadaObitos</th>\n",
       "      <th>saidaConfirmadaAltas</th>\n",
       "    </tr>\n",
       "  </thead>\n",
       "  <tbody>\n",
       "    <tr>\n",
       "      <th>count</th>\n",
       "      <td>15474.000000</td>\n",
       "      <td>15474.000000</td>\n",
       "      <td>15474.000000</td>\n",
       "      <td>15474.000000</td>\n",
       "      <td>15666.000000</td>\n",
       "      <td>15678.000000</td>\n",
       "      <td>15672.000000</td>\n",
       "      <td>15672.000000</td>\n",
       "    </tr>\n",
       "    <tr>\n",
       "      <th>mean</th>\n",
       "      <td>46.056546</td>\n",
       "      <td>10.338503</td>\n",
       "      <td>8.965038</td>\n",
       "      <td>5.845295</td>\n",
       "      <td>0.110303</td>\n",
       "      <td>0.452226</td>\n",
       "      <td>0.275523</td>\n",
       "      <td>0.713374</td>\n",
       "    </tr>\n",
       "    <tr>\n",
       "      <th>std</th>\n",
       "      <td>72.176976</td>\n",
       "      <td>23.662064</td>\n",
       "      <td>21.580584</td>\n",
       "      <td>15.653932</td>\n",
       "      <td>0.431551</td>\n",
       "      <td>1.318697</td>\n",
       "      <td>1.024562</td>\n",
       "      <td>2.457325</td>\n",
       "    </tr>\n",
       "    <tr>\n",
       "      <th>min</th>\n",
       "      <td>-3.000000</td>\n",
       "      <td>0.000000</td>\n",
       "      <td>-5.000000</td>\n",
       "      <td>-2.000000</td>\n",
       "      <td>-2.000000</td>\n",
       "      <td>-2.000000</td>\n",
       "      <td>-2.000000</td>\n",
       "      <td>-4.000000</td>\n",
       "    </tr>\n",
       "    <tr>\n",
       "      <th>25%</th>\n",
       "      <td>3.000000</td>\n",
       "      <td>0.000000</td>\n",
       "      <td>0.250000</td>\n",
       "      <td>0.000000</td>\n",
       "      <td>0.000000</td>\n",
       "      <td>0.000000</td>\n",
       "      <td>0.000000</td>\n",
       "      <td>0.000000</td>\n",
       "    </tr>\n",
       "    <tr>\n",
       "      <th>50%</th>\n",
       "      <td>13.000000</td>\n",
       "      <td>0.000000</td>\n",
       "      <td>3.000000</td>\n",
       "      <td>0.000000</td>\n",
       "      <td>0.000000</td>\n",
       "      <td>0.000000</td>\n",
       "      <td>0.000000</td>\n",
       "      <td>0.000000</td>\n",
       "    </tr>\n",
       "    <tr>\n",
       "      <th>75%</th>\n",
       "      <td>66.000000</td>\n",
       "      <td>9.000000</td>\n",
       "      <td>8.000000</td>\n",
       "      <td>6.000000</td>\n",
       "      <td>0.000000</td>\n",
       "      <td>0.000000</td>\n",
       "      <td>0.000000</td>\n",
       "      <td>1.000000</td>\n",
       "    </tr>\n",
       "    <tr>\n",
       "      <th>max</th>\n",
       "      <td>394.000000</td>\n",
       "      <td>323.000000</td>\n",
       "      <td>333.000000</td>\n",
       "      <td>150.000000</td>\n",
       "      <td>8.000000</td>\n",
       "      <td>30.000000</td>\n",
       "      <td>23.000000</td>\n",
       "      <td>77.000000</td>\n",
       "    </tr>\n",
       "  </tbody>\n",
       "</table>\n",
       "</div>"
      ],
      "text/plain": [
       "       ocupacaoSuspeitoCli  ocupacaoSuspeitoUti  ocupacaoConfirmadoCli   \n",
       "count         15474.000000         15474.000000           15474.000000  \\\n",
       "mean             46.056546            10.338503               8.965038   \n",
       "std              72.176976            23.662064              21.580584   \n",
       "min              -3.000000             0.000000              -5.000000   \n",
       "25%               3.000000             0.000000               0.250000   \n",
       "50%              13.000000             0.000000               3.000000   \n",
       "75%              66.000000             9.000000               8.000000   \n",
       "max             394.000000           323.000000             333.000000   \n",
       "\n",
       "       ocupacaoConfirmadoUti  saidaSuspeitaObitos  saidaSuspeitaAltas   \n",
       "count           15474.000000         15666.000000        15678.000000  \\\n",
       "mean                5.845295             0.110303            0.452226   \n",
       "std                15.653932             0.431551            1.318697   \n",
       "min                -2.000000            -2.000000           -2.000000   \n",
       "25%                 0.000000             0.000000            0.000000   \n",
       "50%                 0.000000             0.000000            0.000000   \n",
       "75%                 6.000000             0.000000            0.000000   \n",
       "max               150.000000             8.000000           30.000000   \n",
       "\n",
       "       saidaConfirmadaObitos  saidaConfirmadaAltas  \n",
       "count           15672.000000          15672.000000  \n",
       "mean                0.275523              0.713374  \n",
       "std                 1.024562              2.457325  \n",
       "min                -2.000000             -4.000000  \n",
       "25%                 0.000000              0.000000  \n",
       "50%                 0.000000              0.000000  \n",
       "75%                 0.000000              1.000000  \n",
       "max                23.000000             77.000000  "
      ]
     },
     "execution_count": 73,
     "metadata": {},
     "output_type": "execute_result"
    }
   ],
   "source": [
    "df.loc[df['estado'] == 'Ceará'].describe()"
   ]
  },
  {
   "cell_type": "code",
   "execution_count": 74,
   "metadata": {},
   "outputs": [
    {
     "data": {
      "text/plain": [
       "ocupacaoSuspeitoCli\n",
       "0.0                    2128\n",
       "1.0                     806\n",
       "2.0                     795\n",
       "10.0                    663\n",
       "3.0                     655\n",
       "                       ... \n",
       "290.0                     1\n",
       "292.0                     1\n",
       "297.0                     1\n",
       "302.0                     1\n",
       "394.0                     1\n",
       "Name: count, Length: 324, dtype: int64"
      ]
     },
     "execution_count": 74,
     "metadata": {},
     "output_type": "execute_result"
    }
   ],
   "source": [
    "df.loc[df['estado'] == 'Ceará', ['ocupacaoSuspeitoCli']].value_counts()"
   ]
  },
  {
   "attachments": {},
   "cell_type": "markdown",
   "metadata": {},
   "source": [
    "Ficamos entre *MAR* e *MNAR*.\n",
    "\n",
    "De maneira geral, a causa mais comum para dados *MNAR* são *tópicos sensíveis*. \n",
    "\n",
    "Por exemplo, em uma pesquisa com pessoas sobre um tema qualquer. *Quanto mais sensível* ou invasiva for a questão, *maior é a probabilidade de não ser respondida*. Este é um clássico exemplo do que mencionamos antes: \"a probabilidade de um dado ser ausente depende do próprio dado ausente\".\n",
    "\n",
    "Seguindo nosso contexto, não temos motivos para acreditar que a ausência seja motivada por algo mais complexo do que, por exemplo, um *erro de digitação*, por exemplo. Observamos algumas **situações** com outliers e valores negativos que **reforçam a idéia** da fonte das anomalias ser meramente algum tipo de **equívoco ou erro na entrada do registro**.\n",
    "\n",
    "Além disso, nos baseamos na premissa de que os dados faltantes tem alguma *relação com as variáveis observadas*. Sendo assim, iremos considerar que os dados ausententes se enquadram na categoria **MAR**."
   ]
  },
  {
   "attachments": {},
   "cell_type": "markdown",
   "metadata": {},
   "source": [
    "## Substituindo Dados Anômalos<a id=\"7\"></a>"
   ]
  },
  {
   "attachments": {},
   "cell_type": "markdown",
   "metadata": {},
   "source": [
    "A partir do momento que identificamos a categoria em que nossos dados faltantes se encaixam, podemos **lidar com as outras anomalias**. Como decidido, iremos **substituir** todas elas por ***NaN***.\n",
    "\n",
    "Apenas para recordar, vamos listar todas as substituições que faremos:\n",
    "* Outliers\n",
    "* Valores negativos\n",
    "* Valores contínuos\n",
    "\n",
    "Após isso feito, seguiremos para a imputação de dados."
   ]
  },
  {
   "attachments": {},
   "cell_type": "markdown",
   "metadata": {},
   "source": [
    "### Outliers"
   ]
  },
  {
   "attachments": {},
   "cell_type": "markdown",
   "metadata": {},
   "source": [
    "Infelizmente, como utilizamos a **soma** de ocupação por casos *suspeitos* e *confirmados* para identificar outliers, acabamos por *atrelar* os dois valores. \n",
    "\n",
    "Isso significa que quando identificamos um registro com outlier, temos que remover todos os dados utilizados para chegar a esta conclusão. Por exemplo, se identificarmos um registro com outliers em leitos **clínicos**, precisamos substituir tanto `ocupacaoSuspeitoCli` quanto `ocupacaoConfirmadoCli`."
   ]
  },
  {
   "attachments": {},
   "cell_type": "markdown",
   "metadata": {},
   "source": [
    "#### Leitos Clínicos"
   ]
  },
  {
   "cell_type": "code",
   "execution_count": 75,
   "metadata": {},
   "outputs": [
    {
     "data": {
      "text/plain": [
       "Index([78255, 81706, 133204, 164127, 215744, 227161, 254558, 548467, 550698], dtype='int64')"
      ]
     },
     "execution_count": 75,
     "metadata": {},
     "output_type": "execute_result"
    }
   ],
   "source": [
    "drop_indexes = df.loc[(df['ocupacaoSuspeitoCli'] + df['ocupacaoConfirmadoCli']) > 1843].index\n",
    "drop_indexes"
   ]
  },
  {
   "cell_type": "code",
   "execution_count": 76,
   "metadata": {},
   "outputs": [
    {
     "data": {
      "text/plain": [
       "_id                                    yOXQI4OS0B\n",
       "dataNotificacao          2020-06-19T03:00:00.000Z\n",
       "cnes                                      13846.0\n",
       "ocupacaoSuspeitoCli                        2240.0\n",
       "ocupacaoSuspeitoUti                         157.0\n",
       "ocupacaoConfirmadoCli                        84.0\n",
       "ocupacaoConfirmadoUti                        52.0\n",
       "saidaSuspeitaObitos                           1.0\n",
       "saidaSuspeitaAltas                            1.0\n",
       "saidaConfirmadaObitos                         2.0\n",
       "saidaConfirmadaAltas                          9.0\n",
       "origem                                parse-cloud\n",
       "_p_usuario                       _User$PtPnlbdEeC\n",
       "estadoNotificacao                          Paraná\n",
       "municipioNotificacao                  Campo Largo\n",
       "estado                                     Paraná\n",
       "municipio                             Campo Largo\n",
       "excluido                                    False\n",
       "validado                                    False\n",
       "_created_at              2020-06-19T21:54:36.096Z\n",
       "_updated_at              2020-09-21T15:55:38.720Z\n",
       "uf                                             PR\n",
       "Name: 78255, dtype: object"
      ]
     },
     "execution_count": 76,
     "metadata": {},
     "output_type": "execute_result"
    }
   ],
   "source": [
    "# Antes da modificação\n",
    "df.loc[78255]"
   ]
  },
  {
   "cell_type": "code",
   "execution_count": 77,
   "metadata": {},
   "outputs": [],
   "source": [
    "target_cols = ['ocupacaoSuspeitoCli', 'ocupacaoConfirmadoCli']\n",
    "for item in drop_indexes:\n",
    "    for col in target_cols:\n",
    "        df.loc[item, col] = np.NaN"
   ]
  },
  {
   "cell_type": "code",
   "execution_count": 78,
   "metadata": {},
   "outputs": [
    {
     "data": {
      "text/plain": [
       "_id                                    yOXQI4OS0B\n",
       "dataNotificacao          2020-06-19T03:00:00.000Z\n",
       "cnes                                      13846.0\n",
       "ocupacaoSuspeitoCli                           NaN\n",
       "ocupacaoSuspeitoUti                         157.0\n",
       "ocupacaoConfirmadoCli                         NaN\n",
       "ocupacaoConfirmadoUti                        52.0\n",
       "saidaSuspeitaObitos                           1.0\n",
       "saidaSuspeitaAltas                            1.0\n",
       "saidaConfirmadaObitos                         2.0\n",
       "saidaConfirmadaAltas                          9.0\n",
       "origem                                parse-cloud\n",
       "_p_usuario                       _User$PtPnlbdEeC\n",
       "estadoNotificacao                          Paraná\n",
       "municipioNotificacao                  Campo Largo\n",
       "estado                                     Paraná\n",
       "municipio                             Campo Largo\n",
       "excluido                                    False\n",
       "validado                                    False\n",
       "_created_at              2020-06-19T21:54:36.096Z\n",
       "_updated_at              2020-09-21T15:55:38.720Z\n",
       "uf                                             PR\n",
       "Name: 78255, dtype: object"
      ]
     },
     "execution_count": 78,
     "metadata": {},
     "output_type": "execute_result"
    }
   ],
   "source": [
    "# Após a modificação - 'ocupacaoSuspeitoCli' e 'ocupacaoConfirmadoCli' devem ser 'NaN'\n",
    "df.loc[78255]"
   ]
  },
  {
   "attachments": {},
   "cell_type": "markdown",
   "metadata": {},
   "source": [
    "Apenas verificando se tudo deu certo:"
   ]
  },
  {
   "cell_type": "code",
   "execution_count": 79,
   "metadata": {},
   "outputs": [
    {
     "data": {
      "text/html": [
       "<div>\n",
       "<style scoped>\n",
       "    .dataframe tbody tr th:only-of-type {\n",
       "        vertical-align: middle;\n",
       "    }\n",
       "\n",
       "    .dataframe tbody tr th {\n",
       "        vertical-align: top;\n",
       "    }\n",
       "\n",
       "    .dataframe thead th {\n",
       "        text-align: right;\n",
       "    }\n",
       "</style>\n",
       "<table border=\"1\" class=\"dataframe\">\n",
       "  <thead>\n",
       "    <tr style=\"text-align: right;\">\n",
       "      <th></th>\n",
       "      <th>_id</th>\n",
       "      <th>dataNotificacao</th>\n",
       "      <th>cnes</th>\n",
       "      <th>ocupacaoSuspeitoCli</th>\n",
       "      <th>ocupacaoSuspeitoUti</th>\n",
       "      <th>ocupacaoConfirmadoCli</th>\n",
       "      <th>ocupacaoConfirmadoUti</th>\n",
       "      <th>saidaSuspeitaObitos</th>\n",
       "      <th>saidaSuspeitaAltas</th>\n",
       "      <th>saidaConfirmadaObitos</th>\n",
       "      <th>...</th>\n",
       "      <th>_p_usuario</th>\n",
       "      <th>estadoNotificacao</th>\n",
       "      <th>municipioNotificacao</th>\n",
       "      <th>estado</th>\n",
       "      <th>municipio</th>\n",
       "      <th>excluido</th>\n",
       "      <th>validado</th>\n",
       "      <th>_created_at</th>\n",
       "      <th>_updated_at</th>\n",
       "      <th>uf</th>\n",
       "    </tr>\n",
       "  </thead>\n",
       "  <tbody>\n",
       "  </tbody>\n",
       "</table>\n",
       "<p>0 rows × 22 columns</p>\n",
       "</div>"
      ],
      "text/plain": [
       "Empty DataFrame\n",
       "Columns: [_id, dataNotificacao, cnes, ocupacaoSuspeitoCli, ocupacaoSuspeitoUti, ocupacaoConfirmadoCli, ocupacaoConfirmadoUti, saidaSuspeitaObitos, saidaSuspeitaAltas, saidaConfirmadaObitos, saidaConfirmadaAltas, origem, _p_usuario, estadoNotificacao, municipioNotificacao, estado, municipio, excluido, validado, _created_at, _updated_at, uf]\n",
       "Index: []\n",
       "\n",
       "[0 rows x 22 columns]"
      ]
     },
     "execution_count": 79,
     "metadata": {},
     "output_type": "execute_result"
    }
   ],
   "source": [
    "df.loc[(df['ocupacaoSuspeitoCli'] + df['ocupacaoConfirmadoCli']) > 1843]"
   ]
  },
  {
   "cell_type": "code",
   "execution_count": 80,
   "metadata": {},
   "outputs": [
    {
     "data": {
      "text/html": [
       "<div>\n",
       "<style scoped>\n",
       "    .dataframe tbody tr th:only-of-type {\n",
       "        vertical-align: middle;\n",
       "    }\n",
       "\n",
       "    .dataframe tbody tr th {\n",
       "        vertical-align: top;\n",
       "    }\n",
       "\n",
       "    .dataframe thead th {\n",
       "        text-align: right;\n",
       "    }\n",
       "</style>\n",
       "<table border=\"1\" class=\"dataframe\">\n",
       "  <thead>\n",
       "    <tr style=\"text-align: right;\">\n",
       "      <th></th>\n",
       "      <th>ocupacaoSuspeitoCli</th>\n",
       "      <th>ocupacaoSuspeitoUti</th>\n",
       "      <th>ocupacaoConfirmadoCli</th>\n",
       "      <th>ocupacaoConfirmadoUti</th>\n",
       "      <th>saidaSuspeitaObitos</th>\n",
       "      <th>saidaSuspeitaAltas</th>\n",
       "      <th>saidaConfirmadaObitos</th>\n",
       "      <th>saidaConfirmadaAltas</th>\n",
       "    </tr>\n",
       "  </thead>\n",
       "  <tbody>\n",
       "    <tr>\n",
       "      <th>78255</th>\n",
       "      <td>NaN</td>\n",
       "      <td>157.0</td>\n",
       "      <td>NaN</td>\n",
       "      <td>52.0</td>\n",
       "      <td>1.0</td>\n",
       "      <td>1.0</td>\n",
       "      <td>2.0</td>\n",
       "      <td>9.0</td>\n",
       "    </tr>\n",
       "    <tr>\n",
       "      <th>81706</th>\n",
       "      <td>NaN</td>\n",
       "      <td>0.0</td>\n",
       "      <td>NaN</td>\n",
       "      <td>0.0</td>\n",
       "      <td>0.0</td>\n",
       "      <td>0.0</td>\n",
       "      <td>0.0</td>\n",
       "      <td>0.0</td>\n",
       "    </tr>\n",
       "    <tr>\n",
       "      <th>133204</th>\n",
       "      <td>NaN</td>\n",
       "      <td>0.0</td>\n",
       "      <td>NaN</td>\n",
       "      <td>0.0</td>\n",
       "      <td>0.0</td>\n",
       "      <td>0.0</td>\n",
       "      <td>0.0</td>\n",
       "      <td>0.0</td>\n",
       "    </tr>\n",
       "    <tr>\n",
       "      <th>164127</th>\n",
       "      <td>NaN</td>\n",
       "      <td>0.0</td>\n",
       "      <td>NaN</td>\n",
       "      <td>0.0</td>\n",
       "      <td>0.0</td>\n",
       "      <td>0.0</td>\n",
       "      <td>0.0</td>\n",
       "      <td>0.0</td>\n",
       "    </tr>\n",
       "    <tr>\n",
       "      <th>215744</th>\n",
       "      <td>NaN</td>\n",
       "      <td>3.0</td>\n",
       "      <td>NaN</td>\n",
       "      <td>1.0</td>\n",
       "      <td>1.0</td>\n",
       "      <td>5.0</td>\n",
       "      <td>0.0</td>\n",
       "      <td>1.0</td>\n",
       "    </tr>\n",
       "    <tr>\n",
       "      <th>227161</th>\n",
       "      <td>NaN</td>\n",
       "      <td>0.0</td>\n",
       "      <td>NaN</td>\n",
       "      <td>0.0</td>\n",
       "      <td>0.0</td>\n",
       "      <td>0.0</td>\n",
       "      <td>0.0</td>\n",
       "      <td>0.0</td>\n",
       "    </tr>\n",
       "    <tr>\n",
       "      <th>254558</th>\n",
       "      <td>NaN</td>\n",
       "      <td>41.0</td>\n",
       "      <td>NaN</td>\n",
       "      <td>0.0</td>\n",
       "      <td>0.0</td>\n",
       "      <td>0.0</td>\n",
       "      <td>0.0</td>\n",
       "      <td>0.0</td>\n",
       "    </tr>\n",
       "    <tr>\n",
       "      <th>548467</th>\n",
       "      <td>NaN</td>\n",
       "      <td>52.0</td>\n",
       "      <td>NaN</td>\n",
       "      <td>8.0</td>\n",
       "      <td>0.0</td>\n",
       "      <td>0.0</td>\n",
       "      <td>0.0</td>\n",
       "      <td>0.0</td>\n",
       "    </tr>\n",
       "    <tr>\n",
       "      <th>550698</th>\n",
       "      <td>NaN</td>\n",
       "      <td>64.0</td>\n",
       "      <td>NaN</td>\n",
       "      <td>21.0</td>\n",
       "      <td>2.0</td>\n",
       "      <td>2.0</td>\n",
       "      <td>0.0</td>\n",
       "      <td>6.0</td>\n",
       "    </tr>\n",
       "  </tbody>\n",
       "</table>\n",
       "</div>"
      ],
      "text/plain": [
       "        ocupacaoSuspeitoCli  ocupacaoSuspeitoUti  ocupacaoConfirmadoCli   \n",
       "78255                   NaN                157.0                    NaN  \\\n",
       "81706                   NaN                  0.0                    NaN   \n",
       "133204                  NaN                  0.0                    NaN   \n",
       "164127                  NaN                  0.0                    NaN   \n",
       "215744                  NaN                  3.0                    NaN   \n",
       "227161                  NaN                  0.0                    NaN   \n",
       "254558                  NaN                 41.0                    NaN   \n",
       "548467                  NaN                 52.0                    NaN   \n",
       "550698                  NaN                 64.0                    NaN   \n",
       "\n",
       "        ocupacaoConfirmadoUti  saidaSuspeitaObitos  saidaSuspeitaAltas   \n",
       "78255                    52.0                  1.0                 1.0  \\\n",
       "81706                     0.0                  0.0                 0.0   \n",
       "133204                    0.0                  0.0                 0.0   \n",
       "164127                    0.0                  0.0                 0.0   \n",
       "215744                    1.0                  1.0                 5.0   \n",
       "227161                    0.0                  0.0                 0.0   \n",
       "254558                    0.0                  0.0                 0.0   \n",
       "548467                    8.0                  0.0                 0.0   \n",
       "550698                   21.0                  2.0                 2.0   \n",
       "\n",
       "        saidaConfirmadaObitos  saidaConfirmadaAltas  \n",
       "78255                     2.0                   9.0  \n",
       "81706                     0.0                   0.0  \n",
       "133204                    0.0                   0.0  \n",
       "164127                    0.0                   0.0  \n",
       "215744                    0.0                   1.0  \n",
       "227161                    0.0                   0.0  \n",
       "254558                    0.0                   0.0  \n",
       "548467                    0.0                   0.0  \n",
       "550698                    0.0                   6.0  "
      ]
     },
     "execution_count": 80,
     "metadata": {},
     "output_type": "execute_result"
    }
   ],
   "source": [
    "df.loc[drop_indexes, cols]"
   ]
  },
  {
   "attachments": {},
   "cell_type": "markdown",
   "metadata": {},
   "source": [
    "Perfeito. Vamos fazer o mesmo procedimento com leitos de UTI e saídas."
   ]
  },
  {
   "attachments": {},
   "cell_type": "markdown",
   "metadata": {},
   "source": [
    "#### Leitos UTI"
   ]
  },
  {
   "cell_type": "code",
   "execution_count": 81,
   "metadata": {},
   "outputs": [],
   "source": [
    "drop_indexes = df.loc[(df['ocupacaoSuspeitoUti'] + df['ocupacaoConfirmadoUti']) > 380].index\n",
    "target_cols = ['ocupacaoSuspeitoUti', 'ocupacaoConfirmadoUti']\n",
    "for item in drop_indexes:\n",
    "    for col in target_cols:\n",
    "        df.loc[item, col] = np.NaN"
   ]
  },
  {
   "cell_type": "code",
   "execution_count": 82,
   "metadata": {},
   "outputs": [
    {
     "data": {
      "text/html": [
       "<div>\n",
       "<style scoped>\n",
       "    .dataframe tbody tr th:only-of-type {\n",
       "        vertical-align: middle;\n",
       "    }\n",
       "\n",
       "    .dataframe tbody tr th {\n",
       "        vertical-align: top;\n",
       "    }\n",
       "\n",
       "    .dataframe thead th {\n",
       "        text-align: right;\n",
       "    }\n",
       "</style>\n",
       "<table border=\"1\" class=\"dataframe\">\n",
       "  <thead>\n",
       "    <tr style=\"text-align: right;\">\n",
       "      <th></th>\n",
       "      <th>ocupacaoSuspeitoCli</th>\n",
       "      <th>ocupacaoSuspeitoUti</th>\n",
       "      <th>ocupacaoConfirmadoCli</th>\n",
       "      <th>ocupacaoConfirmadoUti</th>\n",
       "      <th>saidaSuspeitaObitos</th>\n",
       "      <th>saidaSuspeitaAltas</th>\n",
       "      <th>saidaConfirmadaObitos</th>\n",
       "      <th>saidaConfirmadaAltas</th>\n",
       "    </tr>\n",
       "  </thead>\n",
       "  <tbody>\n",
       "  </tbody>\n",
       "</table>\n",
       "</div>"
      ],
      "text/plain": [
       "Empty DataFrame\n",
       "Columns: [ocupacaoSuspeitoCli, ocupacaoSuspeitoUti, ocupacaoConfirmadoCli, ocupacaoConfirmadoUti, saidaSuspeitaObitos, saidaSuspeitaAltas, saidaConfirmadaObitos, saidaConfirmadaAltas]\n",
       "Index: []"
      ]
     },
     "execution_count": 82,
     "metadata": {},
     "output_type": "execute_result"
    }
   ],
   "source": [
    "df.loc[(df['ocupacaoSuspeitoUti'] + df['ocupacaoConfirmadoUti']) > 380, cols]"
   ]
  },
  {
   "cell_type": "code",
   "execution_count": 83,
   "metadata": {},
   "outputs": [
    {
     "data": {
      "text/html": [
       "<div>\n",
       "<style scoped>\n",
       "    .dataframe tbody tr th:only-of-type {\n",
       "        vertical-align: middle;\n",
       "    }\n",
       "\n",
       "    .dataframe tbody tr th {\n",
       "        vertical-align: top;\n",
       "    }\n",
       "\n",
       "    .dataframe thead th {\n",
       "        text-align: right;\n",
       "    }\n",
       "</style>\n",
       "<table border=\"1\" class=\"dataframe\">\n",
       "  <thead>\n",
       "    <tr style=\"text-align: right;\">\n",
       "      <th></th>\n",
       "      <th>ocupacaoSuspeitoCli</th>\n",
       "      <th>ocupacaoSuspeitoUti</th>\n",
       "      <th>ocupacaoConfirmadoCli</th>\n",
       "      <th>ocupacaoConfirmadoUti</th>\n",
       "      <th>saidaSuspeitaObitos</th>\n",
       "      <th>saidaSuspeitaAltas</th>\n",
       "      <th>saidaConfirmadaObitos</th>\n",
       "      <th>saidaConfirmadaAltas</th>\n",
       "    </tr>\n",
       "  </thead>\n",
       "  <tbody>\n",
       "    <tr>\n",
       "      <th>44105</th>\n",
       "      <td>175.0</td>\n",
       "      <td>NaN</td>\n",
       "      <td>105.0</td>\n",
       "      <td>NaN</td>\n",
       "      <td>2.0</td>\n",
       "      <td>15.0</td>\n",
       "      <td>3.0</td>\n",
       "      <td>9.0</td>\n",
       "    </tr>\n",
       "    <tr>\n",
       "      <th>44107</th>\n",
       "      <td>175.0</td>\n",
       "      <td>NaN</td>\n",
       "      <td>105.0</td>\n",
       "      <td>NaN</td>\n",
       "      <td>5.0</td>\n",
       "      <td>24.0</td>\n",
       "      <td>0.0</td>\n",
       "      <td>0.0</td>\n",
       "    </tr>\n",
       "    <tr>\n",
       "      <th>47910</th>\n",
       "      <td>109.0</td>\n",
       "      <td>NaN</td>\n",
       "      <td>109.0</td>\n",
       "      <td>NaN</td>\n",
       "      <td>2.0</td>\n",
       "      <td>8.0</td>\n",
       "      <td>1.0</td>\n",
       "      <td>2.0</td>\n",
       "    </tr>\n",
       "    <tr>\n",
       "      <th>49023</th>\n",
       "      <td>102.0</td>\n",
       "      <td>NaN</td>\n",
       "      <td>102.0</td>\n",
       "      <td>NaN</td>\n",
       "      <td>2.0</td>\n",
       "      <td>7.0</td>\n",
       "      <td>2.0</td>\n",
       "      <td>10.0</td>\n",
       "    </tr>\n",
       "    <tr>\n",
       "      <th>57500</th>\n",
       "      <td>175.0</td>\n",
       "      <td>NaN</td>\n",
       "      <td>123.0</td>\n",
       "      <td>NaN</td>\n",
       "      <td>4.0</td>\n",
       "      <td>9.0</td>\n",
       "      <td>3.0</td>\n",
       "      <td>10.0</td>\n",
       "    </tr>\n",
       "    <tr>\n",
       "      <th>...</th>\n",
       "      <td>...</td>\n",
       "      <td>...</td>\n",
       "      <td>...</td>\n",
       "      <td>...</td>\n",
       "      <td>...</td>\n",
       "      <td>...</td>\n",
       "      <td>...</td>\n",
       "      <td>...</td>\n",
       "    </tr>\n",
       "    <tr>\n",
       "      <th>517022</th>\n",
       "      <td>21.0</td>\n",
       "      <td>NaN</td>\n",
       "      <td>4.0</td>\n",
       "      <td>NaN</td>\n",
       "      <td>0.0</td>\n",
       "      <td>0.0</td>\n",
       "      <td>0.0</td>\n",
       "      <td>1.0</td>\n",
       "    </tr>\n",
       "    <tr>\n",
       "      <th>521438</th>\n",
       "      <td>77.0</td>\n",
       "      <td>NaN</td>\n",
       "      <td>27.0</td>\n",
       "      <td>NaN</td>\n",
       "      <td>1.0</td>\n",
       "      <td>4.0</td>\n",
       "      <td>3.0</td>\n",
       "      <td>8.0</td>\n",
       "    </tr>\n",
       "    <tr>\n",
       "      <th>521472</th>\n",
       "      <td>73.0</td>\n",
       "      <td>NaN</td>\n",
       "      <td>24.0</td>\n",
       "      <td>NaN</td>\n",
       "      <td>1.0</td>\n",
       "      <td>3.0</td>\n",
       "      <td>7.0</td>\n",
       "      <td>3.0</td>\n",
       "    </tr>\n",
       "    <tr>\n",
       "      <th>524296</th>\n",
       "      <td>72.0</td>\n",
       "      <td>NaN</td>\n",
       "      <td>22.0</td>\n",
       "      <td>NaN</td>\n",
       "      <td>0.0</td>\n",
       "      <td>1.0</td>\n",
       "      <td>5.0</td>\n",
       "      <td>4.0</td>\n",
       "    </tr>\n",
       "    <tr>\n",
       "      <th>535855</th>\n",
       "      <td>64.0</td>\n",
       "      <td>NaN</td>\n",
       "      <td>26.0</td>\n",
       "      <td>NaN</td>\n",
       "      <td>2.0</td>\n",
       "      <td>1.0</td>\n",
       "      <td>0.0</td>\n",
       "      <td>2.0</td>\n",
       "    </tr>\n",
       "  </tbody>\n",
       "</table>\n",
       "<p>90 rows × 8 columns</p>\n",
       "</div>"
      ],
      "text/plain": [
       "        ocupacaoSuspeitoCli  ocupacaoSuspeitoUti  ocupacaoConfirmadoCli   \n",
       "44105                 175.0                  NaN                  105.0  \\\n",
       "44107                 175.0                  NaN                  105.0   \n",
       "47910                 109.0                  NaN                  109.0   \n",
       "49023                 102.0                  NaN                  102.0   \n",
       "57500                 175.0                  NaN                  123.0   \n",
       "...                     ...                  ...                    ...   \n",
       "517022                 21.0                  NaN                    4.0   \n",
       "521438                 77.0                  NaN                   27.0   \n",
       "521472                 73.0                  NaN                   24.0   \n",
       "524296                 72.0                  NaN                   22.0   \n",
       "535855                 64.0                  NaN                   26.0   \n",
       "\n",
       "        ocupacaoConfirmadoUti  saidaSuspeitaObitos  saidaSuspeitaAltas   \n",
       "44105                     NaN                  2.0                15.0  \\\n",
       "44107                     NaN                  5.0                24.0   \n",
       "47910                     NaN                  2.0                 8.0   \n",
       "49023                     NaN                  2.0                 7.0   \n",
       "57500                     NaN                  4.0                 9.0   \n",
       "...                       ...                  ...                 ...   \n",
       "517022                    NaN                  0.0                 0.0   \n",
       "521438                    NaN                  1.0                 4.0   \n",
       "521472                    NaN                  1.0                 3.0   \n",
       "524296                    NaN                  0.0                 1.0   \n",
       "535855                    NaN                  2.0                 1.0   \n",
       "\n",
       "        saidaConfirmadaObitos  saidaConfirmadaAltas  \n",
       "44105                     3.0                   9.0  \n",
       "44107                     0.0                   0.0  \n",
       "47910                     1.0                   2.0  \n",
       "49023                     2.0                  10.0  \n",
       "57500                     3.0                  10.0  \n",
       "...                       ...                   ...  \n",
       "517022                    0.0                   1.0  \n",
       "521438                    3.0                   8.0  \n",
       "521472                    7.0                   3.0  \n",
       "524296                    5.0                   4.0  \n",
       "535855                    0.0                   2.0  \n",
       "\n",
       "[90 rows x 8 columns]"
      ]
     },
     "execution_count": 83,
     "metadata": {},
     "output_type": "execute_result"
    }
   ],
   "source": [
    "df.loc[drop_indexes, cols]"
   ]
  },
  {
   "attachments": {},
   "cell_type": "markdown",
   "metadata": {},
   "source": [
    "#### Altas"
   ]
  },
  {
   "cell_type": "code",
   "execution_count": 84,
   "metadata": {},
   "outputs": [],
   "source": [
    "drop_indexes = df.loc[(df['saidaSuspeitaObitos'] + df['saidaSuspeitaAltas'] + df['saidaConfirmadaObitos']\\\n",
    "                        + df['saidaConfirmadaAltas']) > 1843 + 380].index\n",
    "target_cols = ['saidaSuspeitaObitos', 'saidaSuspeitaAltas', 'saidaConfirmadaObitos', 'saidaConfirmadaAltas']\n",
    "for item in drop_indexes:\n",
    "    for col in target_cols:\n",
    "        df.loc[item, col] = np.NaN"
   ]
  },
  {
   "cell_type": "code",
   "execution_count": 85,
   "metadata": {},
   "outputs": [
    {
     "data": {
      "text/html": [
       "<div>\n",
       "<style scoped>\n",
       "    .dataframe tbody tr th:only-of-type {\n",
       "        vertical-align: middle;\n",
       "    }\n",
       "\n",
       "    .dataframe tbody tr th {\n",
       "        vertical-align: top;\n",
       "    }\n",
       "\n",
       "    .dataframe thead th {\n",
       "        text-align: right;\n",
       "    }\n",
       "</style>\n",
       "<table border=\"1\" class=\"dataframe\">\n",
       "  <thead>\n",
       "    <tr style=\"text-align: right;\">\n",
       "      <th></th>\n",
       "      <th>_id</th>\n",
       "      <th>dataNotificacao</th>\n",
       "      <th>cnes</th>\n",
       "      <th>ocupacaoSuspeitoCli</th>\n",
       "      <th>ocupacaoSuspeitoUti</th>\n",
       "      <th>ocupacaoConfirmadoCli</th>\n",
       "      <th>ocupacaoConfirmadoUti</th>\n",
       "      <th>saidaSuspeitaObitos</th>\n",
       "      <th>saidaSuspeitaAltas</th>\n",
       "      <th>saidaConfirmadaObitos</th>\n",
       "      <th>...</th>\n",
       "      <th>_p_usuario</th>\n",
       "      <th>estadoNotificacao</th>\n",
       "      <th>municipioNotificacao</th>\n",
       "      <th>estado</th>\n",
       "      <th>municipio</th>\n",
       "      <th>excluido</th>\n",
       "      <th>validado</th>\n",
       "      <th>_created_at</th>\n",
       "      <th>_updated_at</th>\n",
       "      <th>uf</th>\n",
       "    </tr>\n",
       "  </thead>\n",
       "  <tbody>\n",
       "  </tbody>\n",
       "</table>\n",
       "<p>0 rows × 22 columns</p>\n",
       "</div>"
      ],
      "text/plain": [
       "Empty DataFrame\n",
       "Columns: [_id, dataNotificacao, cnes, ocupacaoSuspeitoCli, ocupacaoSuspeitoUti, ocupacaoConfirmadoCli, ocupacaoConfirmadoUti, saidaSuspeitaObitos, saidaSuspeitaAltas, saidaConfirmadaObitos, saidaConfirmadaAltas, origem, _p_usuario, estadoNotificacao, municipioNotificacao, estado, municipio, excluido, validado, _created_at, _updated_at, uf]\n",
       "Index: []\n",
       "\n",
       "[0 rows x 22 columns]"
      ]
     },
     "execution_count": 85,
     "metadata": {},
     "output_type": "execute_result"
    }
   ],
   "source": [
    "df.loc[(df['saidaSuspeitaObitos'] + df['saidaSuspeitaAltas'] + df['saidaConfirmadaObitos'] + df['saidaConfirmadaAltas']) > 1843 + 380]"
   ]
  },
  {
   "cell_type": "code",
   "execution_count": 86,
   "metadata": {},
   "outputs": [
    {
     "data": {
      "text/html": [
       "<div>\n",
       "<style scoped>\n",
       "    .dataframe tbody tr th:only-of-type {\n",
       "        vertical-align: middle;\n",
       "    }\n",
       "\n",
       "    .dataframe tbody tr th {\n",
       "        vertical-align: top;\n",
       "    }\n",
       "\n",
       "    .dataframe thead th {\n",
       "        text-align: right;\n",
       "    }\n",
       "</style>\n",
       "<table border=\"1\" class=\"dataframe\">\n",
       "  <thead>\n",
       "    <tr style=\"text-align: right;\">\n",
       "      <th></th>\n",
       "      <th>ocupacaoSuspeitoCli</th>\n",
       "      <th>ocupacaoSuspeitoUti</th>\n",
       "      <th>ocupacaoConfirmadoCli</th>\n",
       "      <th>ocupacaoConfirmadoUti</th>\n",
       "      <th>saidaSuspeitaObitos</th>\n",
       "      <th>saidaSuspeitaAltas</th>\n",
       "      <th>saidaConfirmadaObitos</th>\n",
       "      <th>saidaConfirmadaAltas</th>\n",
       "    </tr>\n",
       "  </thead>\n",
       "  <tbody>\n",
       "    <tr>\n",
       "      <th>44202</th>\n",
       "      <td>0.0</td>\n",
       "      <td>0.0</td>\n",
       "      <td>1.0</td>\n",
       "      <td>0.0</td>\n",
       "      <td>NaN</td>\n",
       "      <td>NaN</td>\n",
       "      <td>NaN</td>\n",
       "      <td>NaN</td>\n",
       "    </tr>\n",
       "    <tr>\n",
       "      <th>190603</th>\n",
       "      <td>9.0</td>\n",
       "      <td>0.0</td>\n",
       "      <td>9.0</td>\n",
       "      <td>0.0</td>\n",
       "      <td>NaN</td>\n",
       "      <td>NaN</td>\n",
       "      <td>NaN</td>\n",
       "      <td>NaN</td>\n",
       "    </tr>\n",
       "    <tr>\n",
       "      <th>277740</th>\n",
       "      <td>12.0</td>\n",
       "      <td>0.0</td>\n",
       "      <td>3.0</td>\n",
       "      <td>0.0</td>\n",
       "      <td>NaN</td>\n",
       "      <td>NaN</td>\n",
       "      <td>NaN</td>\n",
       "      <td>NaN</td>\n",
       "    </tr>\n",
       "    <tr>\n",
       "      <th>554213</th>\n",
       "      <td>30.0</td>\n",
       "      <td>0.0</td>\n",
       "      <td>8.0</td>\n",
       "      <td>0.0</td>\n",
       "      <td>NaN</td>\n",
       "      <td>NaN</td>\n",
       "      <td>NaN</td>\n",
       "      <td>NaN</td>\n",
       "    </tr>\n",
       "    <tr>\n",
       "      <th>554214</th>\n",
       "      <td>30.0</td>\n",
       "      <td>0.0</td>\n",
       "      <td>8.0</td>\n",
       "      <td>0.0</td>\n",
       "      <td>NaN</td>\n",
       "      <td>NaN</td>\n",
       "      <td>NaN</td>\n",
       "      <td>NaN</td>\n",
       "    </tr>\n",
       "  </tbody>\n",
       "</table>\n",
       "</div>"
      ],
      "text/plain": [
       "        ocupacaoSuspeitoCli  ocupacaoSuspeitoUti  ocupacaoConfirmadoCli   \n",
       "44202                   0.0                  0.0                    1.0  \\\n",
       "190603                  9.0                  0.0                    9.0   \n",
       "277740                 12.0                  0.0                    3.0   \n",
       "554213                 30.0                  0.0                    8.0   \n",
       "554214                 30.0                  0.0                    8.0   \n",
       "\n",
       "        ocupacaoConfirmadoUti  saidaSuspeitaObitos  saidaSuspeitaAltas   \n",
       "44202                     0.0                  NaN                 NaN  \\\n",
       "190603                    0.0                  NaN                 NaN   \n",
       "277740                    0.0                  NaN                 NaN   \n",
       "554213                    0.0                  NaN                 NaN   \n",
       "554214                    0.0                  NaN                 NaN   \n",
       "\n",
       "        saidaConfirmadaObitos  saidaConfirmadaAltas  \n",
       "44202                     NaN                   NaN  \n",
       "190603                    NaN                   NaN  \n",
       "277740                    NaN                   NaN  \n",
       "554213                    NaN                   NaN  \n",
       "554214                    NaN                   NaN  "
      ]
     },
     "execution_count": 86,
     "metadata": {},
     "output_type": "execute_result"
    }
   ],
   "source": [
    "df.loc[drop_indexes, cols]"
   ]
  },
  {
   "attachments": {},
   "cell_type": "markdown",
   "metadata": {},
   "source": [
    "Terminamos com outliers."
   ]
  },
  {
   "attachments": {},
   "cell_type": "markdown",
   "metadata": {},
   "source": [
    "### Valores Negativos"
   ]
  },
  {
   "cell_type": "code",
   "execution_count": 87,
   "metadata": {},
   "outputs": [],
   "source": [
    "for col in cols:\n",
    "    df[col] = df[col].apply(lambda x: utils.check_negative(x))"
   ]
  },
  {
   "cell_type": "code",
   "execution_count": 88,
   "metadata": {},
   "outputs": [
    {
     "data": {
      "text/html": [
       "<div>\n",
       "<style scoped>\n",
       "    .dataframe tbody tr th:only-of-type {\n",
       "        vertical-align: middle;\n",
       "    }\n",
       "\n",
       "    .dataframe tbody tr th {\n",
       "        vertical-align: top;\n",
       "    }\n",
       "\n",
       "    .dataframe thead th {\n",
       "        text-align: right;\n",
       "    }\n",
       "</style>\n",
       "<table border=\"1\" class=\"dataframe\">\n",
       "  <thead>\n",
       "    <tr style=\"text-align: right;\">\n",
       "      <th></th>\n",
       "      <th>_id</th>\n",
       "      <th>dataNotificacao</th>\n",
       "      <th>cnes</th>\n",
       "      <th>ocupacaoSuspeitoCli</th>\n",
       "      <th>ocupacaoSuspeitoUti</th>\n",
       "      <th>ocupacaoConfirmadoCli</th>\n",
       "      <th>ocupacaoConfirmadoUti</th>\n",
       "      <th>saidaSuspeitaObitos</th>\n",
       "      <th>saidaSuspeitaAltas</th>\n",
       "      <th>saidaConfirmadaObitos</th>\n",
       "      <th>...</th>\n",
       "      <th>_p_usuario</th>\n",
       "      <th>estadoNotificacao</th>\n",
       "      <th>municipioNotificacao</th>\n",
       "      <th>estado</th>\n",
       "      <th>municipio</th>\n",
       "      <th>excluido</th>\n",
       "      <th>validado</th>\n",
       "      <th>_created_at</th>\n",
       "      <th>_updated_at</th>\n",
       "      <th>uf</th>\n",
       "    </tr>\n",
       "  </thead>\n",
       "  <tbody>\n",
       "  </tbody>\n",
       "</table>\n",
       "<p>0 rows × 22 columns</p>\n",
       "</div>"
      ],
      "text/plain": [
       "Empty DataFrame\n",
       "Columns: [_id, dataNotificacao, cnes, ocupacaoSuspeitoCli, ocupacaoSuspeitoUti, ocupacaoConfirmadoCli, ocupacaoConfirmadoUti, saidaSuspeitaObitos, saidaSuspeitaAltas, saidaConfirmadaObitos, saidaConfirmadaAltas, origem, _p_usuario, estadoNotificacao, municipioNotificacao, estado, municipio, excluido, validado, _created_at, _updated_at, uf]\n",
       "Index: []\n",
       "\n",
       "[0 rows x 22 columns]"
      ]
     },
     "execution_count": 88,
     "metadata": {},
     "output_type": "execute_result"
    }
   ],
   "source": [
    "# novamente checa por valores negativos nas colunas selecionadas\n",
    "negative_vals = df[cols].lt(0).any(axis=1)\n",
    "df.loc[negative_vals]"
   ]
  },
  {
   "attachments": {},
   "cell_type": "markdown",
   "metadata": {},
   "source": [
    "### Valores Contínuos"
   ]
  },
  {
   "cell_type": "code",
   "execution_count": 89,
   "metadata": {},
   "outputs": [],
   "source": [
    "for col in cols:\n",
    "    df[col] = df[col].apply(lambda x: utils.check_int(x))"
   ]
  },
  {
   "cell_type": "code",
   "execution_count": 90,
   "metadata": {},
   "outputs": [
    {
     "data": {
      "text/plain": [
       "13853678.0"
      ]
     },
     "execution_count": 90,
     "metadata": {},
     "output_type": "execute_result"
    }
   ],
   "source": [
    "# novamente o teste simples que havia nos retornado um número fracionado\n",
    "df['ocupacaoSuspeitoCli'].sum()"
   ]
  },
  {
   "attachments": {},
   "cell_type": "markdown",
   "metadata": {},
   "source": [
    "Com isso finalizamos a etapa de substituição de anomalias por valores em branco."
   ]
  },
  {
   "attachments": {},
   "cell_type": "markdown",
   "metadata": {},
   "source": [
    "## Imputando Dados<a id=\"8\"></a>"
   ]
  },
  {
   "attachments": {},
   "cell_type": "markdown",
   "metadata": {},
   "source": [
    "Agora nossos dados estão prontos para o próximo *tratamento*.\n",
    "\n",
    "Precisamos escolher qual medida utilizar para preencher os dados faltantes. Com as anomalias removidas, vamos verificar como as estatísticas descritivas estão."
   ]
  },
  {
   "cell_type": "code",
   "execution_count": 91,
   "metadata": {},
   "outputs": [
    {
     "data": {
      "text/html": [
       "<div>\n",
       "<style scoped>\n",
       "    .dataframe tbody tr th:only-of-type {\n",
       "        vertical-align: middle;\n",
       "    }\n",
       "\n",
       "    .dataframe tbody tr th {\n",
       "        vertical-align: top;\n",
       "    }\n",
       "\n",
       "    .dataframe thead th {\n",
       "        text-align: right;\n",
       "    }\n",
       "</style>\n",
       "<table border=\"1\" class=\"dataframe\">\n",
       "  <thead>\n",
       "    <tr style=\"text-align: right;\">\n",
       "      <th></th>\n",
       "      <th>ocupacaoSuspeitoCli</th>\n",
       "      <th>ocupacaoSuspeitoUti</th>\n",
       "      <th>ocupacaoConfirmadoCli</th>\n",
       "      <th>ocupacaoConfirmadoUti</th>\n",
       "      <th>saidaSuspeitaObitos</th>\n",
       "      <th>saidaSuspeitaAltas</th>\n",
       "      <th>saidaConfirmadaObitos</th>\n",
       "      <th>saidaConfirmadaAltas</th>\n",
       "    </tr>\n",
       "  </thead>\n",
       "  <tbody>\n",
       "    <tr>\n",
       "      <th>count</th>\n",
       "      <td>552891.000000</td>\n",
       "      <td>553328.000000</td>\n",
       "      <td>553292.000000</td>\n",
       "      <td>553290.000000</td>\n",
       "      <td>554036.000000</td>\n",
       "      <td>553966.000000</td>\n",
       "      <td>554148.000000</td>\n",
       "      <td>554065.000000</td>\n",
       "    </tr>\n",
       "    <tr>\n",
       "      <th>mean</th>\n",
       "      <td>25.056798</td>\n",
       "      <td>7.064007</td>\n",
       "      <td>6.004701</td>\n",
       "      <td>4.419921</td>\n",
       "      <td>0.224771</td>\n",
       "      <td>0.799529</td>\n",
       "      <td>0.373308</td>\n",
       "      <td>1.087261</td>\n",
       "    </tr>\n",
       "    <tr>\n",
       "      <th>std</th>\n",
       "      <td>51.937574</td>\n",
       "      <td>15.717352</td>\n",
       "      <td>14.419790</td>\n",
       "      <td>10.913774</td>\n",
       "      <td>3.572647</td>\n",
       "      <td>8.751985</td>\n",
       "      <td>3.746367</td>\n",
       "      <td>13.669273</td>\n",
       "    </tr>\n",
       "    <tr>\n",
       "      <th>min</th>\n",
       "      <td>0.000000</td>\n",
       "      <td>0.000000</td>\n",
       "      <td>0.000000</td>\n",
       "      <td>0.000000</td>\n",
       "      <td>0.000000</td>\n",
       "      <td>0.000000</td>\n",
       "      <td>0.000000</td>\n",
       "      <td>0.000000</td>\n",
       "    </tr>\n",
       "    <tr>\n",
       "      <th>25%</th>\n",
       "      <td>0.000000</td>\n",
       "      <td>0.000000</td>\n",
       "      <td>0.000000</td>\n",
       "      <td>0.000000</td>\n",
       "      <td>0.000000</td>\n",
       "      <td>0.000000</td>\n",
       "      <td>0.000000</td>\n",
       "      <td>0.000000</td>\n",
       "    </tr>\n",
       "    <tr>\n",
       "      <th>50%</th>\n",
       "      <td>4.000000</td>\n",
       "      <td>0.000000</td>\n",
       "      <td>1.000000</td>\n",
       "      <td>0.000000</td>\n",
       "      <td>0.000000</td>\n",
       "      <td>0.000000</td>\n",
       "      <td>0.000000</td>\n",
       "      <td>0.000000</td>\n",
       "    </tr>\n",
       "    <tr>\n",
       "      <th>75%</th>\n",
       "      <td>27.000000</td>\n",
       "      <td>8.000000</td>\n",
       "      <td>6.000000</td>\n",
       "      <td>5.000000</td>\n",
       "      <td>0.000000</td>\n",
       "      <td>0.000000</td>\n",
       "      <td>0.000000</td>\n",
       "      <td>0.000000</td>\n",
       "    </tr>\n",
       "    <tr>\n",
       "      <th>max</th>\n",
       "      <td>1622.000000</td>\n",
       "      <td>323.000000</td>\n",
       "      <td>1212.000000</td>\n",
       "      <td>334.000000</td>\n",
       "      <td>425.000000</td>\n",
       "      <td>1163.000000</td>\n",
       "      <td>322.000000</td>\n",
       "      <td>1054.000000</td>\n",
       "    </tr>\n",
       "  </tbody>\n",
       "</table>\n",
       "</div>"
      ],
      "text/plain": [
       "       ocupacaoSuspeitoCli  ocupacaoSuspeitoUti  ocupacaoConfirmadoCli   \n",
       "count        552891.000000        553328.000000          553292.000000  \\\n",
       "mean             25.056798             7.064007               6.004701   \n",
       "std              51.937574            15.717352              14.419790   \n",
       "min               0.000000             0.000000               0.000000   \n",
       "25%               0.000000             0.000000               0.000000   \n",
       "50%               4.000000             0.000000               1.000000   \n",
       "75%              27.000000             8.000000               6.000000   \n",
       "max            1622.000000           323.000000            1212.000000   \n",
       "\n",
       "       ocupacaoConfirmadoUti  saidaSuspeitaObitos  saidaSuspeitaAltas   \n",
       "count          553290.000000        554036.000000       553966.000000  \\\n",
       "mean                4.419921             0.224771            0.799529   \n",
       "std                10.913774             3.572647            8.751985   \n",
       "min                 0.000000             0.000000            0.000000   \n",
       "25%                 0.000000             0.000000            0.000000   \n",
       "50%                 0.000000             0.000000            0.000000   \n",
       "75%                 5.000000             0.000000            0.000000   \n",
       "max               334.000000           425.000000         1163.000000   \n",
       "\n",
       "       saidaConfirmadaObitos  saidaConfirmadaAltas  \n",
       "count          554148.000000         554065.000000  \n",
       "mean                0.373308              1.087261  \n",
       "std                 3.746367             13.669273  \n",
       "min                 0.000000              0.000000  \n",
       "25%                 0.000000              0.000000  \n",
       "50%                 0.000000              0.000000  \n",
       "75%                 0.000000              0.000000  \n",
       "max               322.000000           1054.000000  "
      ]
     },
     "execution_count": 91,
     "metadata": {},
     "output_type": "execute_result"
    }
   ],
   "source": [
    "df.describe()"
   ]
  },
  {
   "cell_type": "code",
   "execution_count": 92,
   "metadata": {},
   "outputs": [
    {
     "name": "stdout",
     "output_type": "stream",
     "text": [
      "Moda da coluna:\n",
      "ocupacaoSuspeitoCli: 0.0\n",
      "ocupacaoSuspeitoUti: 0.0\n",
      "ocupacaoConfirmadoCli: 0.0\n",
      "ocupacaoConfirmadoUti: 0.0\n",
      "saidaSuspeitaObitos: 0.0\n",
      "saidaSuspeitaAltas: 0.0\n",
      "saidaConfirmadaObitos: 0.0\n",
      "saidaConfirmadaAltas: 0.0\n"
     ]
    }
   ],
   "source": [
    "print(\"Moda da coluna:\")\n",
    "for col in cols:\n",
    "    print(f\"{col}: {df[col].mode()[0]}\")"
   ]
  },
  {
   "attachments": {},
   "cell_type": "markdown",
   "metadata": {},
   "source": [
    "Pelo padrão **moda < mediana < média** que observamos em todas as colunas, podemos notar que a **distribuição dos dados não é simétrica**.\n",
    "\n",
    "O que temos aqui é mais compatível com uma **distribuição com assimetria à direita** *(ou positiva)*, onde se encontram os valores *menores*. Ou seja, temos a **maior parte dos registros com valores próximos de zero**, e uma minoria com valores mais altos.\n",
    "\n",
    "Como resultado, mesmo tendo um grande amplitude de valores em todo o documento, grande parte está compactada dentro de um curto extensão. Verificamos isso com os **quartis** calculados.\n",
    "\n",
    "No retorno de `.describe()` vemos que para todas as colunas temos um valor para o **segundo quartil** *(50%)* **igual a zero ou próximo disso**. Também vemos valores para o terceiro quartil variando entre 27, 8, 5 e até mesmo 0, nos mostrando que 75% dos dados estão compreendidos nesta pequena cobertura. Ao passo que 50% do total está em 0 ou em nesta vizinhança.\n",
    "\n",
    "Observando a distribuição, vemos que todas seguem um padrao bem definido. Então, para a imputação, usaremos uma **medida de tendência central** como valor para substituir valores faltantes, visto que se trata de um método simples e que não irá causar distorções na distribuição original.\n",
    "\n",
    "Como não temos uma distribuição simétrica, a *média* não seria uma boa opção por causar um alteração muito grande. Sabemos disso pois vemos valores para a média que se equiparam aos encontrados para o terceiro quartil. Além disso, em todas as colunas temos altos valores de *desvio padrão*, sendo na melhor hipótese o *dobro da média*, nos ratificando que utilizar a média seria danoso.\n",
    "\n",
    "Outra opção poderia ser a *moda*. No entanto, vimos que para todas as colunas a moda é 0. Utilizá-la nos entregaria um resultado menos informativo. \n",
    "\n",
    "Sendo assim a **mediana** é a medida mais adequada para substituição. Pois se trata de uma **medida mais estável** e independente de valores extremos, ao mesmo tempo que nos traz mais informações sobre a disperção dos dados."
   ]
  },
  {
   "cell_type": "code",
   "execution_count": 93,
   "metadata": {},
   "outputs": [
    {
     "data": {
      "text/plain": [
       "ocupacaoSuspeitoCli\n",
       "False    552891\n",
       "True       1282\n",
       "Name: count, dtype: int64"
      ]
     },
     "execution_count": 93,
     "metadata": {},
     "output_type": "execute_result"
    }
   ],
   "source": [
    "# Contagem de valores Não nulos / Nulos antes da imputação\n",
    "df['ocupacaoSuspeitoCli'].isna().value_counts()"
   ]
  },
  {
   "cell_type": "code",
   "execution_count": 94,
   "metadata": {},
   "outputs": [],
   "source": [
    "for col in cols:\n",
    "    df[col].fillna(df[col].median(), inplace=True)"
   ]
  },
  {
   "cell_type": "code",
   "execution_count": 95,
   "metadata": {},
   "outputs": [
    {
     "data": {
      "text/plain": [
       "ocupacaoSuspeitoCli\n",
       "False    554173\n",
       "Name: count, dtype: int64"
      ]
     },
     "execution_count": 95,
     "metadata": {},
     "output_type": "execute_result"
    }
   ],
   "source": [
    "# Contagem de valores Não nulos / Nulos depois da imputação\n",
    "df['ocupacaoSuspeitoCli'].isna().value_counts()"
   ]
  },
  {
   "attachments": {},
   "cell_type": "markdown",
   "metadata": {},
   "source": [
    "Substituições feitas. Podemos verificar como ficam as estatística descritivas."
   ]
  },
  {
   "cell_type": "code",
   "execution_count": 96,
   "metadata": {},
   "outputs": [
    {
     "data": {
      "text/html": [
       "<div>\n",
       "<style scoped>\n",
       "    .dataframe tbody tr th:only-of-type {\n",
       "        vertical-align: middle;\n",
       "    }\n",
       "\n",
       "    .dataframe tbody tr th {\n",
       "        vertical-align: top;\n",
       "    }\n",
       "\n",
       "    .dataframe thead th {\n",
       "        text-align: right;\n",
       "    }\n",
       "</style>\n",
       "<table border=\"1\" class=\"dataframe\">\n",
       "  <thead>\n",
       "    <tr style=\"text-align: right;\">\n",
       "      <th></th>\n",
       "      <th>ocupacaoSuspeitoCli</th>\n",
       "      <th>ocupacaoSuspeitoUti</th>\n",
       "      <th>ocupacaoConfirmadoCli</th>\n",
       "      <th>ocupacaoConfirmadoUti</th>\n",
       "      <th>saidaSuspeitaObitos</th>\n",
       "      <th>saidaSuspeitaAltas</th>\n",
       "      <th>saidaConfirmadaObitos</th>\n",
       "      <th>saidaConfirmadaAltas</th>\n",
       "    </tr>\n",
       "  </thead>\n",
       "  <tbody>\n",
       "    <tr>\n",
       "      <th>count</th>\n",
       "      <td>554173.000000</td>\n",
       "      <td>554173.000000</td>\n",
       "      <td>554173.000000</td>\n",
       "      <td>554173.000000</td>\n",
       "      <td>554173.000000</td>\n",
       "      <td>554173.000000</td>\n",
       "      <td>554173.000000</td>\n",
       "      <td>554173.000000</td>\n",
       "    </tr>\n",
       "    <tr>\n",
       "      <th>mean</th>\n",
       "      <td>25.008086</td>\n",
       "      <td>7.053236</td>\n",
       "      <td>5.996745</td>\n",
       "      <td>4.412878</td>\n",
       "      <td>0.224715</td>\n",
       "      <td>0.799231</td>\n",
       "      <td>0.373291</td>\n",
       "      <td>1.087049</td>\n",
       "    </tr>\n",
       "    <tr>\n",
       "      <th>std</th>\n",
       "      <td>51.887327</td>\n",
       "      <td>15.707783</td>\n",
       "      <td>14.409703</td>\n",
       "      <td>10.906501</td>\n",
       "      <td>3.572207</td>\n",
       "      <td>8.750364</td>\n",
       "      <td>3.746283</td>\n",
       "      <td>13.667949</td>\n",
       "    </tr>\n",
       "    <tr>\n",
       "      <th>min</th>\n",
       "      <td>0.000000</td>\n",
       "      <td>0.000000</td>\n",
       "      <td>0.000000</td>\n",
       "      <td>0.000000</td>\n",
       "      <td>0.000000</td>\n",
       "      <td>0.000000</td>\n",
       "      <td>0.000000</td>\n",
       "      <td>0.000000</td>\n",
       "    </tr>\n",
       "    <tr>\n",
       "      <th>25%</th>\n",
       "      <td>0.000000</td>\n",
       "      <td>0.000000</td>\n",
       "      <td>0.000000</td>\n",
       "      <td>0.000000</td>\n",
       "      <td>0.000000</td>\n",
       "      <td>0.000000</td>\n",
       "      <td>0.000000</td>\n",
       "      <td>0.000000</td>\n",
       "    </tr>\n",
       "    <tr>\n",
       "      <th>50%</th>\n",
       "      <td>4.000000</td>\n",
       "      <td>0.000000</td>\n",
       "      <td>1.000000</td>\n",
       "      <td>0.000000</td>\n",
       "      <td>0.000000</td>\n",
       "      <td>0.000000</td>\n",
       "      <td>0.000000</td>\n",
       "      <td>0.000000</td>\n",
       "    </tr>\n",
       "    <tr>\n",
       "      <th>75%</th>\n",
       "      <td>26.000000</td>\n",
       "      <td>8.000000</td>\n",
       "      <td>6.000000</td>\n",
       "      <td>5.000000</td>\n",
       "      <td>0.000000</td>\n",
       "      <td>0.000000</td>\n",
       "      <td>0.000000</td>\n",
       "      <td>0.000000</td>\n",
       "    </tr>\n",
       "    <tr>\n",
       "      <th>max</th>\n",
       "      <td>1622.000000</td>\n",
       "      <td>323.000000</td>\n",
       "      <td>1212.000000</td>\n",
       "      <td>334.000000</td>\n",
       "      <td>425.000000</td>\n",
       "      <td>1163.000000</td>\n",
       "      <td>322.000000</td>\n",
       "      <td>1054.000000</td>\n",
       "    </tr>\n",
       "  </tbody>\n",
       "</table>\n",
       "</div>"
      ],
      "text/plain": [
       "       ocupacaoSuspeitoCli  ocupacaoSuspeitoUti  ocupacaoConfirmadoCli   \n",
       "count        554173.000000        554173.000000          554173.000000  \\\n",
       "mean             25.008086             7.053236               5.996745   \n",
       "std              51.887327            15.707783              14.409703   \n",
       "min               0.000000             0.000000               0.000000   \n",
       "25%               0.000000             0.000000               0.000000   \n",
       "50%               4.000000             0.000000               1.000000   \n",
       "75%              26.000000             8.000000               6.000000   \n",
       "max            1622.000000           323.000000            1212.000000   \n",
       "\n",
       "       ocupacaoConfirmadoUti  saidaSuspeitaObitos  saidaSuspeitaAltas   \n",
       "count          554173.000000        554173.000000       554173.000000  \\\n",
       "mean                4.412878             0.224715            0.799231   \n",
       "std                10.906501             3.572207            8.750364   \n",
       "min                 0.000000             0.000000            0.000000   \n",
       "25%                 0.000000             0.000000            0.000000   \n",
       "50%                 0.000000             0.000000            0.000000   \n",
       "75%                 5.000000             0.000000            0.000000   \n",
       "max               334.000000           425.000000         1163.000000   \n",
       "\n",
       "       saidaConfirmadaObitos  saidaConfirmadaAltas  \n",
       "count          554173.000000         554173.000000  \n",
       "mean                0.373291              1.087049  \n",
       "std                 3.746283             13.667949  \n",
       "min                 0.000000              0.000000  \n",
       "25%                 0.000000              0.000000  \n",
       "50%                 0.000000              0.000000  \n",
       "75%                 0.000000              0.000000  \n",
       "max               322.000000           1054.000000  "
      ]
     },
     "execution_count": 96,
     "metadata": {},
     "output_type": "execute_result"
    }
   ],
   "source": [
    "df.describe()"
   ]
  },
  {
   "attachments": {},
   "cell_type": "markdown",
   "metadata": {},
   "source": [
    "Com isso finalizamos a etapa de imputação.\n"
   ]
  },
  {
   "attachments": {},
   "cell_type": "markdown",
   "metadata": {},
   "source": [
    "## Otimizando o Armazenamento<a id=\"9\"></a>"
   ]
  },
  {
   "attachments": {},
   "cell_type": "markdown",
   "metadata": {},
   "source": [
    "Com os dados já tratados, podemos apenas realizar alguns *pequenos ajustes* para deixar o conjunto mais alinhado e facilitar a leitura das informações no momento da análise.\n",
    "\n",
    "Alguns pontos que podemos melhorar são:\n",
    "* Modificar `dataNotificacao` para mostrar apenas *data* e não *data/hora* \n",
    "* Ajustar os tipos das colunas numéricas de `float` para `int`\n",
    "\n",
    "São mudanças simples. Podemos começar pela data."
   ]
  },
  {
   "attachments": {},
   "cell_type": "markdown",
   "metadata": {},
   "source": [
    "### Data"
   ]
  },
  {
   "attachments": {},
   "cell_type": "markdown",
   "metadata": {},
   "source": [
    "No momento, temos datas no formato de **timestamp** armazenados como **texto**:"
   ]
  },
  {
   "cell_type": "code",
   "execution_count": 97,
   "metadata": {},
   "outputs": [
    {
     "data": {
      "text/plain": [
       "'2020-04-15T03:00:00.000Z'"
      ]
     },
     "execution_count": 97,
     "metadata": {},
     "output_type": "execute_result"
    }
   ],
   "source": [
    "df.loc[1, 'dataNotificacao']"
   ]
  },
  {
   "attachments": {},
   "cell_type": "markdown",
   "metadata": {},
   "source": [
    "O que será de fato utilizado é somente a parte com a **data**. "
   ]
  },
  {
   "cell_type": "code",
   "execution_count": 98,
   "metadata": {},
   "outputs": [
    {
     "data": {
      "text/plain": [
       "Timestamp('2020-04-15 03:00:00+0000', tz='UTC')"
      ]
     },
     "execution_count": 98,
     "metadata": {},
     "output_type": "execute_result"
    }
   ],
   "source": [
    "# transformando a coluna 'dataNotificacao' do tipo 'object' para o tipo 'datetime64'\n",
    "df['dataNotificacao'] = pd.to_datetime(df['dataNotificacao'])\n",
    "df.loc[1, 'dataNotificacao']"
   ]
  },
  {
   "cell_type": "code",
   "execution_count": 99,
   "metadata": {},
   "outputs": [
    {
     "data": {
      "text/plain": [
       "datetime.date(2020, 4, 15)"
      ]
     },
     "execution_count": 99,
     "metadata": {},
     "output_type": "execute_result"
    }
   ],
   "source": [
    "# criando coluna 'data' contendo apenas a parte YYYY-MM-DD da coluna 'dataNotificacao'\n",
    "df['data'] = df['dataNotificacao'].dt.date\n",
    "df.loc[1, 'data']"
   ]
  },
  {
   "attachments": {},
   "cell_type": "markdown",
   "metadata": {},
   "source": [
    "Agora os registros contém um novo campo '**data**' no formato *YYYY-MM-DD*."
   ]
  },
  {
   "cell_type": "code",
   "execution_count": 100,
   "metadata": {},
   "outputs": [
    {
     "data": {
      "text/html": [
       "<div>\n",
       "<style scoped>\n",
       "    .dataframe tbody tr th:only-of-type {\n",
       "        vertical-align: middle;\n",
       "    }\n",
       "\n",
       "    .dataframe tbody tr th {\n",
       "        vertical-align: top;\n",
       "    }\n",
       "\n",
       "    .dataframe thead th {\n",
       "        text-align: right;\n",
       "    }\n",
       "</style>\n",
       "<table border=\"1\" class=\"dataframe\">\n",
       "  <thead>\n",
       "    <tr style=\"text-align: right;\">\n",
       "      <th></th>\n",
       "      <th>_id</th>\n",
       "      <th>uf</th>\n",
       "      <th>municipio</th>\n",
       "      <th>dataNotificacao</th>\n",
       "      <th>data</th>\n",
       "    </tr>\n",
       "  </thead>\n",
       "  <tbody>\n",
       "    <tr>\n",
       "      <th>1</th>\n",
       "      <td>eUOMsSt7T7</td>\n",
       "      <td>RJ</td>\n",
       "      <td>Rio de Janeiro</td>\n",
       "      <td>2020-04-15 03:00:00+00:00</td>\n",
       "      <td>2020-04-15</td>\n",
       "    </tr>\n",
       "    <tr>\n",
       "      <th>2</th>\n",
       "      <td>QaG4oIBrMa</td>\n",
       "      <td>RJ</td>\n",
       "      <td>Niterói</td>\n",
       "      <td>2020-04-15 14:57:16.255000+00:00</td>\n",
       "      <td>2020-04-15</td>\n",
       "    </tr>\n",
       "    <tr>\n",
       "      <th>3</th>\n",
       "      <td>ifya31F3ZF</td>\n",
       "      <td>CE</td>\n",
       "      <td>Várzea Alegre</td>\n",
       "      <td>2020-03-24 03:00:00+00:00</td>\n",
       "      <td>2020-03-24</td>\n",
       "    </tr>\n",
       "    <tr>\n",
       "      <th>4</th>\n",
       "      <td>dkurDhelx9</td>\n",
       "      <td>RS</td>\n",
       "      <td>Encantado</td>\n",
       "      <td>2020-04-01 03:00:00+00:00</td>\n",
       "      <td>2020-04-01</td>\n",
       "    </tr>\n",
       "    <tr>\n",
       "      <th>5</th>\n",
       "      <td>yhrIosmBut</td>\n",
       "      <td>RS</td>\n",
       "      <td>Encantado</td>\n",
       "      <td>2020-04-02 03:00:00+00:00</td>\n",
       "      <td>2020-04-02</td>\n",
       "    </tr>\n",
       "  </tbody>\n",
       "</table>\n",
       "</div>"
      ],
      "text/plain": [
       "          _id  uf       municipio                  dataNotificacao        data\n",
       "1  eUOMsSt7T7  RJ  Rio de Janeiro        2020-04-15 03:00:00+00:00  2020-04-15\n",
       "2  QaG4oIBrMa  RJ         Niterói 2020-04-15 14:57:16.255000+00:00  2020-04-15\n",
       "3  ifya31F3ZF  CE   Várzea Alegre        2020-03-24 03:00:00+00:00  2020-03-24\n",
       "4  dkurDhelx9  RS       Encantado        2020-04-01 03:00:00+00:00  2020-04-01\n",
       "5  yhrIosmBut  RS       Encantado        2020-04-02 03:00:00+00:00  2020-04-02"
      ]
     },
     "execution_count": 100,
     "metadata": {},
     "output_type": "execute_result"
    }
   ],
   "source": [
    "df.loc[1:5, ['_id', 'uf', 'municipio', 'dataNotificacao', 'data']]"
   ]
  },
  {
   "attachments": {},
   "cell_type": "markdown",
   "metadata": {},
   "source": [
    "Ficamos com duas colunas com as mesma informações, então podemos remover a antiga."
   ]
  },
  {
   "cell_type": "code",
   "execution_count": 101,
   "metadata": {},
   "outputs": [],
   "source": [
    "to_drop.append('dataNotificacao')"
   ]
  },
  {
   "attachments": {},
   "cell_type": "markdown",
   "metadata": {},
   "source": [
    "Com isso feito, vamos ajustar as colunas numéricas. Iremos aproveitar para também reduzir o espaço necessário para o armazenamento."
   ]
  },
  {
   "attachments": {},
   "cell_type": "markdown",
   "metadata": {},
   "source": [
    "### Tipo de Dado em Colunas Numéricas"
   ]
  },
  {
   "attachments": {},
   "cell_type": "markdown",
   "metadata": {},
   "source": [
    "Um `int64` tem capacidade para valores entre *-9.223.372.036.854.775.808* e *9.223.372.036.854.775.807*. `float64` oferecem capacidades de mesma ordem. Nossos valores além de possuirem um alcance muito menor, *não podem ser negativos*. Isso significa que estamos utilizando muito mais memória do que o necessário para armazenar nossos valores.\n",
    "\n",
    "Faremos tudo isso em uma única etapa."
   ]
  },
  {
   "cell_type": "code",
   "execution_count": 102,
   "metadata": {},
   "outputs": [
    {
     "name": "stdout",
     "output_type": "stream",
     "text": [
      "Por enquanto nosso DataFrame tem 115.6 Mb\n"
     ]
    }
   ],
   "source": [
    "print(f\"Por enquanto nosso DataFrame tem {(df.memory_usage().sum() / 10**6):.1f} Mb\")"
   ]
  },
  {
   "cell_type": "code",
   "execution_count": 103,
   "metadata": {},
   "outputs": [
    {
     "data": {
      "text/plain": [
       "_id                                   object\n",
       "dataNotificacao          datetime64[ns, UTC]\n",
       "cnes                                  object\n",
       "ocupacaoSuspeitoCli                  float64\n",
       "ocupacaoSuspeitoUti                  float64\n",
       "ocupacaoConfirmadoCli                float64\n",
       "ocupacaoConfirmadoUti                float64\n",
       "saidaSuspeitaObitos                  float64\n",
       "saidaSuspeitaAltas                   float64\n",
       "saidaConfirmadaObitos                float64\n",
       "saidaConfirmadaAltas                 float64\n",
       "origem                                object\n",
       "_p_usuario                            object\n",
       "estadoNotificacao                     object\n",
       "municipioNotificacao                  object\n",
       "estado                                object\n",
       "municipio                             object\n",
       "excluido                                bool\n",
       "validado                                bool\n",
       "_created_at                           object\n",
       "_updated_at                           object\n",
       "uf                                    object\n",
       "data                                  object\n",
       "dtype: object"
      ]
     },
     "execution_count": 103,
     "metadata": {},
     "output_type": "execute_result"
    }
   ],
   "source": [
    "df.dtypes"
   ]
  },
  {
   "cell_type": "code",
   "execution_count": 104,
   "metadata": {},
   "outputs": [],
   "source": [
    "for col in cols:\n",
    "    df[col] = pd.to_numeric(df[col], downcast='unsigned')"
   ]
  },
  {
   "cell_type": "code",
   "execution_count": 105,
   "metadata": {},
   "outputs": [
    {
     "data": {
      "text/plain": [
       "_id                                   object\n",
       "dataNotificacao          datetime64[ns, UTC]\n",
       "cnes                                  object\n",
       "ocupacaoSuspeitoCli                   uint16\n",
       "ocupacaoSuspeitoUti                   uint16\n",
       "ocupacaoConfirmadoCli                 uint16\n",
       "ocupacaoConfirmadoUti                 uint16\n",
       "saidaSuspeitaObitos                   uint16\n",
       "saidaSuspeitaAltas                    uint16\n",
       "saidaConfirmadaObitos                 uint16\n",
       "saidaConfirmadaAltas                  uint16\n",
       "origem                                object\n",
       "_p_usuario                            object\n",
       "estadoNotificacao                     object\n",
       "municipioNotificacao                  object\n",
       "estado                                object\n",
       "municipio                             object\n",
       "excluido                                bool\n",
       "validado                                bool\n",
       "_created_at                           object\n",
       "_updated_at                           object\n",
       "uf                                    object\n",
       "data                                  object\n",
       "dtype: object"
      ]
     },
     "execution_count": 105,
     "metadata": {},
     "output_type": "execute_result"
    }
   ],
   "source": [
    "df.dtypes"
   ]
  },
  {
   "cell_type": "code",
   "execution_count": 106,
   "metadata": {},
   "outputs": [
    {
     "name": "stdout",
     "output_type": "stream",
     "text": [
      "Agora nosso DataFrame tem 89.0 Mb\n"
     ]
    }
   ],
   "source": [
    "print(f\"Agora nosso DataFrame tem {(df.memory_usage().sum() / 10**6):.1f} Mb\")"
   ]
  },
  {
   "attachments": {},
   "cell_type": "markdown",
   "metadata": {},
   "source": [
    "Com isso finalizamos os ajustes. Podemos seguir para mais uma etapa de redução"
   ]
  },
  {
   "attachments": {},
   "cell_type": "markdown",
   "metadata": {},
   "source": [
    "## Reduzindo o Arquivo<a id=\"10\"></a>"
   ]
  },
  {
   "attachments": {},
   "cell_type": "markdown",
   "metadata": {},
   "source": [
    "E finalmente vamos excluir todas as outras colunas que foram selecionadas."
   ]
  },
  {
   "cell_type": "code",
   "execution_count": 107,
   "metadata": {},
   "outputs": [
    {
     "name": "stdout",
     "output_type": "stream",
     "text": [
      "Tamanho atual: 47.9 Mb\n"
     ]
    }
   ],
   "source": [
    "df.drop(columns=to_drop, inplace=True)\n",
    "print(f\"Tamanho atual: {(df.memory_usage().sum() / 10**6):.1f} Mb\")"
   ]
  },
  {
   "attachments": {},
   "cell_type": "markdown",
   "metadata": {},
   "source": [
    "E ainda não removemos as colunas `cnes` e `municipio`.\n",
    "\n",
    "Podemos fazer isso sem prejuízo, mas antes, como podemos utilizar esses dados em **outra análises**, vamos salvar o DataFrame em seu estado atual como um **novo arquivo**.\n",
    "\n",
    "Considerando que temos um *arquivo pequeno* e não estamos reduzindo espaço de armazenamento a todo custo, transformar nossos dados atuais em tabelas em um banco de dados relacional pode não ser a solução mais prática. No lugar disso, podemos apenas *salvar o estado atual do DataFrame em um arquivo `.csv`*."
   ]
  },
  {
   "cell_type": "code",
   "execution_count": 108,
   "metadata": {},
   "outputs": [],
   "source": [
    "# descomentar para salvar o arquivo\n",
    "#df.to_csv('ocupacao-leito-2020-municipios.csv', index=False, encoding='utf-8')"
   ]
  },
  {
   "attachments": {},
   "cell_type": "markdown",
   "metadata": {},
   "source": [
    "~~Com isso feito, podemos retirar as colunas restantes.~~\n",
    "\n",
    "\n",
    ">Devido a um **erro inesperado** (que passou pelas etapas anteriores de correção), precisamos manter a coluna `cnes` para **agrupar registros problemáticos**. Tudo sobre isso em [Correções Necessárias](#12). Por enquanto, vamos seguir eliminando apenas a coluna `municipio`."
   ]
  },
  {
   "cell_type": "code",
   "execution_count": 109,
   "metadata": {},
   "outputs": [],
   "source": [
    "#df.drop(columns=['cnes', 'municipio'], inplace=True)\n",
    "df.drop(columns='municipio', inplace=True)"
   ]
  },
  {
   "attachments": {},
   "cell_type": "markdown",
   "metadata": {},
   "source": [
    "Apenas por curiosidade, podemos checar o quanto reduzimos o arquivo."
   ]
  },
  {
   "cell_type": "code",
   "execution_count": 110,
   "metadata": {},
   "outputs": [
    {
     "name": "stdout",
     "output_type": "stream",
     "text": [
      "Tamanho atual: 43.5 Mb\n"
     ]
    }
   ],
   "source": [
    "print(f\"Tamanho atual: {(df.memory_usage().sum() / 10**6):.1f} Mb\")"
   ]
  },
  {
   "attachments": {},
   "cell_type": "markdown",
   "metadata": {},
   "source": [
    "Aproximadamente **1/3** do tamanho original.\n",
    "\n",
    "Também podemos salvar mais um arquivo após as últimas remoções. Com o documento preparado e mais enxuto, a análise com **outras ferramentas** *(Excel, por exemplo)* fica muito mais prática."
   ]
  },
  {
   "cell_type": "code",
   "execution_count": 111,
   "metadata": {},
   "outputs": [],
   "source": [
    "# descomentar para salvar o arquivo\n",
    "#df.to_csv('ocupacao-leito-2020-clean.csv', index=False, encoding='utf-8')\n",
    "\n",
    "# amostra de 35% do arquivo original - necessário para manipulação no Excel online\n",
    "#sample = df.sample(frac=0.35)\n",
    "#sample.to_csv('ocupacao-leito-2020-clean-035.csv', index=False, encoding='utf-8')"
   ]
  },
  {
   "cell_type": "code",
   "execution_count": 112,
   "metadata": {},
   "outputs": [
    {
     "data": {
      "text/html": [
       "<div>\n",
       "<style scoped>\n",
       "    .dataframe tbody tr th:only-of-type {\n",
       "        vertical-align: middle;\n",
       "    }\n",
       "\n",
       "    .dataframe tbody tr th {\n",
       "        vertical-align: top;\n",
       "    }\n",
       "\n",
       "    .dataframe thead th {\n",
       "        text-align: right;\n",
       "    }\n",
       "</style>\n",
       "<table border=\"1\" class=\"dataframe\">\n",
       "  <thead>\n",
       "    <tr style=\"text-align: right;\">\n",
       "      <th></th>\n",
       "      <th>cnes</th>\n",
       "      <th>ocupacaoSuspeitoCli</th>\n",
       "      <th>ocupacaoSuspeitoUti</th>\n",
       "      <th>ocupacaoConfirmadoCli</th>\n",
       "      <th>ocupacaoConfirmadoUti</th>\n",
       "      <th>saidaSuspeitaObitos</th>\n",
       "      <th>saidaSuspeitaAltas</th>\n",
       "      <th>saidaConfirmadaObitos</th>\n",
       "      <th>saidaConfirmadaAltas</th>\n",
       "      <th>uf</th>\n",
       "      <th>data</th>\n",
       "    </tr>\n",
       "  </thead>\n",
       "  <tbody>\n",
       "    <tr>\n",
       "      <th>1</th>\n",
       "      <td>5935377\\t</td>\n",
       "      <td>1</td>\n",
       "      <td>0</td>\n",
       "      <td>0</td>\n",
       "      <td>0</td>\n",
       "      <td>0</td>\n",
       "      <td>1</td>\n",
       "      <td>0</td>\n",
       "      <td>0</td>\n",
       "      <td>RJ</td>\n",
       "      <td>2020-04-15</td>\n",
       "    </tr>\n",
       "    <tr>\n",
       "      <th>2</th>\n",
       "      <td>0012599</td>\n",
       "      <td>15</td>\n",
       "      <td>1</td>\n",
       "      <td>3</td>\n",
       "      <td>2</td>\n",
       "      <td>0</td>\n",
       "      <td>0</td>\n",
       "      <td>0</td>\n",
       "      <td>0</td>\n",
       "      <td>RJ</td>\n",
       "      <td>2020-04-15</td>\n",
       "    </tr>\n",
       "    <tr>\n",
       "      <th>3</th>\n",
       "      <td>2562871</td>\n",
       "      <td>9</td>\n",
       "      <td>0</td>\n",
       "      <td>1</td>\n",
       "      <td>0</td>\n",
       "      <td>0</td>\n",
       "      <td>0</td>\n",
       "      <td>0</td>\n",
       "      <td>0</td>\n",
       "      <td>CE</td>\n",
       "      <td>2020-03-24</td>\n",
       "    </tr>\n",
       "    <tr>\n",
       "      <th>4</th>\n",
       "      <td>2252228</td>\n",
       "      <td>26</td>\n",
       "      <td>0</td>\n",
       "      <td>1</td>\n",
       "      <td>0</td>\n",
       "      <td>0</td>\n",
       "      <td>0</td>\n",
       "      <td>0</td>\n",
       "      <td>0</td>\n",
       "      <td>RS</td>\n",
       "      <td>2020-04-01</td>\n",
       "    </tr>\n",
       "    <tr>\n",
       "      <th>5</th>\n",
       "      <td>2252228</td>\n",
       "      <td>25</td>\n",
       "      <td>0</td>\n",
       "      <td>0</td>\n",
       "      <td>0</td>\n",
       "      <td>0</td>\n",
       "      <td>1</td>\n",
       "      <td>0</td>\n",
       "      <td>0</td>\n",
       "      <td>RS</td>\n",
       "      <td>2020-04-02</td>\n",
       "    </tr>\n",
       "  </tbody>\n",
       "</table>\n",
       "</div>"
      ],
      "text/plain": [
       "        cnes  ocupacaoSuspeitoCli  ocupacaoSuspeitoUti  ocupacaoConfirmadoCli   \n",
       "1  5935377\\t                    1                    0                      0  \\\n",
       "2    0012599                   15                    1                      3   \n",
       "3    2562871                    9                    0                      1   \n",
       "4    2252228                   26                    0                      1   \n",
       "5    2252228                   25                    0                      0   \n",
       "\n",
       "   ocupacaoConfirmadoUti  saidaSuspeitaObitos  saidaSuspeitaAltas   \n",
       "1                      0                    0                   1  \\\n",
       "2                      2                    0                   0   \n",
       "3                      0                    0                   0   \n",
       "4                      0                    0                   0   \n",
       "5                      0                    0                   1   \n",
       "\n",
       "   saidaConfirmadaObitos  saidaConfirmadaAltas  uf        data  \n",
       "1                      0                     0  RJ  2020-04-15  \n",
       "2                      0                     0  RJ  2020-04-15  \n",
       "3                      0                     0  CE  2020-03-24  \n",
       "4                      0                     0  RS  2020-04-01  \n",
       "5                      0                     0  RS  2020-04-02  "
      ]
     },
     "execution_count": 112,
     "metadata": {},
     "output_type": "execute_result"
    }
   ],
   "source": [
    "df.head()"
   ]
  },
  {
   "attachments": {},
   "cell_type": "markdown",
   "metadata": {},
   "source": [
    "## Criando Colunas Calculadas<a id=\"11\"></a>"
   ]
  },
  {
   "attachments": {},
   "cell_type": "markdown",
   "metadata": {},
   "source": [
    "Para facilitar a visualização, podemos criar algumas colunas que sintetizam alguns dados.\n",
    "\n",
    "**Ocupação Total de Leitos Clínicos**"
   ]
  },
  {
   "cell_type": "code",
   "execution_count": 113,
   "metadata": {},
   "outputs": [],
   "source": [
    "df['totalOcupacaoCli'] = df['ocupacaoSuspeitoCli'] + df['ocupacaoConfirmadoCli']"
   ]
  },
  {
   "attachments": {},
   "cell_type": "markdown",
   "metadata": {},
   "source": [
    "**Ocupaçã Total de Leitos UTI**"
   ]
  },
  {
   "cell_type": "code",
   "execution_count": 114,
   "metadata": {},
   "outputs": [],
   "source": [
    "df['totalOcupacaoUti'] = df['ocupacaoSuspeitoUti'] + df['ocupacaoConfirmadoUti']"
   ]
  },
  {
   "attachments": {},
   "cell_type": "markdown",
   "metadata": {},
   "source": [
    "**Ocupação Total**"
   ]
  },
  {
   "cell_type": "code",
   "execution_count": 115,
   "metadata": {},
   "outputs": [],
   "source": [
    "df['totalOcupacao'] = df['totalOcupacaoCli'] + df['totalOcupacaoUti']"
   ]
  },
  {
   "attachments": {},
   "cell_type": "markdown",
   "metadata": {},
   "source": [
    "**Total de Altas**"
   ]
  },
  {
   "cell_type": "code",
   "execution_count": 116,
   "metadata": {},
   "outputs": [],
   "source": [
    "df['totalAltas'] = df['saidaSuspeitaAltas'] + df['saidaConfirmadaAltas']"
   ]
  },
  {
   "attachments": {},
   "cell_type": "markdown",
   "metadata": {},
   "source": [
    "**Total de Óbitos**"
   ]
  },
  {
   "cell_type": "code",
   "execution_count": 117,
   "metadata": {},
   "outputs": [],
   "source": [
    "df['totalObitos'] = df['saidaSuspeitaObitos'] + df['saidaConfirmadaAltas']"
   ]
  },
  {
   "attachments": {},
   "cell_type": "markdown",
   "metadata": {},
   "source": [
    "**Região**"
   ]
  },
  {
   "cell_type": "code",
   "execution_count": 118,
   "metadata": {},
   "outputs": [],
   "source": [
    "df['regiao'] = df['uf'].apply(lambda x: utils.get_region(x, utils.region_dict))"
   ]
  },
  {
   "cell_type": "code",
   "execution_count": 119,
   "metadata": {},
   "outputs": [
    {
     "data": {
      "text/html": [
       "<div>\n",
       "<style scoped>\n",
       "    .dataframe tbody tr th:only-of-type {\n",
       "        vertical-align: middle;\n",
       "    }\n",
       "\n",
       "    .dataframe tbody tr th {\n",
       "        vertical-align: top;\n",
       "    }\n",
       "\n",
       "    .dataframe thead th {\n",
       "        text-align: right;\n",
       "    }\n",
       "</style>\n",
       "<table border=\"1\" class=\"dataframe\">\n",
       "  <thead>\n",
       "    <tr style=\"text-align: right;\">\n",
       "      <th></th>\n",
       "      <th>cnes</th>\n",
       "      <th>ocupacaoSuspeitoCli</th>\n",
       "      <th>ocupacaoSuspeitoUti</th>\n",
       "      <th>ocupacaoConfirmadoCli</th>\n",
       "      <th>ocupacaoConfirmadoUti</th>\n",
       "      <th>saidaSuspeitaObitos</th>\n",
       "      <th>saidaSuspeitaAltas</th>\n",
       "      <th>saidaConfirmadaObitos</th>\n",
       "      <th>saidaConfirmadaAltas</th>\n",
       "      <th>uf</th>\n",
       "      <th>data</th>\n",
       "      <th>totalOcupacaoCli</th>\n",
       "      <th>totalOcupacaoUti</th>\n",
       "      <th>totalOcupacao</th>\n",
       "      <th>totalAltas</th>\n",
       "      <th>totalObitos</th>\n",
       "      <th>regiao</th>\n",
       "    </tr>\n",
       "  </thead>\n",
       "  <tbody>\n",
       "    <tr>\n",
       "      <th>1</th>\n",
       "      <td>5935377\\t</td>\n",
       "      <td>1</td>\n",
       "      <td>0</td>\n",
       "      <td>0</td>\n",
       "      <td>0</td>\n",
       "      <td>0</td>\n",
       "      <td>1</td>\n",
       "      <td>0</td>\n",
       "      <td>0</td>\n",
       "      <td>RJ</td>\n",
       "      <td>2020-04-15</td>\n",
       "      <td>1</td>\n",
       "      <td>0</td>\n",
       "      <td>1</td>\n",
       "      <td>1</td>\n",
       "      <td>0</td>\n",
       "      <td>Sudeste</td>\n",
       "    </tr>\n",
       "    <tr>\n",
       "      <th>2</th>\n",
       "      <td>0012599</td>\n",
       "      <td>15</td>\n",
       "      <td>1</td>\n",
       "      <td>3</td>\n",
       "      <td>2</td>\n",
       "      <td>0</td>\n",
       "      <td>0</td>\n",
       "      <td>0</td>\n",
       "      <td>0</td>\n",
       "      <td>RJ</td>\n",
       "      <td>2020-04-15</td>\n",
       "      <td>18</td>\n",
       "      <td>3</td>\n",
       "      <td>21</td>\n",
       "      <td>0</td>\n",
       "      <td>0</td>\n",
       "      <td>Sudeste</td>\n",
       "    </tr>\n",
       "    <tr>\n",
       "      <th>3</th>\n",
       "      <td>2562871</td>\n",
       "      <td>9</td>\n",
       "      <td>0</td>\n",
       "      <td>1</td>\n",
       "      <td>0</td>\n",
       "      <td>0</td>\n",
       "      <td>0</td>\n",
       "      <td>0</td>\n",
       "      <td>0</td>\n",
       "      <td>CE</td>\n",
       "      <td>2020-03-24</td>\n",
       "      <td>10</td>\n",
       "      <td>0</td>\n",
       "      <td>10</td>\n",
       "      <td>0</td>\n",
       "      <td>0</td>\n",
       "      <td>Nordeste</td>\n",
       "    </tr>\n",
       "    <tr>\n",
       "      <th>4</th>\n",
       "      <td>2252228</td>\n",
       "      <td>26</td>\n",
       "      <td>0</td>\n",
       "      <td>1</td>\n",
       "      <td>0</td>\n",
       "      <td>0</td>\n",
       "      <td>0</td>\n",
       "      <td>0</td>\n",
       "      <td>0</td>\n",
       "      <td>RS</td>\n",
       "      <td>2020-04-01</td>\n",
       "      <td>27</td>\n",
       "      <td>0</td>\n",
       "      <td>27</td>\n",
       "      <td>0</td>\n",
       "      <td>0</td>\n",
       "      <td>Sul</td>\n",
       "    </tr>\n",
       "    <tr>\n",
       "      <th>5</th>\n",
       "      <td>2252228</td>\n",
       "      <td>25</td>\n",
       "      <td>0</td>\n",
       "      <td>0</td>\n",
       "      <td>0</td>\n",
       "      <td>0</td>\n",
       "      <td>1</td>\n",
       "      <td>0</td>\n",
       "      <td>0</td>\n",
       "      <td>RS</td>\n",
       "      <td>2020-04-02</td>\n",
       "      <td>25</td>\n",
       "      <td>0</td>\n",
       "      <td>25</td>\n",
       "      <td>1</td>\n",
       "      <td>0</td>\n",
       "      <td>Sul</td>\n",
       "    </tr>\n",
       "  </tbody>\n",
       "</table>\n",
       "</div>"
      ],
      "text/plain": [
       "        cnes  ocupacaoSuspeitoCli  ocupacaoSuspeitoUti  ocupacaoConfirmadoCli   \n",
       "1  5935377\\t                    1                    0                      0  \\\n",
       "2    0012599                   15                    1                      3   \n",
       "3    2562871                    9                    0                      1   \n",
       "4    2252228                   26                    0                      1   \n",
       "5    2252228                   25                    0                      0   \n",
       "\n",
       "   ocupacaoConfirmadoUti  saidaSuspeitaObitos  saidaSuspeitaAltas   \n",
       "1                      0                    0                   1  \\\n",
       "2                      2                    0                   0   \n",
       "3                      0                    0                   0   \n",
       "4                      0                    0                   0   \n",
       "5                      0                    0                   1   \n",
       "\n",
       "   saidaConfirmadaObitos  saidaConfirmadaAltas  uf        data   \n",
       "1                      0                     0  RJ  2020-04-15  \\\n",
       "2                      0                     0  RJ  2020-04-15   \n",
       "3                      0                     0  CE  2020-03-24   \n",
       "4                      0                     0  RS  2020-04-01   \n",
       "5                      0                     0  RS  2020-04-02   \n",
       "\n",
       "   totalOcupacaoCli  totalOcupacaoUti  totalOcupacao  totalAltas  totalObitos   \n",
       "1                 1                 0              1           1            0  \\\n",
       "2                18                 3             21           0            0   \n",
       "3                10                 0             10           0            0   \n",
       "4                27                 0             27           0            0   \n",
       "5                25                 0             25           1            0   \n",
       "\n",
       "     regiao  \n",
       "1   Sudeste  \n",
       "2   Sudeste  \n",
       "3  Nordeste  \n",
       "4       Sul  \n",
       "5       Sul  "
      ]
     },
     "execution_count": 119,
     "metadata": {},
     "output_type": "execute_result"
    }
   ],
   "source": [
    "df.head()"
   ]
  },
  {
   "cell_type": "code",
   "execution_count": 120,
   "metadata": {},
   "outputs": [],
   "source": [
    "# descomentar para salvar\n",
    "#df.to_csv('ocupacao-leito-2020-wrang.csv', index=False, encoding='utf-8')\n",
    "\n",
    "# versão reduzida\n",
    "#sample = df.sample(frac=0.35)\n",
    "#sample.to_csv('ocupacao-leito-2020-wrang-035.csv', index=False, encoding='utf-8')"
   ]
  },
  {
   "attachments": {},
   "cell_type": "markdown",
   "metadata": {},
   "source": [
    "Podemos calcular a **correlação** entre elas para quem sabe ajudar com algum *insight*.\n",
    "\n",
    "*Valores mais próximos de '1' indicam maior correlação*."
   ]
  },
  {
   "cell_type": "code",
   "execution_count": 121,
   "metadata": {},
   "outputs": [
    {
     "data": {
      "text/html": [
       "<div>\n",
       "<style scoped>\n",
       "    .dataframe tbody tr th:only-of-type {\n",
       "        vertical-align: middle;\n",
       "    }\n",
       "\n",
       "    .dataframe tbody tr th {\n",
       "        vertical-align: top;\n",
       "    }\n",
       "\n",
       "    .dataframe thead th {\n",
       "        text-align: right;\n",
       "    }\n",
       "</style>\n",
       "<table border=\"1\" class=\"dataframe\">\n",
       "  <thead>\n",
       "    <tr style=\"text-align: right;\">\n",
       "      <th></th>\n",
       "      <th>ocupacaoSuspeitoCli</th>\n",
       "      <th>ocupacaoSuspeitoUti</th>\n",
       "      <th>ocupacaoConfirmadoCli</th>\n",
       "      <th>ocupacaoConfirmadoUti</th>\n",
       "      <th>saidaSuspeitaObitos</th>\n",
       "      <th>saidaSuspeitaAltas</th>\n",
       "      <th>saidaConfirmadaObitos</th>\n",
       "      <th>saidaConfirmadaAltas</th>\n",
       "      <th>totalOcupacaoCli</th>\n",
       "      <th>totalOcupacaoUti</th>\n",
       "      <th>totalOcupacao</th>\n",
       "      <th>totalAltas</th>\n",
       "      <th>totalObitos</th>\n",
       "    </tr>\n",
       "  </thead>\n",
       "  <tbody>\n",
       "    <tr>\n",
       "      <th>ocupacaoSuspeitoCli</th>\n",
       "      <td>1.000000</td>\n",
       "      <td>0.622509</td>\n",
       "      <td>0.356781</td>\n",
       "      <td>0.319589</td>\n",
       "      <td>0.036389</td>\n",
       "      <td>0.070705</td>\n",
       "      <td>0.075960</td>\n",
       "      <td>0.055745</td>\n",
       "      <td>0.973254</td>\n",
       "      <td>0.541964</td>\n",
       "      <td>0.919638</td>\n",
       "      <td>0.071115</td>\n",
       "      <td>0.060536</td>\n",
       "    </tr>\n",
       "    <tr>\n",
       "      <th>ocupacaoSuspeitoUti</th>\n",
       "      <td>0.622509</td>\n",
       "      <td>1.000000</td>\n",
       "      <td>0.486077</td>\n",
       "      <td>0.680821</td>\n",
       "      <td>0.073198</td>\n",
       "      <td>0.126870</td>\n",
       "      <td>0.163309</td>\n",
       "      <td>0.100591</td>\n",
       "      <td>0.670776</td>\n",
       "      <td>0.945228</td>\n",
       "      <td>0.816876</td>\n",
       "      <td>0.128004</td>\n",
       "      <td>0.111063</td>\n",
       "    </tr>\n",
       "    <tr>\n",
       "      <th>ocupacaoConfirmadoCli</th>\n",
       "      <td>0.356781</td>\n",
       "      <td>0.486077</td>\n",
       "      <td>1.000000</td>\n",
       "      <td>0.678835</td>\n",
       "      <td>0.049772</td>\n",
       "      <td>0.078469</td>\n",
       "      <td>0.090191</td>\n",
       "      <td>0.065126</td>\n",
       "      <td>0.561853</td>\n",
       "      <td>0.614494</td>\n",
       "      <td>0.627477</td>\n",
       "      <td>0.081219</td>\n",
       "      <td>0.072483</td>\n",
       "    </tr>\n",
       "    <tr>\n",
       "      <th>ocupacaoConfirmadoUti</th>\n",
       "      <td>0.319589</td>\n",
       "      <td>0.680821</td>\n",
       "      <td>0.678835</td>\n",
       "      <td>1.000000</td>\n",
       "      <td>0.064208</td>\n",
       "      <td>0.081203</td>\n",
       "      <td>0.143094</td>\n",
       "      <td>0.079203</td>\n",
       "      <td>0.449939</td>\n",
       "      <td>0.882611</td>\n",
       "      <td>0.627530</td>\n",
       "      <td>0.092362</td>\n",
       "      <td>0.089042</td>\n",
       "    </tr>\n",
       "    <tr>\n",
       "      <th>saidaSuspeitaObitos</th>\n",
       "      <td>0.036389</td>\n",
       "      <td>0.073198</td>\n",
       "      <td>0.049772</td>\n",
       "      <td>0.064208</td>\n",
       "      <td>1.000000</td>\n",
       "      <td>0.340410</td>\n",
       "      <td>0.291722</td>\n",
       "      <td>0.179258</td>\n",
       "      <td>0.044463</td>\n",
       "      <td>0.075595</td>\n",
       "      <td>0.058291</td>\n",
       "      <td>0.279637</td>\n",
       "      <td>0.408747</td>\n",
       "    </tr>\n",
       "    <tr>\n",
       "      <th>saidaSuspeitaAltas</th>\n",
       "      <td>0.070705</td>\n",
       "      <td>0.126870</td>\n",
       "      <td>0.078469</td>\n",
       "      <td>0.081203</td>\n",
       "      <td>0.340410</td>\n",
       "      <td>1.000000</td>\n",
       "      <td>0.459246</td>\n",
       "      <td>0.474555</td>\n",
       "      <td>0.081907</td>\n",
       "      <td>0.117616</td>\n",
       "      <td>0.100450</td>\n",
       "      <td>0.784832</td>\n",
       "      <td>0.522766</td>\n",
       "    </tr>\n",
       "    <tr>\n",
       "      <th>saidaConfirmadaObitos</th>\n",
       "      <td>0.075960</td>\n",
       "      <td>0.163309</td>\n",
       "      <td>0.090191</td>\n",
       "      <td>0.143094</td>\n",
       "      <td>0.291722</td>\n",
       "      <td>0.459246</td>\n",
       "      <td>1.000000</td>\n",
       "      <td>0.603701</td>\n",
       "      <td>0.089443</td>\n",
       "      <td>0.168584</td>\n",
       "      <td>0.122547</td>\n",
       "      <td>0.632021</td>\n",
       "      <td>0.630767</td>\n",
       "    </tr>\n",
       "    <tr>\n",
       "      <th>saidaConfirmadaAltas</th>\n",
       "      <td>0.055745</td>\n",
       "      <td>0.100591</td>\n",
       "      <td>0.065126</td>\n",
       "      <td>0.079203</td>\n",
       "      <td>0.179258</td>\n",
       "      <td>0.474555</td>\n",
       "      <td>0.603701</td>\n",
       "      <td>1.000000</td>\n",
       "      <td>0.065378</td>\n",
       "      <td>0.099858</td>\n",
       "      <td>0.082093</td>\n",
       "      <td>0.917929</td>\n",
       "      <td>0.971136</td>\n",
       "    </tr>\n",
       "    <tr>\n",
       "      <th>totalOcupacaoCli</th>\n",
       "      <td>0.973254</td>\n",
       "      <td>0.670776</td>\n",
       "      <td>0.561853</td>\n",
       "      <td>0.449939</td>\n",
       "      <td>0.044463</td>\n",
       "      <td>0.081907</td>\n",
       "      <td>0.089443</td>\n",
       "      <td>0.065378</td>\n",
       "      <td>1.000000</td>\n",
       "      <td>0.631033</td>\n",
       "      <td>0.968660</td>\n",
       "      <td>0.082946</td>\n",
       "      <td>0.071430</td>\n",
       "    </tr>\n",
       "    <tr>\n",
       "      <th>totalOcupacaoUti</th>\n",
       "      <td>0.541964</td>\n",
       "      <td>0.945228</td>\n",
       "      <td>0.614494</td>\n",
       "      <td>0.882611</td>\n",
       "      <td>0.075595</td>\n",
       "      <td>0.117616</td>\n",
       "      <td>0.168584</td>\n",
       "      <td>0.099858</td>\n",
       "      <td>0.631033</td>\n",
       "      <td>1.000000</td>\n",
       "      <td>0.803946</td>\n",
       "      <td>0.123317</td>\n",
       "      <td>0.110964</td>\n",
       "    </tr>\n",
       "    <tr>\n",
       "      <th>totalOcupacao</th>\n",
       "      <td>0.919638</td>\n",
       "      <td>0.816876</td>\n",
       "      <td>0.627477</td>\n",
       "      <td>0.627530</td>\n",
       "      <td>0.058291</td>\n",
       "      <td>0.100450</td>\n",
       "      <td>0.122547</td>\n",
       "      <td>0.082093</td>\n",
       "      <td>0.968660</td>\n",
       "      <td>0.803946</td>\n",
       "      <td>1.000000</td>\n",
       "      <td>0.103072</td>\n",
       "      <td>0.090288</td>\n",
       "    </tr>\n",
       "    <tr>\n",
       "      <th>totalAltas</th>\n",
       "      <td>0.071115</td>\n",
       "      <td>0.128004</td>\n",
       "      <td>0.081219</td>\n",
       "      <td>0.092362</td>\n",
       "      <td>0.279637</td>\n",
       "      <td>0.784832</td>\n",
       "      <td>0.632021</td>\n",
       "      <td>0.917929</td>\n",
       "      <td>0.082946</td>\n",
       "      <td>0.123317</td>\n",
       "      <td>0.103072</td>\n",
       "      <td>1.000000</td>\n",
       "      <td>0.919338</td>\n",
       "    </tr>\n",
       "    <tr>\n",
       "      <th>totalObitos</th>\n",
       "      <td>0.060536</td>\n",
       "      <td>0.111063</td>\n",
       "      <td>0.072483</td>\n",
       "      <td>0.089042</td>\n",
       "      <td>0.408747</td>\n",
       "      <td>0.522766</td>\n",
       "      <td>0.630767</td>\n",
       "      <td>0.971136</td>\n",
       "      <td>0.071430</td>\n",
       "      <td>0.110964</td>\n",
       "      <td>0.090288</td>\n",
       "      <td>0.919338</td>\n",
       "      <td>1.000000</td>\n",
       "    </tr>\n",
       "  </tbody>\n",
       "</table>\n",
       "</div>"
      ],
      "text/plain": [
       "                       ocupacaoSuspeitoCli  ocupacaoSuspeitoUti   \n",
       "ocupacaoSuspeitoCli               1.000000             0.622509  \\\n",
       "ocupacaoSuspeitoUti               0.622509             1.000000   \n",
       "ocupacaoConfirmadoCli             0.356781             0.486077   \n",
       "ocupacaoConfirmadoUti             0.319589             0.680821   \n",
       "saidaSuspeitaObitos               0.036389             0.073198   \n",
       "saidaSuspeitaAltas                0.070705             0.126870   \n",
       "saidaConfirmadaObitos             0.075960             0.163309   \n",
       "saidaConfirmadaAltas              0.055745             0.100591   \n",
       "totalOcupacaoCli                  0.973254             0.670776   \n",
       "totalOcupacaoUti                  0.541964             0.945228   \n",
       "totalOcupacao                     0.919638             0.816876   \n",
       "totalAltas                        0.071115             0.128004   \n",
       "totalObitos                       0.060536             0.111063   \n",
       "\n",
       "                       ocupacaoConfirmadoCli  ocupacaoConfirmadoUti   \n",
       "ocupacaoSuspeitoCli                 0.356781               0.319589  \\\n",
       "ocupacaoSuspeitoUti                 0.486077               0.680821   \n",
       "ocupacaoConfirmadoCli               1.000000               0.678835   \n",
       "ocupacaoConfirmadoUti               0.678835               1.000000   \n",
       "saidaSuspeitaObitos                 0.049772               0.064208   \n",
       "saidaSuspeitaAltas                  0.078469               0.081203   \n",
       "saidaConfirmadaObitos               0.090191               0.143094   \n",
       "saidaConfirmadaAltas                0.065126               0.079203   \n",
       "totalOcupacaoCli                    0.561853               0.449939   \n",
       "totalOcupacaoUti                    0.614494               0.882611   \n",
       "totalOcupacao                       0.627477               0.627530   \n",
       "totalAltas                          0.081219               0.092362   \n",
       "totalObitos                         0.072483               0.089042   \n",
       "\n",
       "                       saidaSuspeitaObitos  saidaSuspeitaAltas   \n",
       "ocupacaoSuspeitoCli               0.036389            0.070705  \\\n",
       "ocupacaoSuspeitoUti               0.073198            0.126870   \n",
       "ocupacaoConfirmadoCli             0.049772            0.078469   \n",
       "ocupacaoConfirmadoUti             0.064208            0.081203   \n",
       "saidaSuspeitaObitos               1.000000            0.340410   \n",
       "saidaSuspeitaAltas                0.340410            1.000000   \n",
       "saidaConfirmadaObitos             0.291722            0.459246   \n",
       "saidaConfirmadaAltas              0.179258            0.474555   \n",
       "totalOcupacaoCli                  0.044463            0.081907   \n",
       "totalOcupacaoUti                  0.075595            0.117616   \n",
       "totalOcupacao                     0.058291            0.100450   \n",
       "totalAltas                        0.279637            0.784832   \n",
       "totalObitos                       0.408747            0.522766   \n",
       "\n",
       "                       saidaConfirmadaObitos  saidaConfirmadaAltas   \n",
       "ocupacaoSuspeitoCli                 0.075960              0.055745  \\\n",
       "ocupacaoSuspeitoUti                 0.163309              0.100591   \n",
       "ocupacaoConfirmadoCli               0.090191              0.065126   \n",
       "ocupacaoConfirmadoUti               0.143094              0.079203   \n",
       "saidaSuspeitaObitos                 0.291722              0.179258   \n",
       "saidaSuspeitaAltas                  0.459246              0.474555   \n",
       "saidaConfirmadaObitos               1.000000              0.603701   \n",
       "saidaConfirmadaAltas                0.603701              1.000000   \n",
       "totalOcupacaoCli                    0.089443              0.065378   \n",
       "totalOcupacaoUti                    0.168584              0.099858   \n",
       "totalOcupacao                       0.122547              0.082093   \n",
       "totalAltas                          0.632021              0.917929   \n",
       "totalObitos                         0.630767              0.971136   \n",
       "\n",
       "                       totalOcupacaoCli  totalOcupacaoUti  totalOcupacao   \n",
       "ocupacaoSuspeitoCli            0.973254          0.541964       0.919638  \\\n",
       "ocupacaoSuspeitoUti            0.670776          0.945228       0.816876   \n",
       "ocupacaoConfirmadoCli          0.561853          0.614494       0.627477   \n",
       "ocupacaoConfirmadoUti          0.449939          0.882611       0.627530   \n",
       "saidaSuspeitaObitos            0.044463          0.075595       0.058291   \n",
       "saidaSuspeitaAltas             0.081907          0.117616       0.100450   \n",
       "saidaConfirmadaObitos          0.089443          0.168584       0.122547   \n",
       "saidaConfirmadaAltas           0.065378          0.099858       0.082093   \n",
       "totalOcupacaoCli               1.000000          0.631033       0.968660   \n",
       "totalOcupacaoUti               0.631033          1.000000       0.803946   \n",
       "totalOcupacao                  0.968660          0.803946       1.000000   \n",
       "totalAltas                     0.082946          0.123317       0.103072   \n",
       "totalObitos                    0.071430          0.110964       0.090288   \n",
       "\n",
       "                       totalAltas  totalObitos  \n",
       "ocupacaoSuspeitoCli      0.071115     0.060536  \n",
       "ocupacaoSuspeitoUti      0.128004     0.111063  \n",
       "ocupacaoConfirmadoCli    0.081219     0.072483  \n",
       "ocupacaoConfirmadoUti    0.092362     0.089042  \n",
       "saidaSuspeitaObitos      0.279637     0.408747  \n",
       "saidaSuspeitaAltas       0.784832     0.522766  \n",
       "saidaConfirmadaObitos    0.632021     0.630767  \n",
       "saidaConfirmadaAltas     0.917929     0.971136  \n",
       "totalOcupacaoCli         0.082946     0.071430  \n",
       "totalOcupacaoUti         0.123317     0.110964  \n",
       "totalOcupacao            0.103072     0.090288  \n",
       "totalAltas               1.000000     0.919338  \n",
       "totalObitos              0.919338     1.000000  "
      ]
     },
     "execution_count": 121,
     "metadata": {},
     "output_type": "execute_result"
    }
   ],
   "source": [
    "calc = ['totalOcupacaoCli', 'totalOcupacaoUti', 'totalOcupacao', 'totalAltas', 'totalObitos']\n",
    "for i in calc:\n",
    "    cols.append(i)\n",
    "df[cols].corr()"
   ]
  },
  {
   "attachments": {},
   "cell_type": "markdown",
   "metadata": {},
   "source": [
    "~~Com isso feito, seguirmos para a etapa de **visualização**.~~\n",
    "\n",
    "Idealmente seguiríamos para a etapa de visualização. Na verdade, foi apenas nela que uma **anomalia** além das tratadas foi detectada. As visualizações que possibilitaram a descoberta podem ser conferidas na seção [Inicial](#14-1) de [Planilhas Excel](#14). Após resolvermos este problema inesperado seguiremos para a visualização com os dados corrigidos.\n",
    "\n",
    "Detalhes sobre os erros encontrados e como serão corrigidos estão na [próxima seção](#12)."
   ]
  },
  {
   "attachments": {},
   "cell_type": "markdown",
   "metadata": {},
   "source": [
    "## Correções Necessárias<a id=\"12\"></a>"
   ]
  },
  {
   "attachments": {},
   "cell_type": "markdown",
   "metadata": {},
   "source": [
    "### O Problema"
   ]
  },
  {
   "attachments": {},
   "cell_type": "markdown",
   "metadata": {},
   "source": [
    "Após todas as etapas anteriores, considerei que os dados estavam completamente aptos para a análise. Porém, depois de construir as [primeiras visualizações no Excel](#14-1) pude perceber que havia algo de **estranho em alguns pontos**.\n",
    "\n",
    "A imagem a seguir mostra as *somas* das ocupações de leitos clínicos, leitos de UTI, **altas e óbitos** para os estados do **Sul e Sudeste**.\n",
    "\n",
    "![somas de ocupação/altas/óbitos no dashboard](https://github.com/lucascorumba/study-projects/blob/main/readme-imgs/covid-hospital-2020/spreadsheet-sums.png?raw=true)\n",
    "\n",
    "Para contexto, o estado de **São Paulo tem** *(ou deveria ter)* **os maiores números em todas as categorias**, simplesmente pelo tamanho de sua **população e infraestrutura**.\n",
    "\n",
    "Porém, observe que no gráfico **altas/óbitos** temos o estado do **Paraná** com os maiores números. Dos 7 estados mostrados no gráfico, Paraná é o **5º** em ocupação de leitos. Seguindo estas informações, vemos uma impossibilidade básica, já que *não existe maneira de termos mais saída de pacientes do que os que já foram internados*.\n",
    "\n",
    "Em outras palavras, **segundo os dados, há mais saídas do que entradas nos hospitais**. Como estamos analisando a dinâmica de internações por COVID, é uma situação impossível.\n",
    "\n",
    "Como a essa altura já tinhamos dados carregados no Excel, utilizei a ferramenta para averiguar o que se passava no Paraná.\n",
    "\n",
    "> Para isso precisei utilizar uma versão em que a coluna ```cnes``` não havia sido eliminada."
   ]
  },
  {
   "attachments": {},
   "cell_type": "markdown",
   "metadata": {},
   "source": [
    "Vasculhando os registros encontrei um padrão *peculiar*.\n",
    "\n",
    "Em algumas `cnes` os registros de **altas** (de casos suspeitos e confirmados) estão dispostos como *contadores*. Para visualizar melhor, vamos supor que **durante 3 dias** observamos **5 saídas por dia**. Em um registro normal o esperado seria algo como:\n",
    "\n",
    "| Dia | Saídas |\n",
    "|:---:|:------:|\n",
    "| 1 | 5 |\n",
    "| 2 | 5 |\n",
    "| 3 | 5 |\n",
    "\n",
    "No entanto, vemos o seguinte:\n",
    "\n",
    "| Dia | Saídas |\n",
    "|:---:|:------:|\n",
    "| 1 | 5 |\n",
    "| 2 | 10 |\n",
    "| 3 | 15 |\n",
    "\n",
    "A imagem seguinte mostra um destes registros no próprio Excel:\n",
    "\n",
    "![exemplo 1 ocorrência da anomalia](https://github.com/lucascorumba/study-projects/blob/main/readme-imgs/covid-hospital-2020/error-1.png?raw=true)\n",
    "\n",
    "Note que neste exemplo os campos de ocupação não apresentam nenhuma evidência de desvio semelhante. Porém, ao vasculhar mais ocorrências, constatei que estes campos *também podem ser afetados*. Uma vez que campos relacionados a **altas** ***sempre*** apresentam a anomalia, considerei estes campos como o foco principal para a busca do erro. \n",
    "\n",
    "Opcionalmente, o campo calculado ```totalSaidas``` = (```totalAltas``` + ```totalObitos```) também pode ser um bom indicativo.\n",
    "\n",
    "Outro motivo para não avaliar campos de ocupação na busca por erros é a natureza de cada infomação. *Dados sobre ocupação são diferentes de dados sobre saídas*. Um paciente pode permanecer *vários dias internado*, sendo efetivamente \"registrado\" *mais de uma vez*. Porém, sua *saída* só pode ser contabilizada *uma única vez*.\n",
    "\n",
    "Aqui está um exemplo onde um campo relacionado a **ocupação de leitos** também apresenta a anomalia:\n",
    "\n",
    "![exemplo 2 ocorrência da anomalia](https://github.com/lucascorumba/study-projects/blob/main/readme-imgs/covid-hospital-2020/error-3.png?raw=true)"
   ]
  },
  {
   "attachments": {},
   "cell_type": "markdown",
   "metadata": {},
   "source": [
    "Aqui vemos variação apenas em ocupação clínica, mas aparentemente ocorre também para leitos de UTI ao acaso. Por vezes em ambos. De toda maneira, podemos concluir que **em registros onde campos relacionados a *altas* se mostram alterados, o registro inteiro provavelmente não é confiável**. \n",
    "\n",
    "É importante ressaltar que é impossível dizer se um registro está alterado ou não quando avaliado individualmente. Para verificar a presença da anomalia precisamos de vários registros agrupados por ```cnes``` e organizados por data, da mesma maneira que estão dispostos nos exemplos.\n",
    "\n",
    "Outro ponto importante: a anomalia **só acontece até o último dia de Agosto**. Como destacado em verde nos exemplos, de Setembro em diante o comportamento dos dados volta ao esperado. **Em todas as ocorrências verificadas este padrão se manteve invariável**.\n",
    "\n",
    "Agora que identificamos alguns aspectos do que caracteriza esta anomalia, precisamos escolher um método para resolver o problema.\n",
    "\n",
    "Vou listar algumas maneiras para lidar com isso, citando vantagens e desvantagens.\n",
    "\n",
    "> [Este](#12-a) foi o método escolhido"
   ]
  },
  {
   "attachments": {},
   "cell_type": "markdown",
   "metadata": {},
   "source": [
    "### Soluções Possíveis"
   ]
  },
  {
   "attachments": {},
   "cell_type": "markdown",
   "metadata": {},
   "source": [
    "#### Utilizar a Capacidade Máxima como Limitador"
   ]
  },
  {
   "attachments": {},
   "cell_type": "markdown",
   "metadata": {},
   "source": [
    "\n",
    "\n",
    "Como as anomalias não foram capturadas no momento de remoção de outliers, precisamos de um filtro mais refinado para identificar se determinado registro indica uma capacidade incompatível com a ```cnes``` e questão.\n",
    "\n",
    "Uma maneira de contornar a situação é mapear cada ```cnes``` registrada no DataFrame ```leitos```. Assim, seria possível detectar se alguma unidade de saúde apresenta contagens fora do possível. \n",
    "    \n",
    "Considere o seguinte cenário:\n",
    "\n",
    "Uma ```cnes``` \"X\" possui capacidade máxima para **30** pacientes. Temos os seguintes registros sobre 4 dias:\n",
    "\n",
    "|Dia|Total de Saídas|\n",
    "|:-:|:-------------:|\n",
    "|1|10|\n",
    "|2|25|\n",
    "|3|40|\n",
    "|4|55|\n",
    "    \n",
    "Em um registro correto, 15 pacientes sairiam por dia. Mas aqui vemos números maiores. \n",
    "    \n",
    "Considerando 4 dias e a capacidade máxima de 30 pacientes temos o *limite de fluxo*: $4*30=120$\n",
    "\n",
    "Ou seja, neste período, o máximo de pacientes que poderiam sair da unidade de saúde é **120**. No entanto, segundo os registros, temos: $10+25+40+50=130$\n",
    "\n",
    "Em outras palavras, observamos a movimentação de **130** pacientes, quando o limite máximo seria de **120**. \n",
    "\n",
    "Com este método, o registro acima seria corretamente considerado como uma anomalia. Inclusive esta seria a melhor solução para encontrar *outliers*, mas *há um motivo para não termos feito isso antes*.\n",
    "\n",
    "Temos alguns **problemas sérios com esta abordagem**.\n",
    "    \n",
    "Em primeiro lugar existe a necessidade de mapear todas as ```cnes``` no DataFrame ```ocupacao``` com seus respectivos dados no DataFrame ```leitos```. Qualquer unidade de saúde **não mapeada** teria de ser **excluída** da análise, uma vez que precisamos aplicar o mesmo método em todos os registros para evitar viés na análise. Uma ```cnes``` não mapeada não pode ser testada."
   ]
  },
  {
   "cell_type": "code",
   "execution_count": 122,
   "metadata": {},
   "outputs": [
    {
     "name": "stdout",
     "output_type": "stream",
     "text": [
      "Unidades de saúde registrada no DataFrame 'ocupacao': 5410\n",
      "Unidades de saúde registradas no DataFrame 'leitos': 7305\n"
     ]
    }
   ],
   "source": [
    "print(f\"Unidades de saúde registrada no DataFrame 'ocupacao': {len(df['cnes'].unique())}\\n\\\n",
    "Unidades de saúde registradas no DataFrame 'leitos': {len(df_leitos['CNES'].unique())}\")"
   ]
  },
  {
   "attachments": {},
   "cell_type": "markdown",
   "metadata": {},
   "source": [
    "Com base nisso, pode parecer que todas as unidades de saúde utilizadas para análise estão mapeadas no DataFrame com informação de capacidade máxima. Porém, observe o seguinte:"
   ]
  },
  {
   "cell_type": "code",
   "execution_count": 123,
   "metadata": {},
   "outputs": [
    {
     "name": "stdout",
     "output_type": "stream",
     "text": [
      "Leitos com capacidade máxima desconhecida: 2210\n",
      "Leitos com capacidade máxima conhecida: 3200\n"
     ]
    }
   ],
   "source": [
    "# quantidade de leitos com dados sobre ocupação - base da análise\n",
    "ocupacao = set(df['cnes'].unique())\n",
    "# quantidade de leitos com capacidade máxima conhecida\n",
    "leitos = set(df_leitos['CNES'].unique())\n",
    "\n",
    "print(f\"Leitos com capacidade máxima desconhecida: {len(ocupacao - leitos)}\\n\\\n",
    "Leitos com capacidade máxima conhecida: {len(ocupacao.intersection(leitos))}\")"
   ]
  },
  {
   "attachments": {},
   "cell_type": "markdown",
   "metadata": {},
   "source": [
    "Vemos que existe uma grande diferença entre unidades de saúde registradas em ```leitos``` e ```ocupacao```. Todas as informações a respeito das ```cnes``` em ```ocupacao``` não registradas em ```leitos``` teriam de ser **excluídas**, resultado em uma redução enorme na quantidade de dados para a análise.\n",
    "\n",
    "Com esta abordagem, dados sobre ocupação de **2210** unidade de saúde seriam perdidos.\n",
    "\n",
    "Isso sem levar em consideração a grande chance de **introdução de viés**, uma vez que possivelmente a falta de registro não ocorre de maneira totalmente aleatória.\n",
    "\n",
    "Além disso, a **sensibilidade** do método parece ser bastante **reduzida**. Mesmo apresentando a anomalia, alguns registros passariam desapercebidos caso se distanciassem mais da capacidade máxima. \n",
    "\n",
    "Considerando a mesma unidade de saúde \"X\" do exemplo anterior, os seguintes registros (mesmo apresentando anomalia) seriam considerados normais:\n",
    "\n",
    "|Dia|Total de Saídas|\n",
    "|:-:|:-------------:|\n",
    "|1|5|\n",
    "|2|20|\n",
    "|3|35|\n",
    "|4|50|\n",
    "\n",
    "Sendo assim, este método **não parece uma boa solução para nosso problema**."
   ]
  },
  {
   "attachments": {},
   "cell_type": "markdown",
   "metadata": {},
   "source": [
    "#### Modelo de Regressão Linear Simples"
   ]
  },
  {
   "attachments": {},
   "cell_type": "markdown",
   "metadata": {},
   "source": [
    "Outra solução seria **estimar o valor esperado** com base nos observados. Nesse caso, para cada ```cnes```, iriamos utilizar dados de *Janeiro até Agosto* para modelar **relação entre data e saídas**. E com base nisso, verificar se os dados de *Setembro até Dezembro* se aproximam da estimativa.\n",
    "\n",
    "Em outras palavras, verificamos **como a ocupação varia em função do tempo**. Assim, podemos dizer se vemos um comportamento esperado ou não. \n",
    "\n",
    "Para exemplificar o método, irei utilizar o campo calculado ```totalSaidas``` de registros anômalos do segundo exemplo (```cnes```: 6388671) e de uma unidade de saúde aleatória que não apresenta erros (```cnes```: 5833418).\n",
    "\n",
    "Primeiro separamos os dados em *Jan-Ago* e *Set-Dez*:"
   ]
  },
  {
   "cell_type": "code",
   "execution_count": 124,
   "metadata": {},
   "outputs": [],
   "source": [
    "# cnes: 6388671\n",
    "err_jan_ago = [340, 340, 340, 340, 582, 582, 760, 760, 760, 760, 904, 904, 904, 990]\n",
    "err_set_dez = [20, 18, 8, 20, 17, 14, 15, 9, 20, 5, 10, 10, 2, 15, 4, 2, 14, 10, 6, 20, 5, 15, 20, 16, 45, 34]\n",
    "\n",
    "# cnes: 5833418\n",
    "norm_jan_ago = [0, 2, 0, 0, 0, 2, 0, 0, 0, 2, 0, 5, 5, 1, 6, 2, 0, 0, 1]\n",
    "norm_set_dez = [1, 6, 4, 0, 2, 4, 0, 2, 1, 0, 1, 4, 3, 1, 2, 0, 1, 0, 2, 3, 4, 2, 3, 4, 5]"
   ]
  },
  {
   "attachments": {},
   "cell_type": "markdown",
   "metadata": {},
   "source": [
    "Com isso feito, podemos fazer a regressão linear utilizando dados de *Jan-Ago*:"
   ]
  },
  {
   "cell_type": "code",
   "execution_count": 125,
   "metadata": {},
   "outputs": [],
   "source": [
    "x_err = np.arange(len(err_jan_ago))\n",
    "y_err = err_jan_ago\n",
    "err_coefs = np.polyfit(x_err, y_err, 1)"
   ]
  },
  {
   "attachments": {},
   "cell_type": "markdown",
   "metadata": {},
   "source": [
    "Para visualizar melhor o que foi feito até aqui, veja a imagem a seguir com os pontos *(ocupação de Janeiro até Agosto)* e a linha de regressão calculada com base neles."
   ]
  },
  {
   "cell_type": "code",
   "execution_count": 126,
   "metadata": {},
   "outputs": [
    {
     "data": {
      "image/png": "[encoded data removed]",
      "text/plain": [
       "<Figure size 640x480 with 1 Axes>"
      ]
     },
     "metadata": {},
     "output_type": "display_data"
    }
   ],
   "source": [
    "sns.set_theme()\n",
    "fig, ax = plt.subplots()\n",
    "ax.scatter(x_err, y_err, color='darkred', label='Janeiro a Agosto')\n",
    "ax.plot(x_err, err_coefs[0]*x_err + err_coefs[1], color='steelblue', linewidth=2, label='Regressão Linear')\n",
    "plt.text(1,925, f'$y = {err_coefs[0]:.2f}x + {err_coefs[1]:.2f}$', size=12.5)\n",
    "plt.legend(loc='lower right')\n",
    "ax.set_ylabel('Ocupação')\n",
    "ax.set_xticklabels([])\n",
    "plt.show()"
   ]
  },
  {
   "attachments": {},
   "cell_type": "markdown",
   "metadata": {},
   "source": [
    "Agora vamos adicionar os registros de Setembro em diante."
   ]
  },
  {
   "cell_type": "code",
   "execution_count": 127,
   "metadata": {},
   "outputs": [],
   "source": [
    "new_y = [np.NaN for i in err_jan_ago]\n",
    "for i in err_set_dez:\n",
    "    new_y.append(i)"
   ]
  },
  {
   "cell_type": "code",
   "execution_count": 128,
   "metadata": {},
   "outputs": [
    {
     "data": {
      "image/png": "[encoded data removed]",
      "text/plain": [
       "<Figure size 640x480 with 1 Axes>"
      ]
     },
     "metadata": {},
     "output_type": "display_data"
    }
   ],
   "source": [
    "fig, ax = plt.subplots()\n",
    "ax.scatter(x_err, y_err, s=14, color='darkred', label='Janeiro a Agosto')\n",
    "ax.scatter(np.arange(len(err_jan_ago + err_set_dez)), new_y, s=14, color='darkgreen', label='Setembro a Dezembro')\n",
    "ax.plot(x_err, err_coefs[0]*x_err + err_coefs[1], color='steelblue', linewidth=2, label='Regressão Linear')\n",
    "plt.legend(loc='upper right')\n",
    "ax.set_ylabel('Ocupação')\n",
    "ax.set_xticklabels([])\n",
    "plt.show()"
   ]
  },
  {
   "attachments": {},
   "cell_type": "markdown",
   "metadata": {},
   "source": [
    "Vemos que os pontos verdes (dados corretos) estão muito **distantes** da linha traçada pela regressão. Esta situação configura **presença da anomalia** que buscamos.\n",
    "\n",
    "Agora, faremos o mesmo processo para um conjunto de dados correto, onde o conjunto *Set-Dez* deve estar bem próximo do esperado de acordo com os dados de *Jan-Ago*."
   ]
  },
  {
   "cell_type": "code",
   "execution_count": 129,
   "metadata": {},
   "outputs": [],
   "source": [
    "x_norm = np.arange(len(norm_jan_ago))\n",
    "y_norm = norm_jan_ago\n",
    "norm_coefs = np.polyfit(x_norm, y_norm, 1)"
   ]
  },
  {
   "cell_type": "code",
   "execution_count": 130,
   "metadata": {},
   "outputs": [],
   "source": [
    "new_y = [np.NaN for i in norm_jan_ago]\n",
    "for i in norm_set_dez:\n",
    "    new_y.append(i)"
   ]
  },
  {
   "cell_type": "code",
   "execution_count": 131,
   "metadata": {},
   "outputs": [
    {
     "data": {
      "image/png": "[encoded data removed]",
      "text/plain": [
       "<Figure size 640x480 with 1 Axes>"
      ]
     },
     "metadata": {},
     "output_type": "display_data"
    }
   ],
   "source": [
    "fig, ax = plt.subplots()\n",
    "ax.scatter(x_norm, y_norm, s=14, color='darkred', label='Janeiro a Agosto')\n",
    "ax.scatter(np.arange(len(norm_jan_ago + norm_set_dez)), new_y, s=14, color='darkgreen', label='Setembro a Dezembro')\n",
    "ax.plot(x_norm, norm_coefs[0]*x_norm + norm_coefs[1], color='steelblue', linewidth=2, label='Regressão Linear')\n",
    "ax.axline((20, np.polyval(norm_coefs, 20)), (44, np.polyval(norm_coefs, 44)), linestyle='--', color='steelblue', \\\n",
    "          linewidth=2, label='Tendência Geral')\n",
    "ax.set_ylabel('Ocupação')\n",
    "ax.set_xticklabels([])\n",
    "plt.axis([-1, 45, -1, 22])\n",
    "plt.legend(loc='upper right')\n",
    "plt.text(5,17.5, f'$y = {norm_coefs[0]:.2f}x + {norm_coefs[1]:.2f}$', size=12.5)\n",
    "plt.show()"
   ]
  },
  {
   "attachments": {},
   "cell_type": "markdown",
   "metadata": {},
   "source": [
    "> Os dados aqui parecem estar mais dispersos por causa da diferença de escala dos gráficos. Observe os valores do eixo \"y\"."
   ]
  },
  {
   "attachments": {},
   "cell_type": "markdown",
   "metadata": {},
   "source": [
    "Lembrando que a linha de regressão obtida nos mostra **apenas uma tendência geral** dos dados. Se nosso objetivo fosse fazer uma *predição*, seria melhor recorrer a *modelos mais avançados*. Como estamos apenas tentando identificar uma anomalia nos dados, este método pode ser útil.\n",
    "\n",
    "Talvez uma reta não descreva tão bem o comportamento dos dados. Aumentar a complexidade do polinômio pode ser uma opção para resolver isso. Mas por enquanto vamos seguir assim.\n",
    "\n",
    "Agora o que nos resta é decidir os parâmetros para qualificar um registro como normal ou não.\n",
    "\n",
    "Podemos calcular um **intervalo de confiança** ou estabelecer algum **limite** para valores individuais utilizando a equação da reta como base. Aqui começamos a encontrar algumas questões, principalmente sobre *quais parâmetros utilizar para separar dados normais de incorretos*.\n",
    "\n",
    "Temos que lembrar que nossos dados não nos permitem assumir uma distribuição *t* ou normal. Como já vimos, segundo as estatísticas descritivas, os dados se aproximam mais de uma **distribuição positivamente distorcida**. Podemos verificar isso nos histogramas a seguir:"
   ]
  },
  {
   "cell_type": "code",
   "execution_count": 203,
   "metadata": {},
   "outputs": [
    {
     "data": {
      "text/plain": [
       "(array([26.,  4.,  2.,  4.,  4.]),\n",
       " array([  2. , 199.6, 397.2, 594.8, 792.4, 990. ]),\n",
       " <BarContainer object of 5 artists>)"
      ]
     },
     "execution_count": 203,
     "metadata": {},
     "output_type": "execute_result"
    },
    {
     "data": {
      "image/png": "[encoded data removed]",
      "text/plain": [
       "<Figure size 1200x800 with 2 Axes>"
      ]
     },
     "metadata": {},
     "output_type": "display_data"
    }
   ],
   "source": [
    "# registros com erro Jan-Dez\n",
    "err_full = pd.Series(err_jan_ago + err_set_dez)\n",
    "# regitros normais Jan-Dez\n",
    "norm_full = pd.Series(norm_jan_ago + norm_set_dez)\n",
    "# gráficos\n",
    "fig = plt.figure(figsize=(12,8))\n",
    "ax1 = fig.add_subplot(2,2,1, title='Distribuição de Dados Sem Erro')\n",
    "plt.hist(norm_full, bins=(len(norm_full.unique())-1), color='darkgreen')\n",
    "ax2 = fig.add_subplot(2,2,2, title='Distribuição de Dados Com Erro')\n",
    "plt.hist(err_full, bins=int(len(err_full.unique())/4), color='darkred')"
   ]
  },
  {
   "attachments": {},
   "cell_type": "markdown",
   "metadata": {},
   "source": [
    "Nesta situação, para calcular o intervalo de confiança podemos usar um método *bootstrap*. Porém, **quantos pontos fora do intervalos são aceitáveis?** A partir de qual momento uma variação é considerada anormal? As mesmas questões permanecem se escolhessemos avaliar valores individuais com base na reta. Em ambos os métodos um limite precisa ser estabelecido entre o que é correto e o que é anormal.\n",
    "\n",
    "Em uma situação onde dados *(ainda que corretos)* variem além do esperado, **poderiam ser incluídos como anômalos** dependendo do parâmetro escolhido.\n",
    "\n",
    "Acredito que este método seja muito superior ao anterior, e caso não houvesse outras opções, seguiria com ele. Mas durante a avaliação um *detalhe* se pareceu interessante. Na seção seguinte vamos explorar isso."
   ]
  },
  {
   "attachments": {},
   "cell_type": "markdown",
   "metadata": {},
   "source": [
    "#### Diferença de Coeficientes Angulares<a id=\"12-a\"></a>"
   ]
  },
  {
   "attachments": {},
   "cell_type": "markdown",
   "metadata": {},
   "source": [
    "Apesar do método anterior parecer bastante promissor, talvez algo *mais simples* também resolva o problema de maneira satisfatória. No final acaba sendo uma questão de escolha. Mas observe o seguinte.\n",
    "\n",
    "Quando calculamos a regressão linear simples, talvez um polinômio mais complexo se ajustasse melhor aos dados. **Especialmente aos anômalos**.\n",
    "\n",
    "**Podemos tirar proveito disso.**\n",
    "\n",
    "Esta é a equação que descreveu os **registros anormais** de Janeiro a Agosto: $y=55.17x+303.26$\n",
    "\n",
    "E esta, **registros normais** para o mesmo período: $y=0.10x+0.48$\n",
    "\n",
    "Observe a **diferença entre os coeficientes**. Os coeficentes do polinômio resultante de dados anormais são cerca de **500 vezes maiores**. Claro que este pode ser um exemplo mais extremo, mas uma diferença assim nos mostra um ponto que pode ser explorado.\n",
    "\n",
    "Naturalmente o *coeficiente linear* seria mais alto, uma vez que com o acumulo anormal das quantidades, valores muito maiores são gerados. Como já discutimos, os dados sobre saída são diferentes de dados sobre ocupação. Eles registram valores sobre eventos mais *pontuais*. Ou seja, um paciente recebe alta, isto é contabilizado, e acaba por aí. Por isso acabamos **observando valores mais baixos** quando tudo está em ordem.\n",
    "\n",
    "Vamos testar isso com novos exemplos."
   ]
  },
  {
   "cell_type": "code",
   "execution_count": 1,
   "metadata": {},
   "outputs": [],
   "source": [
    "#cnes: 15644 - primeiro exemplo Excel\n",
    "err_jan_ago = [132, 132, 132, 132, 132, 132, 181, 181, 181, 201, 201, 201]\n",
    "err_set_dez = [1, 2, 0, 2, 2, 0, 0, 0, 2, 0, 0, 0, 5, 3]\n",
    "\n",
    "#cnes: 5833418\n",
    "norm_jan_ago = [0, 2, 0, 0, 0, 2, 0, 0, 0, 2, 0, 5, 5, 1, 6, 2, 0, 0, 1]\n",
    "norm_set_dez = [1, 6, 4, 0, 2, 4, 0, 2, 1, 0, 1, 4, 3, 1, 2, 0, 1, 0, 2, 3, 4, 2, 3, 4, 5]"
   ]
  },
  {
   "cell_type": "code",
   "execution_count": 5,
   "metadata": {},
   "outputs": [],
   "source": [
    "# anomalia - até agosto\n",
    "x_err_1 = np.arange(len(err_jan_ago))\n",
    "y_err_1 = err_jan_ago\n",
    "err_coefs_1 = np.polyfit(x_err_1, y_err_1, 1)\n",
    "\n",
    "# anomalia - setembro em diante\n",
    "x_err_2 = np.arange(len(err_set_dez))\n",
    "y_err_2 = err_set_dez\n",
    "err_coefs_2 = np.polyfit(x_err_2, y_err_2, 1)\n",
    "new_y_err = [np.NaN for i in err_jan_ago]\n",
    "\n",
    "# normal - até agosto\n",
    "x_norm_1 = np.arange(len(norm_jan_ago))\n",
    "y_norm_1 = norm_jan_ago\n",
    "norm_coefs_1 = np.polyfit(x_norm_1, y_norm_1, 1)\n",
    "\n",
    "# normal - setembro em diante\n",
    "x_norm_2 = np.arange(len(norm_set_dez))\n",
    "y_norm_2 = norm_set_dez\n",
    "norm_coefs_2 = np.polyfit(x_norm_2, y_norm_2, 1)\n",
    "new_y_norm = [np.NaN for i in norm_jan_ago]"
   ]
  },
  {
   "cell_type": "code",
   "execution_count": null,
   "metadata": {},
   "outputs": [],
   "source": [
    "fig = plt.figure(figsize=(12,8))\n",
    "ax1 = fig.add_subplot(2,2,1, title='Regressões de Dados com Erro')\n",
    "plt.scatter()\n",
    "\n",
    "ax2 = fig.add_subplot(2,2,2, title='Regressões de Dados sem Erro')\n",
    "plt.scatter()"
   ]
  },
  {
   "attachments": {},
   "cell_type": "markdown",
   "metadata": {},
   "source": [
    "Junto a isso, em registros normais vemos um comportamento mais **linear**, sem grandes variações. É claro que devemos aceitar que em um momento ou outro pode haver um *pico de saídas*, mas algo assim **não alteraria tanto a angulação** da reta. E justamente por isso vemos uma diferença tão grande também nos **coeficientes angulares**."
   ]
  },
  {
   "attachments": {},
   "cell_type": "markdown",
   "metadata": {},
   "source": [
    "# Visualização<a id=\"13\"></a>"
   ]
  },
  {
   "attachments": {},
   "cell_type": "markdown",
   "metadata": {},
   "source": [
    "Temos os dados prontos. Salvando os arquivos já tratados, criamos a possibilidade de utilizar outras ferramentas para prosseguir com a análise. Temos algumas visualizações construídas com [Excel](#2), mas neste notebook iremos utilizar visualizações feitas com a biblioteca [Seaborn](#3)."
   ]
  },
  {
   "attachments": {},
   "cell_type": "markdown",
   "metadata": {},
   "source": [
    "> Ainda em preparação\n",
    "\n",
    "> No momento pausado nesta etapa enquanto leio \"Storytelling com dados\" de Cole Nussbaumer Knaflic. Vou continuar fazendo alguns testes aqui, mas não terão relação com a estrutura final do projeto. Por enquanto meu foco estará em analisar o arquivo final usando o Excel.\n",
    "\n",
    "> Também encontrei erros graves em alguns registros. No momento estou resolvendo a situação para prosseguir para a visualização. \n",
    "\n",
    "> **No momento, as atualizações mais recentes estão concentradas em [Correções Necessárias](#12)**"
   ]
  },
  {
   "attachments": {},
   "cell_type": "markdown",
   "metadata": {},
   "source": [
    "## Planilhas Excel<a id=\"14\"></a>"
   ]
  },
  {
   "attachments": {},
   "cell_type": "markdown",
   "metadata": {},
   "source": [
    "### Inicial<a id=\"14-1\"></a>"
   ]
  },
  {
   "attachments": {},
   "cell_type": "markdown",
   "metadata": {},
   "source": [
    "**[Este é o link para a primeira planilha no Excel Online](https://1drv.ms/x/s!Au47VyTboFIogl_WCrrFVhAwyH9p?e=5d3bos)**. \n",
    "\n",
    "Para contornar as limitações da versão online, foi utilizada a versão reduzida do dataset *(amostra com 35% dos dados)* para a construção das visualizações. \n",
    "\n",
    "A primeira página da planilha contém um dashboard que pode ser filtrado por *UF*, *Região* e *Mês* simultâneamente. As páginas seguintes contém o dataset e tabelas dinâmicas junto com suas respectivas visualizações. A maior parte faz parte do dashboard, outras não foram incluídas.\n",
    "\n",
    "**Com base nesta visualização foi possível detectar uma anomalia que passou desapercebida durante a fase de identificação de dados impróprios.** Mais sobre ela na seção [Correções Necessárias](#12).\n",
    "\n",
    "A seguir encontra-se a versão atualizada com os dados corrigidos."
   ]
  },
  {
   "attachments": {},
   "cell_type": "markdown",
   "metadata": {},
   "source": [
    "### Atualizada<a id=\"14-2\"></a>"
   ]
  },
  {
   "attachments": {},
   "cell_type": "markdown",
   "metadata": {},
   "source": [
    "*soon*"
   ]
  },
  {
   "attachments": {},
   "cell_type": "markdown",
   "metadata": {},
   "source": [
    "## Seaborn<a id=\"15\"></a>"
   ]
  },
  {
   "cell_type": "code",
   "execution_count": 122,
   "metadata": {},
   "outputs": [],
   "source": [
    "sns.set_theme()"
   ]
  },
  {
   "cell_type": "code",
   "execution_count": 123,
   "metadata": {},
   "outputs": [
    {
     "data": {
      "image/png": "[encoded data removed]",
      "text/plain": [
       "<Figure size 640x480 with 1 Axes>"
      ]
     },
     "metadata": {},
     "output_type": "display_data"
    }
   ],
   "source": [
    "df['ocupacaoSuspeitoCli'].plot.hist()\n",
    "plt.show()"
   ]
  },
  {
   "cell_type": "code",
   "execution_count": 124,
   "metadata": {},
   "outputs": [],
   "source": [
    "# amostra com 10% de df\n",
    "sample = df.sample(frac=0.1)"
   ]
  },
  {
   "cell_type": "code",
   "execution_count": 125,
   "metadata": {},
   "outputs": [],
   "source": [
    "sample['data'] = pd.to_datetime(sample['data'])"
   ]
  },
  {
   "cell_type": "code",
   "execution_count": 126,
   "metadata": {},
   "outputs": [
    {
     "data": {
      "image/png": "[encoded data removed]",
      "text/plain": [
       "<Figure size 640x480 with 1 Axes>"
      ]
     },
     "metadata": {},
     "output_type": "display_data"
    }
   ],
   "source": [
    "sample['ocupacaoSuspeitoCli'].plot.hist()\n",
    "plt.show()"
   ]
  },
  {
   "cell_type": "code",
   "execution_count": 127,
   "metadata": {},
   "outputs": [
    {
     "data": {
      "image/png": "[encoded data removed]",
      "text/plain": [
       "<Figure size 1500x800 with 1 Axes>"
      ]
     },
     "metadata": {},
     "output_type": "display_data"
    }
   ],
   "source": [
    "plt.figure(figsize=(15,8))\n",
    "sns.lineplot(data=sample, x='data', y='ocupacaoSuspeitoCli', err_style='bars')\n",
    "plt.show()"
   ]
  },
  {
   "cell_type": "code",
   "execution_count": 128,
   "metadata": {},
   "outputs": [
    {
     "data": {
      "image/png": "[encoded data removed]",
      "text/plain": [
       "<Figure size 1500x800 with 1 Axes>"
      ]
     },
     "metadata": {},
     "output_type": "display_data"
    }
   ],
   "source": [
    "plt.figure(figsize=(15,8))\n",
    "sns.lineplot(data=sample, x=sample['data'].dt.month, y='ocupacaoSuspeitoCli')\n",
    "plt.show()"
   ]
  },
  {
   "cell_type": "code",
   "execution_count": 129,
   "metadata": {},
   "outputs": [],
   "source": [
    "temp = sample['ocupacaoSuspeitoCli'].groupby(by=sample['uf']).sum()\n",
    "temp.sort_values(ascending=True, inplace=True)"
   ]
  },
  {
   "cell_type": "code",
   "execution_count": 130,
   "metadata": {},
   "outputs": [
    {
     "data": {
      "image/png": "[encoded data removed]",
      "text/plain": [
       "<Figure size 1500x800 with 1 Axes>"
      ]
     },
     "metadata": {},
     "output_type": "display_data"
    }
   ],
   "source": [
    "plt.figure(figsize=(15,8))\n",
    "ax = sns.barplot(data=temp, x=temp.index, y=temp.values)\n",
    "ax.set_xticklabels(temp.index)\n",
    "plt.show()"
   ]
  },
  {
   "cell_type": "code",
   "execution_count": 131,
   "metadata": {},
   "outputs": [
    {
     "data": {
      "text/plain": [
       "uf\n",
       "AP      1917\n",
       "RR      2578\n",
       "AC      3708\n",
       "PB      7295\n",
       "RN      9074\n",
       "MT     11406\n",
       "SE     13424\n",
       "AL     16921\n",
       "RO     17435\n",
       "MS     17505\n",
       "TO     21143\n",
       "PI     26804\n",
       "MA     28523\n",
       "ES     28592\n",
       "PA     30072\n",
       "RS     30370\n",
       "DF     34315\n",
       "AM     35031\n",
       "BA     53595\n",
       "GO     63212\n",
       "PE     65624\n",
       "CE     69949\n",
       "SC     83149\n",
       "PR     86251\n",
       "RJ    144727\n",
       "MG    221663\n",
       "SP    249510\n",
       "Name: ocupacaoSuspeitoCli, dtype: uint64"
      ]
     },
     "execution_count": 131,
     "metadata": {},
     "output_type": "execute_result"
    }
   ],
   "source": [
    "temp"
   ]
  },
  {
   "cell_type": "code",
   "execution_count": 132,
   "metadata": {},
   "outputs": [
    {
     "data": {
      "text/plain": [
       "Index(['ocupacaoSuspeitoCli', 'ocupacaoSuspeitoUti', 'ocupacaoConfirmadoCli',\n",
       "       'ocupacaoConfirmadoUti', 'saidaSuspeitaObitos', 'saidaSuspeitaAltas',\n",
       "       'saidaConfirmadaObitos', 'saidaConfirmadaAltas', 'uf', 'data',\n",
       "       'totalOcupacaoCli', 'totalOcupacaoUti', 'totalOcupacao', 'totalAltas',\n",
       "       'totalObitos', 'regiao'],\n",
       "      dtype='object')"
      ]
     },
     "execution_count": 132,
     "metadata": {},
     "output_type": "execute_result"
    }
   ],
   "source": [
    "sample.columns"
   ]
  },
  {
   "cell_type": "code",
   "execution_count": 134,
   "metadata": {},
   "outputs": [],
   "source": [
    "###\n",
    "###\n",
    "###"
   ]
  },
  {
   "attachments": {},
   "cell_type": "markdown",
   "metadata": {},
   "source": [
    "Possíveis abordagens\n",
    "\n",
    "- [ ] Baixa corrolação entre casos suspeitos em leitos clínicos e outros tipos de ocupações\n",
    "- [ ] Alta correlação entre ocupação total e casos suspeitos em leitos clínicos - (covid ou outros acometimentos?)\n",
    "- [ ] Falta de informação sobre o que categoriza um caso confirmado - (teste ou apenas sintomas?)\n",
    "- [ ] Variável 'ocupacaoTotal' possivelmente distorcida por 'ocupacaoSuspeitoCli'\n",
    "- [ ] Pico de ocupação antes do inverno\n",
    "- [ ] Poucos recuperados nos primeiros meses / primeiros casos - (população fragilizada? idosos / situação de risco?)\n",
    "- [ ] "
   ]
  }
 ],
 "metadata": {
  "kernelspec": {
   "display_name": "venv",
   "language": "python",
   "name": "venv"
  },
  "language_info": {
   "codemirror_mode": {
    "name": "ipython",
    "version": 3
   },
   "file_extension": ".py",
   "mimetype": "text/x-python",
   "name": "python",
   "nbconvert_exporter": "python",
   "pygments_lexer": "ipython3",
   "version": "3.10.6"
  },
  "orig_nbformat": 4
 },
 "nbformat": 4,
 "nbformat_minor": 2
}
